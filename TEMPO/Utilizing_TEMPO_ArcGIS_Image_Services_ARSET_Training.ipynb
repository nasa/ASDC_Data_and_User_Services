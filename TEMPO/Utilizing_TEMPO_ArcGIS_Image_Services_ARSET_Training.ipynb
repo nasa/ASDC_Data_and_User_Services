{
  "cells": [
    {
      "cell_type": "markdown",
      "metadata": {
        "id": "Th__PzjAti8k"
      },
      "source": [
        "# Accessing, Analyzing, & Visualizing TEMPO data through ArcGIS Image Services Programmatically"
      ]
    },
    {
      "cell_type": "markdown",
      "metadata": {
        "id": "OQ3XbQM6ti8m"
      },
      "source": [
        "**Overview**\n",
        "Selected TEMPO data have been processed into free, publicly available ArcGIS image services that provide pre-filtered, analysis-ready imagery/data.\n",
        "\n",
        "This notebook illustrates the following:\n",
        "\n",
        "* Choose a TEMPO image service to query\n",
        "* Select time period and point (X,Y) of interest\n",
        "* View data values for point of interest in a table\n",
        "* Chart returned values for point of interest\n",
        "* View imagery for the time period of interest in interactive mapper\n",
        "\n",
        "**Why ArcGIS image services?** Each TEMPO ArcGIS image service is hosted at a service URL, which has several built-in functions provided through the [ArcGIS image service REST API](https://developers.arcgis.com/rest/services-reference/enterprise/image-service/). These functionalities can be accessed via webpage interfaces or called programatically, providing ways to access, analyze, and display the TEMPO data.\n",
        "\n",
        "### Prerequisites\n",
        "Note: ESRI software/licenses are NOT required to access the services via the interfaces or programatically. No GIS software is required to access these TEMPO image services (although there are many methods to use these services in GIS).\n",
        "\n",
        "**Required:**\n",
        "- Basic Python knowledge (variables, loops, functions)\n",
        "- Familiarity with TEMPO instrument and data products (from previous ARSET presentations)\n",
        "\n",
        "**Python Libraries:**\n",
        "- [matplotlib](http://matplotlib.org/) - for creating plots and visualizations\n",
        "- [numpy](https://numpy.org/) - for numerical operations\n",
        "- [ipyleaflet](https://github.com/jupyter-widgets/ipyleaflet/blob/master/python/ipyleaflet/README.md) - for visualization in interactive mapper\n",
        "- [requests](https://github.com/psf/requests) - for sending HTTP requests to service API\n",
        "\n",
        "\n",
        "### Data & Scope\n",
        "Each TEMPO ArcGIS image service has a portal page with detailed descriptions on the service, the filtering applied, geographic and temporal coverage, as well as access to the online map viewer to view the image service. It is strongly recommended to read over the service description to ensure understanding of the data.\n",
        "\n",
        "The TEMPO image services are available in the Esri Living Atlas of the World:\n",
        "* [NO2](https://www.arcgis.com/home/item.html?id=6a1bdd0c076d499da69e867732ed2ab7)\n",
        "* [HCHO](https://www.arcgis.com/home/item.html?id=27947c9d5d5f417b8b46a9d75a084549)\n",
        "* [Ozone Total](https://www.arcgis.com/home/item.html?id=b6a2f0ebfbbc424aa58ef13af0a3bd6c)\n",
        "\n",
        "The example in this notebook uses:\n",
        "- **Product**: TEMPO_NO2_L3_V03 (Level-3 gridded NO₂ tropopsheric column)\n",
        "- **Resolution**: approximately 2.1 km × 4.4 km, hourly during daylight\n",
        "- **Coverage**: North America\n",
        "- **Example region**: Colorado, United States\n",
        "\n",
        "*Methods apply to other TEMPO products (formaldehyde, ozone, etc.) and regions within North America.*\n",
        "\n",
        "### Notebook Author / Affiliation\n",
        "- Author: Atmospheric Science Data Center\n",
        "- Questions? Please post questions on the [NASA Earthdata Forum](https://forum.earthdata.nasa.gov/)"
      ]
    },
    {
      "cell_type": "markdown",
      "source": [
        "# 1. Setup"
      ],
      "metadata": {
        "id": "VFdYPYRz-Z2_"
      }
    },
    {
      "cell_type": "markdown",
      "source": [
        "Install Python packages, as necessary (NOTE: Google Colab appears to have all the packages pre-installed)"
      ],
      "metadata": {
        "id": "1Pyrmj-3-0H8"
      }
    },
    {
      "cell_type": "code",
      "source": [
        "#Install Python packages if not available\n",
        "#!pip install --quiet ipywidgets nodejs traitlets numpy pandas matplotlib"
      ],
      "metadata": {
        "id": "TqBD-cjz71VQ"
      },
      "execution_count": null,
      "outputs": []
    },
    {
      "cell_type": "markdown",
      "source": [
        "Import Python libraries"
      ],
      "metadata": {
        "id": "O5S-HJqh_Al_"
      }
    },
    {
      "cell_type": "code",
      "execution_count": 1,
      "metadata": {
        "id": "SRPS9e6hti8n"
      },
      "outputs": [],
      "source": [
        "#For accessing data and creating chart\n",
        "import requests\n",
        "import pandas as pd\n",
        "import matplotlib.pyplot as plt\n",
        "import matplotlib.dates as mdates\n",
        "import datetime as dt\n",
        "from dateutil.relativedelta import relativedelta\n",
        "import time\n",
        "from datetime import datetime, timezone\n",
        "\n",
        "#For creating interactive mapper\n",
        "from ipyleaflet import Map, ImageService, basemaps,  WidgetControl\n",
        "from ipywidgets import SelectionSlider, Layout, Label, VBox\n",
        "from datetime import datetime, timezone\n",
        "from ipywidgets import Output, HTML\n",
        "\n",
        "#Set dataframe view options to ensure all rows appear (optional)\n",
        "pd.set_option('display.max_rows', None)"
      ]
    },
    {
      "cell_type": "markdown",
      "source": [
        "The TEMPO image services store the timestamp of each data scan as a Unix timestamp (e.g., 1752582321), which is the number of seconds since January 1, 1970 UTC. As these integers are not intuitive, we will use two custom functions to convert between Unix timestamps and human-readable date time strings."
      ],
      "metadata": {
        "id": "M2ZNk0bpCcWh"
      }
    },
    {
      "cell_type": "code",
      "execution_count": 2,
      "metadata": {
        "id": "DsnYH7aVti8o"
      },
      "outputs": [],
      "source": [
        "#function to take input time as string and convert to integer of seconds since unix epoch UTC (Jan 1, 1970)\n",
        "def convert_to_milliseconds(date_time_str):\n",
        "    \"\"\"Converts a date-time string in 'YYYY-MM-DD HH:MM:SS' format to milliseconds since epoch.\"\"\"\n",
        "    inputDate = dt.datetime.strptime(date_time_str, \"%Y-%m-%d %H:%M:%S\")\n",
        "    return int(inputDate.replace(tzinfo=timezone.utc).timestamp() * 1000)\n",
        "\n",
        "#function to take input time as integer of seconds since unix epoch UTC (Jan 1, 1970) and convert to string in 'YYYY-MM-DDTHH:MM:SSZ' format\n",
        "def convert_from_milliseconds(milliseconds_since_epoch):\n",
        "    \"\"\"Converts milliseconds since epoch to a date-time string in 'YYYY-MM-DDTHH:MM:SSZ' format.\"\"\"\n",
        "    inputDateMilli = datetime.fromtimestamp((milliseconds_since_epoch)/ 1000, tz=timezone.utc)\n",
        "    return inputDateMilli.strftime('%Y-%m-%dT%H:%M:%SZ')\n"
      ]
    },
    {
      "cell_type": "markdown",
      "source": [
        "# 2. User selections\n",
        "Users can select variable, time, and point (X,Y) of interest or use default options."
      ],
      "metadata": {
        "id": "fpiMtOWBDf85"
      }
    },
    {
      "cell_type": "markdown",
      "source": [
        "### 2.1 Choose TEMPO product/variable of interest\n",
        "\n",
        "The default is TEMPO NO2 tropospheric column. Users may instead select formaldehyde (HCHO) total column or total column ozone (only one service/variable can be selected at a time)."
      ],
      "metadata": {
        "id": "fFxGpzF4HlAv"
      }
    },
    {
      "cell_type": "code",
      "execution_count": 3,
      "metadata": {
        "id": "qSlOG-Ruti8q"
      },
      "outputs": [],
      "source": [
        "# Select service URL and variable\n",
        "'''Note: Only one image_service_url and corresponding variable_name can be used at a time. The other options should be commented out.'''\n",
        "\n",
        "#Option 1: NO2 image service\n",
        "image_service_url = \"https://gis.earthdata.nasa.gov/image/rest/services/C2930763263-LARC_CLOUD/TEMPO_NO2_L3_V03_HOURLY_TROPOSPHERIC_VERTICAL_COLUMN/ImageServer\"\n",
        "variable_name = \"NO2_Troposphere\"\n",
        "\n",
        "#Option 2: Formaldehyde image service\n",
        "#image_service_url = \"https://gis.earthdata.nasa.gov/image/rest/services/C2930761273-LARC_CLOUD/TEMPO_HCHO_L3_V03_HOURLY_VERTICAL_COLUMN/ImageServer\"\n",
        "#variable_name = \"HCHO\"\n",
        "\n",
        "#Option 3: Ozone image service\n",
        "#image_service_url = \"https://gis.earthdata.nasa.gov/image/rest/services/C2930764281-LARC_CLOUD/TEMPO_O3TOT_L3_V03_HOURLY_OZONE_COLUMN_AMOUNT/ImageServer\"\n",
        "#variable_name = \"Ozone_Column_Amount\""
      ]
    },
    {
      "cell_type": "markdown",
      "metadata": {
        "id": "6epuzPOVti8p"
      },
      "source": [
        "### 2.2 Choose time period of interest\n",
        "\n",
        "There are two options:\n",
        "* Option 1 (default): Time period is yesterday (last 24 hours from present)\n",
        "* Option 2: Manually select any time period within scope of TEMPO mission (August 2, 2023 - present)\n",
        "\n",
        "NOTE: User must comment out (place a # at the beginning of the code line) the option that is not in use. By default, Option 2 is commented out."
      ]
    },
    {
      "cell_type": "code",
      "execution_count": 4,
      "metadata": {
        "colab": {
          "base_uri": "https://localhost:8080/"
        },
        "id": "LAtmBvIoti8p",
        "outputId": "1888e410-df4f-4cd7-ebf7-9c2c2268c570"
      },
      "outputs": [
        {
          "output_type": "stream",
          "name": "stdout",
          "text": [
            "The time period of interest has been defined as: Start = 2025-07-24 00:00:00 (1753315200000); End: = 2025-07-25 17:00:00 (1753462800000)\n"
          ]
        }
      ],
      "source": [
        "# Choose starting and ending dates to run against\n",
        "\n",
        "yesterday = dt.datetime.today() - dt.timedelta(days=1)\n",
        "today = dt.datetime.today()\n",
        "\n",
        "#Option 1 (Default): Yesterday - today NOTE: converts local computer time to UTC\n",
        "'''Note: If using Option 2, comment out the two lines below:'''\n",
        "start_date_time_str = str(dt.datetime(yesterday.year,yesterday.month,yesterday.day))\n",
        "end_date_time_str = str(dt.datetime(today.year,today.month,today.day, today.hour))\n",
        "\n",
        "#OR\n",
        "\n",
        "#Option 2: Select specifc time period of interest'''\n",
        "'''Note: If using Option 1, comment out the two lines below:'''\n",
        "#start_date_time_str = \"2025-05-06 0:01:00\" #in 'YYYY-MM-DD HH:MM:SS' format \"2025-04-20 12:00:00\"\n",
        "#end_date_time_str = \"2025-05-08 05:00:00\" #in 'YYYY-MM-DD HH:MM:SS' format \"2025-05-25 12:00:00\"\n",
        "\n",
        "# Convert user input dates to milliseconds since epoch\n",
        "start_time = convert_to_milliseconds(start_date_time_str)\n",
        "end_time = convert_to_milliseconds(end_date_time_str)\n",
        "\n",
        "print(f\"The time period of interest has been defined as: Start = {start_date_time_str} ({start_time}); End: = {end_date_time_str} ({end_time})\")"
      ]
    },
    {
      "cell_type": "markdown",
      "source": [
        "### 2.3 Choose point of interest\n",
        "\n",
        "User may select one coordinate pair (X,Y) as a point of interest. Data values for this point will be returned when the image service is queried. (X = longitude, Y = latitude)"
      ],
      "metadata": {
        "id": "XJsuFBXfJIrN"
      }
    },
    {
      "cell_type": "code",
      "source": [
        "#User chooses X,Y point of interest\n",
        "'''Note: Replace coordinate with desired point.\n",
        "Coordinate pair should be within quotation marks and have a comma between longitude and latitude values. Ex: \"-84,37\"\n",
        "This variable is for the parameter \"geometry\" in the the URL service call below.'''\n",
        "coor_pts = \"-104.676, 39.856\" # Denver Airport\n"
      ],
      "metadata": {
        "id": "OsBhtwKvJfcx"
      },
      "execution_count": 5,
      "outputs": []
    },
    {
      "cell_type": "markdown",
      "source": [
        "# 3. Identify number and timestamp of TEMPO scans in time period of interest"
      ],
      "metadata": {
        "id": "xcTtAYTTEk0F"
      }
    },
    {
      "cell_type": "markdown",
      "source": [
        "The timestamp of each TEMPO scan is stored as a dimension in the image service and can be accessed by sending a Multidimenaional Info request to the service URL."
      ],
      "metadata": {
        "id": "5a8IVWXqEtol"
      }
    },
    {
      "cell_type": "code",
      "execution_count": 6,
      "metadata": {
        "colab": {
          "base_uri": "https://localhost:8080/"
        },
        "id": "nXjry79Wti8r",
        "outputId": "02f535cd-e36c-4acc-84c6-dfbca97443ea"
      },
      "outputs": [
        {
          "output_type": "stream",
          "name": "stdout",
          "text": [
            "Number of TEMPO scans: 18\n",
            "1753317429000   2025-07-24T00:37:09Z\n",
            "1753319846000   2025-07-24T01:17:26Z\n",
            "1753353348000   2025-07-24T10:35:48Z\n",
            "1753355765000   2025-07-24T11:16:05Z\n",
            "1753358182000   2025-07-24T11:56:22Z\n",
            "1753360599000   2025-07-24T12:36:39Z\n",
            "1753363016000   2025-07-24T13:16:56Z\n",
            "1753366616000   2025-07-24T14:16:56Z\n",
            "1753370216000   2025-07-24T15:16:56Z\n",
            "1753373816000   2025-07-24T16:16:56Z\n",
            "1753377416000   2025-07-24T17:16:56Z\n",
            "1753381016000   2025-07-24T18:16:56Z\n",
            "1753384616000   2025-07-24T19:16:56Z\n",
            "1753388216000   2025-07-24T20:16:56Z\n",
            "1753391816000   2025-07-24T21:16:56Z\n",
            "1753395416000   2025-07-24T22:16:56Z\n",
            "1753399016000   2025-07-24T23:16:56Z\n",
            "1753401433000   2025-07-24T23:57:13Z\n"
          ]
        }
      ],
      "source": [
        "#Create url for multidimensional info request\n",
        "dim_info_url = f\"{image_service_url}/multidimensionalInfo\"\n",
        "\n",
        "# Make request to service API\n",
        "dim_info = requests.get(dim_info_url, params={\"f\": \"json\"}).json()\n",
        "all_times = dim_info[\"multidimensionalInfo\"][\"variables\"][0][\"dimensions\"][0][\"values\"]\n",
        "\n",
        "# Filter to timestamps within the desired range and print count of scans found\n",
        "timestamps = [t for t in all_times if start_time <= t <= end_time]\n",
        "print(\"Number of TEMPO scans:\", len(timestamps))\n",
        "\n",
        "# Iterate through TEMPO scans and print timestamps as Unix epoch and date string\n",
        "for t in timestamps:\n",
        "    date_strings = convert_from_milliseconds(t)\n",
        "    print(t, \" \", date_strings)"
      ]
    },
    {
      "cell_type": "markdown",
      "source": [
        "# 4. Retreive data values for point of interest for selected time period\n",
        "\n",
        "Data values for a selected X,Y point can be accessed by sending a Get Samples request to the service URL and returned in a json.\n",
        "The data are iterated through and values added to a dataframe.\n",
        "The dataframe is then viewed as a table."
      ],
      "metadata": {
        "id": "kbQhb49TMHX7"
      }
    },
    {
      "cell_type": "markdown",
      "source": [
        "### 4.1 Get Samples request\n",
        "\n",
        "The user provided information above (variable, time, X,Y point) are used to create a Get Samples request, which is sent to the service API. The data response is then stored in a json to access."
      ],
      "metadata": {
        "id": "75SOoglSNtDl"
      }
    },
    {
      "cell_type": "code",
      "execution_count": 7,
      "metadata": {
        "id": "GpjiKZSgti8s"
      },
      "outputs": [],
      "source": [
        "# Create URL for Get Samples request\n",
        "base_url = image_service_url+\"/getSamples/\"\n",
        "params = {\n",
        "    \"geometry\": coor_pts, #Parameter that uses user's chosen lat/lon point\n",
        "    \"geometryType\": \"esriGeometryPoint\",\n",
        "    \"sampleDistance\": \"\",\n",
        "    \"sampleCount\": \"\",\n",
        "    \"mosaicRule\": f'{{\"multidimensionalDefinition\":[{{\"variableName\":\"{variable_name}\"}}]}}', #Parameter that uses user's chosen service variable\n",
        "    \"pixelSize\": \"\",\n",
        "    \"returnFirstValueOnly\": \"false\",\n",
        "    \"interpolation\": \"RSP_BilinearInterpolation\",\n",
        "    \"outFields\": \"\",\n",
        "    \"sliceId\": \"\",\n",
        "    \"time\": f\"{start_time},{end_time}\", #Parameter that uses user's chosen time period\n",
        "    \"f\": \"pjson\"\n",
        "}\n",
        "\n",
        "# Make the request to the service API\n",
        "response = requests.get(base_url, params=params)\n",
        "data = response.json()"
      ]
    },
    {
      "cell_type": "markdown",
      "source": [
        "### 4.2 Extract data into a dataframe\n",
        "\n",
        "The returned json contains the variable, timestamps, and data values for the TEMPO scans in the selected time period. Not all scans in the selected time period may have data for the selected X,Y point. The retrieved data are iterated through to find which scans had data for the selected X,Y point and adding those data values with their corresponding timestamps to a dataframe. The dataframe is displayed in a table format."
      ],
      "metadata": {
        "id": "sdBQfwvdOags"
      }
    },
    {
      "cell_type": "code",
      "execution_count": 16,
      "metadata": {
        "id": "m8028TdPti8t",
        "colab": {
          "base_uri": "https://localhost:8080/"
        },
        "outputId": "d8dcd883-0534-460f-8970-dd3da7f8cdda"
      },
      "outputs": [
        {
          "output_type": "stream",
          "name": "stdout",
          "text": [
            "              StdTime  NO2_Troposphere\n",
            "0 2025-07-24 14:16:56     1.518008e+16\n",
            "1 2025-07-24 15:16:56     1.269226e+16\n",
            "2 2025-07-24 16:16:56     4.188970e+15\n",
            "3 2025-07-24 17:16:56     2.033510e+15\n",
            "4 2025-07-24 18:16:56     3.852906e+15\n"
          ]
        }
      ],
      "source": [
        "# Extract relevant information into a DataFrame\n",
        "samples = []\n",
        "for sample in data.get(\"samples\", []):\n",
        "    attributes = sample.get(\"attributes\", {})\n",
        "    var_value = attributes.get(variable_name)\n",
        "    # Only include the sample if it has a valid value for the variable of interest\n",
        "    '''Note: this will result in timeslices being excluded if there are no data for the point of interest.\n",
        "    Code may be modified to see all timestamps (i.e., include TEMPO scans where there are no data).'''\n",
        "    if var_value:\n",
        "        samples.append({\n",
        "            \"StdTime\": attributes[\"StdTime\"],\n",
        "            variable_name: float(var_value)  # Convert to float\n",
        "        })\n",
        "\n",
        "# Convert the list to a DataFrame\n",
        "df = pd.DataFrame(samples)\n",
        "\n",
        "# Check if dataframe is empty. If not empty, convert StdTime from Unix timestamp (milliseconds) to datetime and print dataframe\n",
        "if df.empty:\n",
        "  print(f\"No {variable_name} data found between {start_date_time_str} - {end_date_time_str} for point ({coor_pts}).\")\n",
        "else:\n",
        "  df['StdTime'] = pd.to_datetime(df['StdTime'], unit='ms')\n",
        "  print(df)"
      ]
    },
    {
      "cell_type": "markdown",
      "source": [
        "### 4.3 Display the data in a chart\n",
        "\n",
        "The data in the dataframe can be displayed in a chart. The chart can be exported for later use (this option is commented out by default)."
      ],
      "metadata": {
        "id": "tPW07ddCRTFE"
      }
    },
    {
      "cell_type": "code",
      "execution_count": 17,
      "metadata": {
        "colab": {
          "base_uri": "https://localhost:8080/",
          "height": 607
        },
        "id": "WpAAL6RUti8t",
        "outputId": "89e2e85d-c1ac-4334-ee3b-0b4e25d623a0"
      },
      "outputs": [
        {
          "output_type": "display_data",
          "data": {
            "text/plain": [
              "<Figure size 1000x600 with 1 Axes>"
            ],
            "image/png": "[encoded data removed]"
          },
          "metadata": {}
        }
      ],
      "source": [
        "# Plotting\n",
        "plt.figure(figsize=(10, 6))\n",
        "plt.plot(df['StdTime'], df[variable_name], marker='o', linestyle='-')\n",
        "\n",
        "#Set title and labels--user may change\n",
        "plt.title(f'{variable_name} Over Time') #User may change title as desired\n",
        "plt.xlabel('Time (UTC)')\n",
        "plt.ylabel(f'{variable_name} (molecules/cm^2)') #Change unit as needed for variable seelcted (e.g., Ozone total is Dobson units)\n",
        "\n",
        "#Set grid, tick marks, and format\n",
        "plt.grid(True)\n",
        "ax = plt.gca()\n",
        "ax.xaxis.set_major_formatter(mdates.DateFormatter('%Y-%m-%d %H:%M:%S'))\n",
        "plt.xticks(rotation=45)\n",
        "plt.tight_layout()\n",
        "\n",
        "# Optional: Save the plot to a a local folder (include file path). Format set to PNG as default but can be changed.\n",
        "#plt.savefig(\"outputGraph.png\", format=\"png\")\n",
        "\n",
        "# Show plot in notebook\n",
        "plt.show()"
      ]
    },
    {
      "cell_type": "markdown",
      "metadata": {
        "id": "aR4x9gRYti8u"
      },
      "source": [
        "# 5. Create an interactive mapper\n",
        "\n",
        "This mapper includes all of the TEMPO scans within the selected time period. The viewer shows the entire scans (not just around the point of interest). The scans can be stepped through using the time slider. Users may zoom in/out on the map. Users can hover over the map to see coordinates. Users can click on the map to have the coordinate point display below the mapper.\n",
        "\n",
        "NOTE: There is a known bug in Google Colab that limits the time slider to 5 or fewer timesteps in the slider. This notebook has two options for the slider. Option 1 (default), which is hardcoded to only show the first 5 timestamps to avoid this issue, and Option 2, which will show all of the timestamps in the user's selected time period."
      ]
    },
    {
      "cell_type": "code",
      "execution_count": 18,
      "metadata": {
        "id": "_hB4JoFRti8u"
      },
      "outputs": [],
      "source": [
        "#A handler that will update the map everytime the user moves the slider\n",
        "def update_image(change):\n",
        "  tempo_image_service.time = [change.new,timestamps[4]]\n",
        "\n",
        "#Function to define interactive map behavior\n",
        "def on_click(**kwargs):\n",
        "    \"\"\"When a user clicks on the map, print coordinates below map\"\"\"\n",
        "    if kwargs.get('type') == 'click':\n",
        "        print(str(kwargs.get('coordinates')))\n",
        "    \"\"\"When a user hovers mouse over map, display coordinates within map\"\"\"\n",
        "    if kwargs.get('type') == 'mousemove':\n",
        "        latlng = kwargs.get('coordinates')\n",
        "        lat, lng = latlng\n",
        "        coordinates_label.value = f\"Coordinates: ({lat:.5f}, {lng:.5f})\"\n"
      ]
    },
    {
      "cell_type": "code",
      "execution_count": 19,
      "metadata": {
        "colab": {
          "base_uri": "https://localhost:8080/",
          "height": 421,
          "referenced_widgets": [
            "69b3cd9258004b48a1e1a0721cd06e35",
            "3a4a3ea292d64a33a203f39b575ea69b",
            "1abdaaf10c7c4b11a14781dc04f39d42",
            "ee7e670508ae4039a5d5e15eabc28a7a",
            "c815e56439c24fe7ac6ccaaa26514e7c",
            "75cfaf44d62342c9b6c1a36f1b8d2dc8",
            "3edd3b439366467a8a032de6d8b677ed",
            "e8d53ae2559a46a6bd2f909848ad4962",
            "77079309787d4301a80e228ba4b99928",
            "4b84186548d24812a170e1b5669bbc44",
            "d5c905b0e54a41fd817573887395d59a",
            "4b1f942808524901a2217ae080347a0a",
            "fef456ed23b842d7aa6e97381d3d7bb4",
            "743c408afcfe4b159a3a6149ba495196",
            "a2f4e6170d0943afb5b784ec3f46f064",
            "dd6c24c83e7742939ccc8a8002f2f54b",
            "d27854b7c25b42e28ef11fe810c39509",
            "000f6731622c4d19a766aed7f13c56fc",
            "23361f8d7627429bbcdb2a67e2138b62",
            "1c3d33c8cd1543b095dab6bbec4b1a1f",
            "e5f7851d39284441a8eca670cca6b465",
            "367b83c53d89410f945bf9b3f1f4a32f",
            "5896c8533b664608a7a1d5fa1d3d13c0",
            "dc72b1a4f57e45318342acb62c0c929e",
            "5adeffe1b76a430f81d1a54de41df56d"
          ]
        },
        "id": "Nlv8LGjxti8v",
        "outputId": "159d4bcc-9e51-46a2-ee20-2e2916cb7998"
      },
      "outputs": [
        {
          "output_type": "display_data",
          "data": {
            "text/plain": [
              "Map(center=[47, -122], controls=(ZoomControl(options=['position', 'zoom_in_text', 'zoom_in_title', 'zoom_out_t…"
            ],
            "application/vnd.jupyter.widget-view+json": {
              "version_major": 2,
              "version_minor": 0,
              "model_id": "69b3cd9258004b48a1e1a0721cd06e35"
            }
          },
          "metadata": {
            "application/vnd.jupyter.widget-view+json": {
              "colab": {
                "custom_widget_manager": {
                  "url": "https://ssl.gstatic.com/colaboratory-static/widgets/colab-cdn-widget-manager/2b70e893a8ba7c0f/manager.min.js"
                }
              }
            }
          }
        }
      ],
      "source": [
        "# Initialize the map\n",
        "m = Map(center=(47,-122), zoom=3, basemap=basemaps.Esri.WorldTopoMap)\n",
        "\n",
        "#Set parameters for calling TEMPO image service\n",
        "'''Note: The rendering_rule rasterFunction holds the colormap associated with the image service.\n",
        "Replace with the appropriate colormap for best visualization depending on selected variable.\n",
        "NO2: rendering_rule={\"rasterFunction\":\"matter_RGB\"},\n",
        "HCHO: rendering_rule={\"rasterFunction\":\"haline_RGB\"},\n",
        "Ozone Tot: rendering_rule={\"rasterFunction\":\"batlow_RGB\"}, '''\n",
        "tempo_image_service = ImageService(url=image_service_url,\n",
        "                                   rendering_rule={\"rasterFunction\":\"matter_RGB\"},\n",
        "                                   time=timestamps,\n",
        "                                   format=\"jpgpng\",\n",
        "                                   opacity=0.5,\n",
        "                                   )\n",
        "\n",
        "# Create a list with the user selected UTC times with time_values for easy visualization of time\n",
        "time_strings = [convert_from_milliseconds(t) for t in timestamps]\n",
        "\n",
        "# Create a list of tuples to input in SelectionSlider's options for easy visualization of time\n",
        "# Option 1: If using Google Colab, use this time_options to account for a bug that occurs if more than 5 timeslices are called at a time\n",
        "time_options = [(time_strings[i], timestamps[i]) for i in range(5)]\n",
        "\n",
        "# Option 2: If not using Google Colab, use this time_options to call all timeslices\n",
        "#time_options = [(time_strings[i], timestamps[i]) for i in range(len(timestamps))]\n",
        "\n",
        "# Create the slider\n",
        "slider = SelectionSlider(description='Time:', options=time_options, layout=Layout(width='700px', height='20px'))\n",
        "#slider = SelectionSlider(description='Time:', options=timestamps, layout=Layout(width='700px', height='20px'))\n",
        "\n",
        "# Create a Label for the VBox\n",
        "time_label = Label(value='Time Slider')\n",
        "\n",
        "#Listens to the slider's user input and helps update the map\n",
        "slider.observe(update_image, 'value')\n",
        "\n",
        "# create a VBox to contain the slider and be placed in the map\n",
        "vbox = VBox([slider, time_label])\n",
        "\n",
        "# Slider placed in bottomleft of the map\n",
        "control = WidgetControl(widget=vbox, position='bottomleft')\n",
        "\n",
        "# Output widget to listen to the user's mouse hovering over the map\n",
        "output = Output()\n",
        "controloutput = WidgetControl(widget=output, position='topright')\n",
        "\n",
        "# Label widget to display coordinates\n",
        "coordinates_label = HTML(value=\"Coordinates: \")\n",
        "coordinates_control = WidgetControl(widget=coordinates_label, position='bottomright')\n",
        "\n",
        "# Add all widgets to the map\n",
        "m.add(tempo_image_service)\n",
        "m.add(control)\n",
        "m.add(controloutput)\n",
        "m.add(coordinates_control)\n",
        "\n",
        "# When user hovers over the map coordinates_label gets updated and prints the coordinates where clicked\n",
        "m.on_interaction(on_click)\n",
        "\n",
        "# Call map\n",
        "m"
      ]
    }
  ],
  "metadata": {
    "kernelspec": {
      "display_name": "Python 3 (ipykernel)",
      "language": "python",
      "name": "python3"
    },
    "language_info": {
      "codemirror_mode": {
        "name": "ipython",
        "version": 3
      },
      "file_extension": ".py",
      "mimetype": "text/x-python",
      "name": "python",
      "nbconvert_exporter": "python",
      "pygments_lexer": "ipython3",
      "version": "3.11.13"
    },
    "colab": {
      "provenance": []
    }
  },
  "nbformat": 4,
  "nbformat_minor": 0
}