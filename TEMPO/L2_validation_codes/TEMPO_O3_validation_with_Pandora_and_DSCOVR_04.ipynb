{
 "cells": [
  {
   "cell_type": "markdown",
   "metadata": {},
   "source": [
    "---\n",
    "date: last-modified\n",
    "---"
   ]
  },
  {
   "cell_type": "markdown",
   "metadata": {
    "id": "kjVKCytfEnRt"
   },
   "source": [
    "# TEMPO O3 validation\n",
    "\n",
    "**This notebook illustrates comparison of TEMPO ozone total column retrievals with Pandora ground stations and DSCOVR EPIC retrievals.**\n",
    "In this notebook:\n",
    "\n",
    "- It allows a user to choose Pandora station of interest. Since TEMPO spatial coverage is regional and limited to North America, it is user's responsibility to select the station within TEMPO's field of regard (FOR). If the selected station is outside the FOR, no TEMPO time series will be generated.\n",
    "\n",
    "- The user chooses a time period of interest, by providing start and end dates in the form `YYYYMMDD`. Please be aware that if the selected period of interest is outside the available time span of one of the sensors, the corresponding time series will not be generated.\n",
    "\n",
    "- DSCOVR L2 O3 data are interpolated to the location of the selected Pandora station.\n",
    "\n",
    "- Data files for all 3 sensors are downloaded on-the-fly. TEMPO and DSCOVR data are downloaded with earthaccess library that needs to be installed first.\n",
    "\n",
    "- TEMPO data files are read by means of netCDF library that needs to be installed first.\n",
    "\n",
    "- Pandora data files are ASCII files with header and space separated columns. Custome made function is included to read ozone total column along with its total uncertainty.\n",
    "\n",
    "- The resulting time series are plotted with and without uncertainty of Pandora measurement in the end of the notebook. Unlike TEMPO NO2 and HCHO retrievals, O3 retrievals do not have uncertainty written in the files.\n",
    "DSCOVR data files also do not have uncertainty of O3 retrievals.\n",
    "\n",
    "- This notebook was tested on `TEMPO_O3TOT_L2_V03`, `DSCOVR_EPIC_L2_TO3_03`, and Pandora `L2_rout2p1-8` data files.\n",
    "\n",
    "## Prerequisites\n",
    "\n",
    "- earthaccess\n",
    "- h5py\n",
    "- matplotlib\n",
    "- netCDF4\n",
    "- numpy\n",
    "- scipy\n",
    "- shapely\n",
    "\n",
    "### Notebook Authors / Affiliation\n",
    "\n",
    "Alex Radkevich / Atmospheric Science Data Center (ASDC)"
   ]
  },
  {
   "cell_type": "markdown",
   "metadata": {
    "id": "luJG0oPIPGjC"
   },
   "source": [
    "# 1 Installing and importing necessary libraries"
   ]
  },
  {
   "cell_type": "code",
   "execution_count": 45,
   "metadata": {
    "id": "WINgHskhjiGc"
   },
   "outputs": [],
   "source": [
    "import codecs  # needed to read Pandora data\n",
    "import os\n",
    "import platform\n",
    "import requests  # needed to search for and download Pandora data\n",
    "import shutil\n",
    "import sys\n",
    "from datetime import datetime  # needed to work with time in plotting time series\n",
    "from pathlib import Path  # needed to check whether a needed data file is already downloaded\n",
    "from subprocess import Popen\n",
    "from urllib.request import urlopen  # needed to search for and download Pandora data\n",
    "\n",
    "import earthaccess  # needed to discover and download TEMPO data\n",
    "import matplotlib.pyplot as plt  # needed to plot the resulting time series\n",
    "import netCDF4 as nc  # needed to read TEMPO data\n",
    "import numpy as np\n",
    "\n",
    "from scipy.interpolate import griddata  # needed to interpolate TEMPO data to the point of interest\n",
    "from scipy import stats  # needed for linear regression analysis\n",
    "from shapely.geometry import Point, Polygon  # needed to search a point within a polygon\n",
    "\n",
    "import h5py  # needed to read DSCOVR_EPIC_L2_TO3 files"
   ]
  },
  {
   "cell_type": "markdown",
   "metadata": {
    "id": "ANsfYumeXjKm"
   },
   "source": [
    "# 2 Define functions to work with TEMPO, Pandora, and DSCOVR data"
   ]
  },
  {
   "cell_type": "markdown",
   "metadata": {
    "id": "OQGUPNbgXyKN"
   },
   "source": [
    "# 2.1 functions to work with Pandora"
   ]
  },
  {
   "cell_type": "markdown",
   "metadata": {
    "id": "RB9IWsMvX6Kd"
   },
   "source": [
    "### 2.1.1 function creating the list of available Pandora sites"
   ]
  },
  {
   "cell_type": "code",
   "execution_count": 46,
   "metadata": {
    "id": "krckXWArj_Pg"
   },
   "outputs": [],
   "source": [
    "def read_pandora_web():\n",
    "    url = \"https://data.pandonia-global-network.org/\"\n",
    "    page = urlopen(url)\n",
    "    html_bytes = page.read()\n",
    "    html = html_bytes.decode(\"utf-8\")\n",
    "\n",
    "    big_line = str(html)\n",
    "    lines = big_line.split(\"\\n\")\n",
    "\n",
    "    ref_lines = [i for i in lines if \"href\" in i]\n",
    "    refs = []\n",
    "    for line in ref_lines:\n",
    "        pos1 = line.find('\"')\n",
    "        pos2 = line.rfind('\"')\n",
    "        if 0 < pos1 < pos2 and line[pos2 - 1] == \"/\" and line[pos1 + 1] == \".\":\n",
    "            refs.append(line[pos1 + 3 : pos2 - 1])\n",
    "\n",
    "    return refs"
   ]
  },
  {
   "cell_type": "markdown",
   "metadata": {
    "id": "qD_phZnXi_1c"
   },
   "source": [
    "### 2.1.2 functions allowing user to choose a Pandora site of interest"
   ]
  },
  {
   "cell_type": "code",
   "execution_count": 47,
   "metadata": {
    "id": "F0owYRhBkE9C"
   },
   "outputs": [],
   "source": [
    "# function check_site checks whether user entered site is in the list of available Pandora sites\n",
    "def check_site(site_name, refs):\n",
    "    site_list = []\n",
    "    for line in refs:\n",
    "        if site_name in line:\n",
    "            site_list.append(line)\n",
    "\n",
    "    return site_list\n",
    "\n",
    "\n",
    "# function take_pandora_sites takes user input and checks whether the site is in the list of available Pandora sites\n",
    "def take_pandora_sites(refs):\n",
    "    print(\"please select a Pandora site name from the list\")\n",
    "    for ref in refs:\n",
    "        print(ref)\n",
    "\n",
    "    answer = \"y\"\n",
    "    while answer == \"y\":\n",
    "        site_name = input(\"Enter a name of a Pandora site: \")\n",
    "        print(site_name)\n",
    "        site_list = check_site(site_name, refs)\n",
    "        site_num = len(site_list)\n",
    "        if site_num == 0:\n",
    "            print(\"site \", site_name, \"was not found\")\n",
    "            continue\n",
    "\n",
    "        if site_num > 1:\n",
    "            print(\"there are \", site_num, \" site names, select one from\")\n",
    "            for site in site_list:\n",
    "                print(site)\n",
    "\n",
    "            site_name = input(\"Enter an exact name of a Pandora site: \")\n",
    "            if site_list.count(site_name) != 1:\n",
    "                print(\"Entered name is not the exact match of one of the following sites\")\n",
    "                for site in site_list:\n",
    "                    print(site)\n",
    "                print(\"program terminated\")\n",
    "                sys.exit()\n",
    "\n",
    "            for site in site_list:\n",
    "                if site == site_name:\n",
    "                    pandora_site = site_name\n",
    "                    print(\"site \", site_name, \"was found and added to the list of sites \")\n",
    "                    break\n",
    "\n",
    "        if site_num == 1:\n",
    "            pandora_site = site_list[0]\n",
    "            print(\"site \", site_list[0], \"was found and added to the list of sites \")\n",
    "\n",
    "        answer = \"n\"\n",
    "\n",
    "    return pandora_site"
   ]
  },
  {
   "cell_type": "markdown",
   "metadata": {
    "id": "VfcefgF-jPx5"
   },
   "source": [
    "### 2.1.3 function creating the list links to O3 data files at the selected Pandora site"
   ]
  },
  {
   "cell_type": "code",
   "execution_count": 48,
   "metadata": {
    "id": "BVAhJfEgkLfN"
   },
   "outputs": [],
   "source": [
    "# Pandora site may have several instruments. In this case each instrument has its own directory.\n",
    "# However, the most recent version of the O3 data, rout2p1_8, is available only in one of these directories.\n",
    "# The function creates all possible links, but some of them may be non-existing. This is checked and cleared later.\n",
    "def instrument_path(site):\n",
    "    url = \"https://data.pandonia-global-network.org/\" + site + \"/\"\n",
    "    page = urlopen(url)\n",
    "    html_bytes = page.read()\n",
    "    html = html_bytes.decode(\"utf-8\")\n",
    "    html_len = len(html)\n",
    "\n",
    "    pos1 = 0\n",
    "    big_line = str(html)\n",
    "    lines = big_line.split(\"\\n\")\n",
    "\n",
    "    ref_lines = [i for i in lines if \"href\" in i]\n",
    "    links = []\n",
    "    for line in ref_lines:\n",
    "        pos1 = line.find('\"')\n",
    "        pos2 = line.rfind('\"')\n",
    "        if 0 < pos1 < pos2 and line[pos2 - 1] == \"/\" and line[pos1 + 3 : pos1 + 10] == \"Pandora\":\n",
    "            link = (\n",
    "                url\n",
    "                + line[pos1 + 3 : pos2]\n",
    "                + \"L2/\"\n",
    "                + line[pos1 + 3 : pos2 - 1]\n",
    "                + \"_\"\n",
    "                + site\n",
    "                + \"_L2_rout2p1-8.txt\"\n",
    "            )\n",
    "            print(link)\n",
    "            links.append(link)\n",
    "\n",
    "    return links\n",
    "\n",
    "\n",
    "# Defining functions downloading Pandora data file with given url\n",
    "def download(url):\n",
    "    response = requests.get(url)\n",
    "    response_code = response.status_code\n",
    "\n",
    "    file_name = url.split(\"/\")[-1]\n",
    "\n",
    "    if response_code == 200:\n",
    "        content = response.content\n",
    "        data_path = Path(file_name)\n",
    "        data_path.write_bytes(content)\n",
    "\n",
    "    return file_name, response_code"
   ]
  },
  {
   "cell_type": "markdown",
   "metadata": {
    "id": "73In3NHKjfWF"
   },
   "source": [
    "### 2.1.4 functions reading Pandora O3 data file rout2p1-8"
   ]
  },
  {
   "cell_type": "code",
   "execution_count": 49,
   "metadata": {
    "id": "WkRUYX9Wkb4-"
   },
   "outputs": [],
   "source": [
    "# function read_timestamp converts Pandora timestamp of the format\n",
    "# 'yyyymmddThhmmssZ' into a set of 6 numbers:\n",
    "# integer year, month, day, hour, minute, and real second.\n",
    "def read_timestamp(timestamp):\n",
    "    yyyy = int(timestamp[0:4])\n",
    "    mm = int(timestamp[4:6])\n",
    "    dd = int(timestamp[6:8])\n",
    "    hh = int(timestamp[9:11])\n",
    "    mn = int(timestamp[11:13])\n",
    "    ss = float(timestamp[13:17])\n",
    "\n",
    "    return yyyy, mm, dd, hh, mn, ss\n",
    "\n",
    "\n",
    "# function read_Pandora_O3_rout2p1_8. It is to be used for the future validation efforts.\n",
    "# The difference with the original version is that instead of discriminating negative values of the total O3 column,\n",
    "# it uses quality flags. It was previously found that QF == 0 does not occure often enough,\n",
    "# so we will have to use QF == 10 (not-assured high quality).\n",
    "#\n",
    "# function read_Pandora_O3_rout2p1_8 reads Pandora total O3 column data files ending with rout2p1-8.\n",
    "# Arguments:\n",
    "# fname - name file to be read, string;\n",
    "# start_date - beginning of the time interval of interest,\n",
    "#              integer of the form YYYYMMDD;\n",
    "# end_date -   end of the time interval of interest,\n",
    "#              integer of the form YYYYMMDD.\n",
    "#\n",
    "# if start_date is greater than end_date, the function returns a numpy array\n",
    "# with shape (0, 8), otherwise it returns an 8-column numpy array\n",
    "# with with columns being year, month, day, hour, minute, second of observation\n",
    "# and retrieved total O3 column along with its total uncertainty.\n",
    "#\n",
    "# O3 column and its uncertainties are in mol/m^2, so conversion to Dobson Units is\n",
    "# performed by multiplication by DU_conversion = 1./4.4615E-04\n",
    "def read_Pandora_O3_rout2p1_8_v2(fname, start_date, end_date):\n",
    "    DU_conversion = 1.0 / 4.4615e-04\n",
    "\n",
    "    data = np.empty([0, 8])\n",
    "    if start_date > end_date:\n",
    "        return -999.0, -999.0, data\n",
    "\n",
    "    with codecs.open(fname, \"r\", encoding=\"utf-8\", errors=\"ignore\") as f:\n",
    "        while True:\n",
    "            # Get next line from file\n",
    "            line = f.readline()\n",
    "\n",
    "            if line.find(\"Short location name:\") >= 0:\n",
    "                loc_name = line.split()[-1]  # location name, to be used in the output file name\n",
    "                print(\"location name \", loc_name)\n",
    "\n",
    "            if line.find(\"Location latitude [deg]:\") >= 0:\n",
    "                lat = float(line.split()[-1])  # location latitude\n",
    "                print(\"location latitude \", lat)\n",
    "\n",
    "            if line.find(\"Location longitude [deg]:\") >= 0:\n",
    "                lon = float(line.split()[-1])  # location longitude\n",
    "                print(\"location longitude \", lon)\n",
    "\n",
    "            if line.find(\"--------\") >= 0:\n",
    "                break\n",
    "\n",
    "        while True:\n",
    "            # Get next line from file\n",
    "            line = f.readline()\n",
    "\n",
    "            if line.find(\"--------\") >= 0:\n",
    "                break\n",
    "\n",
    "        while True:\n",
    "            # now reading line with data\n",
    "            line = f.readline()\n",
    "\n",
    "            if not line:\n",
    "                break\n",
    "\n",
    "            line_split = line.split()\n",
    "\n",
    "            yyyy, mm, dd, hh, mn, ss = read_timestamp(line_split[0])\n",
    "            date_stamp = yyyy * 10000 + mm * 100 + dd\n",
    "            if date_stamp < start_date or date_stamp > end_date:\n",
    "                continue\n",
    "\n",
    "            QF = int(line_split[35])  # quality flag\n",
    "\n",
    "            if QF == 0 or QF == 10:\n",
    "                column = float(line_split[38])\n",
    "                #        column_unc = float(line_split[42]) # Total uncertainty of ozone total vertical column amount [moles per square meter]\n",
    "                column_unc = float(\n",
    "                    line_split[43]\n",
    "                )  # rms-based uncertainty of ozone total vertical column amount [moles per square meter]\n",
    "                data = np.append(\n",
    "                    data,\n",
    "                    [\n",
    "                        [\n",
    "                            yyyy,\n",
    "                            mm,\n",
    "                            dd,\n",
    "                            hh,\n",
    "                            mn,\n",
    "                            ss,\n",
    "                            column * DU_conversion,\n",
    "                            column_unc * DU_conversion,\n",
    "                        ]\n",
    "                    ],\n",
    "                    axis=0,\n",
    "                )\n",
    "\n",
    "    return lat, lon, loc_name, data"
   ]
  },
  {
   "cell_type": "markdown",
   "metadata": {
    "id": "ZiCdNpuqkK1H"
   },
   "source": [
    "# 2.2 function to read DSCOVR O3 data files"
   ]
  },
  {
   "cell_type": "code",
   "execution_count": 50,
   "metadata": {
    "id": "BcJx9AYfkikE"
   },
   "outputs": [],
   "source": [
    "def read_epic_l2_to3(fname):\n",
    "    # function read_epic_l2_to3 reads DSCOVR_EPIC_L2_TO3 product file given by its fname\n",
    "    # and returns arrays of 2D latitudes and longitudes, and total O3 column\n",
    "    # along with their fill values and time.\n",
    "\n",
    "    days = [31, 28, 31, 30, 31, 30, 31, 31, 30, 31, 30, 31]\n",
    "\n",
    "    try:\n",
    "        with h5py.File(fname, \"r\") as f:\n",
    "            item = f[\"Latitude\"]\n",
    "            lat2D = item[:]\n",
    "            #    fv_geo = item.fillvalue\n",
    "            fv_geo = lat2D[0, 0]\n",
    "\n",
    "            item = f[\"Longitude\"]\n",
    "            lon2D = item[:]\n",
    "\n",
    "            item = f[\"Ozone\"]\n",
    "            o3_2D = item[:]\n",
    "            # commented out line below is the general way to read the fill value\n",
    "            # however, attribute '_FillValue' is not set for any array in the current version of the product\n",
    "            # at the same time, arrays do have apparent fill values that can be seen in the\n",
    "            # corners of the image\n",
    "            #    fv_o3 = item.fillvalue\n",
    "            fv_o3 = o3_2D[0, 0]\n",
    "\n",
    "        # getting time from the granule's filename\n",
    "        fname_split = fname.split(\"_\")\n",
    "        timestamp = fname_split[-2]\n",
    "        yyyy = int(timestamp[0:4])\n",
    "        mm = int(timestamp[4:6])\n",
    "        dd = int(timestamp[6:8])\n",
    "        hh = int(timestamp[8:10])\n",
    "        mn = int(timestamp[10:12])\n",
    "        ss = int(timestamp[12:14])\n",
    "\n",
    "    except:\n",
    "        print(\"Unable to find or read hdf5 input granule file \", fname)\n",
    "        lat2D = 0.0\n",
    "        lon2D = 0.0\n",
    "        o3_2D = 0.0\n",
    "        fv_o3 = 0.0\n",
    "        fv_geo = 0.0\n",
    "        yyyy = 0\n",
    "        mm = 0\n",
    "        dd = 0\n",
    "        hh = 0\n",
    "        mn = 0\n",
    "        ss = 0\n",
    "\n",
    "    return lat2D, lon2D, o3_2D, fv_o3, fv_geo, yyyy, mm, dd, hh, mn, ss"
   ]
  },
  {
   "cell_type": "markdown",
   "metadata": {
    "id": "QgtWxPbPk37c"
   },
   "source": [
    "# 2.3 function reading TEMPO_O3TOT_L2"
   ]
  },
  {
   "cell_type": "code",
   "execution_count": 51,
   "metadata": {
    "id": "FRivRspskqxc"
   },
   "outputs": [],
   "source": [
    "def read_TEMPO_O3TOT_L2(fn):\n",
    "    \"\"\"\n",
    "    function read_TEMPO_O3TOT_L2 reads the following arrays from the\n",
    "    TEMPO L2 O3 product TEMPO_O3TOT_L2_V03:\n",
    "      column_amount_o3;\n",
    "      quality_flag.\n",
    "    It returns respective fields along with coordinates of the pixels.\n",
    "\n",
    "    If one requested variables cannot be read, all returned variables are zeroed\n",
    "    \"\"\"\n",
    "    var_name = \"column_amount_o3\"\n",
    "    var_QF_name = \"quality_flag\"\n",
    "\n",
    "    try:\n",
    "        ds = nc.Dataset(fn)\n",
    "\n",
    "        prod = ds.groups[\"product\"]  # this opens group product, /product, as prod\n",
    "\n",
    "        var = prod.variables[\n",
    "            var_name\n",
    "        ]  # this reads variable column_amount_o3 from prod (group product, /product)\n",
    "        total_O3_column = np.array(var)\n",
    "        fv_prod = var.getncattr(\"_FillValue\")\n",
    "        prod_unit = var.getncattr(\"units\")\n",
    "\n",
    "        var_QF = prod.variables[\n",
    "            var_QF_name\n",
    "        ]  # this reads variable column_amount_o3 from prod (group product, /product)\n",
    "        total_O3_column_QF = np.array(var_QF)\n",
    "\n",
    "        geo = ds.groups[\"geolocation\"]  # this opens group geolocation, /geolocation, as geo\n",
    "\n",
    "        lat = np.array(\n",
    "            geo.variables[\"latitude\"]\n",
    "        )  # this reads variable latitude from geo (geolocation group, /geolocation) into a numpy array\n",
    "        lon = np.array(\n",
    "            geo.variables[\"longitude\"]\n",
    "        )  # this reads variable longitude from geo (geolocation group, /geolocation) into a numpy array\n",
    "        fv_geo = geo.variables[\"latitude\"].getncattr(\"_FillValue\")\n",
    "        time = np.array(\n",
    "            geo.variables[\"time\"]\n",
    "        )  # this reads variable longitude from geo (geolocation group, /geolocation) into a numpy array\n",
    "\n",
    "    except:\n",
    "        print(\"variable \" + var_name + \" cannot be read in file \" + fn)\n",
    "        lat = 0.0\n",
    "        lon = 0.0\n",
    "        fv_geo = 0.0\n",
    "        time = 0.0\n",
    "        total_O3_column = 0.0\n",
    "        total_O3_column_QF = 0.0\n",
    "        fv_prod = 0.0\n",
    "        prod_unit = \"\"\n",
    "\n",
    "    return lat, lon, fv_geo, time, total_O3_column, total_O3_column_QF, fv_prod, prod_unit"
   ]
  },
  {
   "cell_type": "markdown",
   "metadata": {
    "id": "OkRA1M7PcIYx"
   },
   "source": [
    "## 2.4 auxiliary functions to handle data"
   ]
  },
  {
   "cell_type": "markdown",
   "metadata": {
    "id": "AKzFo9EjcTzx"
   },
   "source": [
    "### 2.4.1 function smoothing Pandora retievals and interpolating them onto TEMPO times of observations"
   ]
  },
  {
   "cell_type": "code",
   "execution_count": 52,
   "metadata": {
    "id": "y2V2BMMowgUp"
   },
   "outputs": [],
   "source": [
    "# Smooth Pandora retievals and interplate them into other time series times\n",
    "# Pandora timeseries has significantly more data points then TEMPO and DSCOVR. It is also very noisy.\n",
    "# To make comparison easier, Pandora timeseries is interpolated to the moments of TEMPO and DSCOVR observations.\n",
    "\n",
    "# Interpolation is performed by the function defined below with the help of Gaussian smooting as follow:\n",
    "# x_int(t) = SUM(x_p(t_i)*wt(t_i, t)),\n",
    "#\n",
    "# wt(t_i, t) = exp(-(t - t_i)^2/(2 * sigma^2))/SUM(exp(-(t - t_i)^2/(2 * sigma^2))),\n",
    "#\n",
    "# where sums are taken over times t_i falling into time interval (t-dt_max, t+dt_max).\n",
    "#\n",
    "# Parameters dt_max and sigma can be chosen by the user.\n",
    "def gauss_interpolation(timeseries, new_times):\n",
    "    #\n",
    "    # function gauss_interpolation takes 2D array timeseries with function\n",
    "    # to be interpolated and 1D array new_times containing times to which\n",
    "    # the function is to be interpolated\n",
    "    # arguments:\n",
    "    #     timeseries - array with at least 2 columns,\n",
    "    #                  1st column - times, 2nd (3rd, ...) column(s) - function to be interpolated\n",
    "    #     new_times  - 1D array of times to which the function(s) to be interpolated\n",
    "    #\n",
    "    # parameters\n",
    "    # dt_max = 0.0028125 - 4 minutes 3 seconds (243 seconds) expressed in days\n",
    "    # sigma = 0.0009375 - 1 minute 21 seconds (81 seconds) expressed in days\n",
    "\n",
    "    dt_max = 0.0028125  # 4 minutes 3 seconds (243 seconds) expressed in days\n",
    "    sigma = 0.0009375  # 1 minute 21 seconds (81 seconds) expressed in days\n",
    "\n",
    "    nnt = len(new_times)\n",
    "    (nt, nfun) = timeseries.shape\n",
    "\n",
    "    timeseries_smooth = np.empty([0, nfun])\n",
    "    data_subset = np.empty(nnt, dtype=object)\n",
    "    cnt = 0\n",
    "    for new_time in new_times:\n",
    "        llim = new_time - dt_max\n",
    "        ulim = new_time + dt_max\n",
    "\n",
    "        timeseries_subset = timeseries[((timeseries[:, 0] < ulim) & (timeseries[:, 0] > llim))]\n",
    "        if len(timeseries_subset) < 1:\n",
    "            continue\n",
    "        t_delta = timeseries_subset[:, 0] - new_time\n",
    "        wt = np.exp(-(t_delta**2) / (2.0 * sigma**2))\n",
    "        wt = wt / np.sum(wt)\n",
    "        timeseries_subset = np.append(timeseries_subset, np.transpose([wt]), axis=1)\n",
    "        for t in timeseries_subset:\n",
    "            print(f\"{t[0]:.1f} {t[1]:.3e} {t[2]:.2e} {t[3]:.4e}\")\n",
    "        data_subset[cnt] = timeseries_subset\n",
    "        cnt += 1\n",
    "\n",
    "        timeseries_smooth_loc = np.array([new_time])\n",
    "        for ifun in range(1, nfun):\n",
    "            timeseries_smooth_loc = np.append(\n",
    "                timeseries_smooth_loc, np.sum(timeseries_subset[:, ifun] * wt)\n",
    "            )\n",
    "        print(\n",
    "            f\"{timeseries_smooth_loc[0]:.1f} {timeseries_smooth_loc[1]:.3e} {timeseries_smooth_loc[2]:.2e}\\n\"\n",
    "        )\n",
    "\n",
    "        timeseries_smooth = np.append(timeseries_smooth, np.array([timeseries_smooth_loc]), axis=0)\n",
    "\n",
    "    return timeseries_smooth, data_subset"
   ]
  },
  {
   "cell_type": "markdown",
   "metadata": {
    "id": "nNoGDd0MdP9Y"
   },
   "source": [
    "### 2.4.2 function computing linear regression with zero intercept"
   ]
  },
  {
   "cell_type": "code",
   "execution_count": 53,
   "metadata": {
    "id": "_9-xGnEeyyVR"
   },
   "outputs": [],
   "source": [
    "# custom made function regress_0intercept takes vectors x and y\n",
    "# representing coordinates and function values at these coordinates\n",
    "# and returns slope of regression fit y = a*x\n",
    "# along with coefficient of determination\n",
    "def regress_0intercept(x, y):\n",
    "    success = False\n",
    "\n",
    "    if len(x) != len(y):\n",
    "        a = 0.0\n",
    "        R2 = 0.0\n",
    "\n",
    "    elif len(x) == 1:\n",
    "        if x[0] != 0.0:\n",
    "            a = y[0] / x[0]\n",
    "            R2 = 1.0\n",
    "            success = True\n",
    "        else:\n",
    "            if y[0] != 0.0:\n",
    "                a = np.inf\n",
    "                R2 = 1.0\n",
    "                success = True\n",
    "            else:\n",
    "                a = np.inf\n",
    "                R2 = 0.0\n",
    "\n",
    "    else:\n",
    "        xy_sum = np.dot(x, y)\n",
    "        x2_sum = np.dot(x, x)\n",
    "        a = xy_sum / x2_sum\n",
    "\n",
    "        res_y = y - a * x\n",
    "        res_sum_2 = np.dot(res_y, res_y)\n",
    "        y2_sum = np.dot(y, y)\n",
    "        sum_tot_2 = y2_sum - len(y) * np.mean(y) ** 2\n",
    "        R2 = 1.0 - res_sum_2 / sum_tot_2\n",
    "\n",
    "        success = True\n",
    "\n",
    "    return success, a, R2"
   ]
  },
  {
   "cell_type": "markdown",
   "metadata": {
    "id": "PxrnBzp1mHJ5"
   },
   "source": [
    "# Main code begins here"
   ]
  },
  {
   "cell_type": "markdown",
   "metadata": {
    "id": "vXy2ArJ93d9e"
   },
   "source": [
    "# 3 Establishing access to EarthData"
   ]
  },
  {
   "cell_type": "markdown",
   "metadata": {
    "id": "8BnoNI0k3mi1"
   },
   "source": [
    "## 3.1 Logging in"
   ]
  },
  {
   "cell_type": "code",
   "execution_count": 54,
   "metadata": {
    "colab": {
     "base_uri": "https://localhost:8080/"
    },
    "id": "OwWQ-RB8y3kR",
    "outputId": "f0625dcf-c0d9-4874-d2a2-5baf2da916dd"
   },
   "outputs": [],
   "source": [
    "# Establishing access to EarthData\n",
    "# User needs to create an account at https://www.earthdata.nasa.gov/\n",
    "# Function earthaccess.login prompts for EarthData login and password.\n",
    "auth = earthaccess.login(strategy=\"interactive\", persist=True)"
   ]
  },
  {
   "cell_type": "markdown",
   "metadata": {
    "id": "AR7UGlswVGHj"
   },
   "source": [
    "## 3.2 Creating local directory"
   ]
  },
  {
   "cell_type": "code",
   "execution_count": 55,
   "metadata": {
    "colab": {
     "base_uri": "https://localhost:8080/"
    },
    "id": "IKdeBJTsmnc0",
    "outputId": "b3a8cb27-ba05-4a95-b2d0-ef2d81f0f7dd"
   },
   "outputs": [
    {
     "name": "stdout",
     "output_type": "stream",
     "text": [
      "Saved .dodsrc to: /home/jovyan/\n"
     ]
    }
   ],
   "source": [
    "homeDir = os.path.expanduser(\"~\") + os.sep\n",
    "\n",
    "with open(homeDir + \".dodsrc\", \"w\") as file:\n",
    "    file.write(\"HTTP.COOKIEJAR={}.urs_cookies\\n\".format(homeDir))\n",
    "    file.write(\"HTTP.NETRC={}.netrc\".format(homeDir))\n",
    "    file.close()\n",
    "\n",
    "print(\"Saved .dodsrc to:\", homeDir)\n",
    "\n",
    "# Set appropriate permissions for Linux/macOS\n",
    "if platform.system() != \"Windows\":\n",
    "    Popen(\"chmod og-rw ~/.netrc\", shell=True)\n",
    "else:\n",
    "    # Copy dodsrc to working directory in Windows\n",
    "    shutil.copy2(homeDir + \".dodsrc\", os.getcwd())\n",
    "    print(\"Copied .dodsrc to:\", os.getcwd())"
   ]
  },
  {
   "cell_type": "markdown",
   "metadata": {
    "id": "5QaStYVXVmdN"
   },
   "source": [
    "# 4 Working with Pandora data"
   ]
  },
  {
   "cell_type": "markdown",
   "metadata": {
    "id": "NN7_YcCackvI"
   },
   "source": [
    "## 4.1 Discovering existing Pandora stations and selecting one of them"
   ]
  },
  {
   "cell_type": "code",
   "execution_count": 56,
   "metadata": {
    "colab": {
     "base_uri": "https://localhost:8080/"
    },
    "id": "GfIm8DMQy9nT",
    "outputId": "9a6c35ae-3d05-4479-9ed9-504fccf9e7df"
   },
   "outputs": [
    {
     "name": "stdout",
     "output_type": "stream",
     "text": [
      "gathering Pandora sites information\n",
      "please select a Pandora site name from the list\n",
      "Agam\n",
      "AldineTX\n",
      "AliceSprings\n",
      "Altzomoni\n",
      "ArlingtonTX\n",
      "Athens-NOA\n",
      "AtlantaGA-Conyers\n",
      "AtlantaGA-GATech\n",
      "AtlantaGA-SouthDeKalb\n",
      "AtlantaGA\n",
      "AustinTX\n",
      "Bandung\n",
      "Bangkok\n",
      "Banting\n",
      "BayonneNJ\n",
      "Beijing-RADI\n",
      "BeltsvilleMD\n",
      "Berlin\n",
      "BlueHillMA\n",
      "BostonMA\n",
      "BoulderCO-NCAR\n",
      "BoulderCO\n",
      "Bremen\n",
      "BristolPA\n",
      "BronxNY\n",
      "Brussels-Uccle\n",
      "Bucharest\n",
      "BuenosAires\n",
      "BuffaloNY\n",
      "Busan\n",
      "Cabauw\n",
      "Calakmul\n",
      "calibrationfiles\n",
      "CambridgeBay\n",
      "CambridgeMA\n",
      "CameronLA\n",
      "CapeElizabethME\n",
      "Cebu\n",
      "ChapelHillNC\n",
      "CharlesCityVA\n",
      "ChelseaMA\n",
      "ChiangMai\n",
      "ChicagoIL\n",
      "Cologne\n",
      "ComodoroRivadavia\n",
      "Cordoba\n",
      "CornwallCT\n",
      "CorpusChristiTX\n",
      "Daegu\n",
      "Dalanzadgad\n",
      "Davos\n",
      "DearbornMI\n",
      "DeBilt\n",
      "Dhaka\n",
      "Downsview\n",
      "EastProvidenceRI\n",
      "EdwardsCA\n",
      "Egbert\n",
      "EssexMD\n",
      "Eureka-0PAL\n",
      "Eureka-PEARL\n",
      "FairbanksAK\n",
      "Fajardo\n",
      "FortMcKay\n",
      "FortYatesND\n",
      "Fukuoka\n",
      "Gongju-KNU\n",
      "Granada\n",
      "GrandForksND\n",
      "GreenbeltMD\n",
      "Haldwani-ARIES\n",
      "HamptonVA-HU\n",
      "HamptonVA\n",
      "Heidelberg\n",
      "Helsinki\n",
      "HoustonTX-SanJacinto\n",
      "HoustonTX\n",
      "HuntsvilleAL\n",
      "Ilocos\n",
      "Incheon-ESC\n",
      "Innsbruck\n",
      "IowaCityIA-WHS\n",
      "Islamabad-NUST\n",
      "Izana\n",
      "Jeonju\n",
      "Juelich\n",
      "KenoshaWI\n",
      "Kobe\n",
      "Kosetice\n",
      "LaPaz\n",
      "LaPorteTX\n",
      "LapwaiID\n",
      "LibertyTX\n",
      "Lindenberg\n",
      "LondonderryNH\n",
      "LynnMA\n",
      "MadisonCT\n",
      "ManhattanKS\n",
      "ManhattanNY-CCNY\n",
      "MaunaLoaHI\n",
      "MexicoCity-UNAM\n",
      "MexicoCity-Vallejo\n",
      "MiamiFL-FIU\n",
      "MountainViewCA\n",
      "Nagoya\n",
      "Nainital-ARIES\n",
      "NewBrunswickNJ\n",
      "NewHavenCT\n",
      "NewLondonCT\n",
      "NewOrleansLA-XULA\n",
      "NyAlesund\n",
      "OldFieldNY\n",
      "operationfiles\n",
      "Palau\n",
      "Palawan\n",
      "PhiladelphiaPA\n",
      "PhnomPenh\n",
      "PittsburghPA\n",
      "Pontianak\n",
      "Potchefstroom-METSI\n",
      "QueensNY\n",
      "QuezonCity\n",
      "RichmondCA\n",
      "Rome-IIA\n",
      "Rome-ISAC\n",
      "Rome-SAP\n",
      "Rotterdam-Haven\n",
      "SaltLakeCityUT-Hawthorne\n",
      "SaltLakeCityUT\n",
      "SanJoseCA\n",
      "Sapporo\n",
      "Seosan\n",
      "Seoul-KU\n",
      "Seoul-SNU\n",
      "Seoul\n",
      "Singapore-NUS\n",
      "Songkhla\n",
      "SouthJordanUT\n",
      "StGeorge\n",
      "StonyPlain\n",
      "Suwon-USW\n",
      "SWDetroitMI\n",
      "Tel-Aviv\n",
      "Thessaloniki\n",
      "Tokyo-Sophia\n",
      "Tokyo-TMU\n",
      "Toronto-CNTower\n",
      "Toronto-Scarborough\n",
      "Toronto-West\n",
      "Trollhaugen\n",
      "Tsukuba-NIES-West\n",
      "Tsukuba-NIES\n",
      "Tsukuba\n",
      "TubaCityAZ\n",
      "TucsonAZ\n",
      "TurlockCA\n",
      "TylerTX\n",
      "Ulaanbaatar\n",
      "Ulsan\n",
      "Vientiane\n",
      "VirginiaBeachVA-CBBT\n",
      "WacoTX\n",
      "Wakkerstroom\n",
      "WallopsIslandVA\n",
      "Warsaw-UW\n",
      "WashingtonDC\n",
      "WestportCT\n",
      "WhittierCA\n",
      "Windsor-West\n",
      "WrightwoodCA\n",
      "Yokosuka\n",
      "Yongin\n"
     ]
    },
    {
     "name": "stdin",
     "output_type": "stream",
     "text": [
      "Enter a name of a Pandora site:  Hous\n"
     ]
    },
    {
     "name": "stdout",
     "output_type": "stream",
     "text": [
      "Hous\n",
      "there are  2  site names, select one from\n",
      "HoustonTX-SanJacinto\n",
      "HoustonTX\n"
     ]
    },
    {
     "name": "stdin",
     "output_type": "stream",
     "text": [
      "Enter an exact name of a Pandora site:  HoustonTX\n"
     ]
    },
    {
     "name": "stdout",
     "output_type": "stream",
     "text": [
      "site  HoustonTX was found and added to the list of sites \n",
      "the following sites were selected\n",
      "HoustonTX\n",
      "from the list of existing Pandora sites\n",
      "https://data.pandonia-global-network.org/HoustonTX/Pandora25s1/L2/Pandora25s1_HoustonTX_L2_rout2p1-8.txt\n",
      "Pandora25s1_HoustonTX_L2_rout2p1-8.txt  does not exit in local directory, downloading from the web\n",
      "https://data.pandonia-global-network.org/HoustonTX/Pandora25s1/L2/Pandora25s1_HoustonTX_L2_rout2p1-8.txt\n",
      "Pandora L2 file  Pandora25s1_HoustonTX_L2_rout2p1-8.txt  has been downloaded\n"
     ]
    }
   ],
   "source": [
    "# Discovering available Pandora site.\n",
    "# Please bear in mind that some sites do not have NO2 data files\n",
    "print(\"gathering Pandora sites information\")\n",
    "refs = read_pandora_web()\n",
    "\n",
    "pandora_site = take_pandora_sites(refs)  # create list of Pandora sites of interest\n",
    "print(\"the following sites were selected\")\n",
    "print(pandora_site)\n",
    "print(\"from the list of existing Pandora sites\")\n",
    "\n",
    "# create a list of !AVAILABLE! Pandora files for the Pandora site\n",
    "pandora_files = []\n",
    "\n",
    "links = instrument_path(pandora_site)\n",
    "\n",
    "npfiles = 0\n",
    "\n",
    "for link in links:\n",
    "    pandora_fname = link.split(\"/\")[-1]\n",
    "\n",
    "    # check if file exists in the local directory, if not download from Pandora site\n",
    "    if not os.path.exists(pandora_fname):\n",
    "        print(pandora_fname, \" does not exit in local directory, downloading from the web\")\n",
    "        print(link)\n",
    "\n",
    "        pandora_fname, response_code = download(link)\n",
    "\n",
    "        if response_code == 200:\n",
    "            print(\"Pandora L2 file \", pandora_fname, \" has been downloaded\")\n",
    "            npfiles = npfiles + 1\n",
    "            pandora_files.append(pandora_fname)\n",
    "        else:\n",
    "            print(\"Pandora L2 file \", link, \" does not exist\")\n",
    "\n",
    "    else:\n",
    "        print(pandora_fname, \" exits in local directory\")\n",
    "        npfiles = npfiles + 1\n",
    "        pandora_files.append(pandora_fname)\n",
    "\n",
    "if npfiles == 0:  # no files were found, STOP here\n",
    "    print(\"no files were found for Pandora site \", pandora_site, \"program terminated\")\n",
    "    sys.exit()\n",
    "if npfiles > 1:  # normally there should be only one file per site. if there are more - STOP\n",
    "    #  print('there are too many files for site ', pandora_site, '- STOP and investigate file names below. Program terminated')\n",
    "    print(\"there are more than 1 files for site \", pandora_site)\n",
    "    #  for pandora_fname in pandora_files: print(pandora_fname)\n",
    "    for i, link in enumerate(links):\n",
    "        print(i, link)\n",
    "    num = int(input(\"please enter the number for the link\"))\n",
    "    pandora_fname, response_code = download(links[num])"
   ]
  },
  {
   "cell_type": "markdown",
   "metadata": {
    "id": "4vYb5skDdNvg"
   },
   "source": [
    "## 4.2 Selecting timeframe of interest common for all instruments"
   ]
  },
  {
   "cell_type": "code",
   "execution_count": 57,
   "metadata": {
    "colab": {
     "base_uri": "https://localhost:8080/"
    },
    "id": "NDyE7jCOzEyh",
    "outputId": "c2a47c38-d56c-491c-cf9b-dcc79c2b9166"
   },
   "outputs": [
    {
     "name": "stdout",
     "output_type": "stream",
     "text": [
      "enter period of interest, start and end dates, in the form YYYYMMDD\n"
     ]
    },
    {
     "name": "stdin",
     "output_type": "stream",
     "text": [
      "enter start date of interest  20230901\n",
      "enter end date of interest  20230901\n"
     ]
    },
    {
     "name": "stdout",
     "output_type": "stream",
     "text": [
      "2023 9 1 2023 9 1\n"
     ]
    }
   ],
   "source": [
    "print(\"enter period of interest, start and end dates, in the form YYYYMMDD\")\n",
    "datestamp_ini = input(\"enter start date of interest \")\n",
    "datestamp_fin = input(\"enter end date of interest \")\n",
    "\n",
    "start_date = int(datestamp_ini)\n",
    "end_date = int(datestamp_fin)\n",
    "\n",
    "yyyy_ini = start_date // 10000\n",
    "mm_ini = start_date // 100 - yyyy_ini * 100\n",
    "dd_ini = start_date - yyyy_ini * 10000 - mm_ini * 100\n",
    "\n",
    "yyyy_fin = end_date // 10000\n",
    "mm_fin = end_date // 100 - yyyy_fin * 100\n",
    "dd_fin = end_date - yyyy_fin * 10000 - mm_fin * 100\n",
    "print(yyyy_ini, mm_ini, dd_ini, yyyy_fin, mm_fin, dd_fin)\n",
    "\n",
    "date_start = str(\"%4.4i-%2.2i-%2.2i 00:00:00\" % (yyyy_ini, mm_ini, dd_ini))\n",
    "date_end = str(\"%4.4i-%2.2i-%2.2i 23:59:59\" % (yyyy_fin, mm_fin, dd_fin))"
   ]
  },
  {
   "cell_type": "markdown",
   "metadata": {
    "id": "1UOE-xVanNBu"
   },
   "source": [
    "## 4.3 Reading Pandora file within selected timeframe and create point of interest"
   ]
  },
  {
   "cell_type": "code",
   "execution_count": 58,
   "metadata": {
    "colab": {
     "base_uri": "https://localhost:8080/"
    },
    "id": "luKPzZjIzYxl",
    "outputId": "1e32da94-67bd-435e-c8be-4f064569b407"
   },
   "outputs": [
    {
     "name": "stdout",
     "output_type": "stream",
     "text": [
      "location name  HoustonTX\n",
      "location latitude  29.72\n",
      "location longitude  -95.34\n",
      "67  Pandora measurements found within period of interes between 2023-09-01 00:00:00 and 2023-09-01 23:59:59\n"
     ]
    }
   ],
   "source": [
    "pandora_file = pandora_files[0]\n",
    "lat, lon, POI_name, Pandora_data = read_Pandora_O3_rout2p1_8_v2(pandora_file, start_date, end_date)\n",
    "\n",
    "if lat == -999.0:\n",
    "    print(\"error reading pandora file \", pandora_file, \"program terminated\")\n",
    "    sys.exit()\n",
    "\n",
    "POI = np.array([lat, lon])\n",
    "\n",
    "# print # of points in Pandora timeseries\n",
    "n_Pandora_data = len(Pandora_data)\n",
    "print(\n",
    "    n_Pandora_data,\n",
    "    \" Pandora measurements found within period of interes between\",\n",
    "    date_start,\n",
    "    \"and\",\n",
    "    date_end,\n",
    ")\n",
    "if n_Pandora_data == 0:\n",
    "    print(\"program terminated\")\n",
    "    sys.exit()"
   ]
  },
  {
   "cell_type": "markdown",
   "metadata": {
    "id": "3wvhtsq5kXgZ"
   },
   "source": [
    "## 4.4 Setting TEMPO and DSCOVR name constants and writing Pandora timeseries to a file"
   ]
  },
  {
   "cell_type": "code",
   "execution_count": 59,
   "metadata": {
    "id": "xE_ZFUy02GAb"
   },
   "outputs": [],
   "source": [
    "# Setting TEMPO name constants\n",
    "short_name_TEMPO = \"TEMPO_O3TOT_L2\"  # collection name to search for in the EarthData\n",
    "out_Q = \"O3_tot_col_TEMPO\"  # name of the output quantity with unit\n",
    "\n",
    "# Setting TEMPO name constants\n",
    "short_name_DSCOVR = \"DSCOVR_EPIC_L2_TO3\"  # collection name to search for in the EarthData\n",
    "out_Q_EPIC = \"O3_tot_col_EPIC\"\n",
    "\n",
    "out_Q_Pandora = \"O3_tot_col_Pandora\"\n",
    "\n",
    "out_Q_unit = \"DU\"\n",
    "\n",
    "# write Pandora timeseries to a file\n",
    "POI_name_ = POI_name.replace(\" \", \"_\")\n",
    "\n",
    "Pandora_out = open(\n",
    "    out_Q_Pandora\n",
    "    + \"_\"\n",
    "    + datestamp_ini\n",
    "    + \"_\"\n",
    "    + datestamp_fin\n",
    "    + \"_\"\n",
    "    + POI_name_\n",
    "    + \"_\"\n",
    "    + str(\"%08.4fN_%08.4fW.txt\" % (POI[0], -POI[1])),\n",
    "    \"w\",\n",
    ")\n",
    "for line in Pandora_data:\n",
    "    Pandora_out.write(\n",
    "        str(\n",
    "            \"%4.4i %2.2i %2.2i %2.2i %2.2i %4.1f %12.4e %12.4e\\n\"\n",
    "            % (line[0], line[1], line[2], line[3], line[4], line[5], line[6], line[7])\n",
    "        )\n",
    "    )\n",
    "Pandora_out.close()"
   ]
  },
  {
   "cell_type": "markdown",
   "metadata": {
    "id": "VGfpNlrWei36"
   },
   "source": [
    "# 5 Working with DSCOVR data"
   ]
  },
  {
   "cell_type": "markdown",
   "metadata": {
    "id": "qO9NEF61jlcy"
   },
   "source": [
    "## 5.1 Searching for DSCOVR data files in the selected thimeframe and download them"
   ]
  },
  {
   "cell_type": "code",
   "execution_count": 60,
   "metadata": {
    "colab": {
     "base_uri": "https://localhost:8080/",
     "height": 564,
     "referenced_widgets": [
      "6a74f55aca6e43cd828829ff3f8a3668",
      "8a89ddfca6aa4ed4b8a01ce8ee69f30a",
      "ee89560e779348d1b9abeac68208614a",
      "c8997b0fa3984547b209c6f659531bc7",
      "d2d4425ccf1847c39bdb92d3d6b84842",
      "8da2c144ed4a4daea355ca4c879eef43",
      "79a4d40189f6455fb0582ff3559a44ea",
      "ee9631ace8944195a778a9c2e25f0555",
      "c73d7ef65a4f4972ac8cce3a49e2cbd6",
      "a45a931bfec44ba4974ea01225ba048e",
      "914e9cbf317a4e4792c1fec66376fd68",
      "c9ca091411514acebfa719084e8aa2ee",
      "498556a41b374bef85d2f33767d04913",
      "18bf9267531c4f7aa7384c468d58cd12",
      "15c1d114296844b285c8852c1af67eb0",
      "44714d3f2bb74fe7b0e220b409c2b754",
      "c83d21ea90424306a98819759bad7126",
      "5f264b306abf4ea498ea5abbc961bc6d",
      "4bd34b2dad6342c58cc43aba95478bc1",
      "e11996d39f7540d29f13415d2a5b877b",
      "7c693105550646b5928d354c328c6c7a",
      "5bf0088581c34a9a9b7311aefebd4f89",
      "c099ef8003c9442b8dbbd77a645d653d",
      "74e34322dce14a1a8d8201347b7bd203",
      "185a3fad63734c39b7908a3b23c05adf",
      "71f46d670fe241329bdba1ce3cf787f0",
      "7401ab9929864b4397533422ce60f393",
      "63078942080f4eed82cfbc7193ab591b",
      "22bcaa9e31f54d189cbaf7f163baff21",
      "043fe439d12547478f1a13f81f2c2e19",
      "702a253497d74788b59da58ab11acf62",
      "9017e47483884fc6904660fda0ae55c8",
      "da64370aaca84cb4b89577fd8d4455d3"
     ]
    },
    "id": "OGEScxEszoRY",
    "outputId": "c82b9fb7-0a34-4ded-a30c-202b8563da46",
    "scrolled": true
   },
   "outputs": [
    {
     "name": "stdout",
     "output_type": "stream",
     "text": [
      "Granules found: 12\n",
      "total number of DSCOVR EPIC L2_TO3 granules found for POI HoustonTX \n",
      "within period of interes between 2023-09-01 00:00:00 and 2023-09-01 23:59:59 \n",
      "is 12\n",
      "https://asdc.larc.nasa.gov/data/DSCOVR/EPIC/L2_TO3_03/2023/09/DSCOVR_EPIC_L2_TO3_03_20230901013240_03.h5\n",
      "https://asdc.larc.nasa.gov/data/DSCOVR/EPIC/L2_TO3_03/2023/09/DSCOVR_EPIC_L2_TO3_03_20230901133241_03.h5\n",
      "https://asdc.larc.nasa.gov/data/DSCOVR/EPIC/L2_TO3_03/2023/09/DSCOVR_EPIC_L2_TO3_03_20230901143809_03.h5\n",
      "https://asdc.larc.nasa.gov/data/DSCOVR/EPIC/L2_TO3_03/2023/09/DSCOVR_EPIC_L2_TO3_03_20230901185959_03.h5\n",
      "https://asdc.larc.nasa.gov/data/DSCOVR/EPIC/L2_TO3_03/2023/09/DSCOVR_EPIC_L2_TO3_03_20230901164904_03.h5\n",
      "https://asdc.larc.nasa.gov/data/DSCOVR/EPIC/L2_TO3_03/2023/09/DSCOVR_EPIC_L2_TO3_03_20230901175431_03.h5\n",
      "https://asdc.larc.nasa.gov/data/DSCOVR/EPIC/L2_TO3_03/2023/09/DSCOVR_EPIC_L2_TO3_03_20230901034335_03.h5\n",
      "https://asdc.larc.nasa.gov/data/DSCOVR/EPIC/L2_TO3_03/2023/09/DSCOVR_EPIC_L2_TO3_03_20230901002713_03.h5\n",
      "https://asdc.larc.nasa.gov/data/DSCOVR/EPIC/L2_TO3_03/2023/09/DSCOVR_EPIC_L2_TO3_03_20230901154336_03.h5\n",
      "https://asdc.larc.nasa.gov/data/DSCOVR/EPIC/L2_TO3_03/2023/09/DSCOVR_EPIC_L2_TO3_03_20230901023807_03.h5\n",
      "https://asdc.larc.nasa.gov/data/DSCOVR/EPIC/L2_TO3_03/2023/09/DSCOVR_EPIC_L2_TO3_03_20230901044902_03.h5\n",
      "https://asdc.larc.nasa.gov/data/DSCOVR/EPIC/L2_TO3_03/2023/09/DSCOVR_EPIC_L2_TO3_03_20230901055429_03.h5\n",
      " Getting 12 granules, approx download size: 0.0 GB\n"
     ]
    },
    {
     "data": {
      "application/vnd.jupyter.widget-view+json": {
       "model_id": "061270a01ffa46f9a9ce1dfdea8bd5be",
       "version_major": 2,
       "version_minor": 0
      },
      "text/plain": [
       "QUEUEING TASKS | :   0%|          | 0/12 [00:00<?, ?it/s]"
      ]
     },
     "metadata": {},
     "output_type": "display_data"
    },
    {
     "data": {
      "application/vnd.jupyter.widget-view+json": {
       "model_id": "c94007ab78b44f85a0ff3c005358023b",
       "version_major": 2,
       "version_minor": 0
      },
      "text/plain": [
       "PROCESSING TASKS | :   0%|          | 0/12 [00:00<?, ?it/s]"
      ]
     },
     "metadata": {},
     "output_type": "display_data"
    },
    {
     "data": {
      "application/vnd.jupyter.widget-view+json": {
       "model_id": "9547b68f275243e8ab9eaa56c9f3df5e",
       "version_major": 2,
       "version_minor": 0
      },
      "text/plain": [
       "COLLECTING RESULTS | :   0%|          | 0/12 [00:00<?, ?it/s]"
      ]
     },
     "metadata": {},
     "output_type": "display_data"
    }
   ],
   "source": [
    "POI_lat = POI[0]\n",
    "POI_lon = POI[1]\n",
    "bbox = (POI_lon - 0.5, POI_lat - 0.5, POI_lon + 0.5, POI_lat + 0.5)\n",
    "\n",
    "POI_results_EPIC = earthaccess.search_data(\n",
    "    short_name=short_name_DSCOVR, temporal=(date_start, date_end), bounding_box=bbox\n",
    ")\n",
    "\n",
    "n_EPIC = len(POI_results_EPIC)\n",
    "\n",
    "print(\n",
    "    \"total number of DSCOVR EPIC L2_TO3 granules found for POI\",\n",
    "    POI_name,\n",
    "    \"\\nwithin period of interes between\",\n",
    "    date_start,\n",
    "    \"and\",\n",
    "    date_end,\n",
    "    \"\\nis\",\n",
    "    n_EPIC,\n",
    ")\n",
    "\n",
    "# lines below before the call of earthaccess.download()\n",
    "# check whether all found granules have download links.\n",
    "# granules without links are removed from the list of search results\n",
    "# without this step, those granules crash the call of earthaccess.download()\n",
    "granule_links_EPIC = []\n",
    "POI_results_EPIC_bad = []\n",
    "for result in POI_results_EPIC:\n",
    "    try:\n",
    "        granule_links_EPIC.append(result[\"umm\"][\"RelatedUrls\"][0][\"URL\"])\n",
    "    except:\n",
    "        POI_results_EPIC_bad.append(result)\n",
    "\n",
    "for granule_link in granule_links_EPIC:\n",
    "    print(granule_link)\n",
    "for result in POI_results_EPIC_bad:\n",
    "    POI_results_EPIC.remove(result)\n",
    "\n",
    "downloaded_files = earthaccess.download(\n",
    "    POI_results_EPIC,\n",
    "    local_path=\".\",\n",
    ")\n",
    "\n",
    "# Checking whether all DSCOVR EPIC data files have been downloaded\n",
    "for granule_link in granule_links_EPIC:\n",
    "    EPIC_fname = granule_link.split(\"/\")[-1]\n",
    "    # check if file exists in the local directory\n",
    "    if not os.path.exists(EPIC_fname):\n",
    "        print(EPIC_fname, \"does not exist in local directory\")\n",
    "        # repeat attempt to download\n",
    "        downloaded_files = earthaccess.download(granule_link, local_path=\".\")\n",
    "        # if file still does not exist in the directory, remove its link from the list of links\n",
    "        if not os.path.exists(EPIC_fname):\n",
    "            granule_links_EPIC.remove(granule_link)"
   ]
  },
  {
   "cell_type": "markdown",
   "metadata": {
    "id": "lC8tibNDoy7c"
   },
   "source": [
    "## 5.2 Compiling DSCOVR EPIC total ozone timeseries"
   ]
  },
  {
   "cell_type": "code",
   "execution_count": 61,
   "metadata": {
    "colab": {
     "base_uri": "https://localhost:8080/"
    },
    "id": "3u6kFNXd1iCR",
    "outputId": "08b43580-4ab2-4e70-e480-f8e659adcf40",
    "scrolled": true
   },
   "outputs": [
    {
     "name": "stdout",
     "output_type": "stream",
     "text": [
      "\n",
      "DSCOVR_EPIC_L2_TO3_03_20230901002713_03.h5\n",
      "2023 9 1 0 27 13 197.65826416015625\n",
      "\n",
      "DSCOVR_EPIC_L2_TO3_03_20230901013240_03.h5\n",
      "\n",
      "DSCOVR_EPIC_L2_TO3_03_20230901023807_03.h5\n",
      "\n",
      "DSCOVR_EPIC_L2_TO3_03_20230901034335_03.h5\n",
      "\n",
      "DSCOVR_EPIC_L2_TO3_03_20230901044902_03.h5\n",
      "\n",
      "DSCOVR_EPIC_L2_TO3_03_20230901055429_03.h5\n",
      "\n",
      "DSCOVR_EPIC_L2_TO3_03_20230901133241_03.h5\n",
      "\n",
      "DSCOVR_EPIC_L2_TO3_03_20230901143809_03.h5\n",
      "2023 9 1 14 38 9 290.3342923630935\n",
      "\n",
      "DSCOVR_EPIC_L2_TO3_03_20230901154336_03.h5\n",
      "\n",
      "DSCOVR_EPIC_L2_TO3_03_20230901164904_03.h5\n",
      "2023 9 1 16 49 4 291.2684049027054\n",
      "\n",
      "DSCOVR_EPIC_L2_TO3_03_20230901175431_03.h5\n",
      "2023 9 1 17 54 31 287.2359102557148\n",
      "\n",
      "DSCOVR_EPIC_L2_TO3_03_20230901185959_03.h5\n",
      "2023 9 1 18 59 59 294.6995527886286\n"
     ]
    }
   ],
   "source": [
    "geo_deviation = 0.1  # deviation from the point of interest, degree\n",
    "\n",
    "fout = open(\n",
    "    out_Q_EPIC\n",
    "    + \"_\"\n",
    "    + datestamp_ini\n",
    "    + \"_\"\n",
    "    + datestamp_fin\n",
    "    + \"_\"\n",
    "    + POI_name_\n",
    "    + \"_\"\n",
    "    + str(\"%08.4fN_%08.4fW.txt\" % (POI[0], -POI[1])),\n",
    "    \"w\",\n",
    ")\n",
    "fout.write(\n",
    "    \"timeseries of \"\n",
    "    + out_Q_EPIC\n",
    "    + \" at \"\n",
    "    + POI_name\n",
    "    + \" \"\n",
    "    + str(\"%08.4fN %08.4fW\" % (POI[0], -POI[1]))\n",
    "    + \"\\n\"\n",
    ")\n",
    "fout.write(\"yyyy mm dd hh mn ss \" + out_Q_unit + \"\\n\")\n",
    "\n",
    "# for result in POI_results_EPIC:\n",
    "for granule_link in sorted(granule_links_EPIC):\n",
    "    last_slash_ind = granule_link.rfind(\"/\")\n",
    "    fname = granule_link[last_slash_ind + 1 :]\n",
    "    print(\"\\n\" + fname)\n",
    "    lat2D, lon2D, o3_2D, fv_o3, fv_geo, yyyy, mm, dd, hh, mn, ss = read_epic_l2_to3(fname)\n",
    "\n",
    "    # remove file after reading.\n",
    "    # If DSCOVR EPIC granules are not needed for the future use, uncomment the line below.\n",
    "    #  os.remove(EPIC_fname)\n",
    "\n",
    "    if isinstance(lat2D, float):\n",
    "        continue\n",
    "\n",
    "    nx = lon2D.shape[0]\n",
    "    ny = lon2D.shape[1]\n",
    "\n",
    "    # check whether POI is in the granule. If not - move to the next granule\n",
    "    mask = (\n",
    "        (lat2D < POI_lat + geo_deviation)\n",
    "        & (lat2D > POI_lat - geo_deviation)\n",
    "        & (lon2D < POI_lon + geo_deviation)\n",
    "        & (lon2D > POI_lon - geo_deviation)\n",
    "        & (o3_2D != fv_o3)\n",
    "        & (o3_2D > 0.0)\n",
    "    )\n",
    "    lat_loc = lat2D[mask]\n",
    "    lon_loc = lon2D[mask]\n",
    "    o3_loc = o3_2D[mask]\n",
    "    n_loc = len(o3_loc)\n",
    "    if n_loc < 1:\n",
    "        continue\n",
    "\n",
    "    pp = np.array([POI[1], POI[0]])\n",
    "    points = np.empty([0, 2])\n",
    "    ff = np.empty(0)\n",
    "\n",
    "    for i in range(n_loc):\n",
    "        if o3_loc[i] == fv_o3 or o3_loc[i] < 0:\n",
    "            continue\n",
    "        points = np.append(points, [[lon_loc[i], lat_loc[i]]], axis=0)\n",
    "        ff = np.append(ff, o3_loc[i])\n",
    "\n",
    "    try:\n",
    "        [prod_loc] = griddata(points, ff, pp, method=\"linear\", fill_value=-1.0, rescale=False)\n",
    "    except:\n",
    "        try:\n",
    "            prod_loc = np.mean(ff)\n",
    "        except:\n",
    "            continue\n",
    "    if prod_loc == -1.0:\n",
    "        continue\n",
    "\n",
    "    print(yyyy, mm, dd, hh, mn, ss, prod_loc)\n",
    "\n",
    "    fout.write(\n",
    "        str(\"%4.4i %2.2i %2.2i %2.2i %2.2i %2.2i %10.3e \" % (yyyy, mm, dd, hh, mn, ss, prod_loc))\n",
    "    )\n",
    "    for i in range(n_loc):\n",
    "        fout.write(str(\"%9.4fN %9.4fW %10.3e \" % (lat_loc[i], -lon_loc[i], o3_loc[i])))\n",
    "    fout.write(\"\\n\")\n",
    "\n",
    "fout.close()"
   ]
  },
  {
   "cell_type": "markdown",
   "metadata": {
    "id": "fbEZvFdop0v8"
   },
   "source": [
    "# 6 Working with TEMPO data"
   ]
  },
  {
   "cell_type": "markdown",
   "metadata": {
    "id": "Ostyk8FQp0v9"
   },
   "source": [
    "## 6.1 Searching TEMPO data files containing the POI (position of the Pandora station)"
   ]
  },
  {
   "cell_type": "code",
   "execution_count": 62,
   "metadata": {
    "colab": {
     "base_uri": "https://localhost:8080/"
    },
    "id": "jT1S7ISU2iTK",
    "outputId": "a1c875df-7f75-4f24-e1cf-b8488a2cef96"
   },
   "outputs": [
    {
     "name": "stdout",
     "output_type": "stream",
     "text": [
      "Granules found: 14\n"
     ]
    }
   ],
   "source": [
    "# Searching TEMPO data files within 0.5 degree range around the POI (position of the Pandora station)\n",
    "auth = earthaccess.login()\n",
    "auth.refresh_tokens()\n",
    "\n",
    "POI_lat = POI[0]\n",
    "POI_lon = POI[1]\n",
    "\n",
    "version = \"V03\"\n",
    "POI_results = earthaccess.search_data(\n",
    "    short_name=short_name_TEMPO,\n",
    "    version=version,\n",
    "    temporal=(date_start, date_end),\n",
    "    point=(POI_lon, POI_lat),\n",
    ")\n",
    "n_gr = len(POI_results)\n",
    "\n",
    "if n_gr == 0:\n",
    "    print(\"program terminated\")\n",
    "    sys.exit()"
   ]
  },
  {
   "cell_type": "markdown",
   "metadata": {
    "id": "OvC5eZRhk7Xz"
   },
   "source": [
    "## 6.2 Printing explicit links to the granules and downloading the files"
   ]
  },
  {
   "cell_type": "code",
   "execution_count": 63,
   "metadata": {
    "colab": {
     "base_uri": "https://localhost:8080/",
     "height": 356,
     "referenced_widgets": [
      "e45e25d1b3b44fef9b151fca2722e7a9",
      "f48606d1ce054323a2cf3425fc9e3def",
      "2a29bd8a66bc4d4d90f268d8769f5070",
      "5255858be3c549599f810a8af3cb0544",
      "c5b465fc6e834e228302b1c09f8d9951",
      "3a316f9806d1435a856becd52e4833c7",
      "71a3e35b6dda46d6bc36623c7df15705",
      "73347386da8f45468e90d83c74f7856c",
      "5518d5cadfc14986a3c0e1b29e56afe0",
      "83ae9b1ab5d34eb289d85b724c150946",
      "880b956ae37d4cdf8cb5b9e1979f5976",
      "ef55fb367e7a4886b09dc8154f7ce4b1",
      "021574c5ad894a458423cb671556bd74",
      "c5f79114cfb6495fab9e80e1e116974a",
      "5b5e708d88bd44b099ec4fa79d436cd9",
      "c91cc3fcb1234a5b8d563368aa709d37",
      "ef09a3414d974f94a83f32033390240f",
      "08ece7b863fc4f90bcf54591afc78512",
      "dc354f58a7d147f8a3a23c3f5b2d4439",
      "ae56be19430340dc80abb98e18986f5e",
      "d4d0cabce6a041d8a64952f7027bb958",
      "d60e6b45802644a7b4b5410addd9a936",
      "0d0b20ca9f064b27893562fdff997ef9",
      "ab9b6e82bbc94e6e9335cdc7c6209b49",
      "b6aa7733c6ef42f18f0bdf7e85ea405f",
      "dfcc2d2c4a224563934b18f753eaf21a",
      "2ce94ec5be414ab082d311677ce630c3",
      "afed1519143440a1bab9e4560e1ad7be",
      "599b1833f12147a0b7e46b25989199e2",
      "d70aae0381a747fa87664aa6214563fb",
      "d1b45579e7484d448756b86dd60d553e",
      "474f1c6609574b3496489e01f9ecc5bb",
      "40576e3aa8d74ffcacba26a74d3644d2"
     ]
    },
    "id": "TAKva6YA2uAL",
    "outputId": "c8a3a391-07f0-45c8-90eb-7df4a0bbf704",
    "scrolled": true
   },
   "outputs": [
    {
     "name": "stdout",
     "output_type": "stream",
     "text": [
      "https://data.asdc.earthdata.nasa.gov/asdc-prod-protected/TEMPO/TEMPO_O3TOT_L2_V03/2023.09.01/TEMPO_O3TOT_L2_V03_20230901T000908Z_S018G01.nc\n"
     ]
    },
    {
     "data": {
      "application/vnd.jupyter.widget-view+json": {
       "model_id": "7665d3e40b4a49e5b28cc8aabb9a8dea",
       "version_major": 2,
       "version_minor": 0
      },
      "text/plain": [
       "QUEUEING TASKS | :   0%|          | 0/1 [00:00<?, ?it/s]"
      ]
     },
     "metadata": {},
     "output_type": "display_data"
    },
    {
     "data": {
      "application/vnd.jupyter.widget-view+json": {
       "model_id": "1eb2a29be4c441ca972de04e073e24d0",
       "version_major": 2,
       "version_minor": 0
      },
      "text/plain": [
       "PROCESSING TASKS | :   0%|          | 0/1 [00:00<?, ?it/s]"
      ]
     },
     "metadata": {},
     "output_type": "display_data"
    },
    {
     "data": {
      "application/vnd.jupyter.widget-view+json": {
       "model_id": "5a3efb8af4b14c8b892192a0fded142f",
       "version_major": 2,
       "version_minor": 0
      },
      "text/plain": [
       "COLLECTING RESULTS | :   0%|          | 0/1 [00:00<?, ?it/s]"
      ]
     },
     "metadata": {},
     "output_type": "display_data"
    },
    {
     "name": "stdout",
     "output_type": "stream",
     "text": [
      "https://data.asdc.earthdata.nasa.gov/asdc-prod-protected/TEMPO/TEMPO_O3TOT_L2_V03/2023.09.01/TEMPO_O3TOT_L2_V03_20230901T004031Z_S019G01.nc\n"
     ]
    },
    {
     "data": {
      "application/vnd.jupyter.widget-view+json": {
       "model_id": "cc11387cc91e41bfba20dc18a92c7790",
       "version_major": 2,
       "version_minor": 0
      },
      "text/plain": [
       "QUEUEING TASKS | :   0%|          | 0/1 [00:00<?, ?it/s]"
      ]
     },
     "metadata": {},
     "output_type": "display_data"
    },
    {
     "data": {
      "application/vnd.jupyter.widget-view+json": {
       "model_id": "2142541b6bb64ed8b1b68f6f0239cc5d",
       "version_major": 2,
       "version_minor": 0
      },
      "text/plain": [
       "PROCESSING TASKS | :   0%|          | 0/1 [00:00<?, ?it/s]"
      ]
     },
     "metadata": {},
     "output_type": "display_data"
    },
    {
     "data": {
      "application/vnd.jupyter.widget-view+json": {
       "model_id": "a726d6c948284ed69b34d7953dc945af",
       "version_major": 2,
       "version_minor": 0
      },
      "text/plain": [
       "COLLECTING RESULTS | :   0%|          | 0/1 [00:00<?, ?it/s]"
      ]
     },
     "metadata": {},
     "output_type": "display_data"
    },
    {
     "name": "stdout",
     "output_type": "stream",
     "text": [
      "https://data.asdc.earthdata.nasa.gov/asdc-prod-protected/TEMPO/TEMPO_O3TOT_L2_V03/2023.09.01/TEMPO_O3TOT_L2_V03_20230901T011154Z_S020G01.nc\n"
     ]
    },
    {
     "data": {
      "application/vnd.jupyter.widget-view+json": {
       "model_id": "93a606c588a14265831e1ebf26282108",
       "version_major": 2,
       "version_minor": 0
      },
      "text/plain": [
       "QUEUEING TASKS | :   0%|          | 0/1 [00:00<?, ?it/s]"
      ]
     },
     "metadata": {},
     "output_type": "display_data"
    },
    {
     "data": {
      "application/vnd.jupyter.widget-view+json": {
       "model_id": "d45b9fb296e5487f97854bfd92302d69",
       "version_major": 2,
       "version_minor": 0
      },
      "text/plain": [
       "PROCESSING TASKS | :   0%|          | 0/1 [00:00<?, ?it/s]"
      ]
     },
     "metadata": {},
     "output_type": "display_data"
    },
    {
     "data": {
      "application/vnd.jupyter.widget-view+json": {
       "model_id": "4ece3d85f6e94b55a60c9906b94e0597",
       "version_major": 2,
       "version_minor": 0
      },
      "text/plain": [
       "COLLECTING RESULTS | :   0%|          | 0/1 [00:00<?, ?it/s]"
      ]
     },
     "metadata": {},
     "output_type": "display_data"
    },
    {
     "name": "stdout",
     "output_type": "stream",
     "text": [
      "https://data.asdc.earthdata.nasa.gov/asdc-prod-protected/TEMPO/TEMPO_O3TOT_L2_V03/2023.09.01/TEMPO_O3TOT_L2_V03_20230901T143537Z_S007G06.nc\n"
     ]
    },
    {
     "data": {
      "application/vnd.jupyter.widget-view+json": {
       "model_id": "c8292338fb994579bb28ec55239ce043",
       "version_major": 2,
       "version_minor": 0
      },
      "text/plain": [
       "QUEUEING TASKS | :   0%|          | 0/1 [00:00<?, ?it/s]"
      ]
     },
     "metadata": {},
     "output_type": "display_data"
    },
    {
     "data": {
      "application/vnd.jupyter.widget-view+json": {
       "model_id": "678c9ac3ec5549a2890c0e97dae8ba81",
       "version_major": 2,
       "version_minor": 0
      },
      "text/plain": [
       "PROCESSING TASKS | :   0%|          | 0/1 [00:00<?, ?it/s]"
      ]
     },
     "metadata": {},
     "output_type": "display_data"
    },
    {
     "data": {
      "application/vnd.jupyter.widget-view+json": {
       "model_id": "cbcaa8c3e20743d8a879577043c7ca4d",
       "version_major": 2,
       "version_minor": 0
      },
      "text/plain": [
       "COLLECTING RESULTS | :   0%|          | 0/1 [00:00<?, ?it/s]"
      ]
     },
     "metadata": {},
     "output_type": "display_data"
    },
    {
     "name": "stdout",
     "output_type": "stream",
     "text": [
      "https://data.asdc.earthdata.nasa.gov/asdc-prod-protected/TEMPO/TEMPO_O3TOT_L2_V03/2023.09.01/TEMPO_O3TOT_L2_V03_20230901T153808Z_S008G06.nc\n"
     ]
    },
    {
     "data": {
      "application/vnd.jupyter.widget-view+json": {
       "model_id": "fc8d23a34b924839838c9cc167d67384",
       "version_major": 2,
       "version_minor": 0
      },
      "text/plain": [
       "QUEUEING TASKS | :   0%|          | 0/1 [00:00<?, ?it/s]"
      ]
     },
     "metadata": {},
     "output_type": "display_data"
    },
    {
     "data": {
      "application/vnd.jupyter.widget-view+json": {
       "model_id": "b4561c43155b454fb4ac8a63475d1d7f",
       "version_major": 2,
       "version_minor": 0
      },
      "text/plain": [
       "PROCESSING TASKS | :   0%|          | 0/1 [00:00<?, ?it/s]"
      ]
     },
     "metadata": {},
     "output_type": "display_data"
    },
    {
     "data": {
      "application/vnd.jupyter.widget-view+json": {
       "model_id": "f750b03a7a0b4e9c8038325bdc8827ba",
       "version_major": 2,
       "version_minor": 0
      },
      "text/plain": [
       "COLLECTING RESULTS | :   0%|          | 0/1 [00:00<?, ?it/s]"
      ]
     },
     "metadata": {},
     "output_type": "display_data"
    },
    {
     "name": "stdout",
     "output_type": "stream",
     "text": [
      "https://data.asdc.earthdata.nasa.gov/asdc-prod-protected/TEMPO/TEMPO_O3TOT_L2_V03/2023.09.01/TEMPO_O3TOT_L2_V03_20230901T165326Z_S009G08.nc\n"
     ]
    },
    {
     "data": {
      "application/vnd.jupyter.widget-view+json": {
       "model_id": "a6bcd4241a044bda9a2892177d2faec0",
       "version_major": 2,
       "version_minor": 0
      },
      "text/plain": [
       "QUEUEING TASKS | :   0%|          | 0/1 [00:00<?, ?it/s]"
      ]
     },
     "metadata": {},
     "output_type": "display_data"
    },
    {
     "data": {
      "application/vnd.jupyter.widget-view+json": {
       "model_id": "6fe36825aab948b4a93f09395e52e557",
       "version_major": 2,
       "version_minor": 0
      },
      "text/plain": [
       "PROCESSING TASKS | :   0%|          | 0/1 [00:00<?, ?it/s]"
      ]
     },
     "metadata": {},
     "output_type": "display_data"
    },
    {
     "data": {
      "application/vnd.jupyter.widget-view+json": {
       "model_id": "5e47e7337a2a4a55b588e5c91e7d08c5",
       "version_major": 2,
       "version_minor": 0
      },
      "text/plain": [
       "COLLECTING RESULTS | :   0%|          | 0/1 [00:00<?, ?it/s]"
      ]
     },
     "metadata": {},
     "output_type": "display_data"
    },
    {
     "name": "stdout",
     "output_type": "stream",
     "text": [
      "https://data.asdc.earthdata.nasa.gov/asdc-prod-protected/TEMPO/TEMPO_O3TOT_L2_V03/2023.09.01/TEMPO_O3TOT_L2_V03_20230901T181516Z_S010G08.nc\n"
     ]
    },
    {
     "data": {
      "application/vnd.jupyter.widget-view+json": {
       "model_id": "4549e91a0a3e4c3e838a7db3336028cc",
       "version_major": 2,
       "version_minor": 0
      },
      "text/plain": [
       "QUEUEING TASKS | :   0%|          | 0/1 [00:00<?, ?it/s]"
      ]
     },
     "metadata": {},
     "output_type": "display_data"
    },
    {
     "data": {
      "application/vnd.jupyter.widget-view+json": {
       "model_id": "9313d00848834cf8821158e085a64a84",
       "version_major": 2,
       "version_minor": 0
      },
      "text/plain": [
       "PROCESSING TASKS | :   0%|          | 0/1 [00:00<?, ?it/s]"
      ]
     },
     "metadata": {},
     "output_type": "display_data"
    },
    {
     "data": {
      "application/vnd.jupyter.widget-view+json": {
       "model_id": "691a3771bc394b6ea58c038c3996a098",
       "version_major": 2,
       "version_minor": 0
      },
      "text/plain": [
       "COLLECTING RESULTS | :   0%|          | 0/1 [00:00<?, ?it/s]"
      ]
     },
     "metadata": {},
     "output_type": "display_data"
    },
    {
     "name": "stdout",
     "output_type": "stream",
     "text": [
      "https://data.asdc.earthdata.nasa.gov/asdc-prod-protected/TEMPO/TEMPO_O3TOT_L2_V03/2023.09.01/TEMPO_O3TOT_L2_V03_20230901T194812Z_S011G06.nc\n"
     ]
    },
    {
     "data": {
      "application/vnd.jupyter.widget-view+json": {
       "model_id": "04c11cf0ca6e4d68be8bbca1689a030d",
       "version_major": 2,
       "version_minor": 0
      },
      "text/plain": [
       "QUEUEING TASKS | :   0%|          | 0/1 [00:00<?, ?it/s]"
      ]
     },
     "metadata": {},
     "output_type": "display_data"
    },
    {
     "data": {
      "application/vnd.jupyter.widget-view+json": {
       "model_id": "ab0e1702af1a4a52845a404604aadc35",
       "version_major": 2,
       "version_minor": 0
      },
      "text/plain": [
       "PROCESSING TASKS | :   0%|          | 0/1 [00:00<?, ?it/s]"
      ]
     },
     "metadata": {},
     "output_type": "display_data"
    },
    {
     "data": {
      "application/vnd.jupyter.widget-view+json": {
       "model_id": "64156645589248fb9b3abbf412005da4",
       "version_major": 2,
       "version_minor": 0
      },
      "text/plain": [
       "COLLECTING RESULTS | :   0%|          | 0/1 [00:00<?, ?it/s]"
      ]
     },
     "metadata": {},
     "output_type": "display_data"
    },
    {
     "name": "stdout",
     "output_type": "stream",
     "text": [
      "https://data.asdc.earthdata.nasa.gov/asdc-prod-protected/TEMPO/TEMPO_O3TOT_L2_V03/2023.09.01/TEMPO_O3TOT_L2_V03_20230901T205043Z_S012G06.nc\n"
     ]
    },
    {
     "data": {
      "application/vnd.jupyter.widget-view+json": {
       "model_id": "3a4db5c86f1349189444debf9fa143ea",
       "version_major": 2,
       "version_minor": 0
      },
      "text/plain": [
       "QUEUEING TASKS | :   0%|          | 0/1 [00:00<?, ?it/s]"
      ]
     },
     "metadata": {},
     "output_type": "display_data"
    },
    {
     "data": {
      "application/vnd.jupyter.widget-view+json": {
       "model_id": "371cf68aa13141dd90268a90c7b5369f",
       "version_major": 2,
       "version_minor": 0
      },
      "text/plain": [
       "PROCESSING TASKS | :   0%|          | 0/1 [00:00<?, ?it/s]"
      ]
     },
     "metadata": {},
     "output_type": "display_data"
    },
    {
     "data": {
      "application/vnd.jupyter.widget-view+json": {
       "model_id": "c4e538bc68c94b8685143a8a83d8b779",
       "version_major": 2,
       "version_minor": 0
      },
      "text/plain": [
       "COLLECTING RESULTS | :   0%|          | 0/1 [00:00<?, ?it/s]"
      ]
     },
     "metadata": {},
     "output_type": "display_data"
    },
    {
     "name": "stdout",
     "output_type": "stream",
     "text": [
      "https://data.asdc.earthdata.nasa.gov/asdc-prod-protected/TEMPO/TEMPO_O3TOT_L2_V03/2023.09.01/TEMPO_O3TOT_L2_V03_20230901T215314Z_S013G06.nc\n"
     ]
    },
    {
     "data": {
      "application/vnd.jupyter.widget-view+json": {
       "model_id": "cbea187c343d43128f1c8a947c91ea56",
       "version_major": 2,
       "version_minor": 0
      },
      "text/plain": [
       "QUEUEING TASKS | :   0%|          | 0/1 [00:00<?, ?it/s]"
      ]
     },
     "metadata": {},
     "output_type": "display_data"
    },
    {
     "data": {
      "application/vnd.jupyter.widget-view+json": {
       "model_id": "dade2d4451f347829a82ec8ebd96e539",
       "version_major": 2,
       "version_minor": 0
      },
      "text/plain": [
       "PROCESSING TASKS | :   0%|          | 0/1 [00:00<?, ?it/s]"
      ]
     },
     "metadata": {},
     "output_type": "display_data"
    },
    {
     "data": {
      "application/vnd.jupyter.widget-view+json": {
       "model_id": "2f17e9e592a54041962616bd08539b1d",
       "version_major": 2,
       "version_minor": 0
      },
      "text/plain": [
       "COLLECTING RESULTS | :   0%|          | 0/1 [00:00<?, ?it/s]"
      ]
     },
     "metadata": {},
     "output_type": "display_data"
    },
    {
     "name": "stdout",
     "output_type": "stream",
     "text": [
      "https://data.asdc.earthdata.nasa.gov/asdc-prod-protected/TEMPO/TEMPO_O3TOT_L2_V03/2023.09.01/TEMPO_O3TOT_L2_V03_20230901T222440Z_S015G01.nc\n"
     ]
    },
    {
     "data": {
      "application/vnd.jupyter.widget-view+json": {
       "model_id": "3c2c42d9c8184036b3c962fa46cc78f7",
       "version_major": 2,
       "version_minor": 0
      },
      "text/plain": [
       "QUEUEING TASKS | :   0%|          | 0/1 [00:00<?, ?it/s]"
      ]
     },
     "metadata": {},
     "output_type": "display_data"
    },
    {
     "data": {
      "application/vnd.jupyter.widget-view+json": {
       "model_id": "ae306c6b949b41e0b50efdc3d79a1ff6",
       "version_major": 2,
       "version_minor": 0
      },
      "text/plain": [
       "PROCESSING TASKS | :   0%|          | 0/1 [00:00<?, ?it/s]"
      ]
     },
     "metadata": {},
     "output_type": "display_data"
    },
    {
     "data": {
      "application/vnd.jupyter.widget-view+json": {
       "model_id": "83971e900cdd466b9c49a79419cefa57",
       "version_major": 2,
       "version_minor": 0
      },
      "text/plain": [
       "COLLECTING RESULTS | :   0%|          | 0/1 [00:00<?, ?it/s]"
      ]
     },
     "metadata": {},
     "output_type": "display_data"
    },
    {
     "name": "stdout",
     "output_type": "stream",
     "text": [
      "https://data.asdc.earthdata.nasa.gov/asdc-prod-protected/TEMPO/TEMPO_O3TOT_L2_V03/2023.09.01/TEMPO_O3TOT_L2_V03_20230901T225603Z_S016G01.nc\n"
     ]
    },
    {
     "data": {
      "application/vnd.jupyter.widget-view+json": {
       "model_id": "ebde754e0bc94b8d8f3b62918bc194b8",
       "version_major": 2,
       "version_minor": 0
      },
      "text/plain": [
       "QUEUEING TASKS | :   0%|          | 0/1 [00:00<?, ?it/s]"
      ]
     },
     "metadata": {},
     "output_type": "display_data"
    },
    {
     "data": {
      "application/vnd.jupyter.widget-view+json": {
       "model_id": "b9492d39d57947de8678b50b47003507",
       "version_major": 2,
       "version_minor": 0
      },
      "text/plain": [
       "PROCESSING TASKS | :   0%|          | 0/1 [00:00<?, ?it/s]"
      ]
     },
     "metadata": {},
     "output_type": "display_data"
    },
    {
     "data": {
      "application/vnd.jupyter.widget-view+json": {
       "model_id": "207dc00f9d254d2bb0be9abe45c652ae",
       "version_major": 2,
       "version_minor": 0
      },
      "text/plain": [
       "COLLECTING RESULTS | :   0%|          | 0/1 [00:00<?, ?it/s]"
      ]
     },
     "metadata": {},
     "output_type": "display_data"
    },
    {
     "name": "stdout",
     "output_type": "stream",
     "text": [
      "https://data.asdc.earthdata.nasa.gov/asdc-prod-protected/TEMPO/TEMPO_O3TOT_L2_V03/2023.09.01/TEMPO_O3TOT_L2_V03_20230901T232726Z_S017G01.nc\n"
     ]
    },
    {
     "data": {
      "application/vnd.jupyter.widget-view+json": {
       "model_id": "ccc4b919304c42faa75c145e69421f90",
       "version_major": 2,
       "version_minor": 0
      },
      "text/plain": [
       "QUEUEING TASKS | :   0%|          | 0/1 [00:00<?, ?it/s]"
      ]
     },
     "metadata": {},
     "output_type": "display_data"
    },
    {
     "data": {
      "application/vnd.jupyter.widget-view+json": {
       "model_id": "0b00cd3d5a3e45f4b6c437397f8f6470",
       "version_major": 2,
       "version_minor": 0
      },
      "text/plain": [
       "PROCESSING TASKS | :   0%|          | 0/1 [00:00<?, ?it/s]"
      ]
     },
     "metadata": {},
     "output_type": "display_data"
    },
    {
     "data": {
      "application/vnd.jupyter.widget-view+json": {
       "model_id": "6ee4a486270c434a9e24ce786b414db6",
       "version_major": 2,
       "version_minor": 0
      },
      "text/plain": [
       "COLLECTING RESULTS | :   0%|          | 0/1 [00:00<?, ?it/s]"
      ]
     },
     "metadata": {},
     "output_type": "display_data"
    },
    {
     "name": "stdout",
     "output_type": "stream",
     "text": [
      "https://data.asdc.earthdata.nasa.gov/asdc-prod-protected/TEMPO/TEMPO_O3TOT_L2_V03/2023.09.01/TEMPO_O3TOT_L2_V03_20230901T235849Z_S018G01.nc\n"
     ]
    },
    {
     "data": {
      "application/vnd.jupyter.widget-view+json": {
       "model_id": "ac4105dcc45442109fba52c07c53e95e",
       "version_major": 2,
       "version_minor": 0
      },
      "text/plain": [
       "QUEUEING TASKS | :   0%|          | 0/1 [00:00<?, ?it/s]"
      ]
     },
     "metadata": {},
     "output_type": "display_data"
    },
    {
     "data": {
      "application/vnd.jupyter.widget-view+json": {
       "model_id": "4d4357dfb8eb4d7aba48318327614940",
       "version_major": 2,
       "version_minor": 0
      },
      "text/plain": [
       "PROCESSING TASKS | :   0%|          | 0/1 [00:00<?, ?it/s]"
      ]
     },
     "metadata": {},
     "output_type": "display_data"
    },
    {
     "data": {
      "application/vnd.jupyter.widget-view+json": {
       "model_id": "c0b694f7b6a9427996e5a8b37b22ca00",
       "version_major": 2,
       "version_minor": 0
      },
      "text/plain": [
       "COLLECTING RESULTS | :   0%|          | 0/1 [00:00<?, ?it/s]"
      ]
     },
     "metadata": {},
     "output_type": "display_data"
    }
   ],
   "source": [
    "# Printing explicit links to the granules.\n",
    "granule_links = []\n",
    "for result in POI_results:\n",
    "    granule_links.append(result[\"umm\"][\"RelatedUrls\"][0][\"URL\"])\n",
    "for granule_link in granule_links:\n",
    "    print(granule_link)\n",
    "    TEMPO_fname = granule_link.split(\"/\")[-1]\n",
    "    if os.path.exists(TEMPO_fname):\n",
    "        continue\n",
    "    downloaded_files = earthaccess.download(granule_link, local_path=\".\")\n",
    "\n",
    "# Downloading TEMPO data files\n",
    "# downloaded_files = earthaccess.download(\n",
    "#    POI_results,\n",
    "#    local_path='.')\n",
    "\n",
    "# Checking whether all TEMPO data files have been downloaded\n",
    "for granule_link in granule_links:\n",
    "    TEMPO_fname = granule_link.split(\"/\")[-1]\n",
    "    # check if file exists in the local directory\n",
    "    if not os.path.exists(TEMPO_fname):\n",
    "        print(TEMPO_fname, \"does not exist in local directory\")\n",
    "        # repeat attempt to download\n",
    "        downloaded_files = earthaccess.download(granule_link, local_path=\".\")\n",
    "        # if file still does not exist in the directory, remove its link from the list of links\n",
    "        if not os.path.exists(TEMPO_fname):\n",
    "            granule_links.remove(granule_link)"
   ]
  },
  {
   "cell_type": "markdown",
   "metadata": {
    "id": "kPyYwF-E7Qiv"
   },
   "source": [
    "## 6.3 Compiling TEMPO ozone total column time series"
   ]
  },
  {
   "cell_type": "code",
   "execution_count": 64,
   "metadata": {
    "colab": {
     "base_uri": "https://localhost:8080/"
    },
    "id": "bfwyzHne21zh",
    "outputId": "d88d2515-bb5e-4149-e4df-f59c3a0a8eed",
    "scrolled": true
   },
   "outputs": [
    {
     "name": "stdout",
     "output_type": "stream",
     "text": [
      "\n",
      "granule  TEMPO_O3TOT_L2_V03_20230901T000908Z_S018G01.nc\n",
      "scanl pixel latitude longitude O3_col O3_col_QF\n",
      "   84 1245 29.730993 -95.333527 306.1      2\n",
      "   84 1246 29.714136 -95.332695 293.7      2\n",
      "   85 1245 29.731018 -95.380981 266.0      2\n",
      "   85 1246 29.714169 -95.380142 259.1      2\n",
      "POI HoustonTX at -95.34 29.72  found\n",
      "\n",
      "granule  TEMPO_O3TOT_L2_V03_20230901T004031Z_S019G01.nc\n",
      "scanl pixel latitude longitude O3_col O3_col_QF\n",
      "   83 1245 29.726822 -95.308746 -1000000015047466219876688855040.0    655\n",
      "   83 1246 29.709970 -95.307922 -1000000015047466219876688855040.0    655\n",
      "   84 1245 29.727169 -95.355675 -1000000015047466219876688855040.0    647\n",
      "   84 1246 29.710320 -95.354843 -1000000015047466219876688855040.0    647\n",
      "POI HoustonTX at -95.34 29.72  found\n",
      "\n",
      "granule  TEMPO_O3TOT_L2_V03_20230901T011154Z_S020G01.nc\n",
      "scanl pixel latitude longitude O3_col O3_col_QF\n",
      "   83 1244 29.730303 -95.305435 -1000000015047466219876688855040.0   4743\n",
      "   83 1245 29.713465 -95.304611 -1000000015047466219876688855040.0   4743\n",
      "   84 1244 29.730433 -95.352707 -1000000015047466219876688855040.0   4743\n",
      "   84 1245 29.713575 -95.351883 -1000000015047466219876688855040.0   4743\n",
      "POI HoustonTX at -95.34 29.72  found\n",
      "\n",
      "granule  TEMPO_O3TOT_L2_V03_20230901T143537Z_S007G06.nc\n",
      "scanl pixel latitude longitude O3_col O3_col_QF\n",
      "   81 1243 29.729630 -95.323128 290.5      0\n",
      "   81 1244 29.712759 -95.322304 293.1      0\n",
      "   82 1243 29.731102 -95.370628 292.9      0\n",
      "   82 1244 29.714243 -95.369797 293.2      0\n",
      "POI HoustonTX at -95.34 29.72  found\n",
      "\n",
      "granule  TEMPO_O3TOT_L2_V03_20230901T153808Z_S008G06.nc\n",
      "scanl pixel latitude longitude O3_col O3_col_QF\n",
      "   81 1243 29.724091 -95.317055 296.3      5\n",
      "   81 1244 29.707239 -95.316231 296.2      0\n",
      "   82 1243 29.723988 -95.364990 296.1      5\n",
      "   82 1244 29.707138 -95.364159 296.5      5\n",
      "POI HoustonTX at -95.34 29.72  found\n",
      "\n",
      "granule  TEMPO_O3TOT_L2_V03_20230901T165326Z_S009G08.nc\n",
      "scanl pixel latitude longitude O3_col O3_col_QF\n",
      "   57 1243 29.731195 -95.334694 298.5      5\n",
      "   57 1244 29.714334 -95.333862 299.5      5\n",
      "   58 1243 29.731224 -95.382095 298.7      5\n",
      "   58 1244 29.714371 -95.381256 299.6      5\n",
      "POI HoustonTX at -95.34 29.72  found\n",
      "\n",
      "granule  TEMPO_O3TOT_L2_V03_20230901T181516Z_S010G08.nc\n",
      "scanl pixel latitude longitude O3_col O3_col_QF\n",
      "   58 1244 29.725616 -95.339294 300.7      0\n",
      "   58 1245 29.708763 -95.338463 303.8      0\n",
      "   59 1244 29.726149 -95.386482 300.5      0\n",
      "   59 1245 29.709309 -95.385635 299.7      5\n",
      "POI HoustonTX at -95.34 29.72  found\n",
      "\n",
      "granule  TEMPO_O3TOT_L2_V03_20230901T194812Z_S011G06.nc\n",
      "scanl pixel latitude longitude O3_col O3_col_QF\n",
      "   82 1245 29.733246 -95.304161 300.6      5\n",
      "   82 1246 29.716412 -95.303322 317.4    128\n",
      "   83 1245 29.733500 -95.351532 301.1      5\n",
      "   83 1246 29.716644 -95.350693 299.9      0\n",
      "POI HoustonTX at -95.34 29.72  found\n",
      "\n",
      "granule  TEMPO_O3TOT_L2_V03_20230901T205043Z_S012G06.nc\n",
      "scanl pixel latitude longitude O3_col O3_col_QF\n",
      "   83 1245 29.726561 -95.333099 301.5      0\n",
      "   83 1246 29.709711 -95.332268 296.4      5\n",
      "   84 1245 29.727011 -95.380661 297.0      5\n",
      "   84 1246 29.710173 -95.379822 300.8      0\n",
      "POI HoustonTX at -95.34 29.72  found\n",
      "\n",
      "granule  TEMPO_O3TOT_L2_V03_20230901T215314Z_S013G06.nc\n",
      "scanl pixel latitude longitude O3_col O3_col_QF\n",
      "   83 1246 29.731836 -95.313263 293.1      5\n",
      "   83 1247 29.714975 -95.312431 298.2      0\n",
      "   84 1246 29.732191 -95.361084 295.8      5\n",
      "   84 1247 29.715343 -95.360245 293.9      5\n",
      "POI HoustonTX at -95.34 29.72  found\n",
      "\n",
      "granule  TEMPO_O3TOT_L2_V03_20230901T222440Z_S015G01.nc\n",
      "scanl pixel latitude longitude O3_col O3_col_QF\n",
      "   83 1246 29.724503 -95.316330 292.3      0\n",
      "   83 1247 29.707664 -95.315498 293.5      5\n",
      "   84 1246 29.725187 -95.362816 291.4      0\n",
      "   84 1247 29.708349 -95.361984 292.6      0\n",
      "POI HoustonTX at -95.34 29.72  found\n",
      "\n",
      "granule  TEMPO_O3TOT_L2_V03_20230901T225603Z_S016G01.nc\n",
      "scanl pixel latitude longitude O3_col O3_col_QF\n",
      "   83 1246 29.726755 -95.312859 292.1      0\n",
      "   83 1247 29.709904 -95.312027 297.9      0\n",
      "   84 1246 29.727415 -95.360680 289.5      0\n",
      "   84 1247 29.710573 -95.359848 290.9      0\n",
      "POI HoustonTX at -95.34 29.72  found\n",
      "\n",
      "granule  TEMPO_O3TOT_L2_V03_20230901T232726Z_S017G01.nc\n",
      "scanl pixel latitude longitude O3_col O3_col_QF\n",
      "   83 1245 29.728186 -95.328613 288.7      0\n",
      "   83 1246 29.711330 -95.327782 288.5      0\n",
      "   84 1245 29.728798 -95.376312 290.1      0\n",
      "   84 1246 29.711956 -95.375481 288.3      0\n",
      "POI HoustonTX at -95.34 29.72  found\n",
      "\n",
      "granule  TEMPO_O3TOT_L2_V03_20230901T235849Z_S018G01.nc\n",
      "scanl pixel latitude longitude O3_col O3_col_QF\n",
      "   83 1245 29.728477 -95.327164 289.4      8\n",
      "   83 1246 29.711620 -95.326340 289.3      8\n",
      "   84 1245 29.728134 -95.374954 290.7      8\n",
      "   84 1246 29.711290 -95.374115 294.9      8\n",
      "POI HoustonTX at -95.34 29.72  found\n"
     ]
    }
   ],
   "source": [
    "days = [31, 28, 31, 30, 31, 30, 31, 31, 30, 31, 30, 31]\n",
    "\n",
    "fout_HiQ = open(\n",
    "    out_Q\n",
    "    + \"_HiQ_\"\n",
    "    + datestamp_ini\n",
    "    + \"_\"\n",
    "    + datestamp_fin\n",
    "    + \"_\"\n",
    "    + POI_name_\n",
    "    + \"_\"\n",
    "    + str(\"%08.4fN_%08.4fW.txt\" % (POI[0], -POI[1])),\n",
    "    \"w\",\n",
    ")\n",
    "fout_HiQ.write(\n",
    "    \"timeseries of \"\n",
    "    + out_Q\n",
    "    + \" at \"\n",
    "    + POI_name\n",
    "    + \" \"\n",
    "    + str(\"%08.4fN %08.4fW\" % (POI[0], -POI[1]))\n",
    "    + \"\\n\"\n",
    ")\n",
    "fout_HiQ.write(\"yyyy mm dd hh mn ss \" + out_Q_unit + \"\\n\")\n",
    "\n",
    "fout_AllQ = open(\n",
    "    out_Q\n",
    "    + \"_AllQ_\"\n",
    "    + datestamp_ini\n",
    "    + \"_\"\n",
    "    + datestamp_fin\n",
    "    + \"_\"\n",
    "    + POI_name_\n",
    "    + \"_\"\n",
    "    + str(\"%08.4fN_%08.4fW.txt\" % (POI[0], -POI[1])),\n",
    "    \"w\",\n",
    ")\n",
    "fout_AllQ.write(\n",
    "    \"timeseries of \"\n",
    "    + out_Q\n",
    "    + \" at \"\n",
    "    + POI_name\n",
    "    + \" \"\n",
    "    + str(\"%08.4fN %08.4fW\" % (POI[0], -POI[1]))\n",
    "    + \"\\n\"\n",
    ")\n",
    "fout_AllQ.write(\"yyyy mm dd hh mn ss \" + out_Q_unit + \"\\n\")\n",
    "\n",
    "for granule_link in sorted(granule_links):\n",
    "    TEMPO_fname = granule_link.split(\"/\")[-1]\n",
    "    print(\"\\ngranule \", TEMPO_fname)\n",
    "    lat, lon, fv_geo, time, total_O3_column, total_O3_column_QF, fv_prod, prod_unit = (\n",
    "        read_TEMPO_O3TOT_L2(TEMPO_fname)\n",
    "    )\n",
    "\n",
    "    # remove TEMPO granule after reading\n",
    "    # If TEMPO granules are not needed for the future use, uncomment the line below.\n",
    "    #  os.remove(TEMPO_fname)\n",
    "\n",
    "    if isinstance(lat, float):\n",
    "        continue\n",
    "\n",
    "    nx = lon.shape[0]\n",
    "    ny = lon.shape[1]\n",
    "\n",
    "    # getting time from the granule filename.\n",
    "    # This time corresponds to the 1st element of array time above which is GPS time in seconds\n",
    "    Tind = TEMPO_fname.rfind(\"T\")\n",
    "    yyyy = int(TEMPO_fname[Tind - 8 : Tind - 4])\n",
    "    mm = int(TEMPO_fname[Tind - 4 : Tind - 2])\n",
    "    dd = int(TEMPO_fname[Tind - 2 : Tind])\n",
    "    hh = int(TEMPO_fname[Tind + 1 : Tind + 3])\n",
    "    mn = int(TEMPO_fname[Tind + 3 : Tind + 5])\n",
    "    ss = float(TEMPO_fname[Tind + 5 : Tind + 7])\n",
    "\n",
    "    pp = np.array([POI[1], POI[0]])\n",
    "    p = Point(pp)  # POI[0] - latitudes, POI[1] - longitudes\n",
    "\n",
    "    POI_found = False\n",
    "    for ix in range(nx - 1):\n",
    "        for iy in range(ny - 1):\n",
    "            if lon[ix, iy] == fv_geo:\n",
    "                continue\n",
    "            if lat[ix, iy] == fv_geo:\n",
    "                continue\n",
    "            if lon[ix, iy + 1] == fv_geo:\n",
    "                continue\n",
    "            if lat[ix, iy + 1] == fv_geo:\n",
    "                continue\n",
    "            if lon[ix + 1, iy + 1] == fv_geo:\n",
    "                continue\n",
    "            if lat[ix + 1, iy + 1] == fv_geo:\n",
    "                continue\n",
    "            if lon[ix + 1, iy] == fv_geo:\n",
    "                continue\n",
    "            if lat[ix + 1, iy] == fv_geo:\n",
    "                continue\n",
    "\n",
    "            coords_poly_loc = [\n",
    "                [lon[ix, iy], lat[ix, iy]],\n",
    "                [lon[ix, iy + 1], lat[ix, iy + 1]],\n",
    "                [lon[ix + 1, iy + 1], lat[ix + 1, iy + 1]],\n",
    "                [lon[ix + 1, iy], lat[ix + 1, iy]],\n",
    "            ]\n",
    "            poly_loc = Polygon(coords_poly_loc)\n",
    "\n",
    "            if p.within(poly_loc):\n",
    "                print(\"scanl pixel latitude longitude O3_col O3_col_QF\")\n",
    "                for scl in range(ix, ix + 2, 1):\n",
    "                    for pix in range(iy, iy + 2, 1):\n",
    "                        print(\n",
    "                            \"  %3d %4d %9.6f %10.6f %5.1f %6i\"\n",
    "                            % (\n",
    "                                scl,\n",
    "                                pix,\n",
    "                                lat[scl, pix],\n",
    "                                lon[scl, pix],\n",
    "                                total_O3_column[scl, pix],\n",
    "                                total_O3_column_QF[scl, pix],\n",
    "                            )\n",
    "                        )\n",
    "\n",
    "                POI_found = True\n",
    "                print(\"POI\", POI_name, \"at\", POI[1], POI[0], \" found\")\n",
    "\n",
    "                total_O3_column_loc = np.array(\n",
    "                    [\n",
    "                        total_O3_column[ix, iy],\n",
    "                        total_O3_column[ix, iy + 1],\n",
    "                        total_O3_column[ix + 1, iy + 1],\n",
    "                        total_O3_column[ix + 1, iy],\n",
    "                    ]\n",
    "                )\n",
    "                total_O3_column_QF_loc = np.array(\n",
    "                    [\n",
    "                        total_O3_column_QF[ix, iy],\n",
    "                        total_O3_column_QF[ix, iy + 1],\n",
    "                        total_O3_column_QF[ix + 1, iy + 1],\n",
    "                        total_O3_column_QF[ix + 1, iy],\n",
    "                    ]\n",
    "                )\n",
    "                lat_loc = np.array(\n",
    "                    [lat[ix, iy], lat[ix, iy + 1], lat[ix + 1, iy + 1], lat[ix + 1, iy]]\n",
    "                )\n",
    "                lon_loc = np.array(\n",
    "                    [lon[ix, iy], lon[ix, iy + 1], lon[ix + 1, iy + 1], lon[ix + 1, iy]]\n",
    "                )\n",
    "                mask_noFV = total_O3_column_loc != fv_prod\n",
    "                mask_HiQ = (total_O3_column_QF_loc == 0) & mask_noFV\n",
    "                mask_AllQ = (\n",
    "                    (total_O3_column_QF_loc == 0)\n",
    "                    | (total_O3_column_QF_loc == 1)\n",
    "                    | (total_O3_column_QF_loc == 4)\n",
    "                    | (total_O3_column_QF_loc == 128)\n",
    "                ) & mask_noFV\n",
    "\n",
    "                points_HiQ = np.column_stack((lon_loc[mask_HiQ], lat_loc[mask_HiQ]))\n",
    "                ff_HiQ = total_O3_column_loc[mask_HiQ]\n",
    "\n",
    "                points_AllQ = np.column_stack((lon_loc[mask_AllQ], lat_loc[mask_AllQ]))\n",
    "                ff_AllQ = total_O3_column_loc[mask_AllQ]\n",
    "\n",
    "                points = np.empty([0, 2])\n",
    "                ff = np.empty(0)\n",
    "\n",
    "                # handling time first:\n",
    "                delta_t = (time[ix + 1] + time[ix]) * 0.5 - time[0]\n",
    "                ss = ss + delta_t\n",
    "                if ss >= 60.0:\n",
    "                    delta_mn = int(ss / 60.0)\n",
    "                    ss = ss - 60.0 * delta_mn\n",
    "                    mn = mn + delta_mn\n",
    "                    if mn >= 60:\n",
    "                        mn = mn - 60\n",
    "                        hh = hh + 1\n",
    "                        if hh == 24:\n",
    "                            hh = hh - 24\n",
    "                            dd = dd + 1\n",
    "                            day_month = days[mm]\n",
    "                            if (yyyy // 4) * 4 == yyyy and mm == 2:\n",
    "                                day_month = day_month + 1\n",
    "                            if dd > day_month:\n",
    "                                dd = 1\n",
    "                                mm = mm + 1\n",
    "                                if mm > 12:\n",
    "                                    mm = 1\n",
    "                                    yyyy = yyyy + 1\n",
    "\n",
    "                if ff_AllQ.shape[0] == 0:\n",
    "                    continue\n",
    "                elif ff_AllQ.shape[0] < 4:\n",
    "                    total_O3_column_AllQ = np.mean(ff_AllQ)\n",
    "                elif ff_AllQ.shape[0] == 4:\n",
    "                    total_O3_column_AllQ = griddata(\n",
    "                        points_AllQ, ff_AllQ, pp, method=\"linear\", fill_value=-1.0, rescale=False\n",
    "                    )[0]\n",
    "                if total_O3_column_AllQ == -1.0:\n",
    "                    continue\n",
    "\n",
    "                fout_AllQ.write(\n",
    "                    str(\n",
    "                        \"%4.4i %2.2i %2.2i %2.2i %2.2i %2.2i %10.3e \"\n",
    "                        % (yyyy, mm, dd, hh, mn, ss, total_O3_column_AllQ)\n",
    "                    )\n",
    "                )\n",
    "                fout_AllQ.write(\n",
    "                    str(\n",
    "                        \"%9.4fN %9.4fW %10.3e \"\n",
    "                        % (lat[ix, iy], -lon[ix, iy], total_O3_column[ix, iy])\n",
    "                    )\n",
    "                )\n",
    "                fout_AllQ.write(\n",
    "                    str(\n",
    "                        \"%9.4fN %9.4fW %10.3e \"\n",
    "                        % (lat[ix, iy + 1], -lon[ix, iy + 1], total_O3_column[ix, iy + 1])\n",
    "                    )\n",
    "                )\n",
    "                fout_AllQ.write(\n",
    "                    str(\n",
    "                        \"%9.4fN %9.4fW %10.3e \"\n",
    "                        % (\n",
    "                            lat[ix + 1, iy + 1],\n",
    "                            -lon[ix + 1, iy + 1],\n",
    "                            total_O3_column[ix + 1, iy + 1],\n",
    "                        )\n",
    "                    )\n",
    "                )\n",
    "                fout_AllQ.write(\n",
    "                    str(\n",
    "                        \"%9.4fN %9.4fW %10.3e\\n\"\n",
    "                        % (lat[ix + 1, iy], -lon[ix + 1, iy], total_O3_column[ix + 1, iy])\n",
    "                    )\n",
    "                )\n",
    "\n",
    "                if ff_HiQ.shape[0] == 0:\n",
    "                    continue\n",
    "                elif ff_HiQ.shape[0] < 4:\n",
    "                    total_O3_column_HiQ = np.mean(ff_HiQ)\n",
    "                elif ff_HiQ.shape[0] == 4:\n",
    "                    total_O3_column_HiQ = griddata(\n",
    "                        points_HiQ, ff_HiQ, pp, method=\"linear\", fill_value=-1.0, rescale=False\n",
    "                    )[0]\n",
    "                if total_O3_column_HiQ == -1.0:\n",
    "                    continue\n",
    "\n",
    "                fout_HiQ.write(\n",
    "                    str(\n",
    "                        \"%4.4i %2.2i %2.2i %2.2i %2.2i %2.2i %10.3e \"\n",
    "                        % (yyyy, mm, dd, hh, mn, ss, total_O3_column_HiQ)\n",
    "                    )\n",
    "                )\n",
    "                fout_HiQ.write(\n",
    "                    str(\n",
    "                        \"%9.4fN %9.4fW %10.3e \"\n",
    "                        % (lat[ix, iy], -lon[ix, iy], total_O3_column[ix, iy])\n",
    "                    )\n",
    "                )\n",
    "                fout_HiQ.write(\n",
    "                    str(\n",
    "                        \"%9.4fN %9.4fW %10.3e \"\n",
    "                        % (lat[ix, iy + 1], -lon[ix, iy + 1], total_O3_column[ix, iy + 1])\n",
    "                    )\n",
    "                )\n",
    "                fout_HiQ.write(\n",
    "                    str(\n",
    "                        \"%9.4fN %9.4fW %10.3e \"\n",
    "                        % (\n",
    "                            lat[ix + 1, iy + 1],\n",
    "                            -lon[ix + 1, iy + 1],\n",
    "                            total_O3_column[ix + 1, iy + 1],\n",
    "                        )\n",
    "                    )\n",
    "                )\n",
    "                fout_HiQ.write(\n",
    "                    str(\n",
    "                        \"%9.4fN %9.4fW %10.3e\\n\"\n",
    "                        % (lat[ix + 1, iy], -lon[ix + 1, iy], total_O3_column[ix + 1, iy])\n",
    "                    )\n",
    "                )\n",
    "\n",
    "                break\n",
    "\n",
    "        if POI_found:\n",
    "            break\n",
    "\n",
    "fout_AllQ.close()\n",
    "fout_HiQ.close()"
   ]
  },
  {
   "cell_type": "markdown",
   "metadata": {
    "id": "xaRNZa_4bl11"
   },
   "source": [
    "# 7 Plotting the results"
   ]
  },
  {
   "cell_type": "markdown",
   "metadata": {
    "id": "XglvHW3AbfFl"
   },
   "source": [
    "## 7.1 Reading created data files for TEMPO, create timeseries"
   ]
  },
  {
   "cell_type": "code",
   "execution_count": 65,
   "metadata": {
    "colab": {
     "base_uri": "https://localhost:8080/",
     "height": 141
    },
    "id": "a9Dx6KZ649_L",
    "outputId": "12a5e342-7bd2-4996-d5d2-3972ccc9e854"
   },
   "outputs": [],
   "source": [
    "# Plotting the results\n",
    "# Reading created data files for TEMPO and DSCOVR, create timeseries\n",
    "\n",
    "fout_AllQ = open(\n",
    "    out_Q\n",
    "    + \"_AllQ_\"\n",
    "    + datestamp_ini\n",
    "    + \"_\"\n",
    "    + datestamp_fin\n",
    "    + \"_\"\n",
    "    + POI_name_\n",
    "    + \"_\"\n",
    "    + str(\"%08.4fN_%08.4fW.txt\" % (POI[0], -POI[1])),\n",
    "    \"r\",\n",
    ")\n",
    "\n",
    "header1_AllQ = fout_AllQ.readline()\n",
    "header2_AllQ = fout_AllQ.readline()\n",
    "data_lines_AllQ = fout_AllQ.readlines()\n",
    "\n",
    "fout_HiQ = open(\n",
    "    out_Q\n",
    "    + \"_HiQ_\"\n",
    "    + datestamp_ini\n",
    "    + \"_\"\n",
    "    + datestamp_fin\n",
    "    + \"_\"\n",
    "    + POI_name_\n",
    "    + \"_\"\n",
    "    + str(\"%08.4fN_%08.4fW.txt\" % (POI[0], -POI[1])),\n",
    "    \"r\",\n",
    ")\n",
    "\n",
    "header1_HiQ = fout_HiQ.readline()\n",
    "header2_HiQ = fout_HiQ.readline()\n",
    "data_lines_HiQ = fout_HiQ.readlines()\n",
    "\n",
    "fout_AllQ.close()\n",
    "fout_HiQ.close()\n",
    "\n",
    "yyyy = yyyy_ini\n",
    "mm = mm_ini\n",
    "dd = dd_ini\n",
    "hh = 0\n",
    "mn = 0\n",
    "ss = 0\n",
    "dt0 = datetime(yyyy, mm, dd, hh, mn, ss)\n",
    "\n",
    "yyyy = yyyy_fin\n",
    "mm = mm_fin\n",
    "dd = dd_fin\n",
    "hh = 23\n",
    "mn = 59\n",
    "ss = 59\n",
    "dt_fin = datetime(\n",
    "    yyyy, mm, dd, hh, mn, ss\n",
    ")  # this is time 1 second before the end of the timeframe of interest\n",
    "\n",
    "time_series_TEMPO_HiQ = np.empty([0, 2])\n",
    "\n",
    "if len(data_lines_HiQ) > 0:\n",
    "    for line in data_lines_HiQ:\n",
    "        split = line.split()\n",
    "        yyyy = int(split[0])\n",
    "        mm = int(split[1])\n",
    "        dd = int(split[2])\n",
    "        hh = int(split[3])\n",
    "        mn = int(split[4])\n",
    "        ss = int(split[5])\n",
    "        # dt below is time since the beginning of the eriod of interest in hours\n",
    "        dt = (datetime(yyyy, mm, dd, hh, mn, ss) - dt0).total_seconds() / 86400.0\n",
    "        time_series_TEMPO_HiQ = np.append(time_series_TEMPO_HiQ, [[dt, float(split[6])]], axis=0)\n",
    "\n",
    "time_series_TEMPO_AllQ = np.empty([0, 2])\n",
    "\n",
    "if len(data_lines_AllQ) > 0:\n",
    "    for line in data_lines_AllQ:\n",
    "        split = line.split()\n",
    "        yyyy = int(split[0])\n",
    "        mm = int(split[1])\n",
    "        dd = int(split[2])\n",
    "        hh = int(split[3])\n",
    "        mn = int(split[4])\n",
    "        ss = int(split[5])\n",
    "        # dt below is time since the beginning of the eriod of interest in hours\n",
    "        dt = (datetime(yyyy, mm, dd, hh, mn, ss) - dt0).total_seconds() / 86400.0\n",
    "        time_series_TEMPO_AllQ = np.append(time_series_TEMPO_AllQ, [[dt, float(split[6])]], axis=0)\n",
    "\n",
    "if len(time_series_TEMPO_AllQ) == 0 and len(time_series_TEMPO_HiQ) == 0:\n",
    "    print(\"TEMPO timeseries does not have data. STOP\")\n",
    "    sys.exit()"
   ]
  },
  {
   "cell_type": "markdown",
   "metadata": {
    "id": "T-VnnPkirdLr"
   },
   "source": [
    "## 7.2 creating DSCOVR timeseries"
   ]
  },
  {
   "cell_type": "code",
   "execution_count": 66,
   "metadata": {
    "id": "nWFAc4dF5Pbz"
   },
   "outputs": [],
   "source": [
    "# reading DSCOVR file that was created at the previous step\n",
    "# only read POI information from the header and first 8 columns of data:\n",
    "#   yyyy, mm, dd, hh, mn, ss, and O3 column\n",
    "fout = open(\n",
    "    out_Q_EPIC\n",
    "    + \"_\"\n",
    "    + datestamp_ini\n",
    "    + \"_\"\n",
    "    + datestamp_fin\n",
    "    + \"_\"\n",
    "    + POI_name_\n",
    "    + \"_\"\n",
    "    + str(\"%08.4fN_%08.4fW.txt\" % (POI[0], -POI[1])),\n",
    "    \"r\",\n",
    ")\n",
    "\n",
    "header1 = fout.readline()\n",
    "header2 = fout.readline()\n",
    "data_lines = fout.readlines()\n",
    "\n",
    "fout.close()\n",
    "\n",
    "time_series_DSCOVR = np.empty([0, 2])\n",
    "\n",
    "if len(data_lines) > 0:\n",
    "    for line in data_lines:\n",
    "        split = line.split()\n",
    "        yyyy = int(split[0])\n",
    "        mm = int(split[1])\n",
    "        dd = int(split[2])\n",
    "        hh = int(split[3])\n",
    "        mn = int(split[4])\n",
    "        ss = int(split[5])\n",
    "        # dt below is time since the beginning of the eriod of interest in hours\n",
    "        dt = (datetime(yyyy, mm, dd, hh, mn, ss) - dt0).total_seconds() / 86400.0\n",
    "        time_series_DSCOVR = np.append(time_series_DSCOVR, [[dt, float(split[6])]], axis=0)"
   ]
  },
  {
   "cell_type": "markdown",
   "metadata": {
    "id": "O8JvXRRcwT9O"
   },
   "source": [
    "## 7.3 read saved Pandora file and create timeseries"
   ]
  },
  {
   "cell_type": "code",
   "execution_count": 67,
   "metadata": {
    "id": "qW-Ovmw-sRz0"
   },
   "outputs": [],
   "source": [
    "Pandora_out = open(\n",
    "    out_Q_Pandora\n",
    "    + \"_\"\n",
    "    + datestamp_ini\n",
    "    + \"_\"\n",
    "    + datestamp_fin\n",
    "    + \"_\"\n",
    "    + POI_name_\n",
    "    + \"_\"\n",
    "    + str(\"%08.4fN_%08.4fW.txt\" % (POI[0], -POI[1])),\n",
    "    \"r\",\n",
    ")\n",
    "Pandora_data_lines = Pandora_out.readlines()\n",
    "Pandora_out.close()\n",
    "\n",
    "time_series_Pandora = np.empty([0, 3])\n",
    "\n",
    "for line in Pandora_data_lines:\n",
    "    split = line.split()\n",
    "    yyyy = int(split[0])\n",
    "    mm = int(split[1])\n",
    "    dd = int(split[2])\n",
    "    hh = int(split[3])\n",
    "    mn = int(split[4])\n",
    "    ss = int(float(split[5]))\n",
    "    microsec = int((float(split[5]) - ss) * 1000000)\n",
    "    # dt below is time since the beginning of the period of interest in hours\n",
    "    dt = (datetime(yyyy, mm, dd, hh, mn, ss) - dt0).total_seconds() / 86400.0\n",
    "    time_series_Pandora = np.append(\n",
    "        time_series_Pandora, [[dt, float(split[6]), float(split[7])]], axis=0\n",
    "    )"
   ]
  },
  {
   "cell_type": "markdown",
   "metadata": {
    "id": "NGXMMgcNcMb4"
   },
   "source": [
    "## 7.4 Plotting timeseries"
   ]
  },
  {
   "cell_type": "markdown",
   "metadata": {
    "id": "WEkwDqvOccOK"
   },
   "source": [
    "### 7.4.1 No error bars"
   ]
  },
  {
   "cell_type": "code",
   "execution_count": 68,
   "metadata": {
    "colab": {
     "base_uri": "https://localhost:8080/",
     "height": 497
    },
    "id": "YSPKI7W75XQP",
    "outputId": "cc3074e0-98ca-4913-93b0-f0ce597675f7"
   },
   "outputs": [
    {
     "data": {
      "image/png": "[encoded data removed]",
      "text/plain": [
       "<Figure size 640x480 with 1 Axes>"
      ]
     },
     "metadata": {},
     "output_type": "display_data"
    }
   ],
   "source": [
    "# No error bars\n",
    "plot_title = \"O$_{3}$ total column \" + datestamp_ini + \" \" + datestamp_fin + \"\\n\" + POI_name\n",
    "img_name = \"O3_tot_col_\" + datestamp_ini + \"_\" + datestamp_fin + \"_\" + POI_name + \".jpg\"\n",
    "\n",
    "plt.plot(\n",
    "    time_series_Pandora[:, 0],\n",
    "    time_series_Pandora[:, 1],\n",
    "    label=f\"Pandora, {len(time_series_Pandora)} points\",\n",
    "    c=\"r\",\n",
    ")\n",
    "plt.plot(\n",
    "    time_series_DSCOVR[:, 0],\n",
    "    time_series_DSCOVR[:, 1],\n",
    "    label=f\"DSCOVR, {len(time_series_DSCOVR)} points\",\n",
    "    c=\"g\",\n",
    ")\n",
    "plt.plot(\n",
    "    time_series_TEMPO_HiQ[:, 0],\n",
    "    time_series_TEMPO_HiQ[:, 1],\n",
    "    label=f\"TEMPO High QUality, {len(time_series_TEMPO_HiQ)} points\",\n",
    "    c=\"b\",\n",
    "    marker=\".\",\n",
    "    linestyle=\"\",\n",
    "    markersize=4,\n",
    ")\n",
    "plt.plot(\n",
    "    time_series_TEMPO_AllQ[:, 0],\n",
    "    time_series_TEMPO_AllQ[:, 1],\n",
    "    label=f\"TEMPO All Quality, {len(time_series_TEMPO_AllQ)} points\",\n",
    "    c=\"c\",\n",
    "    marker=\".\",\n",
    "    markersize=4,\n",
    "    linestyle=\"\",\n",
    ")\n",
    "\n",
    "# Set the range of x-axis\n",
    "l_lim = 0.0\n",
    "u_lim = ((dt_fin - dt0).total_seconds() + 1.0) / 86400.0\n",
    "plt.xlim(l_lim, u_lim)\n",
    "\n",
    "# some research is required to set the vertical range\n",
    "# Set the range of y-axis\n",
    "# l_lim = 275\n",
    "# u_lim = 375\n",
    "# plt.ylim(l_lim, u_lim)\n",
    "\n",
    "plt.xlabel(r\"GMT, day from beginning of \" + datestamp_ini, fontsize=12)\n",
    "plt.ylabel(\"O$_{3}$ total column, \" + out_Q_unit, fontsize=12)\n",
    "\n",
    "plt.legend(loc=\"lower left\")\n",
    "\n",
    "plt.title(plot_title + str(\", %08.4fN %08.4fW\" % (POI[0], -POI[1])))\n",
    "plt.savefig(img_name, format=\"jpg\", dpi=300)"
   ]
  },
  {
   "cell_type": "markdown",
   "metadata": {
    "id": "QyhmWrUMXU5z"
   },
   "source": [
    "### 7.4.2 Plotting TEMPO and smoothed Pandora retievals with error bars"
   ]
  },
  {
   "cell_type": "code",
   "execution_count": 69,
   "metadata": {
    "colab": {
     "base_uri": "https://localhost:8080/",
     "height": 549
    },
    "id": "bGWFi8VRGBmZ",
    "outputId": "be88f6a2-8b77-4cf2-c2b7-e39fbf6bc51d",
    "scrolled": true
   },
   "outputs": [
    {
     "name": "stdout",
     "output_type": "stream",
     "text": [
      "(67, 3)\n",
      "(9, 2)\n",
      "(9, 2)\n",
      "(5, 2)\n",
      "0.8 2.939e+02 7.33e+00 1.0000e+00\n",
      "0.8 2.939e+02 7.33e+00\n",
      "\n",
      "0.8 2.937e+02 6.78e+00 1.0000e+00\n",
      "0.8 2.937e+02 6.78e+00\n",
      "\n",
      "0.9 2.933e+02 5.06e+00 1.4800e-01\n",
      "0.9 2.930e+02 4.96e+00 8.5200e-01\n",
      "0.9 2.930e+02 4.98e+00\n",
      "\n",
      "0.9 2.935e+02 4.49e+00 1.0000e+00\n",
      "0.9 2.935e+02 4.49e+00\n",
      "\n",
      "1.0 2.936e+02 5.50e+00 1.6531e-01\n",
      "1.0 2.935e+02 1.09e+01 8.3469e-01\n",
      "1.0 2.935e+02 1.00e+01\n",
      "\n",
      "1.0 2.957e+02 2.11e+01 1.0000e+00\n",
      "1.0 2.957e+02 2.11e+01\n",
      "\n",
      "0.8 2.939e+02 7.33e+00 1.0000e+00\n",
      "0.8 2.939e+02 7.33e+00\n",
      "\n",
      "0.8 2.937e+02 6.78e+00 1.0000e+00\n",
      "0.8 2.937e+02 6.78e+00\n",
      "\n",
      "0.9 2.933e+02 5.06e+00 1.4800e-01\n",
      "0.9 2.930e+02 4.96e+00 8.5200e-01\n",
      "0.9 2.930e+02 4.98e+00\n",
      "\n",
      "0.9 2.935e+02 4.49e+00 1.0000e+00\n",
      "0.9 2.935e+02 4.49e+00\n",
      "\n",
      "1.0 2.936e+02 5.50e+00 1.6531e-01\n",
      "1.0 2.935e+02 1.09e+01 8.3469e-01\n",
      "1.0 2.935e+02 1.00e+01\n",
      "\n",
      "1.0 2.957e+02 2.11e+01 1.0000e+00\n",
      "1.0 2.957e+02 2.11e+01\n",
      "\n",
      "0.6 2.882e+02 4.91e+00 1.0000e+00\n",
      "0.6 2.882e+02 4.91e+00\n",
      "\n"
     ]
    },
    {
     "data": {
      "image/png": "[encoded data removed]",
      "text/plain": [
       "<Figure size 640x480 with 1 Axes>"
      ]
     },
     "metadata": {},
     "output_type": "display_data"
    },
    {
     "data": {
      "image/png": "[encoded data removed]",
      "text/plain": [
       "<Figure size 640x480 with 1 Axes>"
      ]
     },
     "metadata": {},
     "output_type": "display_data"
    }
   ],
   "source": [
    "print(time_series_Pandora.shape)\n",
    "print(time_series_TEMPO_HiQ.shape)\n",
    "print(time_series_TEMPO_AllQ.shape)\n",
    "print(time_series_DSCOVR.shape)\n",
    "\n",
    "timeseries_Pandora_TEMPO_HiQ, data_subset_TEMPO_HiQ = gauss_interpolation(\n",
    "    time_series_Pandora[:, 0:3], time_series_TEMPO_HiQ[:, 0]\n",
    ")\n",
    "\n",
    "timeseries_Pandora_TEMPO_AllQ, data_subset_TEMPO_AllQ = gauss_interpolation(\n",
    "    time_series_Pandora[:, 0:3], time_series_TEMPO_AllQ[:, 0]\n",
    ")\n",
    "\n",
    "timeseries_Pandora_DSCOVR, data_subset_DSCOVR = gauss_interpolation(\n",
    "    time_series_Pandora[:, 0:3], time_series_DSCOVR[:, 0]\n",
    ")\n",
    "\n",
    "if len(time_series_TEMPO_HiQ) > 0:\n",
    "    plot_title = (\n",
    "        \"O$_{3}$ total column w unc \" + datestamp_ini + \" \" + datestamp_fin + \"\\n\" + POI_name\n",
    "    )\n",
    "    img_name = (\n",
    "        \"O3_tot_col_HiQ_unc_\" + \"_\" + datestamp_ini + \"_\" + datestamp_fin + \"_\" + POI_name + \".jpg\"\n",
    "    )\n",
    "\n",
    "    fig = plt.figure()\n",
    "\n",
    "    plt.errorbar(\n",
    "        time_series_TEMPO_HiQ[:, 0],\n",
    "        time_series_TEMPO_HiQ[:, 1],\n",
    "        yerr=None,\n",
    "        label=\"TEMPO high quality\",\n",
    "        c=\"b\",\n",
    "        ls=\"\",\n",
    "        marker=\".\",\n",
    "    )\n",
    "\n",
    "    plt.errorbar(\n",
    "        timeseries_Pandora_TEMPO_HiQ[:, 0],\n",
    "        timeseries_Pandora_TEMPO_HiQ[:, 1],\n",
    "        yerr=timeseries_Pandora_TEMPO_HiQ[:, 2],\n",
    "        label=\"Pandora smoothed at TEMPO times\",\n",
    "        c=\"r\",\n",
    "        ls=\"\",\n",
    "        marker=\".\",\n",
    "    )\n",
    "\n",
    "    plt.errorbar(\n",
    "        time_series_DSCOVR[:, 0],\n",
    "        time_series_DSCOVR[:, 1],\n",
    "        yerr=None,\n",
    "        label=\"DSCOVR\",\n",
    "        c=\"c\",\n",
    "        ls=\"\",\n",
    "        marker=\".\",\n",
    "    )\n",
    "\n",
    "    plt.errorbar(\n",
    "        timeseries_Pandora_DSCOVR[:, 0],\n",
    "        timeseries_Pandora_DSCOVR[:, 1],\n",
    "        yerr=timeseries_Pandora_DSCOVR[:, 2],\n",
    "        label=\"Pandora smoothed at DSCOVR times\",\n",
    "        c=\"m\",\n",
    "        ls=\"\",\n",
    "        marker=\".\",\n",
    "    )\n",
    "\n",
    "    # Set the range of x-axis\n",
    "    l_lim = 0.0\n",
    "    u_lim = ((dt_fin - dt0).total_seconds() + 1.0) / 86400.0\n",
    "    plt.xlim(l_lim, u_lim)\n",
    "\n",
    "    # Set the range of y-axis\n",
    "    # l_lim = 275\n",
    "    # u_lim = 375\n",
    "    # plt.ylim(l_lim, u_lim)\n",
    "\n",
    "    plt.xlabel(r\"GMT, day from beginning of \" + datestamp_ini, fontsize=12)\n",
    "    plt.ylabel(\"O$_{3}$ total column, \" + out_Q_unit, fontsize=12)\n",
    "\n",
    "    plt.legend(loc=\"lower left\")\n",
    "\n",
    "    plt.title(plot_title + str(\", %08.4fN %08.4fW\" % (POI[0], -POI[1])))\n",
    "    plt.savefig(img_name, format=\"jpg\", dpi=300)\n",
    "#  plt.close()\n",
    "\n",
    "if len(time_series_TEMPO_AllQ) > 0:\n",
    "    plot_title = (\n",
    "        \"O$_{3}$ total column w unc \" + datestamp_ini + \" \" + datestamp_fin + \"\\n\" + POI_name\n",
    "    )\n",
    "    img_name = (\n",
    "        \"O3_tot_col_AllQ_unc_\" + \"_\" + datestamp_ini + \"_\" + datestamp_fin + \"_\" + POI_name + \".jpg\"\n",
    "    )\n",
    "\n",
    "    fig = plt.figure()\n",
    "\n",
    "    plt.errorbar(\n",
    "        time_series_TEMPO_AllQ[:, 0],\n",
    "        time_series_TEMPO_AllQ[:, 1],\n",
    "        yerr=None,\n",
    "        label=\"TEMPO all quality\",\n",
    "        c=\"b\",\n",
    "        ls=\"\",\n",
    "        marker=\".\",\n",
    "    )\n",
    "\n",
    "    plt.errorbar(\n",
    "        timeseries_Pandora_TEMPO_AllQ[:, 0],\n",
    "        timeseries_Pandora_TEMPO_AllQ[:, 1],\n",
    "        yerr=timeseries_Pandora_TEMPO_AllQ[:, 2],\n",
    "        label=\"Pandora smoothed at TEMPO times\",\n",
    "        c=\"r\",\n",
    "        ls=\"\",\n",
    "        marker=\".\",\n",
    "    )\n",
    "\n",
    "    plt.errorbar(\n",
    "        time_series_DSCOVR[:, 0],\n",
    "        time_series_DSCOVR[:, 1],\n",
    "        yerr=None,\n",
    "        label=\"DSCOVR\",\n",
    "        c=\"c\",\n",
    "        ls=\"\",\n",
    "        marker=\".\",\n",
    "    )\n",
    "\n",
    "    plt.errorbar(\n",
    "        timeseries_Pandora_DSCOVR[:, 0],\n",
    "        timeseries_Pandora_DSCOVR[:, 1],\n",
    "        yerr=timeseries_Pandora_DSCOVR[:, 2],\n",
    "        label=\"Pandora smoothed at DSCOVR times\",\n",
    "        c=\"m\",\n",
    "        ls=\"\",\n",
    "        marker=\".\",\n",
    "    )\n",
    "\n",
    "    # Set the range of x-axis\n",
    "    l_lim = 0.0\n",
    "    u_lim = ((dt_fin - dt0).total_seconds() + 1.0) / 86400.0\n",
    "    plt.xlim(l_lim, u_lim)\n",
    "\n",
    "    # Set the range of y-axis\n",
    "    # l_lim = 275\n",
    "    # u_lim = 375\n",
    "    # plt.ylim(l_lim, u_lim)\n",
    "\n",
    "    plt.xlabel(r\"GMT, day from beginning of \" + datestamp_ini, fontsize=12)\n",
    "    plt.ylabel(\"O$_{3}$ total column, \" + out_Q_unit, fontsize=12)\n",
    "\n",
    "    plt.legend(loc=\"lower left\")\n",
    "\n",
    "    plt.title(plot_title + str(\", %08.4fN %08.4fW\" % (POI[0], -POI[1])))\n",
    "    plt.savefig(img_name, format=\"jpg\", dpi=300)\n",
    "#  plt.close()"
   ]
  },
  {
   "cell_type": "markdown",
   "metadata": {
    "id": "E9-sFIpHzb-3"
   },
   "source": [
    "## 7.5 Plotting scatter plots along with regressions"
   ]
  },
  {
   "cell_type": "markdown",
   "metadata": {
    "id": "97vCXz3Ysv8e"
   },
   "source": [
    "### 7.5.1 TEMPO"
   ]
  },
  {
   "cell_type": "code",
   "execution_count": 70,
   "metadata": {
    "colab": {
     "base_uri": "https://localhost:8080/",
     "height": 497
    },
    "id": "0xLsxFeZK4uC",
    "outputId": "d38321ab-546c-4fa6-c64e-0cb300b91bce"
   },
   "outputs": [
    {
     "data": {
      "image/png": "[encoded data removed]",
      "text/plain": [
       "<Figure size 640x480 with 1 Axes>"
      ]
     },
     "metadata": {},
     "output_type": "display_data"
    },
    {
     "data": {
      "image/png": "[encoded data removed]",
      "text/plain": [
       "<Figure size 640x480 with 1 Axes>"
      ]
     },
     "metadata": {},
     "output_type": "display_data"
    }
   ],
   "source": [
    "TEMPO_Pandora_scatter_HiQ = np.empty([0, 3])\n",
    "for td in time_series_TEMPO_HiQ:\n",
    "    for pd in timeseries_Pandora_TEMPO_HiQ:\n",
    "        if td[0] == pd[0]:\n",
    "            TEMPO_Pandora_scatter_HiQ = np.append(\n",
    "                TEMPO_Pandora_scatter_HiQ, [[pd[1], td[1], pd[2]]], axis=0\n",
    "            )\n",
    "            break\n",
    "\n",
    "if len(TEMPO_Pandora_scatter_HiQ) == 0:\n",
    "    print(\n",
    "        \"TEMPO high quality and Pandora time series has less than 2 simultaneous measurements.\\n\"\n",
    "        + \"Potential cause for this problem is scarcity of TEMPO pixels with QF == 0.\\n\"\n",
    "        + \"The TEMPO science team recommends using only data with QF == 0.\\n\"\n",
    "        + \"Users may overcome the restriction on the quality flag set in section 6.3,\\n\"\n",
    "        + 'find \"total_O3_column_QF_loc == 0\" there. By doing so users assume risks of using low quality data.\\n'\n",
    "        + \"The problem of very scarse QF==0 pixels was previously documented.\\n\"\n",
    "        + \"There is nothing to plot here, this block is terminated.\\n\"\n",
    "        + \"Users may continue with DSCOVR EPIC vs. Pandora plot in the next section\"\n",
    "    )\n",
    "    sys.exit()\n",
    "\n",
    "regress = stats.linregress(TEMPO_Pandora_scatter_HiQ[:, 0], TEMPO_Pandora_scatter_HiQ[:, 1])\n",
    "slope = regress.slope\n",
    "intercept = regress.intercept\n",
    "r2 = regress.rvalue**2\n",
    "stderr = regress.stderr\n",
    "intercept_stderr = regress.intercept_stderr\n",
    "\n",
    "success, slope_0intercept, r2_0intercept = regress_0intercept(\n",
    "    TEMPO_Pandora_scatter_HiQ[:, 0], TEMPO_Pandora_scatter_HiQ[:, 1]\n",
    ")\n",
    "\n",
    "plot_title = (\n",
    "    \"O$_{3}$ total column, TEMPO HQ w unc \" + datestamp_ini + \"_\" + datestamp_fin + \"\\n\" + POI_name\n",
    ")\n",
    "img_name = (\n",
    "    \"TEMPO_HiQ_vs_Pandora_scatter_O3_tot_col_unc_\"\n",
    "    + datestamp_ini\n",
    "    + \"_\"\n",
    "    + datestamp_fin\n",
    "    + \"_\"\n",
    "    + POI_name\n",
    "    + \".jpg\"\n",
    ")\n",
    "\n",
    "fig = plt.figure()\n",
    "\n",
    "plt.errorbar(\n",
    "    TEMPO_Pandora_scatter_HiQ[:, 0],\n",
    "    TEMPO_Pandora_scatter_HiQ[:, 1],\n",
    "    xerr=TEMPO_Pandora_scatter_HiQ[:, 2],\n",
    "    c=\"m\",\n",
    "    ls=\"\",\n",
    "    marker=\".\",\n",
    ")\n",
    "\n",
    "plt.xlabel(r\"Pandora O$_{3}$ column, DU\", fontsize=12)\n",
    "plt.ylabel(r\"TEMPO O$_{3}$ column, DU\", fontsize=12)\n",
    "\n",
    "fig.text(\n",
    "    0.15,\n",
    "    0.725,\n",
    "    f\"# of points: {len(TEMPO_Pandora_scatter_HiQ):4d}\\nslope:{slope: 6.3f}$\\pm${stderr: 6.3f}\\nintercept: {intercept: 8.2e}$\\pm${intercept_stderr: 8.2e}\\nR$^{2}$ = {r2:6.3f}\",\n",
    ")\n",
    "\n",
    "# Set the range of x-axis\n",
    "l_lim = min(TEMPO_Pandora_scatter_HiQ[:, [0, 1]].flatten()) * 0.95\n",
    "u_lim = max(TEMPO_Pandora_scatter_HiQ[:, [0, 1]].flatten()) * 1.05\n",
    "plt.xlim(l_lim, u_lim)\n",
    "plt.ylim(l_lim, u_lim)\n",
    "\n",
    "plt.plot([l_lim, u_lim], [l_lim, u_lim], c=\"g\", ls=\"--\")\n",
    "\n",
    "plt.plot([l_lim, u_lim], [l_lim * slope + intercept, u_lim * slope + intercept], c=\"r\", ls=\"--\")\n",
    "\n",
    "if success:\n",
    "    plt.plot([l_lim, u_lim], [l_lim * slope_0intercept, u_lim * slope_0intercept], c=\"r\", ls=\"-.\")\n",
    "    fig.text(\n",
    "        0.6,\n",
    "        0.125,\n",
    "        f'\"no-intercept\" regression:\\nslope:{slope_0intercept: 6.3f} R$^{2}$ = {r2_0intercept:6.3f}',\n",
    "    )\n",
    "\n",
    "plt.title(plot_title + str(\", %08.4fN %08.4fW\" % (POI[0], -POI[1])))\n",
    "plt.savefig(img_name, format=\"jpg\", dpi=300)\n",
    "\n",
    "TEMPO_Pandora_scatter_AllQ = np.empty([0, 3])\n",
    "for td in time_series_TEMPO_AllQ:\n",
    "    for pd in timeseries_Pandora_TEMPO_AllQ:\n",
    "        if td[0] == pd[0]:\n",
    "            TEMPO_Pandora_scatter_AllQ = np.append(\n",
    "                TEMPO_Pandora_scatter_AllQ, [[pd[1], td[1], pd[2]]], axis=0\n",
    "            )\n",
    "            break\n",
    "\n",
    "if len(TEMPO_Pandora_scatter_AllQ) == 0:\n",
    "    print(\n",
    "        \"TEMPO all quality and Pandora time series has less than 2 simultaneous measurements.\\n\"\n",
    "        + \"Potential cause for this problem is scarcity of TEMPO pixels with QF == 0.\\n\"\n",
    "        + \"The TEMPO science team recommends using only data with QF == 0.\\n\"\n",
    "        + \"Users may overcome the restriction on the quality flag set in section 6.3,\\n\"\n",
    "        + 'find \"total_O3_column_QF_loc == 0\" there. By doing so users assume risks of using low quality data.\\n'\n",
    "        + \"The problem of very scarse QF==0 pixels was previously documented.\\n\"\n",
    "        + \"There is nothing to plot here, this block is terminated.\\n\"\n",
    "        + \"Users may continue with DSCOVR EPIC vs. Pandora plot in the next section\"\n",
    "    )\n",
    "    sys.exit()\n",
    "\n",
    "regress = stats.linregress(TEMPO_Pandora_scatter_AllQ[:, 0], TEMPO_Pandora_scatter_AllQ[:, 1])\n",
    "slope = regress.slope\n",
    "intercept = regress.intercept\n",
    "r2 = regress.rvalue**2\n",
    "stderr = regress.stderr\n",
    "intercept_stderr = regress.intercept_stderr\n",
    "\n",
    "success, slope_0intercept, r2_0intercept = regress_0intercept(\n",
    "    TEMPO_Pandora_scatter_AllQ[:, 0], TEMPO_Pandora_scatter_AllQ[:, 1]\n",
    ")\n",
    "\n",
    "plot_title = (\n",
    "    \"O$_{3}$ total column, TEMPO AllQ w unc \"\n",
    "    + datestamp_ini\n",
    "    + \"_\"\n",
    "    + datestamp_fin\n",
    "    + \"\\n\"\n",
    "    + POI_name\n",
    ")\n",
    "img_name = (\n",
    "    \"TEMPO_AllQ_vs_Pandora_scatter_O3_tot_col_unc_\"\n",
    "    + datestamp_ini\n",
    "    + \"_\"\n",
    "    + datestamp_fin\n",
    "    + \"_\"\n",
    "    + POI_name\n",
    "    + \".jpg\"\n",
    ")\n",
    "\n",
    "fig = plt.figure()\n",
    "\n",
    "plt.errorbar(\n",
    "    TEMPO_Pandora_scatter_AllQ[:, 0],\n",
    "    TEMPO_Pandora_scatter_AllQ[:, 1],\n",
    "    xerr=TEMPO_Pandora_scatter_AllQ[:, 2],\n",
    "    c=\"m\",\n",
    "    ls=\"\",\n",
    "    marker=\".\",\n",
    ")\n",
    "\n",
    "plt.xlabel(r\"Pandora O$_{3}$ column, DU\", fontsize=12)\n",
    "plt.ylabel(r\"TEMPO O$_{3}$ column, DU\", fontsize=12)\n",
    "\n",
    "fig.text(\n",
    "    0.15,\n",
    "    0.725,\n",
    "    f\"# of points: {len(TEMPO_Pandora_scatter_AllQ):4d}\\nslope:{slope: 6.3f}$\\pm${stderr: 6.3f}\\nintercept: {intercept: 8.2e}$\\pm${intercept_stderr: 8.2e}\\nR$^{2}$ = {r2:6.3f}\",\n",
    ")\n",
    "\n",
    "# Set the range of x-axis\n",
    "l_lim = min(TEMPO_Pandora_scatter_AllQ[:, [0, 1]].flatten()) * 0.95\n",
    "u_lim = max(TEMPO_Pandora_scatter_AllQ[:, [0, 1]].flatten()) * 1.05\n",
    "plt.xlim(l_lim, u_lim)\n",
    "plt.ylim(l_lim, u_lim)\n",
    "\n",
    "plt.plot([l_lim, u_lim], [l_lim, u_lim], c=\"g\", ls=\"--\")\n",
    "\n",
    "plt.plot([l_lim, u_lim], [l_lim * slope + intercept, u_lim * slope + intercept], c=\"r\", ls=\"--\")\n",
    "\n",
    "if success:\n",
    "    plt.plot([l_lim, u_lim], [l_lim * slope_0intercept, u_lim * slope_0intercept], c=\"r\", ls=\"-.\")\n",
    "    fig.text(\n",
    "        0.6,\n",
    "        0.125,\n",
    "        f'\"no-intercept\" regression:\\nslope:{slope_0intercept: 6.3f} R$^{2}$ = {r2_0intercept:6.3f}',\n",
    "    )\n",
    "\n",
    "plt.title(plot_title + str(\", %08.4fN %08.4fW\" % (POI[0], -POI[1])))\n",
    "plt.savefig(img_name, format=\"jpg\", dpi=300)"
   ]
  },
  {
   "cell_type": "markdown",
   "metadata": {
    "id": "hNc6rfyms3h3"
   },
   "source": [
    "### 7.5.2 DSCOVR"
   ]
  },
  {
   "cell_type": "code",
   "execution_count": 71,
   "metadata": {
    "colab": {
     "base_uri": "https://localhost:8080/",
     "height": 497
    },
    "id": "Fk5erdtFMzuI",
    "outputId": "0cbda13e-feb6-4c15-d9a1-433bb72f8969"
   },
   "outputs": [
    {
     "name": "stderr",
     "output_type": "stream",
     "text": [
      "/srv/conda/envs/notebook/lib/python3.10/site-packages/scipy/stats/_stats_mstats_common.py:182: RuntimeWarning: invalid value encountered in scalar divide\n",
      "  slope = ssxym / ssxm\n",
      "/srv/conda/envs/notebook/lib/python3.10/site-packages/scipy/stats/_stats_mstats_common.py:196: RuntimeWarning: invalid value encountered in sqrt\n",
      "  t = r * np.sqrt(df / ((1.0 - r + TINY)*(1.0 + r + TINY)))\n",
      "/srv/conda/envs/notebook/lib/python3.10/site-packages/scipy/stats/_stats_mstats_common.py:199: RuntimeWarning: invalid value encountered in scalar divide\n",
      "  slope_stderr = np.sqrt((1 - r**2) * ssym / ssxm / df)\n"
     ]
    },
    {
     "data": {
      "image/png": "[encoded data removed]",
      "text/plain": [
       "<Figure size 640x480 with 1 Axes>"
      ]
     },
     "metadata": {},
     "output_type": "display_data"
    }
   ],
   "source": [
    "DSCOVR_Pandora_scatter = np.empty([0, 3])\n",
    "for Dd in time_series_DSCOVR:\n",
    "    for pd in timeseries_Pandora_DSCOVR:\n",
    "        if Dd[0] == pd[0]:\n",
    "            DSCOVR_Pandora_scatter = np.append(\n",
    "                DSCOVR_Pandora_scatter, [[pd[1], Dd[1], pd[2]]], axis=0\n",
    "            )\n",
    "            break\n",
    "\n",
    "regress = stats.linregress(DSCOVR_Pandora_scatter[:, 0], DSCOVR_Pandora_scatter[:, 1])\n",
    "slope = regress.slope\n",
    "intercept = regress.intercept\n",
    "r2 = regress.rvalue**2\n",
    "stderr = regress.stderr\n",
    "intercept_stderr = regress.intercept_stderr\n",
    "\n",
    "success, slope_0intercept, r2_0intercept = regress_0intercept(\n",
    "    DSCOVR_Pandora_scatter[:, 0], DSCOVR_Pandora_scatter[:, 1]\n",
    ")\n",
    "\n",
    "plot_title = \"O$_{3}$ total column, w unc \" + datestamp_ini + \"_\" + datestamp_fin + \"\\n\" + POI_name\n",
    "img_name = (\n",
    "    \"DSCOVR_vs_Pandora_scatter_O3_tot_col_unc_\"\n",
    "    + datestamp_ini\n",
    "    + \"_\"\n",
    "    + datestamp_fin\n",
    "    + \"_\"\n",
    "    + POI_name\n",
    "    + \".jpg\"\n",
    ")\n",
    "\n",
    "fig = plt.figure()\n",
    "\n",
    "plt.errorbar(\n",
    "    DSCOVR_Pandora_scatter[:, 0],\n",
    "    DSCOVR_Pandora_scatter[:, 1],\n",
    "    xerr=DSCOVR_Pandora_scatter[:, 2],\n",
    "    c=\"m\",\n",
    "    ls=\"\",\n",
    "    marker=\".\",\n",
    ")\n",
    "\n",
    "plt.xlabel(r\"Pandora O$_{3}$ column, DU\", fontsize=12)\n",
    "plt.ylabel(r\"DSCOVR O$_{3}$ column, DU\", fontsize=12)\n",
    "\n",
    "fig.text(\n",
    "    0.15,\n",
    "    0.75,\n",
    "    str(\n",
    "        \"# of points: %3i\\nslope:%6.3f ±%6.3f\\nintercept: %6.1f ± %6.1f\\nR2 = %6.3f\"\n",
    "        % (len(DSCOVR_Pandora_scatter), slope, stderr, intercept, intercept_stderr, r2)\n",
    "    ),\n",
    ")\n",
    "\n",
    "# Set the range of x-axis\n",
    "l_lim = min(DSCOVR_Pandora_scatter[:, [0, 1]].flatten()) * 0.95\n",
    "u_lim = max(DSCOVR_Pandora_scatter[:, [0, 1]].flatten()) * 1.05\n",
    "plt.xlim(l_lim, u_lim)\n",
    "plt.ylim(l_lim, u_lim)\n",
    "\n",
    "plt.plot([l_lim, u_lim], [l_lim, u_lim], c=\"g\", ls=\"--\")\n",
    "\n",
    "plt.plot([l_lim, u_lim], [l_lim * slope + intercept, u_lim * slope + intercept], c=\"r\", ls=\"--\")\n",
    "\n",
    "if success:\n",
    "    plt.plot([l_lim, u_lim], [l_lim * slope_0intercept, u_lim * slope_0intercept], c=\"r\", ls=\"-.\")\n",
    "    fig.text(\n",
    "        0.6,\n",
    "        0.15,\n",
    "        str(\n",
    "            '\"no-intercept\" regression:\\nslope:%6.3f R2 = %6.3f' % (slope_0intercept, r2_0intercept)\n",
    "        ),\n",
    "    )\n",
    "\n",
    "plt.title(plot_title + str(\", %08.4fN %08.4fW\" % (POI[0], -POI[1])))\n",
    "plt.savefig(img_name, format=\"jpg\", dpi=300)"
   ]
  },
  {
   "cell_type": "markdown",
   "metadata": {
    "id": "cKn-MLMuen1q"
   },
   "source": [
    "# EXTRA. Archiving output files to make downloading easier"
   ]
  },
  {
   "cell_type": "code",
   "execution_count": null,
   "metadata": {
    "id": "v-VbL8CNXsLL"
   },
   "outputs": [],
   "source": [
    "import zipfile\n",
    "import glob"
   ]
  },
  {
   "cell_type": "code",
   "execution_count": null,
   "metadata": {
    "id": "4e1JLotAX9OC"
   },
   "outputs": [],
   "source": [
    "list_jpg = glob.glob(\"*\" + datestamp_ini + \"_\" + datestamp_fin + \"_\" + POI_name + \".jpg\")\n",
    "\n",
    "with zipfile.ZipFile(\n",
    "    \"fig_\" + datestamp_ini + \"_\" + datestamp_fin + \"_\" + POI_name + \".zip\", \"w\"\n",
    ") as fig_zip:\n",
    "    for name in list_jpg:\n",
    "        fig_zip.write(name)"
   ]
  },
  {
   "cell_type": "code",
   "execution_count": null,
   "metadata": {
    "id": "JVkprHdiYpuS"
   },
   "outputs": [],
   "source": [
    "list_data = glob.glob(\"*\" + datestamp_ini + \"_\" + datestamp_fin + \"_\" + POI_name + \"*.txt\")\n",
    "\n",
    "with zipfile.ZipFile(\n",
    "    \"data_\" + datestamp_ini + \"_\" + datestamp_fin + \"_\" + POI_name + \".zip\", \"w\"\n",
    ") as data_zip:\n",
    "    for name in list_data:\n",
    "        data_zip.write(name)"
   ]
  },
  {
   "cell_type": "code",
   "execution_count": null,
   "metadata": {},
   "outputs": [],
   "source": [
    "! rm *.nc\n",
    "! rm *.h5"
   ]
  },
  {
   "cell_type": "code",
   "execution_count": null,
   "metadata": {},
   "outputs": [],
   "source": [
    "list_jpg = glob.glob(\"*.jpg\")\n",
    "\n",
    "with zipfile.ZipFile(\"fig_all.zip\", \"w\") as fig_zip:\n",
    "    for name in list_jpg:\n",
    "        fig_zip.write(name)\n",
    "\n",
    "list_jpg = glob.glob(\"*.png\")\n",
    "\n",
    "with zipfile.ZipFile(\"fig_all.zip\", \"a\") as fig_zip:\n",
    "    for name in list_jpg:\n",
    "        fig_zip.write(name)"
   ]
  },
  {
   "cell_type": "code",
   "execution_count": 72,
   "metadata": {},
   "outputs": [],
   "source": [
    "!rm *.nc *.h5"
   ]
  },
  {
   "cell_type": "code",
   "execution_count": null,
   "metadata": {},
   "outputs": [],
   "source": []
  }
 ],
 "metadata": {
  "colab": {
   "provenance": []
  },
  "kernelspec": {
   "display_name": "Python 3 (ipykernel)",
   "language": "python",
   "name": "python3"
  },
  "language_info": {
   "codemirror_mode": {
    "name": "ipython",
    "version": 3
   },
   "file_extension": ".py",
   "mimetype": "text/x-python",
   "name": "python",
   "nbconvert_exporter": "python",
   "pygments_lexer": "ipython3",
   "version": "3.10.14"
  }
 },
 "nbformat": 4,
 "nbformat_minor": 4
}
