{
 "cells": [
  {
   "cell_type": "markdown",
   "id": "d0901f74-213d-4d21-a0ce-23c53bfc069b",
   "metadata": {},
   "source": [
    "# Generate consolidated metadata reference - PREFIRE\n",
    "\n",
    "Generate consolidated metadata reference file (directly from all of the netCDF files) for all of a PREFIRE Level 3 data collection.\n",
    "\n",
    "- [ ] Can run on Openscapes’ JupyterHub\n",
    "- [ ] May need to modify underlying kerchunk code to get each group individually, and then combine\n",
    "- [ ] Or could use VirtualiZarr to open the DMR++ files and consolidate the metadata information from them\n",
    "\n",
    "Notes: \n",
    "- This was originally set up as a modification from James’ gist [https://gist.github.com/jrbourbeau/ab4b07f753d67eafd09a1580baea2b4a]\n",
    "- **In the latest virtualizarr version, we need `HDFParser` a `Store`, passing `group=` to the Parser**"
   ]
  },
  {
   "cell_type": "markdown",
   "id": "de8b2768-6457-4670-8b52-9d8e9648cdb7",
   "metadata": {},
   "source": [
    "## 1. Setup"
   ]
  },
  {
   "cell_type": "code",
   "execution_count": 1,
   "id": "b0fa9305-82b6-4ede-a664-8f2f7b401cb4",
   "metadata": {},
   "outputs": [],
   "source": [
    "import warnings\n",
    "from urllib.parse import urlparse\n",
    "\n",
    "import earthaccess\n",
    "import obstore\n",
    "import virtualizarr as vz\n",
    "import xarray as xr\n",
    "\n",
    "from tqdm import tqdm\n",
    "from obstore.store import LocalStore, S3Store\n",
    "from virtualizarr import open_virtual_dataset\n",
    "from virtualizarr.parsers import HDFParser\n",
    "from virtualizarr.registry import ObjectStoreRegistry"
   ]
  },
  {
   "cell_type": "markdown",
   "id": "ad741d11-e74b-4e86-86c7-45630bea4d5c",
   "metadata": {},
   "source": [
    "**This requires `virtualizarr>=2.0.1`**"
   ]
  },
  {
   "cell_type": "code",
   "execution_count": 5,
   "id": "8abc0305-9ae3-45ac-896c-594865411a47",
   "metadata": {},
   "outputs": [
    {
     "data": {
      "text/plain": [
       "'2.0.1'"
      ]
     },
     "execution_count": 5,
     "metadata": {},
     "output_type": "execute_result"
    }
   ],
   "source": [
    "vz.__version__"
   ]
  },
  {
   "cell_type": "code",
   "execution_count": 3,
   "id": "ccf3d8a1-e1a3-4d35-a494-a8e6cf484b4f",
   "metadata": {},
   "outputs": [
    {
     "data": {
      "text/plain": [
       "<earthaccess.auth.Auth at 0x7f875503b350>"
      ]
     },
     "execution_count": 3,
     "metadata": {},
     "output_type": "execute_result"
    }
   ],
   "source": [
    "# Authenticate my machine with `earthaccess`\n",
    "earthaccess.login()"
   ]
  },
  {
   "cell_type": "code",
   "execution_count": 4,
   "id": "07972562-6915-4096-bc44-aab415452fd0",
   "metadata": {},
   "outputs": [],
   "source": [
    "# Get AWS creds. Note that if you spend more than 1 hour in the notebook, you may have to re-run this line!!!\n",
    "creds = earthaccess.get_s3_credentials(daac=\"ASDC\")"
   ]
  },
  {
   "cell_type": "markdown",
   "id": "2126b148-cd0f-44af-8a49-bcc74b9065df",
   "metadata": {},
   "source": [
    "## 2. Generate virtual datacube"
   ]
  },
  {
   "cell_type": "markdown",
   "id": "268ce576-8118-4d1d-9988-7f4e1763d380",
   "metadata": {},
   "source": [
    "### 2.1. Get links to data of interest"
   ]
  },
  {
   "cell_type": "code",
   "execution_count": 6,
   "id": "dd9d4a90-1ca8-49e8-9c2b-ec92c7e43255",
   "metadata": {},
   "outputs": [],
   "source": [
    "# Retrieve data files for the dataset I'm interested in\n",
    "results = earthaccess.search_data(\n",
    "    short_name=\"PREFIRE_SAT2_3-SFC-SORTED-ALLSKY\",\n",
    "    version=\"R01\",\n",
    "    cloud_hosted=True,\n",
    "    # temporal=(\"2025-06-30 12:00\", \"2025-07-01 12:00\"),\n",
    ")"
   ]
  },
  {
   "cell_type": "code",
   "execution_count": 7,
   "id": "77c12998-2aa1-44ee-a972-3e22394665ce",
   "metadata": {},
   "outputs": [
    {
     "name": "stdout",
     "output_type": "stream",
     "text": [
      "Number of granules found = 12\n",
      "First few granules:\n"
     ]
    },
    {
     "data": {
      "text/plain": [
       "['s3://asdc-prod-protected/PREFIRE/PREFIRE_SAT2_3-SFC-SORTED-ALLSKY_R01/2024.07.01/PREFIRE_SAT2_3-SFC-SORTED-ALLSKY_R01_P00_20240701000000_20240731235959.nc',\n",
       " 's3://asdc-prod-protected/PREFIRE/PREFIRE_SAT2_3-SFC-SORTED-ALLSKY_R01/2024.08.01/PREFIRE_SAT2_3-SFC-SORTED-ALLSKY_R01_P00_20240801000000_20240831235959.nc',\n",
       " 's3://asdc-prod-protected/PREFIRE/PREFIRE_SAT2_3-SFC-SORTED-ALLSKY_R01/2024.09.01/PREFIRE_SAT2_3-SFC-SORTED-ALLSKY_R01_P00_20240901000000_20240930235959.nc']"
      ]
     },
     "execution_count": 7,
     "metadata": {},
     "output_type": "execute_result"
    }
   ],
   "source": [
    "# Get S3 endpoints for all files:\n",
    "data_s3links = [g.data_links(access=\"direct\")[0] for g in results]\n",
    "print(\"Number of granules found =\", len(data_s3links))\n",
    "print(\"First few granules:\")\n",
    "data_s3links[0:3]"
   ]
  },
  {
   "cell_type": "code",
   "execution_count": 8,
   "id": "a846056c-5c6a-43cd-a66e-069795f4d00e",
   "metadata": {},
   "outputs": [
    {
     "name": "stdout",
     "output_type": "stream",
     "text": [
      "url = s3://asdc-prod-protected/PREFIRE/PREFIRE_SAT2_3-SFC-SORTED-ALLSKY_R01/2024.07.01/PREFIRE_SAT2_3-SFC-SORTED-ALLSKY_R01_P00_20240701000000_20240731235959.nc\n",
      "\n",
      "parsed = ParseResult(scheme='s3', netloc='asdc-prod-protected', path='/PREFIRE/PREFIRE_SAT2_3-SFC-SORTED-ALLSKY_R01/2024.07.01/PREFIRE_SAT2_3-SFC-SORTED-ALLSKY_R01_P00_20240701000000_20240731235959.nc', params='', query='', fragment='')\n"
     ]
    }
   ],
   "source": [
    "url = data_s3links[0]\n",
    "parsed = urlparse(url)\n",
    "\n",
    "print(f\"url = {url}\")\n",
    "print(f\"\\nparsed = {parsed}\")"
   ]
  },
  {
   "cell_type": "code",
   "execution_count": 14,
   "id": "54697959-d48e-4b98-b74a-e00ab48ba2d9",
   "metadata": {},
   "outputs": [
    {
     "data": {
      "text/plain": [
       "S3Store(bucket=\"asdc-prod-protected\")"
      ]
     },
     "execution_count": 14,
     "metadata": {},
     "output_type": "execute_result"
    }
   ],
   "source": [
    "store = S3Store(\n",
    "    bucket=parsed.netloc,\n",
    "    region=\"us-west-2\",\n",
    "    access_key_id = creds['accessKeyId'],\n",
    "    secret_access_key= creds['secretAccessKey'],\n",
    "    token=creds['sessionToken'],\n",
    "    virtual_hosted_style_request=False,\n",
    "    client_options={\"allow_http\": True},\n",
    ")\n",
    "\n",
    "reg = ObjectStoreRegistry({\"s3://\" + parsed.netloc: store})\n",
    "\n",
    "store"
   ]
  },
  {
   "cell_type": "markdown",
   "id": "397690e2-3e47-4281-ba30-578138a4e23b",
   "metadata": {},
   "source": [
    "### 2.2. Test handling of a single file"
   ]
  },
  {
   "cell_type": "code",
   "execution_count": null,
   "id": "aac1a12d-16fa-41db-82a9-d26de1a10104",
   "metadata": {},
   "outputs": [],
   "source": [
    "files_downloaded = earthaccess.download(results)"
   ]
  },
  {
   "cell_type": "code",
   "execution_count": null,
   "id": "716205d3-6cba-440d-8c6c-d561f693f6fd",
   "metadata": {},
   "outputs": [],
   "source": [
    "dtree = xr.open_datatree(files_downloaded[0])\n",
    "dtree"
   ]
  },
  {
   "cell_type": "code",
   "execution_count": null,
   "id": "d13491d8-4e16-4693-a0c5-34884c467762",
   "metadata": {},
   "outputs": [],
   "source": [
    "open_virtual_dataset(\n",
    "    url, \n",
    "    registry=reg, \n",
    "    parser=HDFParser(group=\"Sfc-Sorted\")\n",
    ")"
   ]
  },
  {
   "cell_type": "markdown",
   "id": "39cc34ae-333c-46ae-b97b-895565de1909",
   "metadata": {},
   "source": [
    "### 2.3. **Generate virtual datacube, in series**\n",
    "\n",
    "We create a virtual datacube for each file in each group, concatenate the files within each group, and then merge groups."
   ]
  },
  {
   "cell_type": "code",
   "execution_count": null,
   "id": "ae530367-2d80-4d9f-a765-8c2af5ee36d2",
   "metadata": {},
   "outputs": [],
   "source": [
    "%%time\n",
    "vds_groups = {}\n",
    "\n",
    "def _open_and_append(file_path, group_name):\n",
    "    vds_groups.setdefault(group_name, []).append(\n",
    "        open_virtual_dataset(\n",
    "            url, \n",
    "            registry=reg,\n",
    "            parser=HDFParser(group=group_name),\n",
    "        )\n",
    "    )\n",
    "\n",
    "warnings.filterwarnings(\n",
    "  \"ignore\",\n",
    "  message=\"Numcodecs codecs are not in the Zarr version 3 specification*\",\n",
    "  category=UserWarning\n",
    ")\n",
    "\n",
    "for p in tqdm(data_s3links[:]):\n",
    "    # _open_and_append(p, group_name=\"\")\n",
    "    _open_and_append(p, group_name=\"Sfc-Sorted\")"
   ]
  },
  {
   "cell_type": "code",
   "execution_count": null,
   "id": "e0f831fd-ba43-4a16-96a7-2a3184ca3847",
   "metadata": {},
   "outputs": [],
   "source": [
    "%%time\n",
    "xr_concat_kwargs = {\n",
    "    \"coords\": \"minimal\",\n",
    "    \"compat\": \"override\",\n",
    "    \"combine_attrs\": \"override\",\n",
    "    \"data_vars\": \"minimal\"\n",
    "}\n",
    "\n",
    "# vds_root = xr.concat(vds_groups[\"\"], dim=\"time\", **xr_concat_kwargs)\n",
    "vds_sfc_sorted = xr.concat(vds_groups[\"Sfc-Sorted\"], dim=\"time\", **xr_concat_kwargs)"
   ]
  },
  {
   "cell_type": "code",
   "execution_count": null,
   "id": "516b463d-e142-494e-8196-d395753ab288",
   "metadata": {},
   "outputs": [],
   "source": [
    "# %%time\n",
    "# vds_merged = xr.merge([\n",
    "#     vds_root, \n",
    "#     vds_sfc_sorted, \n",
    "# ])\n",
    "# vds_merged\n",
    "\n",
    "# *** OR ***\n",
    "\n",
    "vds_merged = vds_sfc_sorted"
   ]
  },
  {
   "cell_type": "code",
   "execution_count": null,
   "id": "9469c734-e7de-482b-ba61-3419ba014247",
   "metadata": {},
   "outputs": [],
   "source": [
    "vds_merged.vz.to_kerchunk(\"prefire-monthly-kerchunk_created20250815.json\", format=\"json\")"
   ]
  },
  {
   "cell_type": "markdown",
   "id": "226e1d6b-27bf-4050-a43a-894577fa913b",
   "metadata": {},
   "source": [
    "## 3. Reading an existing kerchunk file"
   ]
  },
  {
   "cell_type": "markdown",
   "id": "814160cf-8586-46a6-8bb0-735bb58fac11",
   "metadata": {},
   "source": [
    "### 3.1. Setup"
   ]
  },
  {
   "cell_type": "code",
   "execution_count": 23,
   "id": "f5ab509f-1dc9-437f-ad13-d4e07eb71d14",
   "metadata": {},
   "outputs": [],
   "source": [
    "import json\n",
    "import os\n",
    "\n",
    "from pathlib import Path\n",
    "from obstore.store import LocalStore\n",
    "from virtualizarr.parsers import KerchunkJSONParser\n",
    "\n",
    "warnings.filterwarnings(\n",
    "  \"ignore\",\n",
    "  message=\"Numcodecs codecs are not in the Zarr version 3 specification*\",\n",
    "  category=UserWarning\n",
    ")"
   ]
  },
  {
   "cell_type": "code",
   "execution_count": 27,
   "id": "c2ed8227-c06d-46d2-a04a-d91d6f69ead4",
   "metadata": {},
   "outputs": [],
   "source": [
    "# Here is the JSON we will read.\n",
    "json_ref_file = \"prefire-monthly-kerchunk_created20250815.json\""
   ]
  },
  {
   "cell_type": "code",
   "execution_count": null,
   "id": "b64639a8-4c79-4542-8161-518bf431b155",
   "metadata": {},
   "outputs": [],
   "source": [
    "with open(json_ref_file) as f:\n",
    "    metadata = json.load(f)"
   ]
  },
  {
   "cell_type": "code",
   "execution_count": 52,
   "id": "18d2eab7-d0c8-4868-b18c-0aa1840da75c",
   "metadata": {},
   "outputs": [
    {
     "data": {
      "text/plain": [
       "LocalStore(\"/home/jovyan/earthaccess-virtualizar\")"
      ]
     },
     "execution_count": 52,
     "metadata": {},
     "output_type": "execute_result"
    }
   ],
   "source": [
    "# Here we create a LocalStore\n",
    "project_directory = Path.cwd()\n",
    "local_store = LocalStore(prefix=project_directory)\n",
    "\n",
    "local_store"
   ]
  },
  {
   "cell_type": "code",
   "execution_count": 53,
   "id": "957c919f-1a51-45c0-98c7-bdb4f91789bd",
   "metadata": {},
   "outputs": [
    {
     "data": {
      "text/plain": [
       "<virtualizarr.registry.ObjectStoreRegistry at 0x7f870a9d5810>"
      ]
     },
     "execution_count": 53,
     "metadata": {},
     "output_type": "execute_result"
    }
   ],
   "source": [
    "project_url = f\"file://{project_directory / json_ref_file}\"\n",
    "local_registry = ObjectStoreRegistry({project_url: local_store})\n",
    "\n",
    "local_registry"
   ]
  },
  {
   "cell_type": "markdown",
   "id": "4d999fc9-4045-4ab5-8ba2-74efa496be27",
   "metadata": {},
   "source": [
    "### 3.2. Read it"
   ]
  },
  {
   "cell_type": "code",
   "execution_count": 60,
   "id": "51ccae5f-5a67-4f6e-a9fa-7904a039771e",
   "metadata": {},
   "outputs": [
    {
     "data": {
      "text/plain": [
       "<virtualizarr.manifests.store.ManifestStore at 0x7f86f130a550>"
      ]
     },
     "execution_count": 60,
     "metadata": {},
     "output_type": "execute_result"
    }
   ],
   "source": [
    "json_parser = KerchunkJSONParser()\n",
    "\n",
    "manifest_store = json_parser(\n",
    "    url=project_url, \n",
    "    registry=local_registry\n",
    ")\n",
    "\n",
    "manifest_store"
   ]
  },
  {
   "cell_type": "code",
   "execution_count": 61,
   "id": "966b5afc-ec21-4eee-88c5-914ab16b4fe5",
   "metadata": {},
   "outputs": [
    {
     "ename": "GroupNotFoundError",
     "evalue": "No group found in store <virtualizarr.manifests.store.ManifestStore object at 0x7f86f130a550> at path ''",
     "output_type": "error",
     "traceback": [
      "\u001b[31m---------------------------------------------------------------------------\u001b[39m",
      "\u001b[31mGroupNotFoundError\u001b[39m                        Traceback (most recent call last)",
      "\u001b[36mCell\u001b[39m\u001b[36m \u001b[39m\u001b[32mIn[61]\u001b[39m\u001b[32m, line 1\u001b[39m\n\u001b[32m----> \u001b[39m\u001b[32m1\u001b[39m data = \u001b[43mxr\u001b[49m\u001b[43m.\u001b[49m\u001b[43mopen_dataset\u001b[49m\u001b[43m(\u001b[49m\n\u001b[32m      2\u001b[39m \u001b[43m    \u001b[49m\u001b[43mmanifest_store\u001b[49m\u001b[43m,\u001b[49m\u001b[43m \u001b[49m\n\u001b[32m      3\u001b[39m \u001b[43m    \u001b[49m\u001b[43mengine\u001b[49m\u001b[43m=\u001b[49m\u001b[33;43m\"\u001b[39;49m\u001b[33;43mzarr\u001b[39;49m\u001b[33;43m\"\u001b[39;49m\u001b[43m,\u001b[49m\u001b[43m \u001b[49m\n\u001b[32m      4\u001b[39m \u001b[43m    \u001b[49m\u001b[43mchunks\u001b[49m\u001b[43m=\u001b[49m\u001b[43m{\u001b[49m\u001b[43m}\u001b[49m\u001b[43m,\u001b[49m\n\u001b[32m      5\u001b[39m \u001b[43m    \u001b[49m\u001b[43mbackend_kwargs\u001b[49m\u001b[43m=\u001b[49m\u001b[43m{\u001b[49m\u001b[33;43m\"\u001b[39;49m\u001b[33;43mconsolidated\u001b[39;49m\u001b[33;43m\"\u001b[39;49m\u001b[43m:\u001b[49m\u001b[43m \u001b[49m\u001b[38;5;28;43;01mFalse\u001b[39;49;00m\u001b[43m}\u001b[49m\n\u001b[32m      6\u001b[39m \u001b[43m)\u001b[49m\n",
      "\u001b[36mFile \u001b[39m\u001b[32m/srv/conda/envs/notebook/lib/python3.11/site-packages/xarray/backends/api.py:687\u001b[39m, in \u001b[36mopen_dataset\u001b[39m\u001b[34m(filename_or_obj, engine, chunks, cache, decode_cf, mask_and_scale, decode_times, decode_timedelta, use_cftime, concat_characters, decode_coords, drop_variables, inline_array, chunked_array_type, from_array_kwargs, backend_kwargs, **kwargs)\u001b[39m\n\u001b[32m    675\u001b[39m decoders = _resolve_decoders_kwargs(\n\u001b[32m    676\u001b[39m     decode_cf,\n\u001b[32m    677\u001b[39m     open_backend_dataset_parameters=backend.open_dataset_parameters,\n\u001b[32m   (...)\u001b[39m\u001b[32m    683\u001b[39m     decode_coords=decode_coords,\n\u001b[32m    684\u001b[39m )\n\u001b[32m    686\u001b[39m overwrite_encoded_chunks = kwargs.pop(\u001b[33m\"\u001b[39m\u001b[33moverwrite_encoded_chunks\u001b[39m\u001b[33m\"\u001b[39m, \u001b[38;5;28;01mNone\u001b[39;00m)\n\u001b[32m--> \u001b[39m\u001b[32m687\u001b[39m backend_ds = \u001b[43mbackend\u001b[49m\u001b[43m.\u001b[49m\u001b[43mopen_dataset\u001b[49m\u001b[43m(\u001b[49m\n\u001b[32m    688\u001b[39m \u001b[43m    \u001b[49m\u001b[43mfilename_or_obj\u001b[49m\u001b[43m,\u001b[49m\n\u001b[32m    689\u001b[39m \u001b[43m    \u001b[49m\u001b[43mdrop_variables\u001b[49m\u001b[43m=\u001b[49m\u001b[43mdrop_variables\u001b[49m\u001b[43m,\u001b[49m\n\u001b[32m    690\u001b[39m \u001b[43m    \u001b[49m\u001b[43m*\u001b[49m\u001b[43m*\u001b[49m\u001b[43mdecoders\u001b[49m\u001b[43m,\u001b[49m\n\u001b[32m    691\u001b[39m \u001b[43m    \u001b[49m\u001b[43m*\u001b[49m\u001b[43m*\u001b[49m\u001b[43mkwargs\u001b[49m\u001b[43m,\u001b[49m\n\u001b[32m    692\u001b[39m \u001b[43m\u001b[49m\u001b[43m)\u001b[49m\n\u001b[32m    693\u001b[39m ds = _dataset_from_backend_dataset(\n\u001b[32m    694\u001b[39m     backend_ds,\n\u001b[32m    695\u001b[39m     filename_or_obj,\n\u001b[32m   (...)\u001b[39m\u001b[32m    705\u001b[39m     **kwargs,\n\u001b[32m    706\u001b[39m )\n\u001b[32m    707\u001b[39m \u001b[38;5;28;01mreturn\u001b[39;00m ds\n",
      "\u001b[36mFile \u001b[39m\u001b[32m/srv/conda/envs/notebook/lib/python3.11/site-packages/xarray/backends/zarr.py:1578\u001b[39m, in \u001b[36mZarrBackendEntrypoint.open_dataset\u001b[39m\u001b[34m(self, filename_or_obj, mask_and_scale, decode_times, concat_characters, decode_coords, drop_variables, use_cftime, decode_timedelta, group, mode, synchronizer, consolidated, chunk_store, storage_options, zarr_version, zarr_format, store, engine, use_zarr_fill_value_as_mask, cache_members)\u001b[39m\n\u001b[32m   1576\u001b[39m filename_or_obj = _normalize_path(filename_or_obj)\n\u001b[32m   1577\u001b[39m \u001b[38;5;28;01mif\u001b[39;00m \u001b[38;5;129;01mnot\u001b[39;00m store:\n\u001b[32m-> \u001b[39m\u001b[32m1578\u001b[39m     store = \u001b[43mZarrStore\u001b[49m\u001b[43m.\u001b[49m\u001b[43mopen_group\u001b[49m\u001b[43m(\u001b[49m\n\u001b[32m   1579\u001b[39m \u001b[43m        \u001b[49m\u001b[43mfilename_or_obj\u001b[49m\u001b[43m,\u001b[49m\n\u001b[32m   1580\u001b[39m \u001b[43m        \u001b[49m\u001b[43mgroup\u001b[49m\u001b[43m=\u001b[49m\u001b[43mgroup\u001b[49m\u001b[43m,\u001b[49m\n\u001b[32m   1581\u001b[39m \u001b[43m        \u001b[49m\u001b[43mmode\u001b[49m\u001b[43m=\u001b[49m\u001b[43mmode\u001b[49m\u001b[43m,\u001b[49m\n\u001b[32m   1582\u001b[39m \u001b[43m        \u001b[49m\u001b[43msynchronizer\u001b[49m\u001b[43m=\u001b[49m\u001b[43msynchronizer\u001b[49m\u001b[43m,\u001b[49m\n\u001b[32m   1583\u001b[39m \u001b[43m        \u001b[49m\u001b[43mconsolidated\u001b[49m\u001b[43m=\u001b[49m\u001b[43mconsolidated\u001b[49m\u001b[43m,\u001b[49m\n\u001b[32m   1584\u001b[39m \u001b[43m        \u001b[49m\u001b[43mconsolidate_on_close\u001b[49m\u001b[43m=\u001b[49m\u001b[38;5;28;43;01mFalse\u001b[39;49;00m\u001b[43m,\u001b[49m\n\u001b[32m   1585\u001b[39m \u001b[43m        \u001b[49m\u001b[43mchunk_store\u001b[49m\u001b[43m=\u001b[49m\u001b[43mchunk_store\u001b[49m\u001b[43m,\u001b[49m\n\u001b[32m   1586\u001b[39m \u001b[43m        \u001b[49m\u001b[43mstorage_options\u001b[49m\u001b[43m=\u001b[49m\u001b[43mstorage_options\u001b[49m\u001b[43m,\u001b[49m\n\u001b[32m   1587\u001b[39m \u001b[43m        \u001b[49m\u001b[43mzarr_version\u001b[49m\u001b[43m=\u001b[49m\u001b[43mzarr_version\u001b[49m\u001b[43m,\u001b[49m\n\u001b[32m   1588\u001b[39m \u001b[43m        \u001b[49m\u001b[43muse_zarr_fill_value_as_mask\u001b[49m\u001b[43m=\u001b[49m\u001b[38;5;28;43;01mNone\u001b[39;49;00m\u001b[43m,\u001b[49m\n\u001b[32m   1589\u001b[39m \u001b[43m        \u001b[49m\u001b[43mzarr_format\u001b[49m\u001b[43m=\u001b[49m\u001b[43mzarr_format\u001b[49m\u001b[43m,\u001b[49m\n\u001b[32m   1590\u001b[39m \u001b[43m        \u001b[49m\u001b[43mcache_members\u001b[49m\u001b[43m=\u001b[49m\u001b[43mcache_members\u001b[49m\u001b[43m,\u001b[49m\n\u001b[32m   1591\u001b[39m \u001b[43m    \u001b[49m\u001b[43m)\u001b[49m\n\u001b[32m   1593\u001b[39m store_entrypoint = StoreBackendEntrypoint()\n\u001b[32m   1594\u001b[39m \u001b[38;5;28;01mwith\u001b[39;00m close_on_error(store):\n",
      "\u001b[36mFile \u001b[39m\u001b[32m/srv/conda/envs/notebook/lib/python3.11/site-packages/xarray/backends/zarr.py:664\u001b[39m, in \u001b[36mZarrStore.open_group\u001b[39m\u001b[34m(cls, store, mode, synchronizer, group, consolidated, consolidate_on_close, chunk_store, storage_options, append_dim, write_region, safe_chunks, align_chunks, zarr_version, zarr_format, use_zarr_fill_value_as_mask, write_empty, cache_members)\u001b[39m\n\u001b[32m    638\u001b[39m \u001b[38;5;129m@classmethod\u001b[39m\n\u001b[32m    639\u001b[39m \u001b[38;5;28;01mdef\u001b[39;00m\u001b[38;5;250m \u001b[39m\u001b[34mopen_group\u001b[39m(\n\u001b[32m    640\u001b[39m     \u001b[38;5;28mcls\u001b[39m,\n\u001b[32m   (...)\u001b[39m\u001b[32m    657\u001b[39m     cache_members: \u001b[38;5;28mbool\u001b[39m = \u001b[38;5;28;01mTrue\u001b[39;00m,\n\u001b[32m    658\u001b[39m ):\n\u001b[32m    659\u001b[39m     (\n\u001b[32m    660\u001b[39m         zarr_group,\n\u001b[32m    661\u001b[39m         consolidate_on_close,\n\u001b[32m    662\u001b[39m         close_store_on_close,\n\u001b[32m    663\u001b[39m         use_zarr_fill_value_as_mask,\n\u001b[32m--> \u001b[39m\u001b[32m664\u001b[39m     ) = \u001b[43m_get_open_params\u001b[49m\u001b[43m(\u001b[49m\n\u001b[32m    665\u001b[39m \u001b[43m        \u001b[49m\u001b[43mstore\u001b[49m\u001b[43m=\u001b[49m\u001b[43mstore\u001b[49m\u001b[43m,\u001b[49m\n\u001b[32m    666\u001b[39m \u001b[43m        \u001b[49m\u001b[43mmode\u001b[49m\u001b[43m=\u001b[49m\u001b[43mmode\u001b[49m\u001b[43m,\u001b[49m\n\u001b[32m    667\u001b[39m \u001b[43m        \u001b[49m\u001b[43msynchronizer\u001b[49m\u001b[43m=\u001b[49m\u001b[43msynchronizer\u001b[49m\u001b[43m,\u001b[49m\n\u001b[32m    668\u001b[39m \u001b[43m        \u001b[49m\u001b[43mgroup\u001b[49m\u001b[43m=\u001b[49m\u001b[43mgroup\u001b[49m\u001b[43m,\u001b[49m\n\u001b[32m    669\u001b[39m \u001b[43m        \u001b[49m\u001b[43mconsolidated\u001b[49m\u001b[43m=\u001b[49m\u001b[43mconsolidated\u001b[49m\u001b[43m,\u001b[49m\n\u001b[32m    670\u001b[39m \u001b[43m        \u001b[49m\u001b[43mconsolidate_on_close\u001b[49m\u001b[43m=\u001b[49m\u001b[43mconsolidate_on_close\u001b[49m\u001b[43m,\u001b[49m\n\u001b[32m    671\u001b[39m \u001b[43m        \u001b[49m\u001b[43mchunk_store\u001b[49m\u001b[43m=\u001b[49m\u001b[43mchunk_store\u001b[49m\u001b[43m,\u001b[49m\n\u001b[32m    672\u001b[39m \u001b[43m        \u001b[49m\u001b[43mstorage_options\u001b[49m\u001b[43m=\u001b[49m\u001b[43mstorage_options\u001b[49m\u001b[43m,\u001b[49m\n\u001b[32m    673\u001b[39m \u001b[43m        \u001b[49m\u001b[43mzarr_version\u001b[49m\u001b[43m=\u001b[49m\u001b[43mzarr_version\u001b[49m\u001b[43m,\u001b[49m\n\u001b[32m    674\u001b[39m \u001b[43m        \u001b[49m\u001b[43muse_zarr_fill_value_as_mask\u001b[49m\u001b[43m=\u001b[49m\u001b[43muse_zarr_fill_value_as_mask\u001b[49m\u001b[43m,\u001b[49m\n\u001b[32m    675\u001b[39m \u001b[43m        \u001b[49m\u001b[43mzarr_format\u001b[49m\u001b[43m=\u001b[49m\u001b[43mzarr_format\u001b[49m\u001b[43m,\u001b[49m\n\u001b[32m    676\u001b[39m \u001b[43m    \u001b[49m\u001b[43m)\u001b[49m\n\u001b[32m    678\u001b[39m     \u001b[38;5;28;01mreturn\u001b[39;00m \u001b[38;5;28mcls\u001b[39m(\n\u001b[32m    679\u001b[39m         zarr_group,\n\u001b[32m    680\u001b[39m         mode,\n\u001b[32m   (...)\u001b[39m\u001b[32m    689\u001b[39m         cache_members=cache_members,\n\u001b[32m    690\u001b[39m     )\n",
      "\u001b[36mFile \u001b[39m\u001b[32m/srv/conda/envs/notebook/lib/python3.11/site-packages/xarray/backends/zarr.py:1815\u001b[39m, in \u001b[36m_get_open_params\u001b[39m\u001b[34m(store, mode, synchronizer, group, consolidated, consolidate_on_close, chunk_store, storage_options, zarr_version, use_zarr_fill_value_as_mask, zarr_format)\u001b[39m\n\u001b[32m   1811\u001b[39m     \u001b[38;5;28;01mif\u001b[39;00m _zarr_v3():\n\u001b[32m   1812\u001b[39m         \u001b[38;5;66;03m# we have determined that we don't want to use consolidated metadata\u001b[39;00m\n\u001b[32m   1813\u001b[39m         \u001b[38;5;66;03m# so we set that to False to avoid trying to read it\u001b[39;00m\n\u001b[32m   1814\u001b[39m         open_kwargs[\u001b[33m\"\u001b[39m\u001b[33muse_consolidated\u001b[39m\u001b[33m\"\u001b[39m] = \u001b[38;5;28;01mFalse\u001b[39;00m\n\u001b[32m-> \u001b[39m\u001b[32m1815\u001b[39m     zarr_group = \u001b[43mzarr\u001b[49m\u001b[43m.\u001b[49m\u001b[43mopen_group\u001b[49m\u001b[43m(\u001b[49m\u001b[43mstore\u001b[49m\u001b[43m,\u001b[49m\u001b[43m \u001b[49m\u001b[43m*\u001b[49m\u001b[43m*\u001b[49m\u001b[43mopen_kwargs\u001b[49m\u001b[43m)\u001b[49m\n\u001b[32m   1817\u001b[39m close_store_on_close = zarr_group.store \u001b[38;5;129;01mis\u001b[39;00m \u001b[38;5;129;01mnot\u001b[39;00m store\n\u001b[32m   1819\u001b[39m \u001b[38;5;66;03m# we use this to determine how to handle fill_value\u001b[39;00m\n",
      "\u001b[36mFile \u001b[39m\u001b[32m/srv/conda/envs/notebook/lib/python3.11/site-packages/zarr/api/synchronous.py:531\u001b[39m, in \u001b[36mopen_group\u001b[39m\u001b[34m(store, mode, cache_attrs, synchronizer, path, chunk_store, storage_options, zarr_version, zarr_format, meta_array, attributes, use_consolidated)\u001b[39m\n\u001b[32m    454\u001b[39m \u001b[38;5;28;01mdef\u001b[39;00m\u001b[38;5;250m \u001b[39m\u001b[34mopen_group\u001b[39m(\n\u001b[32m    455\u001b[39m     store: StoreLike | \u001b[38;5;28;01mNone\u001b[39;00m = \u001b[38;5;28;01mNone\u001b[39;00m,\n\u001b[32m    456\u001b[39m     *,\n\u001b[32m   (...)\u001b[39m\u001b[32m    467\u001b[39m     use_consolidated: \u001b[38;5;28mbool\u001b[39m | \u001b[38;5;28mstr\u001b[39m | \u001b[38;5;28;01mNone\u001b[39;00m = \u001b[38;5;28;01mNone\u001b[39;00m,\n\u001b[32m    468\u001b[39m ) -> Group:\n\u001b[32m    469\u001b[39m \u001b[38;5;250m    \u001b[39m\u001b[33;03m\"\"\"Open a group using file-mode-like semantics.\u001b[39;00m\n\u001b[32m    470\u001b[39m \n\u001b[32m    471\u001b[39m \u001b[33;03m    Parameters\u001b[39;00m\n\u001b[32m   (...)\u001b[39m\u001b[32m    528\u001b[39m \u001b[33;03m        The new group.\u001b[39;00m\n\u001b[32m    529\u001b[39m \u001b[33;03m    \"\"\"\u001b[39;00m\n\u001b[32m    530\u001b[39m     \u001b[38;5;28;01mreturn\u001b[39;00m Group(\n\u001b[32m--> \u001b[39m\u001b[32m531\u001b[39m         \u001b[43msync\u001b[49m\u001b[43m(\u001b[49m\n\u001b[32m    532\u001b[39m \u001b[43m            \u001b[49m\u001b[43masync_api\u001b[49m\u001b[43m.\u001b[49m\u001b[43mopen_group\u001b[49m\u001b[43m(\u001b[49m\n\u001b[32m    533\u001b[39m \u001b[43m                \u001b[49m\u001b[43mstore\u001b[49m\u001b[43m=\u001b[49m\u001b[43mstore\u001b[49m\u001b[43m,\u001b[49m\n\u001b[32m    534\u001b[39m \u001b[43m                \u001b[49m\u001b[43mmode\u001b[49m\u001b[43m=\u001b[49m\u001b[43mmode\u001b[49m\u001b[43m,\u001b[49m\n\u001b[32m    535\u001b[39m \u001b[43m                \u001b[49m\u001b[43mcache_attrs\u001b[49m\u001b[43m=\u001b[49m\u001b[43mcache_attrs\u001b[49m\u001b[43m,\u001b[49m\n\u001b[32m    536\u001b[39m \u001b[43m                \u001b[49m\u001b[43msynchronizer\u001b[49m\u001b[43m=\u001b[49m\u001b[43msynchronizer\u001b[49m\u001b[43m,\u001b[49m\n\u001b[32m    537\u001b[39m \u001b[43m                \u001b[49m\u001b[43mpath\u001b[49m\u001b[43m=\u001b[49m\u001b[43mpath\u001b[49m\u001b[43m,\u001b[49m\n\u001b[32m    538\u001b[39m \u001b[43m                \u001b[49m\u001b[43mchunk_store\u001b[49m\u001b[43m=\u001b[49m\u001b[43mchunk_store\u001b[49m\u001b[43m,\u001b[49m\n\u001b[32m    539\u001b[39m \u001b[43m                \u001b[49m\u001b[43mstorage_options\u001b[49m\u001b[43m=\u001b[49m\u001b[43mstorage_options\u001b[49m\u001b[43m,\u001b[49m\n\u001b[32m    540\u001b[39m \u001b[43m                \u001b[49m\u001b[43mzarr_version\u001b[49m\u001b[43m=\u001b[49m\u001b[43mzarr_version\u001b[49m\u001b[43m,\u001b[49m\n\u001b[32m    541\u001b[39m \u001b[43m                \u001b[49m\u001b[43mzarr_format\u001b[49m\u001b[43m=\u001b[49m\u001b[43mzarr_format\u001b[49m\u001b[43m,\u001b[49m\n\u001b[32m    542\u001b[39m \u001b[43m                \u001b[49m\u001b[43mmeta_array\u001b[49m\u001b[43m=\u001b[49m\u001b[43mmeta_array\u001b[49m\u001b[43m,\u001b[49m\n\u001b[32m    543\u001b[39m \u001b[43m                \u001b[49m\u001b[43mattributes\u001b[49m\u001b[43m=\u001b[49m\u001b[43mattributes\u001b[49m\u001b[43m,\u001b[49m\n\u001b[32m    544\u001b[39m \u001b[43m                \u001b[49m\u001b[43muse_consolidated\u001b[49m\u001b[43m=\u001b[49m\u001b[43muse_consolidated\u001b[49m\u001b[43m,\u001b[49m\n\u001b[32m    545\u001b[39m \u001b[43m            \u001b[49m\u001b[43m)\u001b[49m\n\u001b[32m    546\u001b[39m \u001b[43m        \u001b[49m\u001b[43m)\u001b[49m\n\u001b[32m    547\u001b[39m     )\n",
      "\u001b[36mFile \u001b[39m\u001b[32m/srv/conda/envs/notebook/lib/python3.11/site-packages/zarr/core/sync.py:163\u001b[39m, in \u001b[36msync\u001b[39m\u001b[34m(coro, loop, timeout)\u001b[39m\n\u001b[32m    160\u001b[39m return_result = \u001b[38;5;28mnext\u001b[39m(\u001b[38;5;28miter\u001b[39m(finished)).result()\n\u001b[32m    162\u001b[39m \u001b[38;5;28;01mif\u001b[39;00m \u001b[38;5;28misinstance\u001b[39m(return_result, \u001b[38;5;167;01mBaseException\u001b[39;00m):\n\u001b[32m--> \u001b[39m\u001b[32m163\u001b[39m     \u001b[38;5;28;01mraise\u001b[39;00m return_result\n\u001b[32m    164\u001b[39m \u001b[38;5;28;01melse\u001b[39;00m:\n\u001b[32m    165\u001b[39m     \u001b[38;5;28;01mreturn\u001b[39;00m return_result\n",
      "\u001b[36mFile \u001b[39m\u001b[32m/srv/conda/envs/notebook/lib/python3.11/site-packages/zarr/core/sync.py:119\u001b[39m, in \u001b[36m_runner\u001b[39m\u001b[34m(coro)\u001b[39m\n\u001b[32m    114\u001b[39m \u001b[38;5;250m\u001b[39m\u001b[33;03m\"\"\"\u001b[39;00m\n\u001b[32m    115\u001b[39m \u001b[33;03mAwait a coroutine and return the result of running it. If awaiting the coroutine raises an\u001b[39;00m\n\u001b[32m    116\u001b[39m \u001b[33;03mexception, the exception will be returned.\u001b[39;00m\n\u001b[32m    117\u001b[39m \u001b[33;03m\"\"\"\u001b[39;00m\n\u001b[32m    118\u001b[39m \u001b[38;5;28;01mtry\u001b[39;00m:\n\u001b[32m--> \u001b[39m\u001b[32m119\u001b[39m     \u001b[38;5;28;01mreturn\u001b[39;00m \u001b[38;5;28;01mawait\u001b[39;00m coro\n\u001b[32m    120\u001b[39m \u001b[38;5;28;01mexcept\u001b[39;00m \u001b[38;5;167;01mException\u001b[39;00m \u001b[38;5;28;01mas\u001b[39;00m ex:\n\u001b[32m    121\u001b[39m     \u001b[38;5;28;01mreturn\u001b[39;00m ex\n",
      "\u001b[36mFile \u001b[39m\u001b[32m/srv/conda/envs/notebook/lib/python3.11/site-packages/zarr/api/asynchronous.py:858\u001b[39m, in \u001b[36mopen_group\u001b[39m\u001b[34m(store, mode, cache_attrs, synchronizer, path, chunk_store, storage_options, zarr_version, zarr_format, meta_array, attributes, use_consolidated)\u001b[39m\n\u001b[32m    851\u001b[39m     _zarr_format = zarr_format \u001b[38;5;129;01mor\u001b[39;00m _default_zarr_format()\n\u001b[32m    852\u001b[39m     \u001b[38;5;28;01mreturn\u001b[39;00m \u001b[38;5;28;01mawait\u001b[39;00m AsyncGroup.from_store(\n\u001b[32m    853\u001b[39m         store_path,\n\u001b[32m    854\u001b[39m         zarr_format=_zarr_format,\n\u001b[32m    855\u001b[39m         overwrite=overwrite,\n\u001b[32m    856\u001b[39m         attributes=attributes,\n\u001b[32m    857\u001b[39m     )\n\u001b[32m--> \u001b[39m\u001b[32m858\u001b[39m \u001b[38;5;28;01mraise\u001b[39;00m GroupNotFoundError(store, store_path.path)\n",
      "\u001b[31mGroupNotFoundError\u001b[39m: No group found in store <virtualizarr.manifests.store.ManifestStore object at 0x7f86f130a550> at path ''"
     ]
    }
   ],
   "source": [
    "data = xr.open_dataset(\n",
    "    manifest_store, \n",
    "    engine=\"zarr\", \n",
    "    chunks={},\n",
    "    backend_kwargs={\"consolidated\": False}\n",
    ")"
   ]
  },
  {
   "cell_type": "markdown",
   "id": "a5522a5b-1c9c-459c-9cad-ae7e265cee09",
   "metadata": {},
   "source": []
  },
  {
   "cell_type": "code",
   "execution_count": null,
   "id": "88efd0cf-2105-496f-8b00-8251b0ad47b8",
   "metadata": {},
   "outputs": [],
   "source": []
  },
  {
   "cell_type": "markdown",
   "id": "727b05b9-07df-4f7f-b91b-5d73d309a1f7",
   "metadata": {},
   "source": [
    "## Extra, unused code below..."
   ]
  },
  {
   "cell_type": "code",
   "execution_count": null,
   "id": "2f0e6c8e-25c8-4369-89f0-c40fc521fd0e",
   "metadata": {},
   "outputs": [],
   "source": [
    "# data = xr.open_dataset(\n",
    "#     metadata, \n",
    "#     engine=\"zarr\"\n",
    "# )"
   ]
  },
  {
   "cell_type": "code",
   "execution_count": null,
   "id": "529b3850-5366-4575-b0b8-11c44cad1439",
   "metadata": {},
   "outputs": [],
   "source": []
  },
  {
   "cell_type": "code",
   "execution_count": null,
   "id": "1d577b7b-ee14-48dc-80be-2480d4c55ab3",
   "metadata": {},
   "outputs": [],
   "source": [
    "# vds = open_virtual_dataset(\n",
    "#     json_ref_file,\n",
    "#     registry=registry,\n",
    "#     parser=KerchunkJSONParser()\n",
    "#     # parser=HDFParser()\n",
    "# )\n",
    "# vds"
   ]
  },
  {
   "cell_type": "code",
   "execution_count": null,
   "id": "96e341db-c61d-446f-9c03-0c593648f5af",
   "metadata": {},
   "outputs": [],
   "source": [
    "import fsspec\n",
    "\n",
    "fs = earthaccess.get_s3_filesystem(daac=\"ASDC\")\n",
    "\n",
    "storage_opts = {\"fo\": metadata, \"remote_protocol\": \"s3\", \"remote_options\": fs.storage_options}\n",
    "fs_ref = fsspec.filesystem('reference', **storage_opts)\n",
    "m = fs_ref.get_mapper('')"
   ]
  },
  {
   "cell_type": "code",
   "execution_count": null,
   "id": "945f368b-76ab-4c25-bf6e-0c5cc866437a",
   "metadata": {},
   "outputs": [],
   "source": [
    "data = xr.open_dataset(\n",
    "    m, \n",
    "    engine=\"zarr\", \n",
    "    chunks={},\n",
    "    backend_kwargs={\"consolidated\": False}\n",
    ")"
   ]
  },
  {
   "cell_type": "code",
   "execution_count": null,
   "id": "e56befa9-4116-4281-9289-5c006be4bfb2",
   "metadata": {},
   "outputs": [],
   "source": [
    "post_kerchunk_datatree = xr.open_datatree(\n",
    "    \"reference://\", \n",
    "    engine=\"zarr\", \n",
    "    backend_kwargs={\n",
    "            \"consolidated\": False,\n",
    "            \"storage_options\": {\n",
    "                \"fo\": metadata,\n",
    "                \"remote_protocol\": \"s3\",\n",
    "                \"remote_options\": fs.storage_options,\n",
    "            }\n",
    "        }\n",
    ")"
   ]
  },
  {
   "cell_type": "code",
   "execution_count": null,
   "id": "369b305f-1f0f-47c0-81c4-7d71b71a52c3",
   "metadata": {},
   "outputs": [],
   "source": [
    "vds.wavelength.values"
   ]
  },
  {
   "cell_type": "code",
   "execution_count": null,
   "id": "900cbe20-b103-4080-8f51-43971490cbfe",
   "metadata": {},
   "outputs": [],
   "source": [
    "# parser = HDFParser()\n",
    "# vds = open_virtual_dataset(\n",
    "#   url=file_url,\n",
    "#   parser=HDFParser(),\n",
    "#   registry=registry,\n",
    "# )"
   ]
  },
  {
   "cell_type": "code",
   "execution_count": null,
   "id": "329163c3-b269-429e-8a84-86224ed76ee0",
   "metadata": {},
   "outputs": [],
   "source": [
    "# # Using https://github.com/zarr-developers/VirtualiZarr/pull/631/\n",
    "# from obstore.store import MemoryStore\n",
    "# from virtualizarr.parsers import KerchunkJSONParser\n",
    "\n",
    "# memory_store = obstore.store.MemoryStore()\n",
    "# memory_store.put(\"refs.json\", json.dumps(metadata).encode())\n",
    "\n",
    "# # registry = ObjectStoreRegistry({\"memory://\": memory_store})\n",
    "# parser = KerchunkJSONParser()  # store_registry=registry)\n",
    "# manifeststore = parser(\"refs.json\", memory_store)"
   ]
  },
  {
   "cell_type": "code",
   "execution_count": null,
   "id": "8a4ae236-e717-4263-a281-602eb77e56a4",
   "metadata": {},
   "outputs": [],
   "source": [
    "import json\n",
    "from IPython.display import JSON\n",
    "\n",
    "import earthaccess\n",
    "import xarray as xr"
   ]
  },
  {
   "cell_type": "code",
   "execution_count": null,
   "id": "affb55a1-8190-4e97-a2ce-ad30c0a71db5",
   "metadata": {},
   "outputs": [],
   "source": [
    "fs = earthaccess.get_s3_filesystem(daac=\"ASDC\")"
   ]
  },
  {
   "cell_type": "code",
   "execution_count": null,
   "id": "49f3c3d1-a310-44d1-9343-0600bf85cffa",
   "metadata": {},
   "outputs": [],
   "source": [
    "with open(\"prefire-monthly-kerchunk_created20250807.json\") as f:\n",
    "    metadata = json.load(f)"
   ]
  },
  {
   "cell_type": "code",
   "execution_count": null,
   "id": "93ec6478-ae5b-4c81-b9c4-8ff9830c4c52",
   "metadata": {},
   "outputs": [],
   "source": [
    "post_kerchunk_datatree = xr.open_datatree(\n",
    "    \"reference://\", \n",
    "    engine=\"zarr\", \n",
    "    backend_kwargs={\n",
    "            \"consolidated\": False,\n",
    "            \"storage_options\": {\n",
    "                \"fo\": metadata,\n",
    "                \"remote_protocol\": \"s3\",\n",
    "                \"remote_options\": fs.storage_options,\n",
    "            }\n",
    "        }\n",
    ")"
   ]
  },
  {
   "cell_type": "markdown",
   "id": "ec0f961d-17c0-4140-a7b5-5c1a94c29a25",
   "metadata": {},
   "source": [
    "#### Using dask delayed function"
   ]
  },
  {
   "cell_type": "code",
   "execution_count": null,
   "id": "961b2d90-956e-47ad-9139-ded1040d7e12",
   "metadata": {},
   "outputs": [],
   "source": [
    "# # Create individual references:\n",
    "\n",
    "# def _open_and_append(file_path, group_name):\n",
    "#     with warnings.catch_warnings():\n",
    "#         warnings.filterwarnings(\n",
    "          # \"ignore\",\n",
    "          # message=\"Numcodecs codecs are not in the Zarr version 3 specification*\",\n",
    "          # category=UserWarning\n",
    "#         )  # Or other warning types\n",
    "        \n",
    "#         return open_virtual_dataset(\n",
    "#             url, \n",
    "#             registry=reg,\n",
    "#             parser=HDFParser(group=group_name)\n",
    "#         )\n",
    "\n",
    "# open_vds_partial = dask.delayed(_open_and_append)\n",
    "\n",
    "# def generate_task_list(group=\"\"):\n",
    "#     return [\n",
    "#         open_vds_partial(p, group)  #, loadable_variables=coord_vars) \n",
    "#         for p in data_s3links[:]\n",
    "#     ]\n",
    "# root_group_tasks = generate_task_list(group=\"\")\n",
    "# product_group_tasks = generate_task_list(group=\"product\")\n",
    "# geolocation_group_tasks = generate_task_list(group=\"geolocation\")\n",
    "# support_data_group_tasks = generate_task_list(group=\"support_data\")"
   ]
  },
  {
   "cell_type": "code",
   "execution_count": null,
   "id": "9240e0a5-7a54-45c6-87e9-d791417d1067",
   "metadata": {},
   "outputs": [],
   "source": [
    "# %%time\n",
    "# virtual_ds_list_root = list(da.compute(*root_group_tasks))"
   ]
  },
  {
   "cell_type": "code",
   "execution_count": null,
   "id": "2398a128-ff4d-484e-8219-99c7e6146d97",
   "metadata": {},
   "outputs": [],
   "source": [
    "# %%time\n",
    "# virtual_ds_list_product = list(da.compute(*product_group_tasks))"
   ]
  },
  {
   "cell_type": "code",
   "execution_count": null,
   "id": "fe99d378-dde4-4e58-8637-bef1c67f5e56",
   "metadata": {},
   "outputs": [],
   "source": [
    "# %%time\n",
    "# virtual_ds_list_geolocation = list(da.compute(*geolocation_group_tasks))"
   ]
  },
  {
   "cell_type": "code",
   "execution_count": null,
   "id": "2f5115ee-8c37-494b-8fe4-865704bb670a",
   "metadata": {},
   "outputs": [],
   "source": [
    "# %%time\n",
    "# virtual_ds_list_support_data = list(da.compute(*support_data_group_tasks))"
   ]
  },
  {
   "cell_type": "code",
   "execution_count": null,
   "id": "21ea237e-7046-497c-b9dc-583a934d5fe5",
   "metadata": {},
   "outputs": [],
   "source": [
    "# virtual_ds_list_root"
   ]
  },
  {
   "cell_type": "code",
   "execution_count": null,
   "id": "de2e35ad-92b3-4c20-8bd6-036f2bf2a193",
   "metadata": {},
   "outputs": [],
   "source": [
    "# merged_vds_list = []\n",
    "\n",
    "# for i in tqdm(range(len(virtual_ds_list_root))):\n",
    "#     merged_vds_list.append(\n",
    "#         xr.merge([\n",
    "#             virtual_ds_list_root[i], \n",
    "#             virtual_ds_list_product[i], \n",
    "#             virtual_ds_list_geolocation[i], \n",
    "#             virtual_ds_list_support_data[i]\n",
    "#             ])\n",
    "#     )\n",
    "    \n",
    "# # merged_vds_list"
   ]
  },
  {
   "cell_type": "code",
   "execution_count": null,
   "id": "a9926ec7-9982-4f1f-a3bb-70406cb2ee21",
   "metadata": {},
   "outputs": [],
   "source": [
    "# xr_concat_kwargs = {\n",
    "#     \"coords\": \"minimal\",\n",
    "#     \"compat\": \"override\",\n",
    "#     \"combine_attrs\": \"override\",\n",
    "#     \"data_vars\": \"minimal\"\n",
    "# }\n",
    "\n",
    "# vds_merged_concated = xr.concat(merged_vds_list, dim=\"time\", **xr_concat_kwargs)"
   ]
  },
  {
   "cell_type": "code",
   "execution_count": null,
   "id": "2bd2c644-93d7-4d45-b0d4-eb57b2efbe95",
   "metadata": {},
   "outputs": [],
   "source": [
    "# vds_merged_concated"
   ]
  },
  {
   "cell_type": "code",
   "execution_count": null,
   "id": "72c8c22b-2dc7-4290-a88e-48bf1449edc4",
   "metadata": {
    "scrolled": true
   },
   "outputs": [],
   "source": [
    "# xr_concat_kwargs = {\n",
    "#     \"coords\": \"minimal\",\n",
    "#     \"compat\": \"override\",\n",
    "#     \"combine_attrs\": \"override\",\n",
    "#     \"data_vars\": \"minimal\"\n",
    "# }\n",
    "\n",
    "# vds_root = xr.concat(virtual_ds_list_root, dim=\"time\", **xr_concat_kwargs)\n",
    "# vds_product = xr.concat(virtual_ds_list_product, dim=\"time\", **xr_concat_kwargs)\n",
    "# vds_geolocation = xr.concat(vvirtual_ds_list_geolocation, dim=\"time\", **xr_concat_kwargs)\n",
    "# vds_support_data = xr.concat(virtual_ds_list_support_data, dim=\"time\", **xr_concat_kwargs)"
   ]
  },
  {
   "cell_type": "code",
   "execution_count": null,
   "id": "faf23059-d554-43e1-bf0b-7832444e64ce",
   "metadata": {},
   "outputs": [],
   "source": [
    "vds_merged = xr.merge([\n",
    "    vds_root, \n",
    "    vds_product, \n",
    "    vds_geolocation, \n",
    "    vds_support_data\n",
    "])\n",
    "vds_merged"
   ]
  },
  {
   "cell_type": "code",
   "execution_count": null,
   "id": "cca9ebd6-b392-4f7a-b53d-0b3357dfabc5",
   "metadata": {},
   "outputs": [],
   "source": []
  }
 ],
 "metadata": {
  "kernelspec": {
   "display_name": "Python 3 (ipykernel)",
   "language": "python",
   "name": "python3"
  },
  "language_info": {
   "codemirror_mode": {
    "name": "ipython",
    "version": 3
   },
   "file_extension": ".py",
   "mimetype": "text/x-python",
   "name": "python",
   "nbconvert_exporter": "python",
   "pygments_lexer": "ipython3",
   "version": "3.11.13"
  }
 },
 "nbformat": 4,
 "nbformat_minor": 5
}
