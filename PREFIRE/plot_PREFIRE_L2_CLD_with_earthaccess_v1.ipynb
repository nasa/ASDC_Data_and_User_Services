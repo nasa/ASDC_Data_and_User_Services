{
 "cells": [
  {
   "cell_type": "markdown",
   "id": "5c143fd2347ac099",
   "metadata": {},
   "source": [
    "---\n",
    "date: last-modified\n",
    "---"
   ]
  },
  {
   "cell_type": "markdown",
   "id": "36dcea9a78d5c65",
   "metadata": {},
   "source": [
    "# Plotting polar cloud variables from PREFIRE data\n",
    "\n",
    "## Summary\n",
    "\n",
    "This notebook shows how to retrieve and plot cloud values for the polar region, from [Polar Radiant Energy in the Far-InfraRed Experiment (PREFIRE)](https://asdc.larc.nasa.gov/project/PREFIRE) data.\n",
    "\n",
    "## Prerequisites\n",
    "\n",
    "- cartopy\n",
    "- earthaccess\n",
    "- matplotlib\n",
    "- netCDF4\n",
    "- numpy\n",
    "\n",
    "### Notebook Authors / Affiliation\n",
    "\n",
    "Alex Radkevich / Atmospheric Science Data Center (ASDC)"
   ]
  },
  {
   "cell_type": "markdown",
   "id": "aaf2f141-7181-427f-889e-b448636248d1",
   "metadata": {},
   "source": [
    "# Installing libraries"
   ]
  },
  {
   "cell_type": "code",
   "execution_count": 1,
   "id": "8bc85244-806a-48ce-a14a-92a5cb34f953",
   "metadata": {},
   "outputs": [],
   "source": [
    "# Install external dependencies\n",
    "#!pip install -qq python-cmr # these are installed in OPENSCAPES, in other environments may need to be installed first\n",
    "#!pip install -qq gnss_lib_py # this might be needed to work with GPS time"
   ]
  },
  {
   "cell_type": "markdown",
   "id": "3a79725d-a87a-4aa6-9379-ce979da8abbd",
   "metadata": {},
   "source": [
    "# Importing libraries"
   ]
  },
  {
   "cell_type": "code",
   "execution_count": 2,
   "id": "b02efb21-a117-4e78-9714-60c38f7e5713",
   "metadata": {},
   "outputs": [],
   "source": [
    "from datetime import datetime  # needed to work with time in plotting time series\n",
    "import getpass\n",
    "import requests\n",
    "\n",
    "import cartopy.crs as ccrs\n",
    "import earthaccess  # needed to discover and download TEMPO data\n",
    "import matplotlib.pyplot as plt  # needed to plot the resulting time series\n",
    "import netCDF4 as nc  # needed to read TEMPO data\n",
    "import numpy as np\n"
   ]
  },
  {
   "cell_type": "markdown",
   "id": "a44087eb-9e11-4cf1-94e8-b3108d750854",
   "metadata": {},
   "source": [
    "# function to read data"
   ]
  },
  {
   "cell_type": "code",
   "execution_count": 3,
   "id": "811ce8f9-8686-4185-8e9a-987635add176",
   "metadata": {},
   "outputs": [],
   "source": [
    "def read_PREFIRE_2B_CLD(fn):\n",
    "    try:\n",
    "        with nc.Dataset(fn) as ds:\n",
    "            geo = ds.groups[\"Geometry\"]\n",
    "            var = geo.variables[\"ctime\"]\n",
    "            ctime = np.ma.getdata(var[:])\n",
    "\n",
    "            var = geo.variables[\"ctime_minus_UTC\"]\n",
    "            ctime_minus_UTC = np.ma.getdata(var[:])\n",
    "\n",
    "            var = geo.variables[\"latitude\"]\n",
    "            lat = np.ma.getdata(var[:])\n",
    "\n",
    "            var = geo.variables[\"longitude\"]\n",
    "            lon = np.ma.getdata(var[:])\n",
    "\n",
    "            var = geo.variables[\"time_UTC_values\"]\n",
    "            time_UTC = np.ma.getdata(var[:])\n",
    "\n",
    "            Cld = ds.groups[\"Cld\"]\n",
    "            var = Cld.variables[\"cld_qc_bitflags\"]\n",
    "            bitQF = np.ma.getdata(var[:])\n",
    "\n",
    "            var = Cld.variables[\"cloud_d_eff\"]\n",
    "            cloud_d_eff = np.ma.getdata(var[:])\n",
    "            fv_cloud_d_eff = var.get_fill_value()\n",
    "\n",
    "            var = Cld.variables[\"cloud_tau\"]\n",
    "            cloud_tau = np.ma.getdata(var[:])\n",
    "            fv_cloud_tau = var.get_fill_value()\n",
    "\n",
    "            var = Cld.variables[\"cloudtop_pressure\"]\n",
    "            cloudtop_pressure = np.ma.getdata(var[:])\n",
    "            fv_cloudtop_pressure = var.get_fill_value()\n",
    "\n",
    "    except Exception:\n",
    "        ctime = 0.0\n",
    "        ctime_minus_UTC = 0.0\n",
    "        lat = 0.0\n",
    "        lon = 0.0\n",
    "        time_UTC = 0.0\n",
    "        bitQF = 0.0\n",
    "        cloud_d_eff = 0.0\n",
    "        fv_cloud_d_eff = 0.0\n",
    "        cloud_tau = 0.0\n",
    "        fv_cloud_tau = 0.0\n",
    "        cloudtop_pressure = 0.0\n",
    "        fv_cloudtop_pressure = 0.0\n",
    "\n",
    "    return (\n",
    "        ctime,\n",
    "        ctime_minus_UTC,\n",
    "        lat,\n",
    "        lon,\n",
    "        time_UTC,\n",
    "        bitQF,\n",
    "        cloud_d_eff,\n",
    "        fv_cloud_d_eff,\n",
    "        cloud_tau,\n",
    "        fv_cloud_tau,\n",
    "        cloudtop_pressure,\n",
    "        fv_cloudtop_pressure,\n",
    "    )"
   ]
  },
  {
   "cell_type": "markdown",
   "id": "83aeba55-fa3e-4e9c-8078-e063e04e6954",
   "metadata": {},
   "source": [
    "## Using earthaccess library\n",
    "see\n",
    "\n",
    "https://earthaccess.readthedocs.io/en/latest/\n",
    "\n",
    "for more details on this library"
   ]
  },
  {
   "cell_type": "markdown",
   "id": "c4b60d6e-de42-4183-8a71-3c4abaf091da",
   "metadata": {},
   "source": [
    "### login to Earthdata via earthaccess"
   ]
  },
  {
   "cell_type": "code",
   "execution_count": 4,
   "id": "5168a670-090d-4ad3-b89e-7e3eb0373dd1",
   "metadata": {},
   "outputs": [],
   "source": [
    "# User needs to create an account at https://www.earthdata.nasa.gov/\n",
    "# Function earthaccess.login prompts for EarthData login and password.\n",
    "auth = earthaccess.login(strategy=\"interactive\", persist=True)"
   ]
  },
  {
   "cell_type": "markdown",
   "id": "01683dcd-7b77-43b0-8062-784a376201f2",
   "metadata": {},
   "source": [
    "### define a function to get collection ID from its short_name and version"
   ]
  },
  {
   "cell_type": "code",
   "execution_count": 5,
   "id": "d71c9a63-0711-4f14-8526-d870c516ff80",
   "metadata": {},
   "outputs": [],
   "source": [
    "def get_collectionID_earthaccess(short_name, version):\n",
    "    collectionID = \"-1\"\n",
    "\n",
    "    results = earthaccess.search_datasets(short_name=short_name, version=version)\n",
    "\n",
    "    if len(results) == 1:\n",
    "        collectionID = results[0][\"meta\"][\"concept-id\"]\n",
    "    else:\n",
    "        raise Exception(\"Specify valid collection\")\n",
    "\n",
    "    return collectionID"
   ]
  },
  {
   "cell_type": "code",
   "execution_count": 6,
   "id": "576a323c-8592-41b8-958b-4357b3027db7",
   "metadata": {},
   "outputs": [
    {
     "name": "stdout",
     "output_type": "stream",
     "text": [
      "collectionID for collection short_name PREFIRE_SAT2_2B-CLD and version R01 is C3499264827-LARC_CLOUD\n"
     ]
    }
   ],
   "source": [
    "short_name = \"PREFIRE_SAT2_2B-CLD\"\n",
    "version = \"R01\"\n",
    "collectionID = get_collectionID_earthaccess(short_name, version)\n",
    "print(\n",
    "    f\"collectionID for collection short_name {short_name} and version {version} is {collectionID}\"\n",
    ")"
   ]
  },
  {
   "cell_type": "markdown",
   "id": "964747f1-f706-400f-b419-3992f82c6e53",
   "metadata": {},
   "source": [
    "### getting collection ID"
   ]
  },
  {
   "cell_type": "markdown",
   "id": "9c46cc58-8576-4699-8c24-15d738ca14bd",
   "metadata": {},
   "source": [
    "# Search for granules using earthaccess library\n",
    "specify timeframe and/or boundingbox of interest"
   ]
  },
  {
   "cell_type": "code",
   "execution_count": 7,
   "id": "767484cf-c65b-4866-ae4c-90a6eb1a232f",
   "metadata": {},
   "outputs": [
    {
     "name": "stdout",
     "output_type": "stream",
     "text": [
      "PREFIRE_SAT2_2B-CLD_R01_P00_20240831222721_01490.nc\n",
      "PREFIRE_SAT2_2B-CLD_R01_P00_20240901013749_01492.nc\n",
      "PREFIRE_SAT2_2B-CLD_R01_P00_20240901031303_01493.nc\n",
      "PREFIRE_SAT2_2B-CLD_R01_P00_20240901044818_01494.nc\n"
     ]
    }
   ],
   "source": [
    "short_name = \"PREFIRE_SAT2_2B-CLD\"  # collection name\n",
    "version = \"R01\"  # version of the collection\n",
    "\n",
    "yyyy = 2024\n",
    "mm = 9\n",
    "dd = 1\n",
    "\n",
    "date_start = str(\"%4.4i-%2.2i-%2.2i 00:00:00\" % (yyyy, mm, dd))\n",
    "date_end = str(\"%4.4i-%2.2i-%2.2i 06:00:00\" % (yyyy, mm, dd))\n",
    "\n",
    "results_earthaccess = earthaccess.search_data(\n",
    "    short_name=short_name,\n",
    "    version=version,\n",
    "    # bounding_box: a tuple representing spatial bounds in the form\n",
    "    # (lower_left_lon, lower_left_lat, upper_right_lon, upper_right_lat)\n",
    "    # where -180 <= lower_left_lon, upper_right_lon < 180,\n",
    "    #        -90 <= lower_left_lat, upper_right_lat <= 90\n",
    "    bounding_box=(-180.0, 60.0, 180.0, 90.0),\n",
    "    temporal=(date_start, date_end),\n",
    ")\n",
    "PREFIRE_names = sorted([r[\"meta\"][\"native-id\"] for r in results_earthaccess])\n",
    "for name in PREFIRE_names:\n",
    "    print(name)"
   ]
  },
  {
   "cell_type": "markdown",
   "id": "e42c1f1b-16c5-4fd6-95b7-20d5e21e395c",
   "metadata": {},
   "source": [
    "### compare outcome with Earthdata Search results"
   ]
  },
  {
   "cell_type": "markdown",
   "id": "8b22b4aa-06a5-41e8-be02-dec06f2099f9",
   "metadata": {},
   "source": [
    "![\"comparison with EDS granules search outcome\"](EDS_search_for_granules_05-30-2025_02.png)"
   ]
  },
  {
   "cell_type": "markdown",
   "id": "9de5f232-13d1-4aa0-8c8d-0f7516f6328d",
   "metadata": {},
   "source": [
    "# Download granules with earthaccess"
   ]
  },
  {
   "cell_type": "markdown",
   "id": "b1f28f1e-df08-4cba-88e5-355bded11e90",
   "metadata": {},
   "source": [
    "## One-by-one"
   ]
  },
  {
   "cell_type": "code",
   "execution_count": 8,
   "id": "d867db47-7301-4865-8451-8649a1589b1f",
   "metadata": {},
   "outputs": [
    {
     "name": "stdout",
     "output_type": "stream",
     "text": [
      "['https://data.asdc.earthdata.nasa.gov/asdc-prod-protected/PREFIRE/PREFIRE_SAT2_2B-CLD_R01/2024.08.31/PREFIRE_SAT2_2B-CLD_R01_P00_20240831222721_01490.nc']\n"
     ]
    },
    {
     "data": {
      "application/vnd.jupyter.widget-view+json": {
       "model_id": "a5cf41a27b174ff4a17d332113ef7aae",
       "version_major": 2,
       "version_minor": 0
      },
      "text/plain": [
       "QUEUEING TASKS | :   0%|          | 0/1 [00:00<?, ?it/s]"
      ]
     },
     "metadata": {},
     "output_type": "display_data"
    },
    {
     "data": {
      "application/vnd.jupyter.widget-view+json": {
       "model_id": "8e66e424b81d4050b68b35c7f71a7f50",
       "version_major": 2,
       "version_minor": 0
      },
      "text/plain": [
       "PROCESSING TASKS | :   0%|          | 0/1 [00:00<?, ?it/s]"
      ]
     },
     "metadata": {},
     "output_type": "display_data"
    },
    {
     "data": {
      "application/vnd.jupyter.widget-view+json": {
       "model_id": "f2f3a630e4184ae59976c8b099db4a99",
       "version_major": 2,
       "version_minor": 0
      },
      "text/plain": [
       "COLLECTING RESULTS | :   0%|          | 0/1 [00:00<?, ?it/s]"
      ]
     },
     "metadata": {},
     "output_type": "display_data"
    },
    {
     "name": "stdout",
     "output_type": "stream",
     "text": [
      "['https://data.asdc.earthdata.nasa.gov/asdc-prod-protected/PREFIRE/PREFIRE_SAT2_2B-CLD_R01/2024.09.01/PREFIRE_SAT2_2B-CLD_R01_P00_20240901013749_01492.nc']\n"
     ]
    },
    {
     "data": {
      "application/vnd.jupyter.widget-view+json": {
       "model_id": "41b2a5f9fa6243ce9eefdb907afe72ef",
       "version_major": 2,
       "version_minor": 0
      },
      "text/plain": [
       "QUEUEING TASKS | :   0%|          | 0/1 [00:00<?, ?it/s]"
      ]
     },
     "metadata": {},
     "output_type": "display_data"
    },
    {
     "data": {
      "application/vnd.jupyter.widget-view+json": {
       "model_id": "ed4be6204a8b4d65a21b2a50c1307a7e",
       "version_major": 2,
       "version_minor": 0
      },
      "text/plain": [
       "PROCESSING TASKS | :   0%|          | 0/1 [00:00<?, ?it/s]"
      ]
     },
     "metadata": {},
     "output_type": "display_data"
    },
    {
     "data": {
      "application/vnd.jupyter.widget-view+json": {
       "model_id": "8a24725fa686408eb11d7b24730b52f3",
       "version_major": 2,
       "version_minor": 0
      },
      "text/plain": [
       "COLLECTING RESULTS | :   0%|          | 0/1 [00:00<?, ?it/s]"
      ]
     },
     "metadata": {},
     "output_type": "display_data"
    },
    {
     "name": "stdout",
     "output_type": "stream",
     "text": [
      "['https://data.asdc.earthdata.nasa.gov/asdc-prod-protected/PREFIRE/PREFIRE_SAT2_2B-CLD_R01/2024.09.01/PREFIRE_SAT2_2B-CLD_R01_P00_20240901031303_01493.nc']\n"
     ]
    },
    {
     "data": {
      "application/vnd.jupyter.widget-view+json": {
       "model_id": "3b28b9905381487085864eddd08b0261",
       "version_major": 2,
       "version_minor": 0
      },
      "text/plain": [
       "QUEUEING TASKS | :   0%|          | 0/1 [00:00<?, ?it/s]"
      ]
     },
     "metadata": {},
     "output_type": "display_data"
    },
    {
     "data": {
      "application/vnd.jupyter.widget-view+json": {
       "model_id": "8130aca3d26542b0b1c88a38de57d398",
       "version_major": 2,
       "version_minor": 0
      },
      "text/plain": [
       "PROCESSING TASKS | :   0%|          | 0/1 [00:00<?, ?it/s]"
      ]
     },
     "metadata": {},
     "output_type": "display_data"
    },
    {
     "data": {
      "application/vnd.jupyter.widget-view+json": {
       "model_id": "a60954472b604bf09d7b9cf5667a3c6c",
       "version_major": 2,
       "version_minor": 0
      },
      "text/plain": [
       "COLLECTING RESULTS | :   0%|          | 0/1 [00:00<?, ?it/s]"
      ]
     },
     "metadata": {},
     "output_type": "display_data"
    },
    {
     "name": "stdout",
     "output_type": "stream",
     "text": [
      "['https://data.asdc.earthdata.nasa.gov/asdc-prod-protected/PREFIRE/PREFIRE_SAT2_2B-CLD_R01/2024.09.01/PREFIRE_SAT2_2B-CLD_R01_P00_20240901044818_01494.nc']\n"
     ]
    },
    {
     "data": {
      "application/vnd.jupyter.widget-view+json": {
       "model_id": "ee6f82aee8e04d0eaab967a21f6733d1",
       "version_major": 2,
       "version_minor": 0
      },
      "text/plain": [
       "QUEUEING TASKS | :   0%|          | 0/1 [00:00<?, ?it/s]"
      ]
     },
     "metadata": {},
     "output_type": "display_data"
    },
    {
     "data": {
      "application/vnd.jupyter.widget-view+json": {
       "model_id": "df94fe5a11584129afd81db4a80801e1",
       "version_major": 2,
       "version_minor": 0
      },
      "text/plain": [
       "PROCESSING TASKS | :   0%|          | 0/1 [00:00<?, ?it/s]"
      ]
     },
     "metadata": {},
     "output_type": "display_data"
    },
    {
     "data": {
      "application/vnd.jupyter.widget-view+json": {
       "model_id": "8fe1df822e3d424d873fd6f82c40d415",
       "version_major": 2,
       "version_minor": 0
      },
      "text/plain": [
       "COLLECTING RESULTS | :   0%|          | 0/1 [00:00<?, ?it/s]"
      ]
     },
     "metadata": {},
     "output_type": "display_data"
    }
   ],
   "source": [
    "PREFIRE_links = sorted([r.data_links() for r in results_earthaccess])\n",
    "for link in PREFIRE_links:\n",
    "    print(link)\n",
    "    granule = earthaccess.download(link, local_path=\".\")"
   ]
  },
  {
   "cell_type": "markdown",
   "id": "4944654f-90ea-41e2-bd61-ef8e4db7526e",
   "metadata": {},
   "source": [
    "## All at once"
   ]
  },
  {
   "cell_type": "code",
   "execution_count": 9,
   "id": "d6a2feb2-14a4-4cdf-aa87-e007bd3f187e",
   "metadata": {},
   "outputs": [],
   "source": [
    "# remove downloaded granules for demonstration\n",
    "!rm *.nc"
   ]
  },
  {
   "cell_type": "code",
   "execution_count": 10,
   "id": "f4410bb9-723b-4b82-b810-26cb5309581e",
   "metadata": {},
   "outputs": [
    {
     "data": {
      "application/vnd.jupyter.widget-view+json": {
       "model_id": "9601c525e8054d67a090236efdfb2e11",
       "version_major": 2,
       "version_minor": 0
      },
      "text/plain": [
       "QUEUEING TASKS | :   0%|          | 0/4 [00:00<?, ?it/s]"
      ]
     },
     "metadata": {},
     "output_type": "display_data"
    },
    {
     "data": {
      "application/vnd.jupyter.widget-view+json": {
       "model_id": "29bf919ebc794a5c976234be81526a43",
       "version_major": 2,
       "version_minor": 0
      },
      "text/plain": [
       "PROCESSING TASKS | :   0%|          | 0/4 [00:00<?, ?it/s]"
      ]
     },
     "metadata": {},
     "output_type": "display_data"
    },
    {
     "data": {
      "application/vnd.jupyter.widget-view+json": {
       "model_id": "2d48ab09bc4e470b9d2f618dd5ba5300",
       "version_major": 2,
       "version_minor": 0
      },
      "text/plain": [
       "COLLECTING RESULTS | :   0%|          | 0/4 [00:00<?, ?it/s]"
      ]
     },
     "metadata": {},
     "output_type": "display_data"
    }
   ],
   "source": [
    "granules = earthaccess.download(results_earthaccess, local_path=\".\")"
   ]
  },
  {
   "cell_type": "markdown",
   "id": "d5573ef0-c547-4bf9-8334-81eea72e5c65",
   "metadata": {},
   "source": [
    "# Plotting variables cloud_d_eff, cloud_tau, cloudtop_pressure"
   ]
  },
  {
   "cell_type": "markdown",
   "id": "2f433d87-861c-44d1-97d2-e70a5e100714",
   "metadata": {},
   "source": [
    "## North Pole\n",
    "\n",
    "for the South Pole\n",
    "the two lines need to be changed in the cell below\n",
    "\n",
    "    1) projection definition:\n",
    "\n",
    "    proj = ccrs.Orthographic(central_longitude=0.0, central_latitude=90.0, globe=None) # North Pole\n",
    "    proj = ccrs.Orthographic(central_longitude=0.0, central_latitude=-90.0, globe=None) # South Pole\n",
    "\n",
    "    2) extent of the plot:\n",
    "\n",
    "    ax1.set_extent([0., 360., 60., 90.], crs=transform) # North Pole\n",
    "    ax1.set_extent([0., 360., -90., -60.], crs=transform) # South Pole"
   ]
  },
  {
   "cell_type": "markdown",
   "id": "29a8bd38-ea7a-4e35-b845-ed412130695d",
   "metadata": {},
   "source": [
    "# Plot the variables from the original granules"
   ]
  },
  {
   "cell_type": "code",
   "execution_count": 11,
   "id": "8f995dc9-f733-4b50-8deb-ef9000b55b02",
   "metadata": {},
   "outputs": [
    {
     "ename": "NameError",
     "evalue": "name 'fv_cloud_d_eff' is not defined",
     "output_type": "error",
     "traceback": [
      "\u001b[31m---------------------------------------------------------------------------\u001b[39m",
      "\u001b[31mNameError\u001b[39m                                 Traceback (most recent call last)",
      "\u001b[36mCell\u001b[39m\u001b[36m \u001b[39m\u001b[32mIn[11]\u001b[39m\u001b[32m, line 35\u001b[39m\n\u001b[32m     32\u001b[39m beginning_time_fn = \u001b[33mf\u001b[39m\u001b[33m\"\u001b[39m\u001b[38;5;132;01m{\u001b[39;00mbeginning_time_array[\u001b[32m0\u001b[39m]\u001b[38;5;132;01m:\u001b[39;00m\u001b[33m4d\u001b[39m\u001b[38;5;132;01m}\u001b[39;00m\u001b[38;5;132;01m{\u001b[39;00mbeginning_time_array[\u001b[32m1\u001b[39m]\u001b[38;5;132;01m:\u001b[39;00m\u001b[33m02d\u001b[39m\u001b[38;5;132;01m}\u001b[39;00m\u001b[38;5;132;01m{\u001b[39;00mbeginning_time_array[\u001b[32m2\u001b[39m]\u001b[38;5;132;01m:\u001b[39;00m\u001b[33m02d\u001b[39m\u001b[38;5;132;01m}\u001b[39;00m\u001b[33mT\u001b[39m\u001b[38;5;132;01m{\u001b[39;00mbeginning_time_array[\u001b[32m3\u001b[39m]\u001b[38;5;132;01m:\u001b[39;00m\u001b[33m02d\u001b[39m\u001b[38;5;132;01m}\u001b[39;00m\u001b[38;5;132;01m{\u001b[39;00mbeginning_time_array[\u001b[32m4\u001b[39m]\u001b[38;5;132;01m:\u001b[39;00m\u001b[33m02d\u001b[39m\u001b[38;5;132;01m}\u001b[39;00m\u001b[38;5;132;01m{\u001b[39;00mbeginning_time_array[\u001b[32m5\u001b[39m]\u001b[38;5;132;01m:\u001b[39;00m\u001b[33m02d\u001b[39m\u001b[38;5;132;01m}\u001b[39;00m\u001b[33m\"\u001b[39m\n\u001b[32m     33\u001b[39m ending_time_fn = \u001b[33mf\u001b[39m\u001b[33m\"\u001b[39m\u001b[38;5;132;01m{\u001b[39;00mending_time_array[\u001b[32m0\u001b[39m]\u001b[38;5;132;01m:\u001b[39;00m\u001b[33m4d\u001b[39m\u001b[38;5;132;01m}\u001b[39;00m\u001b[38;5;132;01m{\u001b[39;00mending_time_array[\u001b[32m1\u001b[39m]\u001b[38;5;132;01m:\u001b[39;00m\u001b[33m02d\u001b[39m\u001b[38;5;132;01m}\u001b[39;00m\u001b[38;5;132;01m{\u001b[39;00mending_time_array[\u001b[32m2\u001b[39m]\u001b[38;5;132;01m:\u001b[39;00m\u001b[33m02d\u001b[39m\u001b[38;5;132;01m}\u001b[39;00m\u001b[33mT\u001b[39m\u001b[38;5;132;01m{\u001b[39;00mending_time_array[\u001b[32m3\u001b[39m]\u001b[38;5;132;01m:\u001b[39;00m\u001b[33m02d\u001b[39m\u001b[38;5;132;01m}\u001b[39;00m\u001b[38;5;132;01m{\u001b[39;00mending_time_array[\u001b[32m4\u001b[39m]\u001b[38;5;132;01m:\u001b[39;00m\u001b[33m02d\u001b[39m\u001b[38;5;132;01m}\u001b[39;00m\u001b[38;5;132;01m{\u001b[39;00mending_time_array[\u001b[32m5\u001b[39m]\u001b[38;5;132;01m:\u001b[39;00m\u001b[33m02d\u001b[39m\u001b[38;5;132;01m}\u001b[39;00m\u001b[33m\"\u001b[39m\n\u001b[32m---> \u001b[39m\u001b[32m35\u001b[39m mask_cloud_d_eff = (cloud_d_eff_orig[:, :] != \u001b[43mfv_cloud_d_eff\u001b[49m) & (bitQF_orig[:, :] == \u001b[32m0\u001b[39m)\n\u001b[32m     36\u001b[39m mask_cloud_tau = (cloud_tau_orig[:, :] != fv_cloud_tau) & (bitQF_orig[:, :] == \u001b[32m0\u001b[39m)\n\u001b[32m     37\u001b[39m mask_cloudtop_pressure = (cloudtop_pressure_orig[:, :] != fv_cloudtop_pressure) & (\n\u001b[32m     38\u001b[39m     bitQF_orig[:, :] == \u001b[32m0\u001b[39m\n\u001b[32m     39\u001b[39m )\n",
      "\u001b[31mNameError\u001b[39m: name 'fv_cloud_d_eff' is not defined"
     ]
    }
   ],
   "source": [
    "for name in PREFIRE_names:\n",
    "    (\n",
    "        ctime_orig,\n",
    "        ctime_minus_UTC_orig,\n",
    "        lat_orig,\n",
    "        lon_orig,\n",
    "        time_UTC_orig,\n",
    "        bitQF_orig,\n",
    "        cloud_d_eff_orig,\n",
    "        fv_cloud_d_eff_orig,\n",
    "        cloud_tau_orig,\n",
    "        fv_cloud_tau_orig,\n",
    "        cloudtop_pressure_orig,\n",
    "        fv_cloudtop_pressure_orig,\n",
    "    ) = read_PREFIRE_2B_CLD(name)\n",
    "\n",
    "    # find valid beginning and ending times in the slice\n",
    "    for time in time_UTC_orig[:, :]:\n",
    "        if time[0] == -9999:\n",
    "            continue\n",
    "        beginning_time_array = time\n",
    "        break\n",
    "\n",
    "    for time in time_UTC_orig[-1::-1, :]:\n",
    "        if time[0] == -9999:\n",
    "            continue\n",
    "        ending_time_array = time\n",
    "        break\n",
    "\n",
    "    beginning_time = f\"{beginning_time_array[0]:4d}-{beginning_time_array[1]:02d}-{beginning_time_array[2]:02d} {beginning_time_array[3]:02d}:{beginning_time_array[4]:02d}:{beginning_time_array[5]:02d}\"\n",
    "    ending_time = f\"{ending_time_array[0]:4d}-{ending_time_array[1]:02d}-{ending_time_array[2]:02d} {ending_time_array[3]:02d}:{ending_time_array[4]:02d}:{ending_time_array[5]:02d}\"\n",
    "    beginning_time_fn = f\"{beginning_time_array[0]:4d}{beginning_time_array[1]:02d}{beginning_time_array[2]:02d}T{beginning_time_array[3]:02d}{beginning_time_array[4]:02d}{beginning_time_array[5]:02d}\"\n",
    "    ending_time_fn = f\"{ending_time_array[0]:4d}{ending_time_array[1]:02d}{ending_time_array[2]:02d}T{ending_time_array[3]:02d}{ending_time_array[4]:02d}{ending_time_array[5]:02d}\"\n",
    "\n",
    "    mask_cloud_d_eff = (cloud_d_eff_orig[:, :] != fv_cloud_d_eff) & (bitQF_orig[:, :] == 0)\n",
    "    mask_cloud_tau = (cloud_tau_orig[:, :] != fv_cloud_tau) & (bitQF_orig[:, :] == 0)\n",
    "    mask_cloudtop_pressure = (cloudtop_pressure_orig[:, :] != fv_cloudtop_pressure) & (\n",
    "        bitQF_orig[:, :] == 0\n",
    "    )\n",
    "\n",
    "    valid_cloud_d_eff = cloud_d_eff_orig[mask_cloud_d_eff]\n",
    "    valid_cloud_d_eff_lat = lat_orig[mask_cloud_d_eff]\n",
    "    valid_cloud_d_eff_lon = lon_orig[mask_cloud_d_eff]\n",
    "\n",
    "    valid_cloud_tau = cloud_tau_orig[mask_cloud_tau]\n",
    "    valid_cloud_tau_lat = lat_orig[mask_cloud_tau]\n",
    "    valid_cloud_tau_lon = lon_orig[mask_cloud_tau]\n",
    "\n",
    "    valid_cloudtop_pressure = cloudtop_pressure_orig[mask_cloudtop_pressure]\n",
    "    valid_cloudtop_pressure_lat = lat_orig[mask_cloudtop_pressure]\n",
    "    valid_cloudtop_pressure_lon = lon_orig[mask_cloudtop_pressure]\n",
    "\n",
    "    # Plot arrays in orthografic projection\n",
    "    if len(valid_cloud_d_eff) > 0:\n",
    "        fig = plt.figure(figsize=(4, 4), dpi=300, facecolor=None)\n",
    "\n",
    "        proj = ccrs.Orthographic(central_longitude=0.0, central_latitude=-90.0, globe=None)\n",
    "        transform = ccrs.PlateCarree()\n",
    "\n",
    "        ax1 = fig.add_subplot(111, projection=proj)\n",
    "        ax1.set_extent([0.0, 360.0, -90.0, -60.0], crs=transform)\n",
    "        im1 = ax1.scatter(\n",
    "            valid_cloud_d_eff_lon,\n",
    "            valid_cloud_d_eff_lat,\n",
    "            c=valid_cloud_d_eff,\n",
    "            s=1.0,\n",
    "            cmap=plt.cm.jet,\n",
    "            vmin=0.0,\n",
    "            vmax=50.0,\n",
    "            transform=transform,\n",
    "        )\n",
    "        ax1.coastlines(resolution=\"50m\", color=\"black\", linewidth=1)\n",
    "        gl = ax1.gridlines(draw_labels=True, dms=True)\n",
    "        gl.xlabels_top = False\n",
    "        gl.ylabels_left = False\n",
    "        cb1 = plt.colorbar(\n",
    "            im1,\n",
    "            ticks=[0, 10.0, 20.0, 30.0, 40.0, 50.0],\n",
    "            fraction=0.025,\n",
    "            pad=0.1,\n",
    "            orientation=\"vertical\",\n",
    "        )\n",
    "        cb1.set_label(\"effective diameter, micron\", fontsize=8)\n",
    "        ax1.set_title(\"PREFIRE CLD D$_{eff}$ \\n\" + beginning_time + \" \" + ending_time, fontsize=8)\n",
    "\n",
    "        plt.savefig(\n",
    "            \"PREFIRE_CLD_D_eff_SP_\" + beginning_time_fn + \"_\" + ending_time_fn + \".png\", dpi=600\n",
    "        )\n",
    "        plt.show()\n",
    "        plt.close()\n",
    "    else:\n",
    "        print(\n",
    "            f\"there is nothing to plot for cloud effective diameter between {beginning_time} and {ending_time}\"\n",
    "        )\n",
    "\n",
    "    if len(valid_cloud_tau) > 0:\n",
    "        fig = plt.figure(figsize=(4, 4), dpi=300, facecolor=None)\n",
    "\n",
    "        proj = ccrs.Orthographic(central_longitude=0.0, central_latitude=-90.0, globe=None)\n",
    "        transform = ccrs.PlateCarree()\n",
    "\n",
    "        ax1 = fig.add_subplot(111, projection=proj)\n",
    "        ax1.set_extent([0.0, 360.0, -90.0, -60.0], crs=transform)\n",
    "        im1 = ax1.scatter(\n",
    "            valid_cloud_tau_lon,\n",
    "            valid_cloud_tau_lat,\n",
    "            c=valid_cloud_tau,\n",
    "            s=1.0,\n",
    "            cmap=plt.cm.jet,\n",
    "            vmin=0.0,\n",
    "            vmax=20.0,\n",
    "            transform=transform,\n",
    "        )\n",
    "        ax1.coastlines(resolution=\"50m\", color=\"black\", linewidth=1)\n",
    "        gl = ax1.gridlines(draw_labels=True, dms=True)\n",
    "        gl.xlabels_top = False\n",
    "        gl.ylabels_left = False\n",
    "        cb1 = plt.colorbar(\n",
    "            im1, ticks=[0, 5.0, 10.0, 15.0, 20.0], fraction=0.025, pad=0.1, orientation=\"vertical\"\n",
    "        )\n",
    "        cb1.set_label(\"cloud optical thickness\", fontsize=8)\n",
    "        ax1.set_title(\n",
    "            \"PREFIRE cloud optical thickness \\n\" + beginning_time + \" \" + ending_time, fontsize=8\n",
    "        )\n",
    "\n",
    "        plt.savefig(\n",
    "            \"PREFIRE_CLD_tau_SP_\" + beginning_time_fn + \"_\" + ending_time_fn + \".png\", dpi=600\n",
    "        )\n",
    "        plt.show()\n",
    "        plt.close()\n",
    "    else:\n",
    "        print(\n",
    "            f\"there is nothing to plot for cloud optical thickness between {beginning_time} and {ending_time}\"\n",
    "        )\n",
    "\n",
    "    if len(valid_cloudtop_pressure) > 0:\n",
    "        fig = plt.figure(figsize=(4, 4), dpi=300, facecolor=None)\n",
    "\n",
    "        proj = ccrs.Orthographic(central_longitude=0.0, central_latitude=-90.0, globe=None)\n",
    "        transform = ccrs.PlateCarree()\n",
    "\n",
    "        ax1 = fig.add_subplot(111, projection=proj)\n",
    "        ax1.set_extent([0.0, 360.0, -90.0, -60.0], crs=transform)\n",
    "        im1 = ax1.scatter(\n",
    "            valid_cloudtop_pressure_lon,\n",
    "            valid_cloudtop_pressure_lat,\n",
    "            c=valid_cloudtop_pressure,\n",
    "            s=1.0,\n",
    "            cmap=plt.cm.jet,\n",
    "            vmin=0.0,\n",
    "            vmax=1000.0,\n",
    "            transform=transform,\n",
    "        )\n",
    "        ax1.coastlines(resolution=\"50m\", color=\"black\", linewidth=1)\n",
    "        gl = ax1.gridlines(draw_labels=True, dms=True)\n",
    "        gl.xlabels_top = False\n",
    "        gl.ylabels_left = False\n",
    "        cb1 = plt.colorbar(\n",
    "            im1,\n",
    "            ticks=[0, 200.0, 400.0, 600.0, 800.0, 1000.0],\n",
    "            fraction=0.025,\n",
    "            pad=0.1,\n",
    "            orientation=\"vertical\",\n",
    "        )\n",
    "        cb1.set_label(\"cloudtop pressure, hPa\", fontsize=8)\n",
    "        ax1.set_title(\n",
    "            \"PREFIRE cloudtop pressure \\n\" + beginning_time + \" \" + ending_time, fontsize=8\n",
    "        )\n",
    "\n",
    "        plt.savefig(\n",
    "            \"PREFIRE_CLDTOP_pressure_SP_\" + beginning_time_fn + \"_\" + ending_time_fn + \".png\",\n",
    "            dpi=600,\n",
    "        )\n",
    "        plt.show()\n",
    "        plt.close()\n",
    "    else:\n",
    "        print(\n",
    "            f\"there is nothing to plot for cloudtop pressure between {beginning_time} and {ending_time}\"\n",
    "        )"
   ]
  },
  {
   "cell_type": "code",
   "execution_count": null,
   "id": "e2cfcfd7-a23f-4cb6-8f65-d963952a3172",
   "metadata": {},
   "outputs": [],
   "source": []
  }
 ],
 "metadata": {
  "kernelspec": {
   "display_name": "Python 3 (ipykernel)",
   "language": "python",
   "name": "python3"
  },
  "language_info": {
   "codemirror_mode": {
    "name": "ipython",
    "version": 3
   },
   "file_extension": ".py",
   "mimetype": "text/x-python",
   "name": "python",
   "nbconvert_exporter": "python",
   "pygments_lexer": "ipython3",
   "version": "3.11.13"
  }
 },
 "nbformat": 4,
 "nbformat_minor": 5
}
