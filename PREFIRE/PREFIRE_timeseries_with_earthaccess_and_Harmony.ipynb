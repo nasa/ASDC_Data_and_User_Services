{
 "cells": [
  {
   "cell_type": "markdown",
   "id": "b1046238-1c01-472e-8e88-0b9240fc1abe",
   "metadata": {},
   "source": [
    "# Install geopy\n",
    "the library is needed for determination of a true nearest neighbor observation"
   ]
  },
  {
   "cell_type": "code",
   "execution_count": 1,
   "id": "5599c742-7f75-4648-85dc-f9fe3c61752b",
   "metadata": {},
   "outputs": [
    {
     "name": "stdout",
     "output_type": "stream",
     "text": [
      "Requirement already satisfied: geopy in /srv/conda/envs/notebook/lib/python3.11/site-packages (2.4.1)\n",
      "Requirement already satisfied: geographiclib<3,>=1.52 in /srv/conda/envs/notebook/lib/python3.11/site-packages (from geopy) (2.0)\n"
     ]
    }
   ],
   "source": [
    "! pip3 install geopy"
   ]
  },
  {
   "cell_type": "markdown",
   "id": "e9d8a4d7-52b2-490a-8380-ccb716fab284",
   "metadata": {},
   "source": [
    "# Importing necessary libraries"
   ]
  },
  {
   "cell_type": "code",
   "execution_count": 2,
   "id": "9ec62d83-3e21-4a62-a4d3-dc725f753e18",
   "metadata": {},
   "outputs": [],
   "source": [
    "import earthaccess # needed to discover and download TEMPO data\n",
    "import netCDF4 as nc # needed to read TEMPO data\n",
    "\n",
    "import os\n",
    "import sys\n",
    "\n",
    "import getpass\n",
    "\n",
    "import numpy as np\n",
    "\n",
    "import matplotlib.pyplot as plt # needed to plot the resulting time series\n",
    "from matplotlib.pyplot import cm\n",
    "from datetime import datetime, timedelta, timezone # needed to work with time in plotting time series\n",
    "\n",
    "import cmr\n",
    "from harmony import BBox, Client, Collection, Request\n",
    "from harmony.config import Environment\n",
    "\n",
    "import geopy.distance as geodist"
   ]
  },
  {
   "cell_type": "markdown",
   "id": "f8ea58d2-95fb-4328-977a-416b3378392d",
   "metadata": {},
   "source": [
    "# Define a function to read FLX data\n",
    "## this function reads both original granules and subset\n",
    "## though the outputs have different dimensions due to different file structure of original and subset data files"
   ]
  },
  {
   "cell_type": "code",
   "execution_count": 3,
   "id": "616de95c-ed59-4a28-9b0b-a3a407af3433",
   "metadata": {},
   "outputs": [],
   "source": [
    "def read_PREFIRE_2B_FLX(fn):\n",
    "\n",
    "  try:\n",
    "    ds = nc.Dataset(fn)\n",
    "    geo = ds.groups['Geometry']\n",
    "\n",
    "    var = geo.variables['ctime']\n",
    "    ctime = np.ma.getdata(var[:])\n",
    "\n",
    "    var = geo.variables['ctime_minus_UTC']\n",
    "    ctime_minus_UTC = np.ma.getdata(var[:])\n",
    "\n",
    "    var = geo.variables['latitude']\n",
    "    lat = np.ma.getdata(var[:])\n",
    "\n",
    "    var = geo.variables['longitude']\n",
    "    lon = np.ma.getdata(var[:])\n",
    "\n",
    "    var = geo.variables['time_UTC_values']\n",
    "    time_UTC = np.ma.getdata(var[:])\n",
    "\n",
    "    Flx = ds.groups['Flx']\n",
    "    var = Flx.variables['flx_qc_bitflags']\n",
    "    flxbitQF = np.ma.getdata(var[:])\n",
    "\n",
    "    var = Flx.variables['flx_quality_flag']\n",
    "    flxQF = np.ma.getdata(var[:])\n",
    "\n",
    "    var = Flx.variables['olr']\n",
    "    olr = np.ma.getdata(var[:])\n",
    "    fv_olr = var.get_fill_value()\n",
    "    olr_unit = var.getncattr('units')\n",
    "\n",
    "    ds.close()\n",
    "\n",
    "  except:\n",
    "    ctime = 0.\n",
    "    ctime_minus_UTC = 0.\n",
    "    lat = 0.\n",
    "    lon = 0.\n",
    "    time_UTC = 0.\n",
    "    flxbitQF = 0.\n",
    "    flxQF = 0.\n",
    "    olr = 0.\n",
    "    fv_olr = 0.\n",
    "    olr_unit = 0.\n",
    "\n",
    "  return ctime, ctime_minus_UTC, lat, lon, time_UTC\\\n",
    ", flxbitQF, flxQF, olr, fv_olr, olr_unit"
   ]
  },
  {
   "cell_type": "markdown",
   "id": "f40aeee8-7e41-4e00-8974-4ee0277c96e2",
   "metadata": {},
   "source": [
    "# Set name constants"
   ]
  },
  {
   "cell_type": "code",
   "execution_count": 4,
   "id": "5e0d49b5-4527-4086-9a43-acb4d4d23295",
   "metadata": {},
   "outputs": [],
   "source": [
    "out_Q = 'OLR'\n",
    "out_Q_unit = 'W m-2'"
   ]
  },
  {
   "cell_type": "markdown",
   "id": "951c1351-64f8-4d44-8f4c-b74748a4fad2",
   "metadata": {},
   "source": [
    "# Logging in with Earthdata credentials"
   ]
  },
  {
   "cell_type": "code",
   "execution_count": 5,
   "id": "335b7644-9f4d-4326-83e2-26b748e63700",
   "metadata": {},
   "outputs": [],
   "source": [
    "#User needs to create an account at https://www.earthdata.nasa.gov/\n",
    "#Function earthaccess.login prompts for EarthData login and password.\n",
    "auth = earthaccess.login(strategy=\"interactive\", persist=True)"
   ]
  },
  {
   "cell_type": "markdown",
   "id": "3eee3b3e-b124-48b0-8ba4-80eb1eb0ccc0",
   "metadata": {},
   "source": [
    "# Define a function to obtain collection ID\n",
    "## collection ID will be needed for accessing the collection with Harmony-py"
   ]
  },
  {
   "cell_type": "code",
   "execution_count": 6,
   "id": "1ac552e1-03cc-46ef-8282-bb236b542515",
   "metadata": {},
   "outputs": [],
   "source": [
    "def get_collectionID_earthaccess(short_name, version):\n",
    "    collectionID = '-1'\n",
    "\n",
    "    results = earthaccess.search_datasets(short_name=short_name, version=version)\n",
    "\n",
    "    if len(results)==1: collectionID = results[0]['meta']['concept-id']\n",
    "    else: raise Exception('Specify valid collection')\n",
    "\n",
    "    return collectionID"
   ]
  },
  {
   "cell_type": "code",
   "execution_count": 7,
   "id": "66515fd5-36d6-4457-8b17-6164d1cd6959",
   "metadata": {},
   "outputs": [
    {
     "name": "stdout",
     "output_type": "stream",
     "text": [
      "collectionID for collection short_name PREFIRE_SAT2_2B-FLX and version R01 is C3499202317-LARC_CLOUD\n"
     ]
    }
   ],
   "source": [
    "short_name = 'PREFIRE_SAT2_2B-FLX'\n",
    "version = 'R01'\n",
    "collectionID = get_collectionID_earthaccess(short_name, version)\n",
    "print(f\"collectionID for collection short_name {short_name} and version {version} is {collectionID}\")"
   ]
  },
  {
   "cell_type": "markdown",
   "id": "b919260d-817c-4e02-a5fd-1da2c6a0c39b",
   "metadata": {},
   "source": [
    "# Search for all granules covering point of interest (POI)"
   ]
  },
  {
   "cell_type": "markdown",
   "id": "99f572b4-d7b4-46bf-8ba8-c38cbfaf7d58",
   "metadata": {},
   "source": [
    "## Set POI\n",
    "Edge Island, Svalbard, Norway"
   ]
  },
  {
   "cell_type": "code",
   "execution_count": 8,
   "id": "8e341a39-6508-4b3d-b96a-2a21d3410d6c",
   "metadata": {},
   "outputs": [
    {
     "name": "stdout",
     "output_type": "stream",
     "text": [
      "Svalbard_077.7500N_022.5000E\n"
     ]
    }
   ],
   "source": [
    "POI_name = 'Svalbard'\n",
    "[POI_lon, POI_lat] =  [22.5, 77.75]\n",
    "POI = [POI_lon, POI_lat]\n",
    "# POI location string for output files\n",
    "if POI_lon < 0.: lon_str = str('%08.4fW' %(-POI_lon))\n",
    "else: lon_str = str('%08.4fE' %(POI_lon))\n",
    "if POI_lat < 0.: lat_str = str('%08.4fS' %(-POI_lat))\n",
    "else: lat_str = str('%08.4fN' %(POI_lat))\n",
    "POI_loc_str = POI_name + '_' + lat_str + '_' + lon_str\n",
    "print(POI_loc_str)"
   ]
  },
  {
   "cell_type": "markdown",
   "id": "995bda0c-29a9-4956-95b9-c87b3f69c111",
   "metadata": {},
   "source": [
    "## Search for granules through entire mission lifetime"
   ]
  },
  {
   "cell_type": "code",
   "execution_count": 9,
   "id": "6137e97e-ad7a-4458-9524-552ed8623ede",
   "metadata": {
    "scrolled": true
   },
   "outputs": [
    {
     "name": "stdout",
     "output_type": "stream",
     "text": [
      "344 granules were found\n"
     ]
    }
   ],
   "source": [
    "short_name = 'PREFIRE_SAT2_2B-FLX' # collection name\n",
    "version = 'R01' # version of the collection\n",
    "\n",
    "results_earthaccess = earthaccess.search_data(short_name = short_name\\\n",
    "                                , version = version\\\n",
    "                                , point = (POI_lon, POI_lat)) # longitude-latitude pair\n",
    "\n",
    "PREFIRE_names = sorted([r['meta']['native-id'] for r in results_earthaccess])\n",
    "print(len(PREFIRE_names), \"granules were found\")"
   ]
  },
  {
   "cell_type": "markdown",
   "id": "aba7d47a-3fc1-4e96-83ea-95978dbeaddc",
   "metadata": {},
   "source": [
    "# Logging in with Harmony-py"
   ]
  },
  {
   "cell_type": "code",
   "execution_count": 10,
   "id": "eecbe05a-5f7d-4f2d-8f1b-ae6a51224490",
   "metadata": {},
   "outputs": [
    {
     "name": "stdout",
     "output_type": "stream",
     "text": [
      "Please provide your Earthdata Login credentials to allow data access\n",
      "Your credentials will only be passed to Earthdata and will not be exposed in the notebook\n"
     ]
    },
    {
     "name": "stdin",
     "output_type": "stream",
     "text": [
      "Username: alexrad71\n",
      " ········\n"
     ]
    }
   ],
   "source": [
    "print('Please provide your Earthdata Login credentials to allow data access')\n",
    "print('Your credentials will only be passed to Earthdata and will not be exposed in the notebook')\n",
    "username = input('Username:')\n",
    "\n",
    "harmony_client = Client(env=Environment.PROD, auth=(username, getpass.getpass()))"
   ]
  },
  {
   "cell_type": "markdown",
   "id": "2eafc5dd-6337-4960-89be-941fc5bc6607",
   "metadata": {},
   "source": [
    "# Define function creating Harmony-py request and returning job ID"
   ]
  },
  {
   "cell_type": "code",
   "execution_count": 11,
   "id": "1f6cc006-8ebe-4723-81b1-25303994e97c",
   "metadata": {},
   "outputs": [],
   "source": [
    "def create_Harmony_job_id(filenames, collectionID, POI_lon, POI_lat):\n",
    "# function create_Harmony_job_id takes a list of granule names to subset, filenames,\n",
    "#                                      a collection ID,\n",
    "#                                  and a position of the POI.\n",
    "# the list of variables to retain is pre-defined\n",
    "    request = Request(collection=Collection(id=collectionID)\n",
    "                    , granule_name=filenames\n",
    "                    , variables=['Geometry/ctime'\n",
    "                               , 'Geometry/ctime_minus_UTC'\n",
    "                               , 'Geometry/latitude'\n",
    "                               , 'Geometry/longitude'\n",
    "                               , 'Geometry/time_UTC_values'\n",
    "                               , 'Flx/flx_qc_bitflags'\n",
    "                               , 'Flx/flx_quality_flag'\n",
    "                               , 'Flx/olr']\n",
    "# subsetting in space around the POI\n",
    "                    , spatial = BBox(POI_lon - .5, POI_lat - .5, POI_lon + .5, POI_lat + .5))\n",
    "    assert request.is_valid()\n",
    "    job_id = harmony_client.submit(request)\n",
    "\n",
    "    return job_id"
   ]
  },
  {
   "cell_type": "markdown",
   "id": "2f4bdbe4-7b84-4c5f-9ab9-2ec2e95a7948",
   "metadata": {},
   "source": [
    "# Search and download subset data\n",
    "### un-documented \"feature\" of Request function used in the function definition above is that\n",
    "### the length of the list granules is limited. It is somewhere between 75 and 100.\n",
    "### We have to split a longer list into parts."
   ]
  },
  {
   "cell_type": "code",
   "execution_count": 12,
   "id": "db67b69b-5aa1-4ec0-a5c8-8b3e27c7aef6",
   "metadata": {},
   "outputs": [
    {
     "name": "stdout",
     "output_type": "stream",
     "text": [
      "344\n",
      "chunk  1  job_id: 576a333e-11d5-4b04-83d3-28290231078e\n",
      "chunk  2  job_id: 8d657e5d-4093-436e-83a6-babf0edaf33f\n",
      "chunk  3  job_id: 1cfb7896-aaa0-4a27-90dd-500a13198959\n",
      "chunk  4  job_id: 49dcb55d-263b-444f-bbc4-6e840e06fb45\n"
     ]
    },
    {
     "name": "stderr",
     "output_type": "stream",
     "text": [
      " [ Processing:   0% ] |                                                   | [/]"
     ]
    },
    {
     "name": "stdout",
     "output_type": "stream",
     "text": [
      "chunk  5  job_id: 887d50ba-2c5a-4b76-99ad-f9925009f1f4\n",
      "344\n",
      "44\n",
      "jobID = 576a333e-11d5-4b04-83d3-28290231078e\n"
     ]
    },
    {
     "name": "stderr",
     "output_type": "stream",
     "text": [
      " [ Processing: 100% ] |###################################################| [|]\n"
     ]
    },
    {
     "name": "stdout",
     "output_type": "stream",
     "text": [
      "./101597224_PREFIRE_SAT2_2B-FLX_R01_P00_20240630033949_00541_subsetted_20240831T032430Z_C3499202317-LARC_CLOUD_merged.nc4\n",
      "jobID = 8d657e5d-4093-436e-83a6-babf0edaf33f\n"
     ]
    },
    {
     "name": "stderr",
     "output_type": "stream",
     "text": [
      " [ Processing: 100% ] |###################################################| [|]\n",
      " [ Processing:   0% ] |                                                   | [/]"
     ]
    },
    {
     "name": "stdout",
     "output_type": "stream",
     "text": [
      "./101597223_PREFIRE_SAT2_2B-FLX_R01_P00_20240831205207_01489_subsetted_20241109T210231Z_C3499202317-LARC_CLOUD_merged.nc4\n",
      "jobID = 1cfb7896-aaa0-4a27-90dd-500a13198959\n"
     ]
    },
    {
     "name": "stderr",
     "output_type": "stream",
     "text": [
      " [ Processing: 100% ] |###################################################| [|]\n",
      " [ Processing:   0% ] |                                                   | [/]"
     ]
    },
    {
     "name": "stdout",
     "output_type": "stream",
     "text": [
      "./101597221_PREFIRE_SAT2_2B-FLX_R01_P00_20241110032306_02552_subsetted_20250114T031335Z_C3499202317-LARC_CLOUD_merged.nc4\n",
      "jobID = 49dcb55d-263b-444f-bbc4-6e840e06fb45\n"
     ]
    },
    {
     "name": "stderr",
     "output_type": "stream",
     "text": [
      " [ Processing: 100% ] |###################################################| [|]\n",
      " [ Processing:   0% ] |                                                   | [/]"
     ]
    },
    {
     "name": "stdout",
     "output_type": "stream",
     "text": [
      "./101597222_PREFIRE_SAT2_2B-FLX_R01_P00_20250114203927_03547_subsetted_20250327T032736Z_C3499202317-LARC_CLOUD_merged.nc4\n",
      "jobID = 887d50ba-2c5a-4b76-99ad-f9925009f1f4\n"
     ]
    },
    {
     "name": "stderr",
     "output_type": "stream",
     "text": [
      " [ Processing: 100% ] |###################################################| [|]\n"
     ]
    },
    {
     "name": "stdout",
     "output_type": "stream",
     "text": [
      "./101597219_PREFIRE_SAT2_2B-FLX_R01_P00_20250327205240_04638_subsetted_20250509T033927Z_C3499202317-LARC_CLOUD_merged.nc4\n",
      "5\n",
      "./101597654_PREFIRE_SAT2_2B-FLX_R01_P00_20240630002914_00539_subsetted_20240915T003053Z_C3499202317-LARC_CLOUD_merged.nc4\n",
      "./101597663_PREFIRE_SAT2_2B-FLX_R01_P00_20240915082659_01708_subsetted_20241214T083928Z_C3499202317-LARC_CLOUD_merged.nc4\n",
      "./101597653_PREFIRE_SAT2_2B-FLX_R01_P00_20241215003034_03080_subsetted_20250318T085053Z_C3499202317-LARC_CLOUD_merged.nc4\n",
      "./101597652_PREFIRE_SAT2_2B-FLX_R01_P00_20250319004104_04504_subsetted_20250509T002931Z_C3499202317-LARC_CLOUD_merged.nc4\n"
     ]
    }
   ],
   "source": [
    "chunk_size = 75\n",
    "num_files = len(PREFIRE_names)\n",
    "print(num_files)\n",
    "all_filenames = []*num_files\n",
    "all_filenames[:] = PREFIRE_names[:]\n",
    "\n",
    "job_id_list = []\n",
    "i = 0\n",
    "while len(all_filenames) > chunk_size:\n",
    "    chunk = all_filenames[:chunk_size]\n",
    "#    print(chunk)\n",
    "    del all_filenames[:chunk_size]\n",
    "    job_id = create_Harmony_job_id(chunk, collectionID, POI_lon, POI_lat)\n",
    "    job_id_list.append(job_id)\n",
    "    i = i + 1\n",
    "    print('chunk ', i, ' job_id:', job_id)\n",
    "\n",
    "last_chunk = all_filenames\n",
    "last_job_id = create_Harmony_job_id(last_chunk, collectionID, POI_lon, POI_lat)\n",
    "print('chunk ', i+1, ' job_id:', last_job_id)\n",
    "job_id_list.append(last_job_id)\n",
    "\n",
    "print(len(PREFIRE_names))\n",
    "print(len(all_filenames))\n",
    "\n",
    "all_results_stored = []\n",
    "for job_id in job_id_list:\n",
    "    print(f'jobID = {job_id}')\n",
    "    harmony_client.wait_for_processing(job_id, show_progress=True)\n",
    "\n",
    "# Download the resulting files\n",
    "    results = harmony_client.download_all(job_id, directory='./', overwrite=True)\n",
    "    all_results_stored.append([f.result() for f in results])\n",
    "\n",
    "print(len(all_results_stored))\n",
    "fout = open('subset_names.txt', 'w')\n",
    "for result in all_results_stored:\n",
    "    for res in result: fout.write(res+'\\n')\n",
    "\n",
    "fout.close()"
   ]
  },
  {
   "cell_type": "markdown",
   "id": "f88d8351-718d-4a46-95e9-d2de26e099f9",
   "metadata": {},
   "source": [
    "# Create timeseries of OLR\n",
    "### clear and cloudy retrievals are separated by quality flag\n",
    "### nearest neighbor are limited to be less than 25 km avay from the POI, see  figures of atrack and xtrack distances distributions below.\n",
    "![](atrack_dist.png)\n",
    "![](xtrack_dist.png)"
   ]
  },
  {
   "cell_type": "code",
   "execution_count": 13,
   "id": "d0567b1f-d6b1-403c-9959-6ce33daba35e",
   "metadata": {},
   "outputs": [
    {
     "name": "stdout",
     "output_type": "stream",
     "text": [
      "101597224_PREFIRE_SAT2_2B-FLX_R01_P00_20240630033949_00541_subsetted_20240831T032430Z_C3499202317-LARC_CLOUD_merged.nc4\n",
      "101597223_PREFIRE_SAT2_2B-FLX_R01_P00_20240831205207_01489_subsetted_20241109T210231Z_C3499202317-LARC_CLOUD_merged.nc4\n",
      "101597221_PREFIRE_SAT2_2B-FLX_R01_P00_20241110032306_02552_subsetted_20250114T031335Z_C3499202317-LARC_CLOUD_merged.nc4\n",
      "101597222_PREFIRE_SAT2_2B-FLX_R01_P00_20250114203927_03547_subsetted_20250327T032736Z_C3499202317-LARC_CLOUD_merged.nc4\n",
      "101597219_PREFIRE_SAT2_2B-FLX_R01_P00_20250327205240_04638_subsetted_20250509T033927Z_C3499202317-LARC_CLOUD_merged.nc4\n"
     ]
    }
   ],
   "source": [
    "# read subset file names back\n",
    "fin = open('subset_names.txt', 'r')\n",
    "subset_filenames = fin.readlines()\n",
    "fin.close()\n",
    "\n",
    "fout_HQ_clear = open(out_Q+'_clear_'+ POI_loc_str, 'w')\n",
    "fout_HQ_clear.write('timeseries of clear'+out_Q+' at '+POI_loc_str+'\\n')\n",
    "fout_HQ_clear.write('YYYY MM DD hh mm ss  ms     lat      lon olr,'+out_Q_unit+' dist_to_POI\\n')\n",
    "\n",
    "fout_HQ_cloudy = open(out_Q+'_cloudy_'+ POI_loc_str, 'w')\n",
    "fout_HQ_cloudy.write('timeseries of cloudy'+out_Q+' at '+POI_loc_str+'\\n')\n",
    "fout_HQ_cloudy.write('YYYY MM DD hh mm ss  ms     lat      lon olr,'+out_Q_unit+' dist_to_POI\\n')\n",
    "\n",
    "for fn in subset_filenames:\n",
    "    fname = fn.split('/')[-1][:-1] # the subsets are in local directory, so we need only file name, .split('/')[-1] removes path, [:-1] remove \"new line\" at the end\n",
    "    print(fname)\n",
    "    ctime, ctime_minus_UTC, lat, lon, time_UTC\\\n",
    ", flxbitQF, flxQF, olr, fv_olr, olr_unit =  read_PREFIRE_2B_FLX(fname)\n",
    "# subset files are comprised of multiple granule subsets, check the number of granules contributing to the subset file\n",
    "    ngranules = ctime.shape[0]\n",
    "\n",
    "    for igranule in range(ngranules):\n",
    "        mask_hq = (olr[igranule] != fv_olr)&(flxbitQF[igranule] == 0)\n",
    "\n",
    "# search for clear-sky observations\n",
    "        mask_clear = mask_hq&(flxQF[igranule] == 0)\n",
    "        lat_clear = lat[igranule, mask_clear]\n",
    "        lon_clear = lon[igranule, mask_clear]\n",
    "        olr_clear = olr[igranule, mask_clear]\n",
    "        nclear = len(lat_clear)\n",
    "        if nclear > 0:\n",
    "            dist_clear = np.empty(nclear)\n",
    "            for i, (lat_loc, lon_loc) in enumerate(zip(lat_clear, lon_clear)):\n",
    "                dist_clear[i] = geodist.geodesic((POI_lat, POI_lon), (lat_loc, lon_loc)).km\n",
    "\n",
    "            olr_clear_to_sort = np.stack((lat_clear, lon_clear, olr_clear, dist_clear), axis = 1)\n",
    "            olr_clear_sorted = olr_clear_to_sort[olr_clear_to_sort[:, 3].argsort()]\n",
    "            if olr_clear_sorted[0, 3]<=25.: # check whether the nearest pixel is within 25 km from the POI\n",
    "                atrack_index_clear = np.argwhere(lat[igranule] == olr_clear_sorted[0, 0])[0, 0]\n",
    "                time_clear = time_UTC[igranule, atrack_index_clear]\n",
    "                fout_HQ_clear.write(f'{time_clear[0]:4d} {time_clear[1]:2d} {time_clear[2]:2d} {time_clear[3]:2d} {time_clear[4]:2d} {time_clear[5]:2d} {time_clear[6]:3d}')\n",
    "                fout_HQ_clear.write(f'{olr_clear_sorted[0, 0]:8.4f} {olr_clear_sorted[0, 1]:8.4f} {olr_clear_sorted[0, 2]:8.4f} {olr_clear_sorted[0, 3]:8.4f}\\n')\n",
    "\n",
    "# search for cloudy observations\n",
    "        mask_cloudy = mask_hq&(flxQF[igranule] == 1)\n",
    "        lat_cloudy = lat[igranule, mask_cloudy]\n",
    "        lon_cloudy = lon[igranule, mask_cloudy]\n",
    "        olr_cloudy = olr[igranule, mask_cloudy]\n",
    "        ncloudy = len(lat_cloudy)\n",
    "        if ncloudy > 0:\n",
    "            dist_cloudy = np.empty(ncloudy)\n",
    "            for i, (lat_loc, lon_loc) in enumerate(zip(lat_cloudy, lon_cloudy)):\n",
    "                dist_cloudy[i] = geodist.geodesic((POI_lat, POI_lon), (lat_loc, lon_loc)).km\n",
    "\n",
    "            olr_cloudy_to_sort = np.stack((lat_cloudy, lon_cloudy, olr_cloudy, dist_cloudy), axis = 1)\n",
    "            olr_cloudy_sorted = olr_cloudy_to_sort[olr_cloudy_to_sort[:, 3].argsort()]\n",
    "            if olr_cloudy_sorted[0, 3]<=25.: # check whether the nearest pixel is within 25 km from the POI\n",
    "                atrack_index_cloudy = np.argwhere(lat[igranule] == olr_cloudy_sorted[0, 0])[0, 0]\n",
    "                time_cloudy = time_UTC[igranule, atrack_index_cloudy]\n",
    "                fout_HQ_cloudy.write(f'{time_cloudy[0]:4d} {time_cloudy[1]:2d} {time_cloudy[2]:2d} {time_cloudy[3]:2d} {time_cloudy[4]:2d} {time_cloudy[5]:2d} {time_cloudy[6]:3d}')\n",
    "                fout_HQ_cloudy.write(f'{olr_cloudy_sorted[0, 0]:8.4f} {olr_cloudy_sorted[0, 1]:8.4f} {olr_cloudy_sorted[0, 2]:8.4f} {olr_cloudy_sorted[0, 3]:8.4f}\\n')\n",
    "\n",
    "fout_HQ_clear.close()\n",
    "fout_HQ_cloudy.close()"
   ]
  },
  {
   "cell_type": "markdown",
   "id": "45c8a5a4-dcb1-4725-a177-ddc5576037d2",
   "metadata": {},
   "source": [
    "# define a function to read written down timeseries"
   ]
  },
  {
   "cell_type": "code",
   "execution_count": 14,
   "id": "587d03bb-bc77-474f-92f1-069383403746",
   "metadata": {},
   "outputs": [],
   "source": [
    "def read_timeseries(ts_fname, yyyy_ini, mm_ini, dd_ini):\n",
    "\n",
    "    fout = open(ts_fname, 'r')\n",
    "\n",
    "    header1 = fout.readline()\n",
    "    header2 = fout.readline()\n",
    "    data_lines = fout.readlines()\n",
    "\n",
    "    fout.close()\n",
    "\n",
    "    hh = 0\n",
    "    mm = 0\n",
    "    ss = 0\n",
    "    dt0 = datetime(yyyy_ini, mm_ini, dd_ini, hh, mm, ss, tzinfo=timezone.utc)\n",
    "\n",
    "    time_series = np.empty([0, 2])\n",
    "\n",
    "    for line in data_lines:\n",
    "        split = line.split()\n",
    "        YYYY = int(split[0])\n",
    "        MM = int(split[1])\n",
    "        DD = int(split[2])\n",
    "        hh = int(split[3])\n",
    "        mm = int(split[4])\n",
    "        ss = int(split[5])\n",
    "        ms = int(split[6])\n",
    "        if ms > 999: ms = 999\n",
    "        olr = float(split[9])\n",
    "        obs_time = datetime(YYYY, MM, DD, hh, mm, ss, ms*1000, tzinfo=timezone.utc)\n",
    "# dt below is time since the beginning of the period of interest in days\n",
    "        dt = (obs_time - dt0).total_seconds()/86400.\n",
    "        time_series = np.append(time_series, [[dt, olr]], axis = 0)\n",
    "\n",
    "    return time_series, dt0"
   ]
  },
  {
   "cell_type": "markdown",
   "id": "0ba3f204-93cf-44c0-a46c-f7de0008581d",
   "metadata": {},
   "source": [
    "# Read timeseries back"
   ]
  },
  {
   "cell_type": "code",
   "execution_count": 15,
   "id": "df858fbd-1d10-442e-b544-928ff3d33934",
   "metadata": {},
   "outputs": [],
   "source": [
    "fname_clear = out_Q+'_clear_'+ POI_loc_str\n",
    "fname_cloudy = out_Q+'_cloudy_'+ POI_loc_str\n",
    "\n",
    "yyyy_ini = 2024\n",
    "mm_ini = 6\n",
    "dd_ini = 30\n",
    "\n",
    "time_series_clear, dt0 = read_timeseries(fname_clear, yyyy_ini, mm_ini, dd_ini)\n",
    "time_series_cloudy, dt0 = read_timeseries(fname_cloudy, yyyy_ini, mm_ini, dd_ini)"
   ]
  },
  {
   "cell_type": "markdown",
   "id": "7d52f8eb-133d-4129-b6cc-4953efa3abf7",
   "metadata": {},
   "source": [
    "# Plot timeseries"
   ]
  },
  {
   "cell_type": "code",
   "execution_count": 16,
   "id": "7a599a9e-52e4-486a-89a9-df0631be7bac",
   "metadata": {},
   "outputs": [
    {
     "data": {
      "image/png": "[encoded data removed]",
      "text/plain": [
       "<Figure size 640x480 with 1 Axes>"
      ]
     },
     "metadata": {},
     "output_type": "display_data"
    }
   ],
   "source": [
    "plot_title = out_Q+' '+POI_loc_str\n",
    "img_name = out_Q+'_'+POI_loc_str+'.jpg'\n",
    "\n",
    "plt.plot(time_series_clear[:, 0], time_series_clear[:, 1],\\\n",
    "         label = \"clear\", c = 'r')\n",
    "plt.plot(time_series_cloudy[:, 0], time_series_cloudy[:, 1],\n",
    "         label = \"cloudy\", c = 'b')\n",
    "\n",
    "# Set the range of x-axis\n",
    "l_lim = 0.\n",
    "u_lim = np.ceil(max(time_series_clear[-1,0], time_series_cloudy[-1,0])) \n",
    "plt.xlim(l_lim, u_lim)\n",
    "\n",
    "# some research is required to set the vertical range\n",
    "plt.xlabel(r'GMT, day from '+dt0.strftime('%Y-%m-%d %H:%M:%S'), fontsize=12)\n",
    "plt.ylabel('OLR, '+olr_unit, fontsize=12)\n",
    "\n",
    "plt.legend(loc='lower left')\n",
    "\n",
    "plt.title(plot_title)\n",
    "plt.savefig(img_name, format='jpg', dpi=300)"
   ]
  },
  {
   "cell_type": "markdown",
   "id": "09de1546-30b1-45c9-962d-22c59a86e0d8",
   "metadata": {},
   "source": [
    "## Set another POI\n",
    "Dome C, Antarctica"
   ]
  },
  {
   "cell_type": "code",
   "execution_count": 17,
   "id": "9ce77428-b2fc-466a-84c6-46f54fe94928",
   "metadata": {},
   "outputs": [
    {
     "name": "stdout",
     "output_type": "stream",
     "text": [
      "Dome_C_075.0997S_123.3322E\n"
     ]
    }
   ],
   "source": [
    "#  POI: Dome C, Antarctica\n",
    "#Coordinates: 75°05′59″S 123°19′56″E\n",
    "POI_lat = -(75 + 5/60. + 59/3600.)\n",
    "POI_lon = 123 + 19/60. + 56/3600.\n",
    "\n",
    "POI_name = 'Dome_C'\n",
    "# POI location string for output files\n",
    "if POI_lon < 0.: lon_str = str('%08.4fW' %(-POI_lon))\n",
    "else: lon_str = str('%08.4fE' %(POI_lon))\n",
    "if POI_lat < 0.: lat_str = str('%08.4fS' %(-POI_lat))\n",
    "else: lat_str = str('%08.4fN' %(POI_lat))\n",
    "POI_loc_str = POI_name + '_' + lat_str + '_' + lon_str\n",
    "print(POI_loc_str)"
   ]
  },
  {
   "cell_type": "markdown",
   "id": "7529e1e6-2602-4520-bc25-bf88a283a151",
   "metadata": {},
   "source": [
    "## Search for granules through entire mission lifetime"
   ]
  },
  {
   "cell_type": "code",
   "execution_count": 18,
   "id": "e79f0ff2-2af3-4cac-8a99-2e573287524b",
   "metadata": {},
   "outputs": [],
   "source": [
    "short_name = 'PREFIRE_SAT2_2B-FLX' # collection name\n",
    "version = 'R01' # version of the collection\n",
    "\n",
    "results_earthaccess = earthaccess.search_data(short_name = short_name\\\n",
    "                                , version = version\\\n",
    "                                , point = (POI_lon, POI_lat)) # longitude-latitude pair\n",
    "\n",
    "PREFIRE_names = sorted([r['meta']['native-id'] for r in results_earthaccess])"
   ]
  },
  {
   "cell_type": "code",
   "execution_count": 19,
   "id": "51920106-1574-413e-b856-48996c5e8ef1",
   "metadata": {},
   "outputs": [
    {
     "name": "stdout",
     "output_type": "stream",
     "text": [
      "262\n"
     ]
    }
   ],
   "source": [
    "print(len(PREFIRE_names))"
   ]
  },
  {
   "cell_type": "markdown",
   "id": "ddcdd706-79ca-4d48-88ce-1524ed835736",
   "metadata": {},
   "source": [
    "# Search and download subset data\n",
    "### un-documented \"feature\" of Request function used in the definition of function create_Harmony_job_id is that\n",
    "### the length of the list granules is limited. It is somewhere between 75 and 100.\n",
    "### We have to split a longer list into parts."
   ]
  },
  {
   "cell_type": "code",
   "execution_count": 20,
   "id": "972b634d-751f-4e70-a687-81e1f5658171",
   "metadata": {},
   "outputs": [
    {
     "name": "stdout",
     "output_type": "stream",
     "text": [
      "262\n",
      "chunk  1  job_id: 13574ab4-7da6-4214-a924-43cb4fdde64c\n",
      "chunk  2  job_id: e6487055-e043-499c-910e-fdad24d12f0c\n",
      "chunk  3  job_id: b3ed9cd6-076f-48ca-b7c2-6690fdf45503\n"
     ]
    },
    {
     "name": "stderr",
     "output_type": "stream",
     "text": [
      " [ Processing:   0% ] |                                                   | [/]"
     ]
    },
    {
     "name": "stdout",
     "output_type": "stream",
     "text": [
      "chunk  4  job_id: c20763ce-d0c7-4fbb-bc92-6af61dcf448b\n",
      "262\n",
      "37\n",
      "jobID = 13574ab4-7da6-4214-a924-43cb4fdde64c\n"
     ]
    },
    {
     "name": "stderr",
     "output_type": "stream",
     "text": [
      " [ Processing: 100% ] |###################################################| [|]\n"
     ]
    },
    {
     "name": "stdout",
     "output_type": "stream",
     "text": [
      "jobID = e6487055-e043-499c-910e-fdad24d12f0c\n"
     ]
    },
    {
     "name": "stderr",
     "output_type": "stream",
     "text": [
      " [ Processing: 100% ] |###################################################| [|]\n",
      " [ Processing:   0% ] |                                                   | [/]"
     ]
    },
    {
     "name": "stdout",
     "output_type": "stream",
     "text": [
      "jobID = b3ed9cd6-076f-48ca-b7c2-6690fdf45503\n"
     ]
    },
    {
     "name": "stderr",
     "output_type": "stream",
     "text": [
      " [ Processing: 100% ] |###################################################| [|]\n",
      " [ Processing:   0% ] |                                                   | [/]"
     ]
    },
    {
     "name": "stdout",
     "output_type": "stream",
     "text": [
      "jobID = c20763ce-d0c7-4fbb-bc92-6af61dcf448b\n"
     ]
    },
    {
     "name": "stderr",
     "output_type": "stream",
     "text": [
      " [ Processing: 100% ] |###################################################| [|]\n"
     ]
    },
    {
     "name": "stdout",
     "output_type": "stream",
     "text": [
      "4\n"
     ]
    }
   ],
   "source": [
    "chunk_size = 75\n",
    "num_files = len(PREFIRE_names)\n",
    "print(num_files)\n",
    "all_filenames = []*num_files\n",
    "all_filenames[:] = PREFIRE_names[:]\n",
    "\n",
    "job_id_list = []\n",
    "i = 0\n",
    "while len(all_filenames) > chunk_size:\n",
    "    chunk = all_filenames[:chunk_size]\n",
    "#    print(chunk)\n",
    "    del all_filenames[:chunk_size]\n",
    "    job_id = create_Harmony_job_id(chunk, collectionID, POI_lon, POI_lat)\n",
    "    job_id_list.append(job_id)\n",
    "    i = i + 1\n",
    "    print('chunk ', i, ' job_id:', job_id)\n",
    "\n",
    "last_chunk = all_filenames\n",
    "last_job_id = create_Harmony_job_id(last_chunk, collectionID, POI_lon, POI_lat)\n",
    "print('chunk ', i+1, ' job_id:', last_job_id)\n",
    "job_id_list.append(last_job_id)\n",
    "\n",
    "print(len(PREFIRE_names))\n",
    "print(len(all_filenames))\n",
    "\n",
    "all_results_stored = []\n",
    "for job_id in job_id_list:\n",
    "    print(f'jobID = {job_id}')\n",
    "    harmony_client.wait_for_processing(job_id, show_progress=True)\n",
    "\n",
    "# Download the resulting files\n",
    "    results = harmony_client.download_all(job_id, directory='./', overwrite=True)\n",
    "    all_results_stored.append([f.result() for f in results])\n",
    "\n",
    "print(len(all_results_stored))\n",
    "fout = open('subset_names_Dome_C.txt', 'w')\n",
    "for result in all_results_stored:\n",
    "    for res in result: fout.write(res+'\\n')\n",
    "\n",
    "fout.close()"
   ]
  },
  {
   "cell_type": "markdown",
   "id": "e7be1f40-bba6-4a56-8c31-d1f48df61b73",
   "metadata": {},
   "source": [
    "# Create timeseries of OLR\n",
    "### clear and cloudy retrievals are separated by quality flag\n",
    "### nearest neighbor are limited to be less than 25 km avay from the POI."
   ]
  },
  {
   "cell_type": "code",
   "execution_count": 21,
   "id": "ad24766e-5b0a-4e48-a586-5da31ae75dc4",
   "metadata": {},
   "outputs": [
    {
     "name": "stdout",
     "output_type": "stream",
     "text": [
      "101597654_PREFIRE_SAT2_2B-FLX_R01_P00_20240630002914_00539_subsetted_20240915T003053Z_C3499202317-LARC_CLOUD_merged.nc4\n",
      "101597663_PREFIRE_SAT2_2B-FLX_R01_P00_20240915082659_01708_subsetted_20241214T083928Z_C3499202317-LARC_CLOUD_merged.nc4\n",
      "101597653_PREFIRE_SAT2_2B-FLX_R01_P00_20241215003034_03080_subsetted_20250318T085053Z_C3499202317-LARC_CLOUD_merged.nc4\n",
      "101597652_PREFIRE_SAT2_2B-FLX_R01_P00_20250319004104_04504_subsetted_20250509T002931Z_C3499202317-LARC_CLOUD_merged.nc4\n"
     ]
    }
   ],
   "source": [
    "# read subset file names back\n",
    "fin = open('subset_names_Dome_C.txt', 'r')\n",
    "subset_filenames = fin.readlines()\n",
    "fin.close()\n",
    "\n",
    "fout_HQ_clear = open(out_Q+'_clear_'+ POI_loc_str, 'w')\n",
    "fout_HQ_clear.write('timeseries of clear'+out_Q+' at '+POI_loc_str+'\\n')\n",
    "fout_HQ_clear.write('YYYY MM DD hh mm ss  ms     lat      lon olr,'+out_Q_unit+' dist_to_POI\\n')\n",
    "\n",
    "fout_HQ_cloudy = open(out_Q+'_cloudy_'+ POI_loc_str, 'w')\n",
    "fout_HQ_cloudy.write('timeseries of cloudy'+out_Q+' at '+POI_loc_str+'\\n')\n",
    "fout_HQ_cloudy.write('YYYY MM DD hh mm ss  ms     lat      lon olr,'+out_Q_unit+' dist_to_POI\\n')\n",
    "\n",
    "for fn in subset_filenames:\n",
    "    fname = fn.split('/')[-1][:-1] # the subsets are in local directory, so we need only file name, .split('/')[-1] removes path, [:-1] remove \"new line\" at the end\n",
    "    print(fname)\n",
    "    ctime, ctime_minus_UTC, lat, lon, time_UTC\\\n",
    ", flxbitQF, flxQF, olr, fv_olr, olr_unit =  read_PREFIRE_2B_FLX(fname)\n",
    "# subset files are comprised of multiple granule subsets, check the number of granules contributing to the subset file\n",
    "    ngranules = ctime.shape[0]\n",
    "\n",
    "    for igranule in range(ngranules):\n",
    "        mask_hq = (olr[igranule] != fv_olr)&(flxbitQF[igranule] == 0)\n",
    "\n",
    "# search for clear-sky observations\n",
    "        mask_clear = mask_hq&(flxQF[igranule] == 0)\n",
    "        lat_clear = lat[igranule, mask_clear]\n",
    "        lon_clear = lon[igranule, mask_clear]\n",
    "        olr_clear = olr[igranule, mask_clear]\n",
    "        nclear = len(lat_clear)\n",
    "        if nclear > 0:\n",
    "            dist_clear = np.empty(nclear)\n",
    "            for i, (lat_loc, lon_loc) in enumerate(zip(lat_clear, lon_clear)):\n",
    "                dist_clear[i] = geodist.geodesic((POI_lat, POI_lon), (lat_loc, lon_loc)).km\n",
    "\n",
    "            olr_clear_to_sort = np.stack((lat_clear, lon_clear, olr_clear, dist_clear), axis = 1)\n",
    "            olr_clear_sorted = olr_clear_to_sort[olr_clear_to_sort[:, 3].argsort()]\n",
    "            if olr_clear_sorted[0, 3]<=25.: # check whether the nearest pixel is within 25 km from the POI\n",
    "                atrack_index_clear = np.argwhere(lat[igranule] == olr_clear_sorted[0, 0])[0, 0]\n",
    "                time_clear = time_UTC[igranule, atrack_index_clear]\n",
    "                fout_HQ_clear.write(f'{time_clear[0]:4d} {time_clear[1]:2d} {time_clear[2]:2d} {time_clear[3]:2d} {time_clear[4]:2d} {time_clear[5]:2d} {time_clear[6]:3d}')\n",
    "                fout_HQ_clear.write(f' {olr_clear_sorted[0, 0]:8.4f} {olr_clear_sorted[0, 1]:8.4f} {olr_clear_sorted[0, 2]:8.4f} {olr_clear_sorted[0, 3]:8.4f}\\n')\n",
    "\n",
    "# search for cloudy observations\n",
    "        mask_cloudy = mask_hq&(flxQF[igranule] == 1)\n",
    "        lat_cloudy = lat[igranule, mask_cloudy]\n",
    "        lon_cloudy = lon[igranule, mask_cloudy]\n",
    "        olr_cloudy = olr[igranule, mask_cloudy]\n",
    "        ncloudy = len(lat_cloudy)\n",
    "        if ncloudy > 0:\n",
    "            dist_cloudy = np.empty(ncloudy)\n",
    "            for i, (lat_loc, lon_loc) in enumerate(zip(lat_cloudy, lon_cloudy)):\n",
    "                dist_cloudy[i] = geodist.geodesic((POI_lat, POI_lon), (lat_loc, lon_loc)).km\n",
    "\n",
    "            olr_cloudy_to_sort = np.stack((lat_cloudy, lon_cloudy, olr_cloudy, dist_cloudy), axis = 1)\n",
    "            olr_cloudy_sorted = olr_cloudy_to_sort[olr_cloudy_to_sort[:, 3].argsort()]\n",
    "            if olr_cloudy_sorted[0, 3]<=25.: # check whether the nearest pixel is within 25 km from the POI\n",
    "                atrack_index_cloudy = np.argwhere(lat[igranule] == olr_cloudy_sorted[0, 0])[0, 0]\n",
    "                time_cloudy = time_UTC[igranule, atrack_index_cloudy]\n",
    "                fout_HQ_cloudy.write(f'{time_cloudy[0]:4d} {time_cloudy[1]:2d} {time_cloudy[2]:2d} {time_cloudy[3]:2d} {time_cloudy[4]:2d} {time_cloudy[5]:2d} {time_cloudy[6]:3d}')\n",
    "                fout_HQ_cloudy.write(f' {olr_cloudy_sorted[0, 0]:8.4f} {olr_cloudy_sorted[0, 1]:8.4f} {olr_cloudy_sorted[0, 2]:8.4f} {olr_cloudy_sorted[0, 3]:8.4f}\\n')\n",
    "\n",
    "fout_HQ_clear.close()\n",
    "fout_HQ_cloudy.close()"
   ]
  },
  {
   "cell_type": "markdown",
   "id": "645b7aa7-abcd-447b-99a9-d9d384922a8d",
   "metadata": {},
   "source": [
    "# Read timeseries back"
   ]
  },
  {
   "cell_type": "code",
   "execution_count": 22,
   "id": "f3caac91-d783-4225-8f40-d8a49d5fe5bb",
   "metadata": {},
   "outputs": [],
   "source": [
    "fname_clear = out_Q+'_clear_'+ POI_loc_str\n",
    "fname_cloudy = out_Q+'_cloudy_'+ POI_loc_str\n",
    "\n",
    "yyyy_ini = 2024\n",
    "mm_ini = 6\n",
    "dd_ini = 30\n",
    "\n",
    "time_series_clear, dt0 = read_timeseries(fname_clear, yyyy_ini, mm_ini, dd_ini)\n",
    "time_series_cloudy, dt0 = read_timeseries(fname_cloudy, yyyy_ini, mm_ini, dd_ini)"
   ]
  },
  {
   "cell_type": "markdown",
   "id": "fa74192b-53f8-4aab-b270-eab707a32b36",
   "metadata": {},
   "source": [
    "# Plot timeseries"
   ]
  },
  {
   "cell_type": "code",
   "execution_count": 23,
   "id": "c72d745f-3807-4f52-9bbd-ff4eb9216284",
   "metadata": {},
   "outputs": [
    {
     "data": {
      "image/png": "[encoded data removed]",
      "text/plain": [
       "<Figure size 640x480 with 1 Axes>"
      ]
     },
     "metadata": {},
     "output_type": "display_data"
    }
   ],
   "source": [
    "plot_title = out_Q+' '+POI_loc_str\n",
    "img_name = out_Q+'_'+POI_loc_str+'.jpg'\n",
    "\n",
    "plt.plot(time_series_clear[:, 0], time_series_clear[:, 1],\\\n",
    "         label = \"clear\", c = 'r')\n",
    "plt.plot(time_series_cloudy[:, 0], time_series_cloudy[:, 1],\n",
    "         label = \"cloudy\", c = 'b')\n",
    "\n",
    "# Set the range of x-axis\n",
    "l_lim = 0.\n",
    "u_lim = np.ceil(max(time_series_clear[-1,0], time_series_cloudy[-1,0])) \n",
    "plt.xlim(l_lim, u_lim)\n",
    "\n",
    "# some research is required to set the vertical range\n",
    "plt.xlabel(r'GMT, day from '+dt0.strftime('%Y-%m-%d %H:%M:%S'), fontsize=12)\n",
    "plt.ylabel('OLR, '+olr_unit, fontsize=12)\n",
    "\n",
    "plt.legend(loc='lower left')\n",
    "\n",
    "plt.title(plot_title)\n",
    "plt.savefig(img_name, format='jpg', dpi=300)"
   ]
  },
  {
   "cell_type": "code",
   "execution_count": null,
   "id": "0dfb9ed6-b4d5-49e0-b21a-67bf1142c19c",
   "metadata": {},
   "outputs": [],
   "source": []
  }
 ],
 "metadata": {
  "kernelspec": {
   "display_name": "Python 3 (ipykernel)",
   "language": "python",
   "name": "python3"
  },
  "language_info": {
   "codemirror_mode": {
    "name": "ipython",
    "version": 3
   },
   "file_extension": ".py",
   "mimetype": "text/x-python",
   "name": "python",
   "nbconvert_exporter": "python",
   "pygments_lexer": "ipython3",
   "version": "3.11.12"
  }
 },
 "nbformat": 4,
 "nbformat_minor": 5
}
