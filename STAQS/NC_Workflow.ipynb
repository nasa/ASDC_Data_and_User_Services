{
 "cells": [
  {
   "cell_type": "markdown",
   "metadata": {},
   "source": [
    "---\n",
    "date: last-modified\n",
    "---"
   ]
  },
  {
   "cell_type": "markdown",
   "metadata": {},
   "source": [
    "# Workflow for STAQS GCAS netCDF files in ArcGIS Pro\n",
    "-- Acronyms to be spelled out --\n",
    "\n",
    "## Summary\n",
    "\n",
    "This notebook shows how ArcGIS users can access [Synergistic TEMPO Air Quality Science\n",
    "(STAQS)](https://asdc.larc.nasa.gov/project/STAQS) netcdf files using ArcGIS PRO.\n",
    "\n",
    "## Prerequisites\n",
    "\n",
    "- ArcGIS Pro\n",
    "\n",
    "## Notebook Author / Affiliation\n",
    "\n",
    "Gabriel Mojica / Atmospheric Science Data Center (ASDC)"
   ]
  },
  {
   "cell_type": "markdown",
   "metadata": {},
   "source": [
    "**Please read the comments before each cell before running!**\n",
    "\n",
    "**Notes:**\n",
    "- They contain what each cell does, what you may need to change, and how to work around any issues.\n",
    "- This workflow has been designed specifically for STAQS GCAS NetCDF Files. If you'd like to use different files, you will need to change what each variable corresponds to.\n",
    "- you will need to open the project from your project's file location, cannot open from Recent Files."
   ]
  },
  {
   "cell_type": "markdown",
   "metadata": {},
   "source": [
    "## Setup\n",
    "\n",
    "Import required packages. If you don't have them, run \"pip install {package_name}\" in your terminal."
   ]
  },
  {
   "cell_type": "code",
   "execution_count": null,
   "metadata": {},
   "outputs": [],
   "source": [
    "import xarray as xr\n",
    "import arcpy\n",
    "from pathlib import Path\n",
    "from datetime import datetime, time"
   ]
  },
  {
   "cell_type": "markdown",
   "metadata": {},
   "source": [
    "**User needs to specify the following paths**\n",
    "\n",
    "- Assign directories and variables, you will need to change your projects Geodatabase path, keep it in the same format as mine\n",
    "- For the sake of this workflow, add the NC_Files and New_NC_Files directories to your desired projects folder"
   ]
  },
  {
   "cell_type": "code",
   "execution_count": null,
   "metadata": {},
   "outputs": [],
   "source": [
    "nc_dir = \"NC_Files/\"\n",
    "output_dir = \"New_NC_Files/\"\n",
    "geo_database = r\"C:\\Users\\gmojica\\Documents\\ArcGIS\\Projects\\RasterTestMosaic\\RasterTestMosaic.gdb\""
   ]
  },
  {
   "cell_type": "code",
   "execution_count": null,
   "metadata": {},
   "outputs": [],
   "source": [
    "input_path = Path(nc_dir)\n",
    "output_path = Path(output_dir)\n",
    "output_list = list(output_path.iterdir())"
   ]
  },
  {
   "cell_type": "code",
   "execution_count": null,
   "metadata": {},
   "outputs": [],
   "source": [
    "aprx = arcpy.mp.ArcGISProject(\"CURRENT\")\n",
    "m = aprx.listMaps()[0]"
   ]
  },
  {
   "cell_type": "markdown",
   "metadata": {},
   "source": "## Iterate through directories to modify nc files and add them to the New_NC_Files dir, assign variables, change what you need to."
  },
  {
   "cell_type": "code",
   "execution_count": 3,
   "metadata": {},
   "outputs": [
    {
     "name": "stdout",
     "output_type": "stream",
     "text": [
      "New NetCDF created at 2025-05-12 11:53:19.441491\n"
     ]
    }
   ],
   "source": [
    "lat = \"lat\"\n",
    "lon = \"lon\"\n",
    "var = \"no2_vertical_column_below_aircraft\"\n",
    "t = \"time\"\n",
    "xt = \"xtrack\"\n",
    "\n",
    "for file in list(input_path.iterdir()):\n",
    "    dataset = xr.open_dataset(file)\n",
    "    dataset = dataset[[var, lat, lon]].dropna(dim=t)\n",
    "    file_name = str(file).replace(str(input_path), \"\")\n",
    "    new_dataset = dataset.to_netcdf(path=str(output_path) + str(file_name))\n",
    "\n",
    "aprx.save()\n",
    "print(f\"New NetCDF created at {datetime.now()}\")"
   ]
  },
  {
   "cell_type": "markdown",
   "metadata": {},
   "source": [
    "## Run Geoprocessing tool to create NetCDF Feature Layer\n",
    "- The NetCDF Feature Layer is a temp layer and cannot be accessed, need to use Copy Feature tool to create a permanent feature layer\n",
    "- If this cell doesn't produce a feature layer, you may need to either refresh the folder with the new nc file and wait a few minutes, or save the project, close, and reopen ArcGIS Pro and run the first few cells again.\n",
    "- This cell has experienced issues before with freezing up, if it takes longer than a few minutes to run (depending on the amount of files), you may want to perform a quick restart of your system, that should free up any bottlenecks with this cell."
   ]
  },
  {
   "cell_type": "code",
   "execution_count": 4,
   "metadata": {},
   "outputs": [
    {
     "name": "stdout",
     "output_type": "stream",
     "text": [
      "Creating NetCDF Feature Layers, this may take some time.\n",
      "NetCDF Feature Layer(s) created at 2025-05-12 11:53:56.192013\n"
     ]
    }
   ],
   "source": [
    "print(\"Creating NetCDF Feature Layers, this may take some time.\")\n",
    "\n",
    "for file in output_list:\n",
    "    arcpy.md.MakeNetCDFFeatureLayer(\n",
    "        in_netCDF_file=str(file),\n",
    "        variable=var,\n",
    "        x_variable=lon,\n",
    "        y_variable=lat,\n",
    "        out_feature_layer=str(file) + \"_NC_Flyr\",\n",
    "        row_dimension=f\"{t};{xt}\",\n",
    "        z_variable=\"\",\n",
    "        m_variable=\"\",\n",
    "        dimension_values=None,\n",
    "        value_selection_method=\"BY_VALUE\",\n",
    "    )\n",
    "aprx.save()\n",
    "\n",
    "print(f\"NetCDF Feature Layer(s) created at {datetime.now()}\")"
   ]
  },
  {
   "cell_type": "markdown",
   "metadata": {},
   "source": [
    "## Rename temp feature layer to allow for Copy Features tool to run successfully\n",
    "\n",
    "Note: Once you run this cell once, do not run it again."
   ]
  },
  {
   "cell_type": "code",
   "execution_count": 5,
   "metadata": {},
   "outputs": [
    {
     "name": "stdout",
     "output_type": "stream",
     "text": [
      "Layer renamed, you can create permanent feature class.\n"
     ]
    }
   ],
   "source": [
    "lyr_list = []\n",
    "\n",
    "for layer in m.listLayers(\"New_NC*\"):\n",
    "    layer.name = str(layer).replace(\"New_NC_Files\\\\\", \"\").replace(\".nc\", \"\").replace(\"-\", \"\")\n",
    "    lyr_list.append(layer.name)\n",
    "\n",
    "aprx.save()\n",
    "\n",
    "print(\"Layer renamed, you can create permanent feature class.\")"
   ]
  },
  {
   "cell_type": "markdown",
   "metadata": {},
   "source": "## Copy Feature to create permanent feature classes."
  },
  {
   "cell_type": "code",
   "execution_count": 6,
   "metadata": {},
   "outputs": [
    {
     "name": "stdout",
     "output_type": "stream",
     "text": [
      "Creating permanent features, this make take some time.\n",
      "Done at 2025-05-12 11:54:35.129398\n"
     ]
    }
   ],
   "source": [
    "print(\"Creating permanent features, this make take some time.\")\n",
    "\n",
    "for layer in m.listLayers(\"staqs*\"):\n",
    "    arcpy.management.CopyFeatures(\n",
    "        in_features=layer,\n",
    "        out_feature_class=str(geo_database) + \"\\\\\" + str(layer),\n",
    "        config_keyword=\"\",\n",
    "        spatial_grid_1=None,\n",
    "        spatial_grid_2=None,\n",
    "        spatial_grid_3=None,\n",
    "    )\n",
    "    arcpy.Delete_management(layer)\n",
    "\n",
    "print(f\"Done at {datetime.now()}\")"
   ]
  },
  {
   "cell_type": "markdown",
   "metadata": {},
   "source": [
    "## Use search cursor to create datetime.date variable and then run select analysis.\n",
    "\n",
    "The time variables need to be input in this format: (HH, MM, SS). If it's a single digit, do not precede with 0, only use the single digit (1, not 01)."
   ]
  },
  {
   "cell_type": "code",
   "execution_count": 7,
   "metadata": {},
   "outputs": [
    {
     "name": "stdout",
     "output_type": "stream",
     "text": [
      "Creating feature class(es) based on time bounds, deleting input features. This may take some time.\n",
      "Done at 2025-05-12 11:54:50.864299\n"
     ]
    }
   ],
   "source": [
    "feature_classes = arcpy.ListFeatureClasses()\n",
    "fc_field = t\n",
    "start_time = time(15, 30, 0)\n",
    "end_time = time(18, 0, 0)\n",
    "print(\n",
    "    \"Creating feature class(es) based on time bounds, deleting input features. This may take some time.\"\n",
    ")\n",
    "for fc in feature_classes:\n",
    "    with arcpy.da.SearchCursor(fc, fc_field) as cursor:\n",
    "        for row in cursor:\n",
    "            date = row[0].date()\n",
    "            break\n",
    "    upper_bound = datetime.combine(date, start_time)\n",
    "    lower_bound = datetime.combine(date, end_time)\n",
    "    input_feature = fc\n",
    "    output_feature = str(geo_database) + \"\\\\\" + str(fc) + \"_copy\"\n",
    "    where_clause = f\"{t} >= timestamp '{upper_bound}' AND {t} <= timestamp '{lower_bound}'\"\n",
    "    arcpy.analysis.Select(input_feature, output_feature, where_clause)\n",
    "    arcpy.Delete_management(fc)\n",
    "\n",
    "aprx.save()\n",
    "\n",
    "print(f\"Done at {datetime.now()}\")"
   ]
  },
  {
   "cell_type": "markdown",
   "metadata": {},
   "source": "## Interpolate by natural neighbor with z value of your variable, feel free to change cell size."
  },
  {
   "cell_type": "code",
   "execution_count": 8,
   "metadata": {},
   "outputs": [
    {
     "name": "stdout",
     "output_type": "stream",
     "text": [
      "Interpolating by Natural Neighbor.\n",
      "Done at 2025-05-12 11:54:58.926297\n"
     ]
    }
   ],
   "source": [
    "cell = 0.00707232999999999\n",
    "print(\"Interpolating by Natural Neighbor.\")\n",
    "\n",
    "for layer in m.listLayers(\"staqs*\"):\n",
    "    arcpy.ddd.NaturalNeighbor(\n",
    "        in_point_features=str(layer),\n",
    "        z_field=str(var),\n",
    "        out_raster=str(geo_database) + \"\\\\\" + str(layer) + \"_intNN\",\n",
    "        cell_size=cell,\n",
    "    )\n",
    "\n",
    "aprx.save()\n",
    "\n",
    "print(f\"Done at {datetime.now()}\")"
   ]
  },
  {
   "cell_type": "markdown",
   "metadata": {},
   "source": [
    "## Run the following cell if you'd like to delete the NetCDF Feature Layer and keep the interpolated raster layer\n",
    "\n",
    "If you'd like to keep the Feature Layers on the map, don't run this cell. If you delete the feature layer and want it back, it is stored in your projects GDB."
   ]
  },
  {
   "cell_type": "code",
   "execution_count": 9,
   "metadata": {},
   "outputs": [
    {
     "name": "stdout",
     "output_type": "stream",
     "text": [
      "Feature layer(s) have been removed from the map.\n"
     ]
    }
   ],
   "source": [
    "for m in arcpy.ListFeatureClasses():\n",
    "    arcpy.Delete_management(m)\n",
    "\n",
    "aprx.save()\n",
    "\n",
    "print(\"Feature layer(s) have been removed from the map.\")"
   ]
  },
  {
   "cell_type": "code",
   "execution_count": null,
   "metadata": {},
   "outputs": [],
   "source": []
  }
 ],
 "metadata": {
  "kernelspec": {
   "display_name": "Python 3 (ipykernel)",
   "language": "python",
   "name": "python3"
  },
  "language_info": {
   "codemirror_mode": {
    "name": "ipython",
    "version": 3
   },
   "file_extension": ".py",
   "mimetype": "text/x-python",
   "name": "python",
   "nbconvert_exporter": "python",
   "pygments_lexer": "ipython3",
   "version": "3.10.15"
  }
 },
 "nbformat": 4,
 "nbformat_minor": 4
}
