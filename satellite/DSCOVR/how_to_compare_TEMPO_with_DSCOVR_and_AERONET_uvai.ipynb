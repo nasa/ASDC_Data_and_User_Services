{
 "cells": [
  {
   "cell_type": "markdown",
   "id": "250aefaa",
   "metadata": {},
   "source": [
    "---\n",
    "date: last-modified\n",
    "---"
   ]
  },
  {
   "cell_type": "markdown",
   "id": "7b5ee391-5b83-44a5-8354-6eab9d7dde69",
   "metadata": {
    "collapsed": true,
    "jupyter": {
     "outputs_hidden": true
    }
   },
   "source": [
    "# TEMPO UV Aerosol Index from L2_O3TOT with EPIC and AERONET\n",
    "\n",
    "## Summary\n",
    "This notebook illustrates a comparison of TEMPO ultra-violet aerosol index (UVAI) against DSCOVR EPIC UVAI as well as comparison of DSCOVR EPIC AOD against AERONET.\n",
    "\n",
    "Since AERONET data files cannot be downloaded programmatically, a user is supposed to upload an AERONET AOD level 1.5 or 2.0 data file and provide its name as a constant. Since TEMPO spatial coverage is regional and limited to North America, it is user's responsibilty to select AERONET station within TEMPO's field of regard (FOR). If the selected station is outside FOR, no TEMPO time series will be generated.\n",
    "\n",
    "The user is allowed to choose the time period of interest by providing start and end dates in the form YYYYMMDD. Please be aware, that if the selecte period of interest is outside of available time span of one of the sensors, corresponding time series will not be generated.\n",
    "\n",
    "TEMPO and DSCOVR data are downloaded on-the-fly with earthaccess library.\n",
    "\n",
    "TEMPO and DSCOVR L2 AER data are interpolated to the location of the selected AERONET station.\n",
    "\n",
    "## Dataset Information\n",
    "\n",
    "\"DSCOVR_EPIC_L2_AER_03 is the Deep Space Climate Observatory (DSCOVR) Enhanced Polychromatic Imaging Camera (EPIC) Level 2 UV Aerosol Version 3 data product. Observations for this data product are at 340 and 388 nm and are used to derive near UV (ultraviolet) aerosol properties. The EPIC aerosol retrieval algorithm (EPICAERUV) uses a set of aerosol models to account for the presence of carbonaceous aerosols from biomass burning and wildfires (BIO), desert dust (DST), and sulfate-based (SLF) aerosols. These aerosol models are identical to those assumed in the OMI (Ozone Monitoring Instrument) algorithm (Torres et al., 2007; Jethva and Torres, 2011).\" ([Source](https://asdc.larc.nasa.gov/project/DSCOVR/DSCOVR_EPIC_L2_AER_03))\n",
    "\n",
    "Total ozone Level 2 files provide ozone information at Tropospheric Emissions: Monitoring of Pollution (TEMPO)’s native spatial resolution, ~10 km^2 at the center of the Field of Regard (FOR), for individual granules. Each granule covers the entire North-South TEMPO FOR but only a portion of the East-West FOR.\n",
    "\n",
    "### Prerequisites\n",
    "\n",
    "A free(!) account at https://www.earthdata.nasa.gov/ is needed to login and download the appropriate files.\n",
    "\n",
    "This notebook was last tested using Python 3.10.15, and requires these libraries:\n",
    "\n",
    "- [earthaccess](https://earthaccess.readthedocs.io/en/latest/)\n",
    "- [h5py]\n",
    "- [matplotlib](http://matplotlib.org/)\n",
    "- [netCDF4]\n",
    "- [numpy](https://numpy.org/)\n",
    "- [shapely]\n",
    "- [scipy]\n",
    "\n",
    "### Notebook Author / Affiliation\n",
    "Alexander Radkevich / Atmospheric Science Data Center"
   ]
  },
  {
   "cell_type": "markdown",
   "id": "788b152f-ad1b-424a-b506-34f86af18cab",
   "metadata": {},
   "source": [
    "# 1. Setup\n",
    "---"
   ]
  },
  {
   "cell_type": "code",
   "execution_count": 1,
   "id": "4aec7fe5-2fa4-4675-94c1-9c3a8fd5ddeb",
   "metadata": {
    "ExecuteTime": {
     "end_time": "2025-04-24T13:29:12.562323Z",
     "start_time": "2025-04-24T13:29:11.572804Z"
    }
   },
   "outputs": [],
   "source": [
    "import copy\n",
    "import sys\n",
    "from datetime import datetime, timedelta\n",
    "\n",
    "import earthaccess  # needed to discover and download TEMPO data\n",
    "import h5py  # needed to read DSCOVR_EPIC_L2_TO3 files\n",
    "import matplotlib.pyplot as plt  # needed to plot the resulting time series\n",
    "import netCDF4 as nc  # needed to read TEMPO data\n",
    "import numpy as np\n",
    "from shapely.geometry import Point, Polygon  # needed to search a point within a polygon\n",
    "from scipy.interpolate import griddata  # needed to interpolate TEMPO data to the point of interest"
   ]
  },
  {
   "cell_type": "markdown",
   "id": "7b21a71b-76fe-4564-b3f5-2d4f0ca951d7",
   "metadata": {},
   "source": [
    "# 2. Defining functions"
   ]
  },
  {
   "cell_type": "markdown",
   "id": "19b8b327-5ad1-4964-94b4-5bae511b834a",
   "metadata": {},
   "source": [
    "## 2.1 function to read DSCOVR AER data files"
   ]
  },
  {
   "cell_type": "markdown",
   "id": "0762dcce-b0b8-4257-a533-6eaf1fee455e",
   "metadata": {},
   "source": [
    "function read_epic_l2_AER reads DSCOVR_EPIC_L2_AER product file given by its fname\n",
    "and returns arrays of 2D latitudes, longitudes, UVAI, and AOD along with their fill values, time, and wavelengths at which AOD are retrieved"
   ]
  },
  {
   "cell_type": "code",
   "execution_count": 2,
   "id": "8ab46651-2231-47be-b758-092c280322cb",
   "metadata": {
    "ExecuteTime": {
     "end_time": "2025-04-24T13:29:17.328048Z",
     "start_time": "2025-04-24T13:29:17.323918Z"
    }
   },
   "outputs": [],
   "source": [
    "def get_dataset_array_and_fill_value(file_object: h5py.File, dataset_path: str):\n",
    "    h5_dataset = file_object[dataset_path]\n",
    "    return np.array(h5_dataset[:]), h5_dataset.fillvalue\n",
    "\n",
    "\n",
    "def read_epic_l2_AER(filename: str):\n",
    "    aod_name = \"/HDFEOS/SWATHS/Aerosol NearUV Swath/Data Fields/FinalAerosolOpticalDepth\"\n",
    "    uvai_name = \"/HDFEOS/SWATHS/Aerosol NearUV Swath/Data Fields/UVAerosolIndex\"\n",
    "    lat_name = \"/HDFEOS/SWATHS/Aerosol NearUV Swath/Geolocation Fields/Latitude\"\n",
    "    lon_name = \"/HDFEOS/SWATHS/Aerosol NearUV Swath/Geolocation Fields/Longitude\"\n",
    "    wl_name = \"/HDFEOS/SWATHS/Aerosol NearUV Swath/Data Fields/Wavelength\"\n",
    "\n",
    "    arrays = {}\n",
    "    fill_values = {}\n",
    "\n",
    "    with h5py.File(filename, \"r\") as f:\n",
    "        arrays[\"aod3D\"], fill_values[\"aod\"] = get_dataset_array_and_fill_value(f, aod_name)\n",
    "        arrays[\"uvai2D\"], fill_values[\"uvai\"] = get_dataset_array_and_fill_value(f, uvai_name)\n",
    "        arrays[\"lat2D\"], fill_values[\"lat\"] = get_dataset_array_and_fill_value(f, lat_name)\n",
    "        arrays[\"lon2D\"], fill_values[\"lon\"] = get_dataset_array_and_fill_value(f, lon_name)\n",
    "        arrays[\"wl\"], fill_values[\"wl\"] = get_dataset_array_and_fill_value(f, wl_name)\n",
    "\n",
    "    # Get time from the granule's filename.\n",
    "    timestamp = datetime.strptime(filename.split(\"_\")[-2], \"%Y%m%d%H%M%S\")\n",
    "\n",
    "    return arrays, fill_values, timestamp"
   ]
  },
  {
   "cell_type": "markdown",
   "id": "4eea837a-122b-4a81-ad75-928800ed4862",
   "metadata": {},
   "source": [
    "## 2.2 function to read AERONET data files"
   ]
  },
  {
   "cell_type": "markdown",
   "id": "efe3c19c-91af-4338-b83b-d391b2db9f1e",
   "metadata": {},
   "source": [
    "Function read_aeronet_mw takes aeronet file name, a set of wavelengths, and start and end dates of the timeframe of interest as arguments and returns a timeseries array of AODs at these wavelengths.\n",
    "\n",
    "If the wavelength is not in the list of wavelengths of the data file,\n",
    "or if there are no retrieval at it, empty array is returned."
   ]
  },
  {
   "cell_type": "code",
   "execution_count": 3,
   "id": "adc7843e-1ee2-42cc-9f5f-2647992a9208",
   "metadata": {
    "ExecuteTime": {
     "end_time": "2025-04-24T13:44:31.467730Z",
     "start_time": "2025-04-24T13:44:31.448745Z"
    }
   },
   "outputs": [],
   "source": [
    "def read_aeronet_mw(\n",
    "    filename: str, wavelengths: list, start_date: datetime.date, end_date: datetime.date\n",
    "):\n",
    "    sorted_wavelengths = np.array(copy.deepcopy(sorted(wavelengths)))\n",
    "\n",
    "    with open(filename, \"r\") as aero_file:\n",
    "        # Loop through and read lines until encountering the\n",
    "        #   header line (identified by 'Date') or null.\n",
    "        while True:\n",
    "            line = aero_file.readline()\n",
    "            if not line:\n",
    "                break\n",
    "            if \"Date\" in line:\n",
    "                header = line.split(\",\")\n",
    "                break\n",
    "\n",
    "        # Find positions of necessary information in the header.\n",
    "        # Date and time are always 1st and 2nd.\n",
    "        date_pos = 0\n",
    "        time_pos = 1\n",
    "        aod_pos = [header.index(f\"AOD_{wavelength:d}nm\") for wavelength in wavelengths]\n",
    "        name_pos = header.index(\"AERONET_Site_Name\")\n",
    "        lat_pos = header.index(\"Site_Latitude(Degrees)\")\n",
    "        lon_pos = header.index(\"Site_Longitude(Degrees)\")\n",
    "\n",
    "        # Read the 1st line of data to get name, lat, lon.\n",
    "        values = aero_file.readline().split(\",\")\n",
    "        AERONET_name = values[name_pos]\n",
    "        lat = float(values[lat_pos])\n",
    "        lon = float(values[lon_pos])\n",
    "\n",
    "        # If AOD is valid, then append a new row to the aod and date_time arrays.\n",
    "        aod = np.empty([0, len(wavelengths)])\n",
    "        date_time = np.empty([0, 2])\n",
    "        date_loc = values[date_pos]\n",
    "        if start_date <= datetime.strptime(date_loc, \"%d:%m:%Y\").date() <= end_date:\n",
    "            aod_values = np.array([float(values[position]) for position in aod_pos])\n",
    "            aod = np.append(aod, [aod_values], axis=0)\n",
    "            date_time = np.append(date_time, [[date_loc, values[time_pos]]], axis=0)\n",
    "\n",
    "        # Read all other lines of data.\n",
    "        #   For each AOD that is valid, append a new row to the aod and date_time arrays.\n",
    "        while True:\n",
    "            line = aero_file.readline()\n",
    "            if not line:\n",
    "                break\n",
    "            values = line.split(\",\")\n",
    "\n",
    "            date_loc = values[date_pos]\n",
    "            date_stamp = datetime.strptime(date_loc, \"%d:%m:%Y\").date()\n",
    "            if date_stamp < start_date or date_stamp > end_date:\n",
    "                continue\n",
    "\n",
    "            aod_values = np.array([float(values[position]) for position in aod_pos])\n",
    "            aod = np.append(aod, [aod_values], axis=0)\n",
    "            date_time = np.append(date_time, [[date_loc, values[time_pos]]], axis=0)\n",
    "\n",
    "    return AERONET_name, lat, lon, sorted_wavelengths, date_time, aod"
   ]
  },
  {
   "cell_type": "markdown",
   "id": "e4bc5689-b1c1-44ee-94e4-c50fe58039c9",
   "metadata": {},
   "source": [
    "## 2.3 functions to work with TEMPO"
   ]
  },
  {
   "cell_type": "markdown",
   "id": "fc64f2ed-e7ea-4f83-84d6-7b15b6a35542",
   "metadata": {},
   "source": [
    "### 2.3.1 function to read UVAI from TEMPO_O3TOT_L2"
   ]
  },
  {
   "cell_type": "markdown",
   "id": "02fd199a-7921-4c8c-ad15-d8aeca6c564b",
   "metadata": {},
   "source": [
    "function read_TEMPO_O3TOT_L2_UVAI reads the following arrays from the\n",
    "TEMPO L2 O3TOT product TEMPO_O3TOT_L2_V03(2):\n",
    "\n",
    "  uv_aerosol_index;\n",
    "\n",
    "  quality_flag;\n",
    "\n",
    "and returns respective fields along with their fill values and coordinates of the pixels.\n",
    "\n",
    "If one requested variables cannot be read, all returned variables are zeroed."
   ]
  },
  {
   "cell_type": "code",
   "execution_count": 4,
   "id": "b7ad4f0c-d716-47da-93ef-6e78089340ae",
   "metadata": {
    "ExecuteTime": {
     "end_time": "2025-04-24T13:29:23.150922Z",
     "start_time": "2025-04-24T13:29:23.145888Z"
    }
   },
   "outputs": [],
   "source": [
    "def read_TEMPO_O3TOT_L2_UVAI(filename):\n",
    "    \"\"\"Read the following product arrays from the TEMPO_O3TOT_L2_V03(2):\n",
    "        - vertical_column\n",
    "        - vertical_column_uncertainty\n",
    "\n",
    "    and returns the respective fields along with coordinates of the pixels.\n",
    "    \"\"\"\n",
    "    var_name = \"uv_aerosol_index\"\n",
    "    var_QF_name = \"quality_flag\"\n",
    "\n",
    "    arrays = {}\n",
    "    fill_values = {}\n",
    "\n",
    "    with nc.Dataset(filename) as ds:\n",
    "        # Open the product group (/product), read the chosen UVAI variable and its quality flag.\n",
    "        prod = ds.groups[\"product\"]  # this opens group product, /product, as prod\n",
    "        arrays[\"uvai\"] = prod.variables[var_name][:]\n",
    "        fill_values[\"uvai\"] = prod.variables[var_name].getncattr(\"_FillValue\")\n",
    "        var_QF = prod.variables[var_QF_name]\n",
    "        arrays[\"uvai_QF\"] = var_QF[:]\n",
    "        # Note: there is no fill value for the quality flag.\n",
    "        # Once it is available in the next version of the product,\n",
    "        # un-comment the line below and add fv_QF to the return line.\n",
    "        #    fv_QF = var_QF.getncattr('_FillValue')\n",
    "\n",
    "        # Open geolocation group (/geolocation), and\n",
    "        #   read the latitude and longitude variables into a numpy array.\n",
    "        geo = ds.groups[\"geolocation\"]  # this opens group geolocation, /geolocation, as geo\n",
    "        arrays[\"lat\"] = geo.variables[\"latitude\"][\n",
    "            :\n",
    "        ]  # this reads variable latitude from geo (geolocation group, /geolocation) into a numpy array\n",
    "        arrays[\"lon\"] = geo.variables[\"longitude\"][\n",
    "            :\n",
    "        ]  # this reads variable longitude from geo (geolocation group, /geolocation) into a numpy array\n",
    "        fill_values[\"geo\"] = geo.variables[\"latitude\"].getncattr(\"_FillValue\")\n",
    "        # Note: it appeared that garbage values of latitudes and longitudes in the L2 files\n",
    "        # are 9.969209968386869E36 while fill value is -1.2676506E30\n",
    "        # (after deeper search it was found that actual value in the file is -1.2676506002282294E30).\n",
    "        # For this reason, fv_geo is set to 9.96921E36 to make the code working.\n",
    "        # Once the problem is resolved and garbage values of latitudes and longitudes\n",
    "        # equal to their fill value, the line below must be removed.\n",
    "        fill_values[\"geo\"] = 9.969209968386869e36\n",
    "\n",
    "        arrays[\"time\"] = geo.variables[\"time\"][\n",
    "            :\n",
    "        ]  # this reads variable longitude from geo (geolocation group, /geolocation) into a numpy array\n",
    "\n",
    "    return arrays, fill_values"
   ]
  },
  {
   "cell_type": "markdown",
   "id": "26e00996-a707-49db-8c3b-342f643571ba",
   "metadata": {},
   "source": [
    "### 2.3.2 function creating TEMPO O3 granule polygon"
   ]
  },
  {
   "cell_type": "code",
   "execution_count": 5,
   "id": "963a5ae7-c4bb-46c2-b53c-2147ea690b9a",
   "metadata": {
    "ExecuteTime": {
     "end_time": "2025-04-24T13:29:26.720841Z",
     "start_time": "2025-04-24T13:29:26.715559Z"
    }
   },
   "outputs": [],
   "source": [
    "def TEMPO_L2_polygon(lat, lon, fv_geo):\n",
    "    nx = lon.shape[0]\n",
    "    ny = lon.shape[1]\n",
    "    print(\"granule has %3d scanlines by %4d pixels\" % (nx, ny))\n",
    "\n",
    "    dpos = np.empty([0, 2])\n",
    "\n",
    "    x_ind = np.empty([nx, ny], dtype=int)  # creating array in x indices\n",
    "    for ix in range(nx):\n",
    "        x_ind[ix, :] = ix  # populating array in x indices\n",
    "    y_ind = np.empty([nx, ny], dtype=int)\n",
    "    for iy in range(ny):\n",
    "        y_ind[:, iy] = iy  # populating array in x indices\n",
    "\n",
    "    mask = (lon[ix, iy] != fv_geo) & (lat[ix, iy] != fv_geo)\n",
    "    if len(lon[mask]) == 0:\n",
    "        print(\"the granule is empty - no meaningful positions\")\n",
    "        return dpos\n",
    "\n",
    "    # right boundary\n",
    "    r_m = min(x_ind[mask].flatten())\n",
    "    local_mask = (lon[r_m, :] != fv_geo) & (lat[r_m, :] != fv_geo)\n",
    "    r_b = np.stack((lon[r_m, local_mask], lat[r_m, local_mask])).T\n",
    "\n",
    "    # left boundary\n",
    "    l_m = max(x_ind[mask].flatten())\n",
    "    local_mask = (lon[l_m, :] != fv_geo) & (lat[l_m, :] != fv_geo)\n",
    "    l_b = np.stack((lon[l_m, local_mask], lat[l_m, local_mask])).T\n",
    "\n",
    "    # top and bottom boundaries\n",
    "    t_b = np.empty([0, 2])\n",
    "    b_b = np.empty([0, 2])\n",
    "    for ix in range(r_m + 1, l_m):\n",
    "        local_mask = (lon[ix, :] != fv_geo) & (lat[ix, :] != fv_geo)\n",
    "        local_y_ind = y_ind[ix, local_mask]\n",
    "        y_ind_top = min(local_y_ind)\n",
    "        y_ind_bottom = max(local_y_ind)\n",
    "        t_b = np.append(t_b, [[lon[ix, y_ind_top], lat[ix, y_ind_top]]], axis=0)\n",
    "        b_b = np.append(b_b, [[lon[ix, y_ind_bottom], lat[ix, y_ind_bottom]]], axis=0)\n",
    "\n",
    "    # combining right, top, left, and bottom boundaries together, going along the combined boundary counterclockwise\n",
    "    dpos = np.append(dpos, r_b[::-1, :], axis=0)  # this adds right boundary, counterclockwise\n",
    "    dpos = np.append(dpos, t_b, axis=0)  # this adds top boundary, counterclockwise\n",
    "    dpos = np.append(dpos, l_b, axis=0)  # this adds left boundary, counterclockwise\n",
    "    dpos = np.append(dpos, b_b[::-1, :], axis=0)  # this adds bottom boundary, counterclockwise\n",
    "\n",
    "    print(\"polygon shape: \", dpos.shape)\n",
    "\n",
    "    return dpos"
   ]
  },
  {
   "cell_type": "markdown",
   "id": "5ba2f56d-d2f2-47e0-815f-bab4d39aee66",
   "metadata": {},
   "source": [
    "# Main code begins here"
   ]
  },
  {
   "cell_type": "markdown",
   "id": "ba9807f445ee686f",
   "metadata": {},
   "source": [
    "\n",
    "# 3. Establishing access to EarthData"
   ]
  },
  {
   "cell_type": "markdown",
   "id": "31d709a1-ca05-4a47-94ac-78e88e41aadd",
   "metadata": {},
   "source": [
    "User needs to create an account at https://www.earthdata.nasa.gov/\n",
    "Function earthaccess.login prompts for EarthData login and password."
   ]
  },
  {
   "cell_type": "code",
   "execution_count": 6,
   "id": "65fe3fac-cb6e-4809-87b5-0d38b68b2c90",
   "metadata": {
    "ExecuteTime": {
     "end_time": "2025-04-24T13:29:31.367066Z",
     "start_time": "2025-04-24T13:29:29.065714Z"
    }
   },
   "outputs": [],
   "source": [
    "auth = earthaccess.login(strategy=\"interactive\", persist=True)"
   ]
  },
  {
   "cell_type": "markdown",
   "id": "3d5f8900-121d-4c23-ac35-668462b6e002",
   "metadata": {},
   "source": [
    "# 4. Select timeframe of interest"
   ]
  },
  {
   "cell_type": "markdown",
   "id": "3fbc1858-342f-4a63-bc50-cd0d7903aee9",
   "metadata": {},
   "source": [
    "the timeframe is going to be common for all instruments\n",
    "\n",
    "For the tutorial demonstration, `20230805` was used for both the start and end date."
   ]
  },
  {
   "cell_type": "code",
   "execution_count": 7,
   "id": "7d6eac4a-16c1-4989-ae1c-f533244c8358",
   "metadata": {
    "ExecuteTime": {
     "end_time": "2025-04-24T13:29:44.864898Z",
     "start_time": "2025-04-24T13:29:36.316458Z"
    }
   },
   "outputs": [
    {
     "name": "stdout",
     "output_type": "stream",
     "text": [
      "enter period of interest, start and end dates, in the form YYYYMMDD\n"
     ]
    },
    {
     "name": "stdout",
     "output_type": "stream",
     "text": [
      "enter start date of interest  20230805\n",
      "enter end date of interest  20230805\n"
     ]
    },
    {
     "name": "stdout",
     "output_type": "stream",
     "text": [
      "2023-08-05 00:00:00 2023-08-05 23:59:59\n"
     ]
    }
   ],
   "source": [
    "print(\"enter period of interest, start and end dates, in the form YYYYMMDD\")\n",
    "datestamp_initial = input(\"enter start date of interest \")\n",
    "datestamp_final = input(\"enter end date of interest \")\n",
    "\n",
    "datetime_initial = datetime.strptime(datestamp_initial + \"00:00:00.000000\", \"%Y%m%d%H:%M:%S.%f\")\n",
    "date_start = datetime_initial.strftime(\"%Y-%m-%d %H:%M:%S\")\n",
    "\n",
    "datetime_final = datetime.strptime(datestamp_final + \"23:59:59.999999\", \"%Y%m%d%H:%M:%S.%f\")\n",
    "date_end = datetime_final.strftime(\"%Y-%m-%d %H:%M:%S\")\n",
    "\n",
    "print(date_start, date_end)"
   ]
  },
  {
   "cell_type": "markdown",
   "id": "ebfdfea4-a8dc-49b8-833c-e47fe511d511",
   "metadata": {},
   "source": [
    "# 5. Work with AERONET data"
   ]
  },
  {
   "cell_type": "markdown",
   "id": "9b83ce8b-63f7-4432-bc22-81545b04140b",
   "metadata": {},
   "source": [
    "As of now, April 24, 2024, AERONET data cannot be downloaded programmatically.\n",
    "User must upload an AERONET data file using AERONET download tool here https://aeronet.gsfc.nasa.gov/new_web/webtool_aod_v3.html.\n",
    "The first line below is the name of the AERONET file used in this example."
   ]
  },
  {
   "cell_type": "code",
   "execution_count": 8,
   "id": "2a2bc6b0-be74-46c3-bfce-c455991fa51f",
   "metadata": {
    "ExecuteTime": {
     "end_time": "2025-04-24T13:29:49.631298Z",
     "start_time": "2025-04-24T13:29:49.628935Z"
    }
   },
   "outputs": [],
   "source": [
    "aeronet_filename = \"20230801_20241231_CCNY.lev15\"\n",
    "wl = [500, 340, 380]"
   ]
  },
  {
   "cell_type": "markdown",
   "id": "70d90a6b-4627-4610-a5a1-e81fcb3d1b55",
   "metadata": {},
   "source": [
    "## 5.1 read AERONET data"
   ]
  },
  {
   "cell_type": "code",
   "execution_count": 9,
   "id": "9d74f85f-f81f-4dfb-b42d-c9e6f1e97c05",
   "metadata": {
    "ExecuteTime": {
     "end_time": "2025-04-24T13:46:09.341355Z",
     "start_time": "2025-04-24T13:46:09.180534Z"
    }
   },
   "outputs": [
    {
     "name": "stdout",
     "output_type": "stream",
     "text": [
      "name CCNY, latitude   40.8213, longitude   -73.9490\n",
      "wavelength: 340, length:22\n",
      "wavelength: 380, length:22\n",
      "wavelength: 500, length:22\n"
     ]
    }
   ],
   "source": [
    "AERONET_name, lat, lon, wln, date_time, aod = read_aeronet_mw(\n",
    "    aeronet_filename, wl, datetime_initial.date(), datetime_final.date()\n",
    ")\n",
    "POI_lat = lat\n",
    "POI_lon = lon\n",
    "POI_name = AERONET_name\n",
    "num_datetimes = len(date_time)\n",
    "\n",
    "print(f\"name {AERONET_name}, latitude {lat:>9.4f}, longitude {lon:>10.4f}\")\n",
    "\n",
    "nwl = len(wln)\n",
    "for iwl in range(nwl):\n",
    "    print(f\"wavelength: {wln[iwl]}, length:{len(aod[aod[:, iwl] > 0, iwl])}\")"
   ]
  },
  {
   "cell_type": "markdown",
   "id": "b52e6899-c127-433c-b8e1-299533c96ffb",
   "metadata": {},
   "source": [
    "## 5.2 create timeseries of AERONET AODs"
   ]
  },
  {
   "cell_type": "markdown",
   "id": "6ea12eab-6d74-4155-b7f4-fa54ce91ca42",
   "metadata": {},
   "source": [
    "calculate time difference, dy_loc, in fractional days between AERONET observations\n",
    "and the beginning of the timeframe of interest,\n",
    "write date and time as yyyy, mm, dd, hh, mn, ss, dt_loc\n",
    "along with wavelengths and corresponding AODs to a file"
   ]
  },
  {
   "cell_type": "code",
   "execution_count": 10,
   "id": "0573d3ce-db66-4994-8002-28204dfdc132",
   "metadata": {
    "ExecuteTime": {
     "end_time": "2025-04-23T20:51:29.227Z",
     "start_time": "2025-04-23T20:51:29.214834Z"
    }
   },
   "outputs": [
    {
     "name": "stdout",
     "output_type": "stream",
     "text": [
      "['05:08:2023' '12:21:54'] 2023 08 05 12 21 54  0.515208 [0.333314 0.494809 0.458947]\n",
      "['05:08:2023' '12:37:38'] 2023 08 05 12 37 38  0.526134 [0.306128 0.460212 0.425241]\n",
      "['05:08:2023' '12:39:36'] 2023 08 05 12 39 36  0.527500 [0.311574 0.468725 0.432512]\n",
      "['05:08:2023' '12:41:35'] 2023 08 05 12 41 35  0.528877 [0.324803 0.484136 0.453612]\n",
      "['05:08:2023' '12:43:34'] 2023 08 05 12 43 34  0.530255 [0.328589 0.488803 0.454636]\n",
      "['05:08:2023' '12:45:32'] 2023 08 05 12 45 32  0.531620 [0.335888 0.490196 0.453847]\n",
      "['05:08:2023' '12:54:52'] 2023 08 05 12 54 52  0.538102 [0.325635 0.478464 0.44467 ]\n",
      "['05:08:2023' '13:10:01'] 2023 08 05 13 10 01  0.548623 [0.333986 0.494555 0.460215]\n",
      "['05:08:2023' '13:19:13'] 2023 08 05 13 19 13  0.555012 [0.330567 0.486189 0.452743]\n",
      "['05:08:2023' '13:35:01'] 2023 08 05 13 35 01  0.565984 [0.276587 0.418951 0.386741]\n",
      "['05:08:2023' '13:44:19'] 2023 08 05 13 44 19  0.572442 [0.266198 0.404995 0.374061]\n",
      "['05:08:2023' '13:59:33'] 2023 08 05 13 59 33  0.583021 [0.280744 0.427243 0.394882]\n",
      "['05:08:2023' '14:09:10'] 2023 08 05 14 09 10  0.589699 [0.262378 0.400944 0.369637]\n",
      "['05:08:2023' '14:24:59'] 2023 08 05 14 24 59  0.600683 [0.269201 0.402717 0.373348]\n",
      "['05:08:2023' '14:29:02'] 2023 08 05 14 29 02  0.603495 [0.245482 0.376444 0.346455]\n",
      "['05:08:2023' '15:32:29'] 2023 08 05 15 32 29  0.647558 [0.208331 0.326602 0.30022 ]\n",
      "['05:08:2023' '15:42:29'] 2023 08 05 15 42 29  0.654502 [0.23699  0.35099  0.325715]\n",
      "['05:08:2023' '15:47:29'] 2023 08 05 15 47 29  0.657975 [0.216409 0.328565 0.302978]\n",
      "['05:08:2023' '16:02:30'] 2023 08 05 16 02 30  0.668403 [0.220808 0.334116 0.308406]\n",
      "['05:08:2023' '16:04:48'] 2023 08 05 16 04 48  0.670000 [0.221642 0.334563 0.308769]\n",
      "['05:08:2023' '16:14:27'] 2023 08 05 16 14 27  0.676701 [0.294151 0.405008 0.380736]\n",
      "['05:08:2023' '16:30:17'] 2023 08 05 16 30 17  0.687697 [0.246413 0.356773 0.32694 ]\n"
     ]
    }
   ],
   "source": [
    "out_Q_AERONET = \"AOD_AERONET\"\n",
    "with open(\n",
    "    f\"{out_Q_AERONET}_{datestamp_initial}_{datestamp_final}_\"\n",
    "    f\"{POI_name}_{POI_lat:>08.4f}N_{-POI_lon:>08.4f}W.txt\",\n",
    "    \"w\",\n",
    ") as fout:\n",
    "    fout.write(\n",
    "        f\"timeseries of {out_Q_AERONET} at {POI_name} {POI_lat:>08.4f}N {-POI_lon:>08.4f}W\\n\"\n",
    "    )\n",
    "    fout.write(\"yyyy mm dd hh mn ss time,days wl,nm    AOD wl,nm    AOD wl,nm    AOD\\n\")\n",
    "\n",
    "    for i, datetime_row in enumerate(date_time):\n",
    "        dt_AERONET = datetime.strptime(datetime_row[0] + datetime_row[1], \"%d:%m:%Y%H:%M:%S\")\n",
    "        dt_loc = (dt_AERONET - datetime_initial).total_seconds() / 86400\n",
    "        time_str = (\n",
    "            f\"{dt_AERONET.year} {dt_AERONET.month:>02} {dt_AERONET.day:>02} \"\n",
    "            f\"{dt_AERONET.hour:>02} {dt_AERONET.minute:>02} {dt_AERONET.second:>02} \"\n",
    "            f\"{dt_loc:>9.6f}\"\n",
    "        )\n",
    "        fout.write(time_str)\n",
    "        for wl, tau in zip(wln, aod[i]):\n",
    "            fout.write(f\" {wl:>5.0f} {max(tau, -1.0):>6.3f}\")\n",
    "        fout.write(\"\\n\")\n",
    "        print(datetime_row, time_str, aod[i])"
   ]
  },
  {
   "cell_type": "markdown",
   "id": "80bd6da3-c3e9-4cc0-9cd8-0f41b96a50fd",
   "metadata": {},
   "source": [
    "# 6. Work with DSCOVR data"
   ]
  },
  {
   "cell_type": "markdown",
   "id": "891b6851-228d-48d3-bfc2-73e3f161bd2f",
   "metadata": {},
   "source": [
    "## 6.1 search for DSCOVR EPIC granules\n",
    "falling into the timeframe of interest and 1 degree box surrounding the AERONET location"
   ]
  },
  {
   "cell_type": "code",
   "execution_count": 11,
   "id": "c7fb0d70-3c6a-4111-944f-eef1268071a4",
   "metadata": {
    "ExecuteTime": {
     "end_time": "2025-04-24T13:48:59.578055Z",
     "start_time": "2025-04-24T13:48:54.797911Z"
    }
   },
   "outputs": [
    {
     "name": "stdout",
     "output_type": "stream",
     "text": [
      "total number of DSCOVR EPIC L2_AER granules found for POI CCNY\n",
      " within period of interest between 2023-08-05 00:00:00 and 2023-08-05 23:59:59 is 11\n"
     ]
    }
   ],
   "source": [
    "short_name = \"DSCOVR_EPIC_L2_AER\"  # collection name to search for in the EarthData\n",
    "\n",
    "bbox = (POI_lon - 0.5, POI_lat - 0.5, POI_lon + 0.5, POI_lat + 0.5)\n",
    "\n",
    "POI_results_EPIC = earthaccess.search_data(\n",
    "    short_name=short_name, temporal=(date_start, date_end), bounding_box=bbox\n",
    ")\n",
    "\n",
    "print(\n",
    "    f\"total number of DSCOVR EPIC L2_AER granules found for POI {POI_name}\\n\",\n",
    "    f\"within period of interest between {date_start} and {date_end} is {len(POI_results_EPIC)}\",\n",
    ")"
   ]
  },
  {
   "cell_type": "markdown",
   "id": "81346877-0f4c-40a8-9260-98988d48ecfb",
   "metadata": {},
   "source": [
    "## 6.2 ensure all granules have download links\n",
    "lines below before the call of earthaccess.download()\n",
    "check whether all found granules have download links.\n",
    "granules without links are removed from the list of search results\n",
    "without this step, those granules crash the call of earthaccess.download()"
   ]
  },
  {
   "cell_type": "code",
   "execution_count": 12,
   "id": "4dfcdd8acbe64848",
   "metadata": {
    "ExecuteTime": {
     "end_time": "2025-04-24T13:52:55.802241Z",
     "start_time": "2025-04-24T13:52:55.793424Z"
    }
   },
   "outputs": [
    {
     "name": "stdout",
     "output_type": "stream",
     "text": [
      "https://asdc.larc.nasa.gov/data/DSCOVR/EPIC/L2_AER_03/2023/08/DSCOVR_EPIC_L2_AER_03_20230805114028_03.he5\n",
      "https://asdc.larc.nasa.gov/data/DSCOVR/EPIC/L2_AER_03/2023/08/DSCOVR_EPIC_L2_AER_03_20230805124555_03.he5\n",
      "https://asdc.larc.nasa.gov/data/DSCOVR/EPIC/L2_AER_03/2023/08/DSCOVR_EPIC_L2_AER_03_20230805135123_03.he5\n",
      "https://asdc.larc.nasa.gov/data/DSCOVR/EPIC/L2_AER_03/2023/08/DSCOVR_EPIC_L2_AER_03_20230805145650_03.he5\n",
      "https://asdc.larc.nasa.gov/data/DSCOVR/EPIC/L2_AER_03/2023/08/DSCOVR_EPIC_L2_AER_03_20230805160217_03.he5\n",
      "https://asdc.larc.nasa.gov/data/DSCOVR/EPIC/L2_AER_03/2023/08/DSCOVR_EPIC_L2_AER_03_20230805170745_03.he5\n",
      "https://asdc.larc.nasa.gov/data/DSCOVR/EPIC/L2_AER_03/2023/08/DSCOVR_EPIC_L2_AER_03_20230805181312_03.he5\n",
      "https://asdc.larc.nasa.gov/data/DSCOVR/EPIC/L2_AER_03/2023/08/DSCOVR_EPIC_L2_AER_03_20230805191839_03.he5\n",
      "https://asdc.larc.nasa.gov/data/DSCOVR/EPIC/L2_AER_03/2023/08/DSCOVR_EPIC_L2_AER_03_20230805202406_03.he5\n",
      "https://asdc.larc.nasa.gov/data/DSCOVR/EPIC/L2_AER_03/2023/08/DSCOVR_EPIC_L2_AER_03_20230805212934_03.he5\n",
      "https://asdc.larc.nasa.gov/data/DSCOVR/EPIC/L2_AER_03/2023/08/DSCOVR_EPIC_L2_AER_03_20230805223501_03.he5\n"
     ]
    }
   ],
   "source": [
    "def get_url_value_from_result(earthaccess_result):\n",
    "    \"\"\"Return a tuple of the result itself and the data URL, only if the URL field is accessible.\"\"\"\n",
    "    try:\n",
    "        return earthaccess_result, earthaccess_result[\"umm\"][\"RelatedUrls\"][0][\"URL\"]\n",
    "    except Exception:\n",
    "        return None\n",
    "\n",
    "\n",
    "# Populate the list of results that have links.\n",
    "good_EPIC_result_links = [\n",
    "    get_url_value_from_result(result)\n",
    "    for result in POI_results_EPIC\n",
    "    if get_url_value_from_result(result) is not None\n",
    "]\n",
    "\n",
    "# Show the result links\n",
    "for r in sorted(good_EPIC_result_links, key=lambda x: x[1]):\n",
    "    print(r[1])"
   ]
  },
  {
   "cell_type": "markdown",
   "id": "cb861bd5-d586-4a00-8bd3-9c7ebb6b9493",
   "metadata": {},
   "source": [
    "## 6.3 download DSCOVR EPIC granules using earthaccess library\n",
    "check whether all downloads were successful and try another time to get the failed granules\n",
    "if the second attempt was not successful, remove failed granules from the list"
   ]
  },
  {
   "cell_type": "code",
   "execution_count": 13,
   "id": "8ef5b49b-8c05-4fe2-b529-31c46411f937",
   "metadata": {
    "ExecuteTime": {
     "end_time": "2025-04-24T13:55:36.301860Z",
     "start_time": "2025-04-24T13:53:02.892433Z"
    }
   },
   "outputs": [
    {
     "data": {
      "application/vnd.jupyter.widget-view+json": {
       "model_id": "7e6c2ee78f82439f90109cee3bbbb33b",
       "version_major": 2,
       "version_minor": 0
      },
      "text/plain": [
       "QUEUEING TASKS | :   0%|          | 0/11 [00:00<?, ?it/s]"
      ]
     },
     "metadata": {},
     "output_type": "display_data"
    },
    {
     "data": {
      "application/vnd.jupyter.widget-view+json": {
       "model_id": "505e984c6be94a51a4cf78a70eacd2ed",
       "version_major": 2,
       "version_minor": 0
      },
      "text/plain": [
       "PROCESSING TASKS | :   0%|          | 0/11 [00:00<?, ?it/s]"
      ]
     },
     "metadata": {},
     "output_type": "display_data"
    },
    {
     "data": {
      "application/vnd.jupyter.widget-view+json": {
       "model_id": "723c2f82120a4ff18396f11910db948a",
       "version_major": 2,
       "version_minor": 0
      },
      "text/plain": [
       "COLLECTING RESULTS | :   0%|          | 0/11 [00:00<?, ?it/s]"
      ]
     },
     "metadata": {},
     "output_type": "display_data"
    }
   ],
   "source": [
    "downloaded_files = earthaccess.download(\n",
    "    POI_results_EPIC,\n",
    "    local_path=\".\",\n",
    ")"
   ]
  },
  {
   "cell_type": "markdown",
   "id": "eaae9fbe-56d2-4c52-8fc6-e7645d89797b",
   "metadata": {},
   "source": [
    "## 6.4 read DSCOVR EPIC granules and compile timeseries of AODs and UVAI"
   ]
  },
  {
   "cell_type": "code",
   "execution_count": 14,
   "id": "6599d37d-3020-49dc-87f9-ac7723fd5094",
   "metadata": {},
   "outputs": [
    {
     "name": "stdout",
     "output_type": "stream",
     "text": [
      "DSCOVR_EPIC_L2_AER_03_20230805114028_03.he5\n",
      "2023 08 05 11 40 28  0.486435\n",
      "340.0 -0.999\n",
      "388.0 -0.999\n",
      "500.0 -0.999\n",
      "UVAI -99.0\n",
      "DSCOVR_EPIC_L2_AER_03_20230805124555_03.he5\n",
      "2023 08 05 12 45 55  0.531887\n",
      "340.0 -0.999\n",
      "388.0 -0.999\n",
      "500.0 -0.999\n",
      "UVAI -99.0\n",
      "DSCOVR_EPIC_L2_AER_03_20230805135123_03.he5\n",
      "2023 08 05 13 51 23  0.577350\n",
      "340.0 0.658370852470398\n",
      "388.0 0.6070993542671204\n",
      "500.0 0.5208560228347778\n",
      "UVAI 1.0490291118621826\n",
      "DSCOVR_EPIC_L2_AER_03_20230805145650_03.he5\n",
      "2023 08 05 14 56 50  0.622801\n",
      "340.0 1.0037826597690582\n",
      "388.0 0.925611823797226\n",
      "500.0 0.7941211760044098\n",
      "UVAI 1.269827425479889\n",
      "DSCOVR_EPIC_L2_AER_03_20230805160217_03.he5\n",
      "2023 08 05 16 02 17  0.668252\n",
      "340.0 -0.999\n",
      "388.0 -0.999\n",
      "500.0 -0.999\n",
      "UVAI -99.0\n",
      "DSCOVR_EPIC_L2_AER_03_20230805170745_03.he5\n",
      "2023 08 05 17 07 45  0.713715\n",
      "340.0 2.0829079262483576\n",
      "388.0 1.6970317278376417\n",
      "500.0 1.0809463897588194\n",
      "UVAI -0.14213168194983128\n",
      "DSCOVR_EPIC_L2_AER_03_20230805181312_03.he5\n",
      "2023 08 05 18 13 12  0.759167\n",
      "340.0 1.6575589177292698\n",
      "388.0 1.528474366786192\n",
      "500.0 1.3113422907254944\n",
      "UVAI 0.9618683264479623\n",
      "DSCOVR_EPIC_L2_AER_03_20230805191839_03.he5\n",
      "2023 08 05 19 18 39  0.804618\n",
      "340.0 1.46158707100744\n",
      "388.0 1.347764097820558\n",
      "500.0 1.1563033843281367\n",
      "UVAI 1.5943157504218373\n",
      "DSCOVR_EPIC_L2_AER_03_20230805202406_03.he5\n",
      "2023 08 05 20 24 06  0.850069\n",
      "340.0 -0.999\n",
      "388.0 -0.999\n",
      "500.0 -0.999\n",
      "UVAI -99.0\n",
      "DSCOVR_EPIC_L2_AER_03_20230805212934_03.he5\n",
      "2023 08 05 21 29 34  0.895532\n",
      "340.0 4.511193513870239\n",
      "388.0 4.159878492355347\n",
      "500.0 3.568934202194214\n",
      "UVAI 3.3587218523025513\n",
      "DSCOVR_EPIC_L2_AER_03_20230805223501_03.he5\n",
      "2023 08 05 22 35 01  0.940984\n",
      "340.0 -0.999\n",
      "388.0 -0.999\n",
      "500.0 -0.999\n",
      "UVAI -99.0\n"
     ]
    }
   ],
   "source": [
    "# parameter geo_deviation defines maximum difference between lats and lons of EPIC pixels and that of AERONET\n",
    "geo_deviation = 0.075\n",
    "POI_coordinate = np.array([POI_lon, POI_lat])\n",
    "\n",
    "out_Q_EPIC = \"AOD_UVAI_EPIC\"\n",
    "\n",
    "\n",
    "def get_prod_loc(num_loc: int, lon_loc_array, lat_loc_array, values_loc, fill_value: float):\n",
    "    if num_loc < 1:\n",
    "        prod_loc = fill_value\n",
    "    else:\n",
    "        points = np.empty([0, 2])\n",
    "        ff = np.empty(0)\n",
    "\n",
    "        for i in range(num_loc):\n",
    "            points = np.append(points, [[lon_loc_array[i], lat_loc_array[i]]], axis=0)\n",
    "            ff = np.append(ff, values_loc[i])\n",
    "\n",
    "        try:\n",
    "            [prod_loc] = griddata(\n",
    "                points, ff, POI_coordinate, method=\"linear\", fill_value=fill_value, rescale=False\n",
    "            )\n",
    "        except Exception:\n",
    "            try:\n",
    "                prod_loc = np.mean(ff)\n",
    "            except Exception:\n",
    "                prod_loc = fill_value\n",
    "\n",
    "    return prod_loc\n",
    "\n",
    "\n",
    "with open(\n",
    "    f\"{out_Q_EPIC}_{datestamp_initial}_{datestamp_final}_{POI_name}_\"\n",
    "    f\"{POI_lat:>08.4f}N_{-POI_lon:>08.4f}W.txt\",\n",
    "    \"w\",\n",
    ") as fout:\n",
    "    fout.write(f\"timeseries of {out_Q_EPIC} at {POI_name} {POI_lat:>08.4f}N {-POI_lon:>08.4f}W\\n\")\n",
    "    fout.write(\"yyyy mm dd hh mn ss time,days wl,nm    AOD wl,nm    AOD wl,nm    AOD UVAI\\n\")\n",
    "\n",
    "    for _, granule_link in sorted(good_EPIC_result_links, key=lambda x: x[1]):\n",
    "        EPIC_fname = granule_link.split(\"/\")[-1]\n",
    "        print(EPIC_fname)\n",
    "\n",
    "        try:\n",
    "            dscovr_arrays, dscovr_fill_values, dscovr_timestamp = read_epic_l2_AER(EPIC_fname)\n",
    "        except Exception:\n",
    "            print(\"Unable to find or read hdf5 input granule file \", EPIC_fname)\n",
    "            continue\n",
    "\n",
    "        dt_loc = (dscovr_timestamp - datetime_initial).total_seconds() / 86400\n",
    "        time_str = (\n",
    "            f\"{dscovr_timestamp.year} {dscovr_timestamp.month:>02} {dscovr_timestamp.day:>02} \"\n",
    "            f\"{dscovr_timestamp.hour:>02} {dscovr_timestamp.minute:>02} {dscovr_timestamp.second:>02} \"\n",
    "            f\"{dt_loc:>9.6f}\"\n",
    "        )\n",
    "        print(time_str)\n",
    "        fout.write(time_str)\n",
    "\n",
    "        # Check whether POI is in the granule. If not - move to the next granule.\n",
    "        mask_geo = (\n",
    "            (dscovr_arrays[\"lat2D\"] < POI_lat + geo_deviation)\n",
    "            & (dscovr_arrays[\"lat2D\"] > POI_lat - geo_deviation)\n",
    "            & (dscovr_arrays[\"lon2D\"] < POI_lon + geo_deviation)\n",
    "            & (dscovr_arrays[\"lon2D\"] > POI_lon - geo_deviation)\n",
    "        )\n",
    "\n",
    "        for iwl in range(len(dscovr_arrays[\"wl\"])):\n",
    "            mask = mask_geo & (dscovr_arrays[\"aod3D\"][:, :, iwl] > 0.0)\n",
    "            lat_loc = dscovr_arrays[\"lat2D\"][mask]\n",
    "            lon_loc = dscovr_arrays[\"lon2D\"][mask]\n",
    "            aod_loc = dscovr_arrays[\"aod3D\"][mask, iwl]\n",
    "\n",
    "            prod_loc = get_prod_loc(len(aod_loc), lon_loc, lat_loc, aod_loc, fill_value=-0.999)\n",
    "\n",
    "            fout.write(f\" {dscovr_arrays['wl'][iwl]:>5.0f} {prod_loc:>6.3f}\")\n",
    "            print(dscovr_arrays[\"wl\"][iwl], prod_loc)\n",
    "\n",
    "        mask = mask_geo & (dscovr_arrays[\"uvai2D\"] != dscovr_fill_values[\"uvai\"])\n",
    "        lat_loc = dscovr_arrays[\"lat2D\"][mask]\n",
    "        lon_loc = dscovr_arrays[\"lon2D\"][mask]\n",
    "        uvai_loc = dscovr_arrays[\"uvai2D\"][mask]\n",
    "\n",
    "        prod_loc = get_prod_loc(len(aod_loc), lon_loc, lat_loc, uvai_loc, fill_value=-99.0)\n",
    "\n",
    "        fout.write(f\" {prod_loc:>6.2f}\\n\")\n",
    "        print(\"UVAI\", prod_loc)"
   ]
  },
  {
   "cell_type": "markdown",
   "id": "c93c782a-c020-4205-8455-2651c0957302",
   "metadata": {},
   "source": [
    "# 7. Work with TEMPO data"
   ]
  },
  {
   "cell_type": "markdown",
   "id": "c5b9e1e5-5bce-41fa-8be1-20057f0815c9",
   "metadata": {},
   "source": [
    "## 7.1 Search for TEMPO data files within 0.5 degree range around the POI\n",
    "(position of the AERONET station) falling into the timeframe of interest"
   ]
  },
  {
   "cell_type": "code",
   "execution_count": 15,
   "id": "95140f63-b6bf-4813-907b-ba1d5ae60a64",
   "metadata": {},
   "outputs": [
    {
     "name": "stdout",
     "output_type": "stream",
     "text": [
      "Total number of TEMPO version V03 granules found for POI CCNY\n",
      " within period of interest between 2023-08-05 00:00:00 and 2023-08-05 23:59:59 is 11.\n",
      "https://data.asdc.earthdata.nasa.gov/asdc-prod-protected/TEMPO/TEMPO_O3TOT_L2_V03/2023.08.05/TEMPO_O3TOT_L2_V03_20230805T122445Z_S001G03.nc\n",
      "https://data.asdc.earthdata.nasa.gov/asdc-prod-protected/TEMPO/TEMPO_O3TOT_L2_V03/2023.08.05/TEMPO_O3TOT_L2_V03_20230805T132716Z_S002G03.nc\n",
      "https://data.asdc.earthdata.nasa.gov/asdc-prod-protected/TEMPO/TEMPO_O3TOT_L2_V03/2023.08.05/TEMPO_O3TOT_L2_V03_20230805T142947Z_S003G03.nc\n",
      "https://data.asdc.earthdata.nasa.gov/asdc-prod-protected/TEMPO/TEMPO_O3TOT_L2_V03/2023.08.05/TEMPO_O3TOT_L2_V03_20230805T153218Z_S004G03.nc.met\n",
      "https://data.asdc.earthdata.nasa.gov/asdc-prod-protected/TEMPO/TEMPO_O3TOT_L2_V03/2023.08.05/TEMPO_O3TOT_L2_V03_20230805T163449Z_S005G03.nc\n",
      "https://data.asdc.earthdata.nasa.gov/asdc-prod-protected/TEMPO/TEMPO_O3TOT_L2_V03/2023.08.05/TEMPO_O3TOT_L2_V03_20230805T173720Z_S006G03.nc\n",
      "https://data.asdc.earthdata.nasa.gov/asdc-prod-protected/TEMPO/TEMPO_O3TOT_L2_V03/2023.08.05/TEMPO_O3TOT_L2_V03_20230805T183951Z_S007G03.nc.met\n",
      "https://data.asdc.earthdata.nasa.gov/asdc-prod-protected/TEMPO/TEMPO_O3TOT_L2_V03/2023.08.05/TEMPO_O3TOT_L2_V03_20230805T194222Z_S008G03.nc\n",
      "https://data.asdc.earthdata.nasa.gov/asdc-prod-protected/TEMPO/TEMPO_O3TOT_L2_V03/2023.08.05/TEMPO_O3TOT_L2_V03_20230805T204453Z_S009G03.nc\n",
      "https://data.asdc.earthdata.nasa.gov/asdc-prod-protected/TEMPO/TEMPO_O3TOT_L2_V03/2023.08.05/TEMPO_O3TOT_L2_V03_20230805T214724Z_S010G03.nc\n",
      "https://data.asdc.earthdata.nasa.gov/asdc-prod-protected/TEMPO/TEMPO_O3TOT_L2_V03/2023.08.05/TEMPO_O3TOT_L2_V03_20230805T224955Z_S011G03.nc\n"
     ]
    }
   ],
   "source": [
    "# Setting TEMPO name constants\n",
    "short_name = \"TEMPO_O3TOT_L2\"  # collection name to search for in the EarthData\n",
    "out_Q = \"UVAI_TEMPO\"  # name of the output quantity with unit\n",
    "version = \"V03\"\n",
    "\n",
    "# Searching TEMPO data files within 0.5 degree range around the POI\n",
    "bbox = (POI_lon - 0.5, POI_lat - 0.5, POI_lon + 0.5, POI_lat + 0.5)\n",
    "\n",
    "POI_results = earthaccess.search_data(\n",
    "    short_name=short_name, version=version, temporal=(date_start, date_end), bounding_box=bbox\n",
    ")\n",
    "n_gr = len(POI_results)\n",
    "print(\n",
    "    f\"Total number of TEMPO version {version} granules found for POI {POI_name}\\n\",\n",
    "    f\"within period of interest between {date_start} and {date_end} is {n_gr}.\",\n",
    ")\n",
    "\n",
    "if n_gr == 0:\n",
    "    print(\"program terminated\")\n",
    "    sys.exit()\n",
    "\n",
    "# Print links to the granules.\n",
    "tempo_granule_links = []\n",
    "for result in POI_results:\n",
    "    tempo_granule_links.append(result[\"umm\"][\"RelatedUrls\"][0][\"URL\"])\n",
    "for granule_link in tempo_granule_links:\n",
    "    print(granule_link)"
   ]
  },
  {
   "cell_type": "markdown",
   "id": "455feddc-c1fb-4b59-b384-b1cc83efa334",
   "metadata": {},
   "source": [
    "## 7.2 download TEMPO files\n",
    "check whether all downloads were successful,\n",
    "try to download failed granules yet another time.\n",
    "if second attempt fails, remove those granules from the list."
   ]
  },
  {
   "cell_type": "code",
   "execution_count": 16,
   "id": "a9a1aee3-b30a-49ff-8119-a6241e3b9cb2",
   "metadata": {},
   "outputs": [
    {
     "data": {
      "application/vnd.jupyter.widget-view+json": {
       "model_id": "5bd4466e7d6b434683ef049cf748a47f",
       "version_major": 2,
       "version_minor": 0
      },
      "text/plain": [
       "QUEUEING TASKS | :   0%|          | 0/11 [00:00<?, ?it/s]"
      ]
     },
     "metadata": {},
     "output_type": "display_data"
    },
    {
     "data": {
      "application/vnd.jupyter.widget-view+json": {
       "model_id": "49445a10814841dd8581c94614059099",
       "version_major": 2,
       "version_minor": 0
      },
      "text/plain": [
       "PROCESSING TASKS | :   0%|          | 0/11 [00:00<?, ?it/s]"
      ]
     },
     "metadata": {},
     "output_type": "display_data"
    },
    {
     "data": {
      "application/vnd.jupyter.widget-view+json": {
       "model_id": "62cb5915f054416497a88e5b7cf10015",
       "version_major": 2,
       "version_minor": 0
      },
      "text/plain": [
       "COLLECTING RESULTS | :   0%|          | 0/11 [00:00<?, ?it/s]"
      ]
     },
     "metadata": {},
     "output_type": "display_data"
    }
   ],
   "source": [
    "# Downloading TEMPO data files\n",
    "downloaded_files = earthaccess.download(POI_results, local_path=\".\")"
   ]
  },
  {
   "cell_type": "markdown",
   "id": "1db7b5d1-89b8-4ff3-a7ac-9a211196e245",
   "metadata": {},
   "source": [
    "## 7.3 compile TEMPO UVAI timeseries"
   ]
  },
  {
   "cell_type": "code",
   "execution_count": 19,
   "id": "a593984f-b909-4a6c-96fe-f615b4a68278",
   "metadata": {},
   "outputs": [
    {
     "name": "stdout",
     "output_type": "stream",
     "text": [
      "\n",
      "granule TEMPO_O3TOT_L2_V03_20230805T122445Z_S001G03.nc\n",
      "granule has 123 scanlines by 2048 pixels\n",
      "polygon shape:  (4338, 2)\n",
      "point POINT (-73.949036 40.821313) is in granule polygon.\n",
      "scanl pixel latitude longitude UVAI UVAI_QF\n",
      "   59  661 40.834648 -73.943382  -0.9      8\n",
      "   59  662 40.813667 -73.949684  -0.8      8\n",
      "   60  661 40.831947 -74.001534  -0.8      8\n",
      "   60  662 40.810905 -74.007851  -0.8      8\n",
      "POI CCNY at 40.821313N -73.949036E found\n",
      "2023 08 05 12 27 45  0.519276 -8.146e-01\n",
      "\n",
      "granule TEMPO_O3TOT_L2_V03_20230805T132716Z_S002G03.nc\n",
      "granule has 123 scanlines by 2048 pixels\n",
      "polygon shape:  (4338, 2)\n",
      "point POINT (-73.949036 40.821313) is in granule polygon.\n",
      "scanl pixel latitude longitude UVAI UVAI_QF\n",
      "   59  660 40.834454 -73.943253  -1.8     13\n",
      "   59  661 40.813469 -73.949562  -1.4     13\n",
      "   60  660 40.833084 -74.000923  -1.8     13\n",
      "   60  661 40.812099 -74.007202  -1.5     13\n",
      "POI CCNY at 40.821313N -73.949036E found\n",
      "2023 08 05 13 30 16  0.562691 -1.555e+00\n",
      "\n",
      "granule TEMPO_O3TOT_L2_V03_20230805T142947Z_S003G03.nc\n",
      "granule has 123 scanlines by 2048 pixels\n",
      "polygon shape:  (4338, 2)\n",
      "point POINT (-73.949036 40.821313) is in granule polygon.\n",
      "scanl pixel latitude longitude UVAI UVAI_QF\n",
      "   58  660 40.837505 -73.885612  -1.5     13\n",
      "   58  661 40.816528 -73.891937  -1.3     13\n",
      "   59  660 40.836674 -73.944603  -2.4     13\n",
      "   59  661 40.815800 -73.950844  -2.3     13\n",
      "POI CCNY at 40.821313N -73.949036E found\n",
      "2023 08 05 14 32 44  0.606070 -2.297e+00\n",
      "\n",
      "granule TEMPO_O3TOT_L2_V03_20230805T153218Z_S004G03.nc.met\n",
      "TEMPO UVAI cannot be read in file TEMPO_O3TOT_L2_V03_20230805T153218Z_S004G03.nc.met\n",
      "\n",
      "granule TEMPO_O3TOT_L2_V03_20230805T163449Z_S005G03.nc\n",
      "granule has 123 scanlines by 2048 pixels\n",
      "polygon shape:  (4338, 2)\n",
      "point POINT (-73.949036 40.821313) is in granule polygon.\n",
      "scanl pixel latitude longitude UVAI UVAI_QF\n",
      "   58  660 40.824287 -73.898758  -1.1     13\n",
      "   58  661 40.803333 -73.905052  -1.5     13\n",
      "   59  660 40.823364 -73.957039  -1.6     13\n",
      "   59  661 40.802170 -73.963463  -1.7     13\n",
      "POI CCNY at 40.821313N -73.949036E found\n",
      "2023 08 05 16 37 46  0.692899 -1.584e+00\n",
      "\n",
      "granule TEMPO_O3TOT_L2_V03_20230805T173720Z_S006G03.nc\n",
      "granule has 123 scanlines by 2048 pixels\n",
      "polygon shape:  (4338, 2)\n",
      "point POINT (-73.949036 40.821313) is in granule polygon.\n",
      "scanl pixel latitude longitude UVAI UVAI_QF\n",
      "   58  660 40.831722 -73.893791  -1.5     13\n",
      "   58  661 40.810757 -73.900108  -1.5     13\n",
      "   59  660 40.829990 -73.952919  -2.1     13\n",
      "   59  661 40.808990 -73.959221  -1.9     13\n",
      "POI CCNY at 40.821313N -73.949036E found\n",
      "2023 08 05 17 40 17  0.736313 -2.005e+00\n",
      "\n",
      "granule TEMPO_O3TOT_L2_V03_20230805T183951Z_S007G03.nc.met\n",
      "TEMPO UVAI cannot be read in file TEMPO_O3TOT_L2_V03_20230805T183951Z_S007G03.nc.met\n",
      "\n",
      "granule TEMPO_O3TOT_L2_V03_20230805T194222Z_S008G03.nc\n",
      "granule has 123 scanlines by 2048 pixels\n",
      "polygon shape:  (4338, 2)\n",
      "point POINT (-73.949036 40.821313) is in granule polygon.\n",
      "scanl pixel latitude longitude UVAI UVAI_QF\n",
      "   59  660 40.837013 -73.913071  -1.0      8\n",
      "   59  661 40.815960 -73.919426  -0.9     13\n",
      "   60  660 40.835320 -73.974220  -1.1      8\n",
      "   60  661 40.814457 -73.980431  -0.8     13\n",
      "POI CCNY at 40.821313N -73.949036E found\n",
      "2023 08 05 19 45 22  0.823177 -9.506e-01\n",
      "\n",
      "granule TEMPO_O3TOT_L2_V03_20230805T204453Z_S009G03.nc\n",
      "granule has 123 scanlines by 2048 pixels\n",
      "polygon shape:  (4338, 2)\n",
      "point POINT (-73.949036 40.821313) is in granule polygon.\n",
      "scanl pixel latitude longitude UVAI UVAI_QF\n",
      "   59  660 40.825069 -73.947708  -1.1      8\n",
      "   59  661 40.803844 -73.954155  -0.8      8\n",
      "   60  660 40.823502 -74.007164  -0.9      8\n",
      "   60  661 40.802341 -74.013550  -0.8     13\n",
      "POI CCNY at 40.821313N -73.949036E found\n",
      "2023 08 05 20 47 53  0.866591 -1.015e+00\n",
      "\n",
      "granule TEMPO_O3TOT_L2_V03_20230805T214724Z_S010G03.nc\n",
      "granule has 123 scanlines by 2048 pixels\n",
      "polygon shape:  (4338, 2)\n",
      "point POINT (-73.949036 40.821313) is in granule polygon.\n",
      "scanl pixel latitude longitude UVAI UVAI_QF\n",
      "   59  660 40.833599 -73.914108  -1.0      8\n",
      "   59  661 40.812668 -73.920380  -1.1      8\n",
      "   60  660 40.830616 -73.972809  -1.2      8\n",
      "   60  661 40.810017 -73.978859  -0.9      8\n",
      "POI CCNY at 40.821313N -73.949036E found\n",
      "2023 08 05 21 50 24  0.910005 -1.131e+00\n",
      "\n",
      "granule TEMPO_O3TOT_L2_V03_20230805T224955Z_S011G03.nc\n",
      "granule has 123 scanlines by 2048 pixels\n",
      "polygon shape:  (4338, 2)\n",
      "point POINT (-73.949036 40.821313) is in granule polygon.\n",
      "scanl pixel latitude longitude UVAI UVAI_QF\n",
      "   59  661 40.826336 -73.932693  -1.0      8\n",
      "   59  662 40.805405 -73.938957  -1.0      8\n",
      "   60  661 40.823360 -73.993324  -1.2      8\n",
      "   60  662 40.802219 -73.999695  -1.3      8\n",
      "POI CCNY at 40.821313N -73.949036E found\n",
      "2023 08 05 22 52 55  0.953420 -1.047e+00\n"
     ]
    }
   ],
   "source": [
    "with open(\n",
    "    f\"{out_Q}_{datestamp_initial}_{datestamp_final}_{POI_name}_\"\n",
    "    f\"{POI_lat:>08.4f}N_{-POI_lon:>08.4f}W.txt\",\n",
    "    \"w\",\n",
    ") as fout:\n",
    "    fout.write(f\"timeseries of {out_Q} at {POI_name} {POI_lat:>08.4f}N {-POI_lon:>08.4f}W\\n'\")\n",
    "    fout.write(\"yyyy mm dd hh mn ss time,days   UVAI\\n\")\n",
    "\n",
    "    POI_coordinate = np.array([POI_lon, POI_lat])\n",
    "    POI_point = Point(POI_coordinate)\n",
    "\n",
    "    for granule_link in sorted(tempo_granule_links):\n",
    "        last_slash_ind = granule_link.rfind(\"/\")\n",
    "        tempo_file_name = granule_link[last_slash_ind + 1 :]\n",
    "        print(f\"\\ngranule {tempo_file_name}\")\n",
    "\n",
    "        try:\n",
    "            tempo, tempo_fv = read_TEMPO_O3TOT_L2_UVAI(tempo_file_name)\n",
    "        except Exception:\n",
    "            print(f\"TEMPO UVAI cannot be read in file {tempo_file_name}\")\n",
    "            continue\n",
    "\n",
    "        # Get time from the granule filename.\n",
    "        # This time corresponds to the 1st element of array time above; that is GPS time in seconds.\n",
    "        T_index = tempo_file_name.rfind(\"T\")\n",
    "        tempo_file_datetime = datetime.strptime(\n",
    "            tempo_file_name[T_index - 8 : T_index + 7], \"%Y%m%dT%H%M%S\"\n",
    "        )\n",
    "\n",
    "        # Check whether POI is in the granule. If not - move to the next granule.\n",
    "        tempo_polygon = Polygon(\n",
    "            list(TEMPO_L2_polygon(tempo[\"lat\"], tempo[\"lon\"], tempo_fv[\"geo\"]))\n",
    "        )  # create granule polygon\n",
    "        if not POI_point.within(tempo_polygon):\n",
    "            continue\n",
    "        print(f\"point {POI_point} is in granule polygon.\")\n",
    "\n",
    "        POI_found = False\n",
    "        for ix in range(tempo[\"lon\"].shape[0] - 1):\n",
    "            for iy in range(tempo[\"lon\"].shape[1] - 1):\n",
    "\n",
    "                def subarray(X_array):\n",
    "                    return np.array(\n",
    "                        [\n",
    "                            X_array[ix, iy],\n",
    "                            X_array[ix, iy + 1],\n",
    "                            X_array[ix + 1, iy + 1],\n",
    "                            X_array[ix + 1, iy],\n",
    "                        ]\n",
    "                    )\n",
    "\n",
    "                lat_loc = subarray(tempo[\"lat\"])\n",
    "                lon_loc = subarray(tempo[\"lon\"])\n",
    "\n",
    "                coords_poly_loc = [\n",
    "                    [lon_loc[0], lat_loc[0]],\n",
    "                    [lon_loc[1], lat_loc[1]],\n",
    "                    [lon_loc[2], lat_loc[2]],\n",
    "                    [lon_loc[3], lat_loc[3]],\n",
    "                ]\n",
    "                if np.any(coords_poly_loc == tempo_fv[\"geo\"]):\n",
    "                    continue\n",
    "\n",
    "                if POI_point.within(Polygon(coords_poly_loc)):\n",
    "                    # Print the polygon coordinates within which this point has been found.\n",
    "                    POI_found = True\n",
    "                    print(\"scanl pixel latitude longitude UVAI UVAI_QF\")\n",
    "                    for scl in range(ix, ix + 2):\n",
    "                        for pix in range(iy, iy + 2):\n",
    "                            print(\n",
    "                                \"  %3d %4d %9.6f %10.6f %5.1f %6i\"\n",
    "                                % (\n",
    "                                    scl,\n",
    "                                    pix,\n",
    "                                    tempo[\"lat\"][scl, pix],\n",
    "                                    tempo[\"lon\"][scl, pix],\n",
    "                                    tempo[\"uvai\"][scl, pix],\n",
    "                                    tempo[\"uvai_QF\"][scl, pix],\n",
    "                                )\n",
    "                            )\n",
    "                    print(f\"POI {POI_name} at {POI_lat}N {POI_lon}E found\")\n",
    "\n",
    "                    # Get the values for this polygon.\n",
    "                    uvai_loc = subarray(tempo[\"uvai\"])\n",
    "                    mask_noFV = uvai_loc != tempo_fv[\"uvai\"]\n",
    "                    points_noFV = np.column_stack((lon_loc[mask_noFV], lat_loc[mask_noFV]))\n",
    "                    ff_noFV = uvai_loc[mask_noFV]\n",
    "\n",
    "                    points = np.empty([0, 2])\n",
    "                    ff = np.empty(0)\n",
    "\n",
    "                    if ff_noFV.shape[0] == 0:\n",
    "                        continue\n",
    "                    elif ff_noFV.shape[0] < 4:\n",
    "                        uvai_noFV = np.mean(ff_noFV)\n",
    "                    elif ff_noFV.shape[0] == 4:\n",
    "                        uvai_noFV = griddata(\n",
    "                            points_noFV,\n",
    "                            ff_noFV,\n",
    "                            POI_coordinate,\n",
    "                            method=\"linear\",\n",
    "                            fill_value=-99.0,\n",
    "                            rescale=False,\n",
    "                        )[0]\n",
    "                    if uvai_noFV == -99.0:\n",
    "                        continue\n",
    "\n",
    "                    # Get the scanline time average, as the TEMPO time of observation in seconds since first scanline.\n",
    "                    delta_t = timedelta(\n",
    "                        seconds=(tempo[\"time\"][ix + 1] + tempo[\"time\"][ix]) * 0.5 - tempo[\"time\"][0]\n",
    "                    )\n",
    "                    # Convert that delta of seconds into UTC timestamp, by adding those seconds to the filename's UTC timestamp.\n",
    "                    mid_granule_datetime = tempo_file_datetime + delta_t\n",
    "\n",
    "                    dt_loc = (mid_granule_datetime - datetime_initial).total_seconds() / 86400\n",
    "                    time_and_uvai_str = (\n",
    "                        f\"{mid_granule_datetime.year} {mid_granule_datetime.month:>02} {mid_granule_datetime.day:>02} \"\n",
    "                        f\"{mid_granule_datetime.hour:>02} {mid_granule_datetime.minute:>02} {mid_granule_datetime.second:>02} \"\n",
    "                        f\"{dt_loc:>9.6f} {uvai_noFV:>10.3e}\"\n",
    "                    )\n",
    "                    print(time_and_uvai_str)\n",
    "                    fout.write(time_and_uvai_str)\n",
    "                    fout.write(\n",
    "                        f\"{tempo['lat'][ix, iy]:>9.4f}N {-tempo['lon'][ix, iy]:>9.4f}W {tempo['uvai'][ix, iy]:>10.3e} \"\n",
    "                    )\n",
    "                    fout.write(\n",
    "                        f\"{tempo['lat'][ix, iy + 1]:>9.4f}N {-tempo['lon'][ix, iy + 1]:>9.4f}W {tempo['uvai'][ix, iy + 1]:>10.3e} \"\n",
    "                    )\n",
    "                    fout.write(\n",
    "                        f\"{tempo['lat'][ix + 1, iy + 1]:>9.4f}N {-tempo['lon'][ix + 1, iy + 1]:>9.4f}W {tempo['uvai'][ix + 1, iy + 1]:>10.3e} \"\n",
    "                    )\n",
    "                    fout.write(\n",
    "                        f\"{tempo['lat'][ix + 1, iy]:>9.4f}N {-tempo['lon'][ix + 1, iy]:>9.4f}W {tempo['uvai'][ix + 1, iy]:>10.3e} \"\n",
    "                    )\n",
    "\n",
    "                    break\n",
    "\n",
    "            if POI_found:\n",
    "                break"
   ]
  },
  {
   "cell_type": "markdown",
   "id": "a43ae2a9-26fe-43dd-8299-05f97b580386",
   "metadata": {},
   "source": [
    "# 8. Reading back timeseries written in the files and plot the result"
   ]
  },
  {
   "cell_type": "markdown",
   "id": "4b323ef3-edb4-490e-b352-1ee651c4eadb",
   "metadata": {},
   "source": [
    "## 8.1 AERONET"
   ]
  },
  {
   "cell_type": "code",
   "execution_count": 20,
   "id": "11d5bf99-51c5-4031-b66e-f61deed751c5",
   "metadata": {},
   "outputs": [],
   "source": [
    "with open(\n",
    "    f\"{out_Q_AERONET}_{datestamp_initial}_{datestamp_final}_{POI_name}_\"\n",
    "    f\"{POI_lat:>08.4f}N_{-POI_lon:>08.4f}W.txt\",\n",
    "    \"r\",\n",
    ") as fin:\n",
    "    data_lines = fin.readlines()\n",
    "\n",
    "timeseries_AERONET_340 = np.empty([0, 2])\n",
    "timeseries_AERONET_380 = np.empty([0, 2])\n",
    "timeseries_AERONET_500 = np.empty([0, 2])\n",
    "for data_line in data_lines[2:]:\n",
    "    split = data_line.split()\n",
    "    tt = float(split[6])\n",
    "    aod_340 = float(split[8])\n",
    "    aod_380 = float(split[10])\n",
    "    aod_500 = float(split[12])\n",
    "    if aod_340 > 0.0:\n",
    "        timeseries_AERONET_340 = np.append(timeseries_AERONET_340, [[tt, aod_340]], axis=0)\n",
    "    if aod_380 > 0.0:\n",
    "        timeseries_AERONET_380 = np.append(timeseries_AERONET_380, [[tt, aod_380]], axis=0)\n",
    "    if aod_500 > 0.0:\n",
    "        timeseries_AERONET_500 = np.append(timeseries_AERONET_500, [[tt, aod_500]], axis=0)"
   ]
  },
  {
   "cell_type": "markdown",
   "id": "f9739261-b3e4-4801-8cb8-799f1611f8e3",
   "metadata": {},
   "source": [
    "## 8.2 DSCOVR EPIC"
   ]
  },
  {
   "cell_type": "code",
   "execution_count": 21,
   "id": "ad788fc3-3bd3-492f-8696-de94619af4e6",
   "metadata": {},
   "outputs": [],
   "source": [
    "with open(\n",
    "    f\"{out_Q_EPIC}_{datestamp_initial}_{datestamp_final}_{POI_name}_\"\n",
    "    f\"{POI_lat:>08.4f}N_{-POI_lon:>08.4f}W.txt\",\n",
    "    \"r\",\n",
    ") as fin:\n",
    "    data_lines = fin.readlines()\n",
    "\n",
    "timeseries_EPIC_340 = np.empty([0, 2])\n",
    "timeseries_EPIC_388 = np.empty([0, 2])\n",
    "timeseries_EPIC_500 = np.empty([0, 2])\n",
    "timeseries_EPIC_UVAI = np.empty([0, 2])\n",
    "for data_line in data_lines[2:]:\n",
    "    split = data_line.split()\n",
    "    tt = float(split[6])\n",
    "    aod_EPIC_340 = float(split[8])\n",
    "    aod_EPIC_388 = float(split[10])\n",
    "    aod_EPIC_500 = float(split[12])\n",
    "    EPIC_UVAI = float(split[13])\n",
    "    if aod_EPIC_340 > 0.0:\n",
    "        timeseries_EPIC_340 = np.append(timeseries_EPIC_340, [[tt, aod_EPIC_340]], axis=0)\n",
    "    if aod_EPIC_388 > 0.0:\n",
    "        timeseries_EPIC_388 = np.append(timeseries_EPIC_388, [[tt, aod_EPIC_388]], axis=0)\n",
    "    if aod_EPIC_500 > 0.0:\n",
    "        timeseries_EPIC_500 = np.append(timeseries_EPIC_500, [[tt, aod_EPIC_500]], axis=0)\n",
    "    if EPIC_UVAI > -99.0:\n",
    "        timeseries_EPIC_UVAI = np.append(\n",
    "            timeseries_EPIC_UVAI, [[tt, EPIC_UVAI]], axis=0\n",
    "        )  # third, TEMPO UVAI"
   ]
  },
  {
   "cell_type": "markdown",
   "id": "9dfef7ba-f7d7-40c9-b444-97e7e6679ed5",
   "metadata": {},
   "source": [
    "## 8.3 TEMPO"
   ]
  },
  {
   "cell_type": "code",
   "execution_count": 22,
   "id": "291325c4-d603-4b67-81ac-fe2e1343d601",
   "metadata": {},
   "outputs": [],
   "source": [
    "with open(\n",
    "    f\"{out_Q}_{datestamp_initial}_{datestamp_final}_{POI_name}_\"\n",
    "    f\"{POI_lat:>08.4f}N_{-POI_lon:>08.4f}W.txt\",\n",
    "    \"r\",\n",
    ") as fin:\n",
    "    data_lines = fin.readlines()\n",
    "\n",
    "timeseries_TEMPO_UVAI = np.empty([0, 2])\n",
    "for data_line in data_lines[2:]:\n",
    "    split = data_line.split()\n",
    "    tt = float(split[6])\n",
    "    TEMPO_UVAI = float(split[7])\n",
    "    if TEMPO_UVAI > -99.0:\n",
    "        timeseries_TEMPO_UVAI = np.append(timeseries_TEMPO_UVAI, [[tt, TEMPO_UVAI]], axis=0)"
   ]
  },
  {
   "cell_type": "markdown",
   "id": "c05ae637-61a6-42e9-8cd0-ad8cf1bcf1f0",
   "metadata": {},
   "source": [
    "## 8.4 plot Aerosol Optical Depth (AOD) from AERONET and DSCOVR EPIC"
   ]
  },
  {
   "cell_type": "code",
   "execution_count": 23,
   "id": "587a0613-8831-4246-af2b-ac7043ac4321",
   "metadata": {},
   "outputs": [],
   "source": [
    "plot_title = \"AOD_\" + datestamp_initial + \"_\" + datestamp_final + \"\\n\" + POI_name\n",
    "img_name = \"AOD_\" + datestamp_initial + \"_\" + datestamp_final + \"_\" + POI_name + \".jpg\"\n",
    "\n",
    "plt.plot(\n",
    "    timeseries_AERONET_340[:, 0],\n",
    "    timeseries_AERONET_340[:, 1],\n",
    "    label=\"AOD AERONET at 340nm\",\n",
    "    linestyle=\"None\",\n",
    "    markersize=2,\n",
    "    marker=\"s\",\n",
    "    markerfacecolor=\"r\",\n",
    "    markeredgecolor=\"r\",\n",
    ")\n",
    "plt.plot(\n",
    "    timeseries_AERONET_380[:, 0],\n",
    "    timeseries_AERONET_380[:, 1],\n",
    "    label=\"AOD AERONET at 380nm\",\n",
    "    linestyle=\"None\",\n",
    "    markersize=2,\n",
    "    marker=\"o\",\n",
    "    markerfacecolor=\"r\",\n",
    "    markeredgecolor=\"r\",\n",
    ")\n",
    "plt.plot(\n",
    "    timeseries_AERONET_500[:, 0],\n",
    "    timeseries_AERONET_500[:, 1],\n",
    "    label=\"AOD AERONET at 500nm\",\n",
    "    linestyle=\"None\",\n",
    "    markersize=2,\n",
    "    marker=\"D\",\n",
    "    markerfacecolor=\"r\",\n",
    "    markeredgecolor=\"r\",\n",
    ")\n",
    "\n",
    "plt.plot(\n",
    "    timeseries_EPIC_340[:, 0],\n",
    "    timeseries_EPIC_340[:, 1],\n",
    "    label=\"AOD EPIC at 340nm\",\n",
    "    linestyle=\"None\",\n",
    "    markersize=2,\n",
    "    marker=\"s\",\n",
    "    markerfacecolor=\"c\",\n",
    "    markeredgecolor=\"c\",\n",
    ")\n",
    "plt.plot(\n",
    "    timeseries_EPIC_388[:, 0],\n",
    "    timeseries_EPIC_388[:, 1],\n",
    "    label=\"AOD EPIC at 388nm\",\n",
    "    linestyle=\"None\",\n",
    "    markersize=2,\n",
    "    marker=\"o\",\n",
    "    markerfacecolor=\"c\",\n",
    "    markeredgecolor=\"c\",\n",
    ")\n",
    "plt.plot(\n",
    "    timeseries_EPIC_500[:, 0],\n",
    "    timeseries_EPIC_500[:, 1],\n",
    "    label=\"AOD EPIC at 500nm\",\n",
    "    linestyle=\"None\",\n",
    "    markersize=2,\n",
    "    marker=\"D\",\n",
    "    markerfacecolor=\"c\",\n",
    "    markeredgecolor=\"c\",\n",
    ")\n",
    "\n",
    "# Set the range of x-axis\n",
    "l_lim = 0.0\n",
    "u_lim = ((datetime_final - datetime_initial).total_seconds() + 1.0) / 86400.0\n",
    "plt.xlim(l_lim, u_lim)\n",
    "\n",
    "# Set the range of y-axis\n",
    "l_lim = 0.0\n",
    "u_lim = 2.0\n",
    "plt.ylim(l_lim, u_lim)\n",
    "\n",
    "plt.xlabel(r\"GMT, day from beginning of \" + datestamp_initial, fontsize=12)\n",
    "plt.ylabel(r\"AOD\", fontsize=12)\n",
    "\n",
    "plt.legend(loc=\"lower left\")\n",
    "\n",
    "plt.title(plot_title + str(\", %08.4fN %08.4fW\" % (POI_lat, -POI_lon)))\n",
    "plt.savefig(img_name, format=\"jpg\", dpi=300)\n",
    "\n",
    "plt.close()"
   ]
  },
  {
   "cell_type": "markdown",
   "id": "698c3f08-d4b4-402b-8194-7402966ec43f",
   "metadata": {},
   "source": [
    "## 8.5 plot UV Aerosol Index"
   ]
  },
  {
   "cell_type": "code",
   "execution_count": 24,
   "id": "7ac1b096-aa07-4e05-a490-e80849b15582",
   "metadata": {
    "scrolled": true
   },
   "outputs": [],
   "source": [
    "plot_title = f\"UVAI_{datestamp_initial}_{datestamp_final}\\n{POI_name}\"\n",
    "img_name = f\"UVAI_{datestamp_initial}_{datestamp_final}_{POI_name}.jpg\"\n",
    "\n",
    "plt.plot(\n",
    "    timeseries_EPIC_UVAI[:, 0],\n",
    "    timeseries_EPIC_UVAI[:, 1],\n",
    "    label=\"UVAI EPIC\",\n",
    "    linestyle=\"None\",\n",
    "    markersize=2,\n",
    "    marker=\"o\",\n",
    "    markerfacecolor=\"c\",\n",
    "    markeredgecolor=\"c\",\n",
    ")\n",
    "plt.plot(\n",
    "    timeseries_TEMPO_UVAI[:, 0],\n",
    "    timeseries_TEMPO_UVAI[:, 1],\n",
    "    label=\"UVAI TEMPO\",\n",
    "    linestyle=\"None\",\n",
    "    markersize=2,\n",
    "    marker=\"o\",\n",
    "    markerfacecolor=\"m\",\n",
    "    markeredgecolor=\"m\",\n",
    ")\n",
    "\n",
    "# Set the range of x-axis\n",
    "l_lim = 0.0\n",
    "u_lim = ((datetime_final - datetime_initial).total_seconds() + 1.0) / 86400.0\n",
    "plt.xlim(l_lim, u_lim)\n",
    "\n",
    "# Set the range of y-axis\n",
    "l_lim = -3.0\n",
    "u_lim = 3.0\n",
    "plt.ylim(l_lim, u_lim)\n",
    "\n",
    "plt.xlabel(r\"GMT, day from beginning of \" + datestamp_initial, fontsize=12)\n",
    "plt.ylabel(r\"UV Aerosol Index\", fontsize=12)\n",
    "\n",
    "plt.legend(loc=\"lower left\")\n",
    "\n",
    "plt.title(plot_title + str(\", %08.4fN %08.4fW\" % (POI_lat, -POI_lon)))\n",
    "plt.savefig(img_name, format=\"jpg\", dpi=300)\n",
    "\n",
    "plt.close()"
   ]
  },
  {
   "cell_type": "code",
   "execution_count": null,
   "id": "ed9eb28e-5186-432f-b98e-0118df25f665",
   "metadata": {},
   "outputs": [],
   "source": []
  }
 ],
 "metadata": {
  "kernelspec": {
   "display_name": "asdc-github-dev",
   "language": "python",
   "name": "asdc-github-dev"
  },
  "language_info": {
   "codemirror_mode": {
    "name": "ipython",
    "version": 3
   },
   "file_extension": ".py",
   "mimetype": "text/x-python",
   "name": "python",
   "nbconvert_exporter": "python",
   "pygments_lexer": "ipython3",
   "version": "3.10.15"
  }
 },
 "nbformat": 4,
 "nbformat_minor": 5
}
