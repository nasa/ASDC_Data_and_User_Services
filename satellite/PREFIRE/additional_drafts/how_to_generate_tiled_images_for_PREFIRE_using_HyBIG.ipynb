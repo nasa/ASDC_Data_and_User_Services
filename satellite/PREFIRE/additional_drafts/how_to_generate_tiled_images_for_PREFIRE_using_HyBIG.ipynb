{
 "cells": [
  {
   "cell_type": "markdown",
   "id": "32af63de",
   "metadata": {},
   "source": [
    "# Generating PREFIRE browse images using HyBIG\n",
    "\n",
    "## Overview\n",
    "\n",
    "This notebook demonstrates how to generate browse images, i.e., tiled images, by sending a request to the NASA Harmony API, which will run the [Harmony Browse Image Generator (HyBIG)](https://github.com/nasa/harmony-browse-image-generator) service and return the results.\n",
    "\n",
    "## Dataset Imagery Information\n",
    "\n",
    "**Projections:** The Polar Radiant Energy in the Far InfraRed Experiment (PREFIRE) data collections use projection `EPSG:4087` with a resolution of 500ths of a degree (~2200 m) over the full earth. The [Global Imagery Browse Services (GIBS)](https://www.earthdata.nasa.gov/engage/open-data-services-software/earthdata-developer-portal/gibs-api) requires `EPSG:4326` for its global images, and HyBIG will default to that projection.\n",
    "\n",
    "By agreement with GIBS, HyBIG's maxumum untiled image size is limited to 8192 * 8192 (67,108,864)\n",
    "cells. Since PREFIRE TIFs exceed that (18000 x 9000 or 162,000,000 cells),\n",
    "HyBIG will tile the output to 4096 x 4096 cells.\n",
    "\n",
    "## Table of Contents\n",
    "\n",
    "1. Setup\n",
    "2. Make request to Harmony\n",
    "3. View the results"
   ]
  },
  {
   "cell_type": "markdown",
   "id": "feff6375",
   "metadata": {},
   "source": [
    "# 1. Setup \n",
    "\n",
    "We will use the `harmony-py` library."
   ]
  },
  {
   "cell_type": "code",
   "execution_count": 1,
   "id": "295b8341",
   "metadata": {},
   "outputs": [],
   "source": [
    "from harmony import Collection, Environment, Client, Request\n",
    "\n",
    "# creates an output directory for the downloaded files\n",
    "from pathlib import Path\n",
    "\n",
    "output_dir = Path('./prefire-output')\n",
    "Path.mkdir(output_dir, exist_ok=True)"
   ]
  },
  {
   "cell_type": "markdown",
   "id": "9b644811",
   "metadata": {},
   "source": [
    "Create a Harmony Client object to interact with the UAT environment with the PREFIRE collection and selected granule."
   ]
  },
  {
   "cell_type": "code",
   "execution_count": 2,
   "id": "437af5f8",
   "metadata": {},
   "outputs": [],
   "source": [
    "prefire_collection = Collection(id='C1263096190-EEDTEST')\n",
    "prefire_granule = 'G1263096196-EEDTEST'\n",
    "\n",
    "harmony_client = Client(env=Environment.UAT)"
   ]
  },
  {
   "cell_type": "markdown",
   "id": "3716416c-81e0-49a3-b1f4-7d2d64106622",
   "metadata": {},
   "source": [
    "# 2. Make the request to Harmony\n",
    "\n"
   ]
  },
  {
   "cell_type": "code",
   "execution_count": 3,
   "id": "be61b774-21a2-459b-9870-c3cb02322082",
   "metadata": {},
   "outputs": [
    {
     "name": "stderr",
     "output_type": "stream",
     "text": [
      " [ Processing: 100% ] |###################################################| [|]\n"
     ]
    },
    {
     "name": "stdout",
     "output_type": "stream",
     "text": [
      "prefire-output/5781827_PREFIRE_SAT2_2B-FLX_S07_R00_20210721044449_03042.nc.G00.txt\n",
      "prefire-output/5781827_PREFIRE_SAT2_2B-FLX_S07_R00_20210721044449_03042.nc.G00.r00c00.png\n",
      "prefire-output/5781827_PREFIRE_SAT2_2B-FLX_S07_R00_20210721044449_03042.nc.G00.r00c00.pgw\n",
      "prefire-output/5781827_PREFIRE_SAT2_2B-FLX_S07_R00_20210721044449_03042.nc.G00.r00c00.png.aux.xml\n",
      "prefire-output/5781827_PREFIRE_SAT2_2B-FLX_S07_R00_20210721044449_03042.nc.G00.r00c01.png\n",
      "prefire-output/5781827_PREFIRE_SAT2_2B-FLX_S07_R00_20210721044449_03042.nc.G00.r00c01.pgw\n",
      "prefire-output/5781827_PREFIRE_SAT2_2B-FLX_S07_R00_20210721044449_03042.nc.G00.r00c01.png.aux.xml\n",
      "prefire-output/5781827_PREFIRE_SAT2_2B-FLX_S07_R00_20210721044449_03042.nc.G00.r00c02.png\n",
      "prefire-output/5781827_PREFIRE_SAT2_2B-FLX_S07_R00_20210721044449_03042.nc.G00.r00c02.pgw\n",
      "prefire-output/5781827_PREFIRE_SAT2_2B-FLX_S07_R00_20210721044449_03042.nc.G00.r00c02.png.aux.xml\n",
      "prefire-output/5781827_PREFIRE_SAT2_2B-FLX_S07_R00_20210721044449_03042.nc.G00.r00c03.png\n",
      "prefire-output/5781827_PREFIRE_SAT2_2B-FLX_S07_R00_20210721044449_03042.nc.G00.r00c03.pgw\n",
      "prefire-output/5781827_PREFIRE_SAT2_2B-FLX_S07_R00_20210721044449_03042.nc.G00.r00c03.png.aux.xml\n",
      "prefire-output/5781827_PREFIRE_SAT2_2B-FLX_S07_R00_20210721044449_03042.nc.G00.r00c04.png\n",
      "prefire-output/5781827_PREFIRE_SAT2_2B-FLX_S07_R00_20210721044449_03042.nc.G00.r00c04.pgw\n",
      "prefire-output/5781827_PREFIRE_SAT2_2B-FLX_S07_R00_20210721044449_03042.nc.G00.r00c04.png.aux.xml\n",
      "prefire-output/5781827_PREFIRE_SAT2_2B-FLX_S07_R00_20210721044449_03042.nc.G00.r01c00.png\n",
      "prefire-output/5781827_PREFIRE_SAT2_2B-FLX_S07_R00_20210721044449_03042.nc.G00.r01c00.pgw\n",
      "prefire-output/5781827_PREFIRE_SAT2_2B-FLX_S07_R00_20210721044449_03042.nc.G00.r01c00.png.aux.xml\n",
      "prefire-output/5781827_PREFIRE_SAT2_2B-FLX_S07_R00_20210721044449_03042.nc.G00.r01c01.png\n",
      "prefire-output/5781827_PREFIRE_SAT2_2B-FLX_S07_R00_20210721044449_03042.nc.G00.r01c01.pgw\n",
      "prefire-output/5781827_PREFIRE_SAT2_2B-FLX_S07_R00_20210721044449_03042.nc.G00.r01c01.png.aux.xml\n",
      "prefire-output/5781827_PREFIRE_SAT2_2B-FLX_S07_R00_20210721044449_03042.nc.G00.r01c02.png\n",
      "prefire-output/5781827_PREFIRE_SAT2_2B-FLX_S07_R00_20210721044449_03042.nc.G00.r01c02.pgw\n",
      "prefire-output/5781827_PREFIRE_SAT2_2B-FLX_S07_R00_20210721044449_03042.nc.G00.r01c02.png.aux.xml\n",
      "prefire-output/5781827_PREFIRE_SAT2_2B-FLX_S07_R00_20210721044449_03042.nc.G00.r01c03.png\n",
      "prefire-output/5781827_PREFIRE_SAT2_2B-FLX_S07_R00_20210721044449_03042.nc.G00.r01c03.pgw\n",
      "prefire-output/5781827_PREFIRE_SAT2_2B-FLX_S07_R00_20210721044449_03042.nc.G00.r01c03.png.aux.xml\n",
      "prefire-output/5781827_PREFIRE_SAT2_2B-FLX_S07_R00_20210721044449_03042.nc.G00.r01c04.png\n",
      "prefire-output/5781827_PREFIRE_SAT2_2B-FLX_S07_R00_20210721044449_03042.nc.G00.r01c04.pgw\n",
      "prefire-output/5781827_PREFIRE_SAT2_2B-FLX_S07_R00_20210721044449_03042.nc.G00.r01c04.png.aux.xml\n",
      "prefire-output/5781827_PREFIRE_SAT2_2B-FLX_S07_R00_20210721044449_03042.nc.G00.r02c00.png\n",
      "prefire-output/5781827_PREFIRE_SAT2_2B-FLX_S07_R00_20210721044449_03042.nc.G00.r02c00.pgw\n",
      "prefire-output/5781827_PREFIRE_SAT2_2B-FLX_S07_R00_20210721044449_03042.nc.G00.r02c00.png.aux.xml\n",
      "prefire-output/5781827_PREFIRE_SAT2_2B-FLX_S07_R00_20210721044449_03042.nc.G00.r02c01.png\n",
      "prefire-output/5781827_PREFIRE_SAT2_2B-FLX_S07_R00_20210721044449_03042.nc.G00.r02c01.pgw\n",
      "prefire-output/5781827_PREFIRE_SAT2_2B-FLX_S07_R00_20210721044449_03042.nc.G00.r02c01.png.aux.xml\n",
      "prefire-output/5781827_PREFIRE_SAT2_2B-FLX_S07_R00_20210721044449_03042.nc.G00.r02c02.png\n",
      "prefire-output/5781827_PREFIRE_SAT2_2B-FLX_S07_R00_20210721044449_03042.nc.G00.r02c02.pgw\n",
      "prefire-output/5781827_PREFIRE_SAT2_2B-FLX_S07_R00_20210721044449_03042.nc.G00.r02c02.png.aux.xml\n",
      "prefire-output/5781827_PREFIRE_SAT2_2B-FLX_S07_R00_20210721044449_03042.nc.G00.r02c03.png\n",
      "prefire-output/5781827_PREFIRE_SAT2_2B-FLX_S07_R00_20210721044449_03042.nc.G00.r02c03.pgw\n",
      "prefire-output/5781827_PREFIRE_SAT2_2B-FLX_S07_R00_20210721044449_03042.nc.G00.r02c03.png.aux.xml\n",
      "prefire-output/5781827_PREFIRE_SAT2_2B-FLX_S07_R00_20210721044449_03042.nc.G00.r02c04.png\n",
      "prefire-output/5781827_PREFIRE_SAT2_2B-FLX_S07_R00_20210721044449_03042.nc.G00.r02c04.pgw\n",
      "prefire-output/5781827_PREFIRE_SAT2_2B-FLX_S07_R00_20210721044449_03042.nc.G00.r02c04.png.aux.xml\n"
     ]
    }
   ],
   "source": [
    "# Specify a request to create a browse image from the PREFIRE granule:\n",
    "prefire_request = Request(\n",
    "    collection=prefire_collection, granule_id=prefire_granule, format='image/png'\n",
    ")\n",
    "\n",
    "# Submit the request and wait for it to complete:\n",
    "prefire_job_id = harmony_client.submit(prefire_request)\n",
    "harmony_client.wait_for_processing(prefire_job_id, show_progress=True)\n",
    "\n",
    "# Download all of the generated files:\n",
    "Path.mkdir(output_dir, exist_ok=True)\n",
    "downloaded_outputs = [\n",
    "    file_future.result()\n",
    "    for file_future in harmony_client.download_all(\n",
    "        prefire_job_id, overwrite=True, directory=output_dir\n",
    "    )\n",
    "]"
   ]
  },
  {
   "cell_type": "markdown",
   "id": "ce842b5d",
   "metadata": {},
   "source": [
    "# 3. View the result"
   ]
  },
  {
   "cell_type": "markdown",
   "id": "9475c3bd",
   "metadata": {},
   "source": [
    "We see HyBIG has created 15 output tiles (3 rows of 5)"
   ]
  },
  {
   "cell_type": "code",
   "execution_count": 4,
   "id": "c994e718",
   "metadata": {},
   "outputs": [
    {
     "name": "stdout",
     "output_type": "stream",
     "text": [
      "      15      15    1350\n"
     ]
    }
   ],
   "source": [
    "!ls prefire-output/*.png | wc"
   ]
  },
  {
   "cell_type": "markdown",
   "id": "d320b095",
   "metadata": {},
   "source": [
    "Each browse image tile is comprised of three files:\n",
    "\n",
    "A PNG image file: `4145523_PREFIRE_SAT2_2B-FLX_S07_R00_20210721044449_03042.nc.G00.r00c00.png`\n",
    "  - PNG files are the paletted raster representation of the data in a standard image format.\n",
    "  \n",
    "An ESRI world file: `4145523_PREFIRE_SAT2_2B-FLX_S07_R00_20210721044449_03042.nc.G00.r00c00.pgw`\n",
    "  - World files establish an image-to-world transformation that converts the image coordinates to real-world coordinates.  This is the metadata file to submit to GIBS. *A drawback to these files is that they do not contain the Spatial Reference System (SRS) for the image, but only the GeoTransoform.*\n",
    "\n",
    "An ARCGIS auxiliary file: `4145523_PREFIRE_SAT2_2B-FLX_S07_R00_20210721044449_03042.nc.G00.r00c00.png.aux.xml`\n",
    "  - An auxiliary file (.aux.xml) accompanies the raster in the same location and stores any additional information that cannot be stored in the raster file itself. In this case it contains the Spatial Reference System (SRS) and the GeoTransform describing the pixel location.  This file is used when importing the image into a GIS workspace."
   ]
  },
  {
   "cell_type": "markdown",
   "id": "6e1c41ba",
   "metadata": {},
   "source": [
    "### Questions?\n",
    "\n",
    "#### Please reach out in #analysis-browse-image in slack."
   ]
  }
 ],
 "metadata": {
  "celltoolbar": "Tags",
  "kernelspec": {
   "display_name": "asdc-github-dev",
   "language": "python",
   "name": "asdc-github-dev"
  },
  "language_info": {
   "codemirror_mode": {
    "name": "ipython",
    "version": 3
   },
   "file_extension": ".py",
   "mimetype": "text/x-python",
   "name": "python",
   "nbconvert_exporter": "python",
   "pygments_lexer": "ipython3",
   "version": "3.10.15"
  },
  "name": "HyBIG-Example-Usage.ipynb"
 },
 "nbformat": 4,
 "nbformat_minor": 5
}
